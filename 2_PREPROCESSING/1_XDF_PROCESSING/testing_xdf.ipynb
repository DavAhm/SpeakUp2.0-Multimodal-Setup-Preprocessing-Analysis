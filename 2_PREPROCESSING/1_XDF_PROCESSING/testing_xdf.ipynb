{
 "cells": [
  {
   "cell_type": "code",
   "execution_count": null,
   "metadata": {},
   "outputs": [
    {
     "name": "stdout",
     "output_type": "stream",
     "text": [
      "Number of streams: 8\n",
      "Stream 1:\n",
      "  Stream Name: pupil_labs_Event\n",
      "  Data Type: Event\n",
      "  Sampling Rate: 0.000000000000000\n",
      "  Data Samples: 13\n",
      "\n",
      "Stream 2:\n",
      "  Stream Name: MyMarkerStream\n",
      "  Data Type: Markers\n",
      "  Sampling Rate: 0.000000000000000\n",
      "  Data Samples: 10\n",
      "\n",
      "Stream 3:\n",
      "  Stream Name: pupil_labs_Gaze\n",
      "  Data Type: Gaze\n",
      "  Sampling Rate: 0.000000000000000\n",
      "  Data Samples: 106668\n",
      "\n",
      "Stream 4:\n",
      "  Stream Name: tACS_triggers\n",
      "  Data Type: Markers\n",
      "  Sampling Rate: 0.000000000000000\n",
      "  Data Samples: 2\n",
      "\n",
      "Stream 5:\n",
      "  Stream Name: OpenSignals\n",
      "  Data Type: 00:07:80:D8:AA:D9\n",
      "  Sampling Rate: 1000\n",
      "  Data Samples: 535488\n",
      "\n",
      "Stream 6:\n",
      "  Stream Name: MyWebcamFrameStream\n",
      "  Data Type: frameNR\n",
      "  Sampling Rate: 500.0000000000000\n",
      "  Data Samples: 258004\n",
      "\n",
      "Stream 7:\n",
      "  Stream Name: BalanceBoard_stream\n",
      "  Data Type: COP\n",
      "  Sampling Rate: 500.0000000000000\n",
      "  Data Samples: 267800\n",
      "\n",
      "Stream 8:\n",
      "  Stream Name: Mic\n",
      "  Data Type: voice\n",
      "  Sampling Rate: 16000.00000000000\n",
      "  Data Samples: 8568462\n",
      "\n"
     ]
    }
   ],
   "source": [
    "import pyxdf\n",
    "\n",
    "# Path to your XDF file\n",
    "file_path_old = r''\n",
    "\n",
    "# Load the old XDF files\n",
    "stream_old, fileheader_old = pyxdf.load_xdf(file_path_old)\n",
    "                                        \n",
    "# Explore the old xdf\n",
    "print(\"Number of streams:\", len(stream_old))\n",
    "for i, stream in enumerate(stream_old):\n",
    "    print(f\"Stream {i+1}:\")\n",
    "    print(\"  Stream Name:\", stream[\"info\"][\"name\"][0])\n",
    "    print(\"  Data Type:\", stream[\"info\"][\"type\"][0])\n",
    "    print(\"  Sampling Rate:\", stream[\"info\"].get(\"nominal_srate\", [\"Unknown\"])[0])\n",
    "    print(\"  Data Samples:\", len(stream[\"time_stamps\"]))\n",
    "    print()\n"
   ]
  },
  {
   "cell_type": "code",
   "execution_count": 3,
   "metadata": {},
   "outputs": [
    {
     "name": "stdout",
     "output_type": "stream",
     "text": [
      "Number of streams: 9\n",
      "Stream 1:\n",
      "  Stream Name: Buttonbox\n",
      "  Data Type: Markers\n",
      "  Sampling Rate: 0.000000000000000\n",
      "  Data Samples: 9\n",
      "\n",
      "Stream 2:\n",
      "  Stream Name: MyWebcamFrameStream\n",
      "  Data Type: frameNR\n",
      "  Sampling Rate: 500.0000000000000\n",
      "  Data Samples: 260344\n",
      "\n",
      "Stream 3:\n",
      "  Stream Name: tACS_triggers\n",
      "  Data Type: Markers\n",
      "  Sampling Rate: 0.000000000000000\n",
      "  Data Samples: 0\n",
      "\n",
      "Stream 4:\n",
      "  Stream Name: BalanceBoard_stream\n",
      "  Data Type: COP\n",
      "  Sampling Rate: 500.0000000000000\n",
      "  Data Samples: 310750\n",
      "\n",
      "Stream 5:\n",
      "  Stream Name: OpenSignals\n",
      "  Data Type: 00:07:80:D8:AA:D9\n",
      "  Sampling Rate: 1000\n",
      "  Data Samples: 39136\n",
      "\n",
      "Stream 6:\n",
      "  Stream Name: Neon Companion_Neon Events\n",
      "  Data Type: Event\n",
      "  Sampling Rate: 0.000000000000000\n",
      "  Data Samples: 0\n",
      "\n",
      "Stream 7:\n",
      "  Stream Name: Neon Companion_Neon Events\n",
      "  Data Type: Event\n",
      "  Sampling Rate: 0.000000000000000\n",
      "  Data Samples: 0\n",
      "\n",
      "Stream 8:\n",
      "  Stream Name: Neon Companion_Neon Gaze\n",
      "  Data Type: Gaze\n",
      "  Sampling Rate: 200.0000000000000\n",
      "  Data Samples: 120480\n",
      "\n",
      "Stream 9:\n",
      "  Stream Name: Mic\n",
      "  Data Type: voice\n",
      "  Sampling Rate: 16000.00000000000\n",
      "  Data Samples: 9944500\n",
      "\n"
     ]
    }
   ],
   "source": [
    "file_path_new = r'\\\\fileserver.dccn.nl\\project\\3025011.01\\pilots\\data\\training_sessions\\session_06\\ses-02\\training_02\\training_02_d2_speech.xdf'\n",
    "\n",
    "# Load the new XDF file\n",
    "streams_new, fileheader_new = pyxdf.load_xdf(file_path_new)\n",
    "\n",
    "# Explore the new xdf\n",
    "print(\"Number of streams:\", len(streams_new))\n",
    "for i, stream in enumerate(streams_new):\n",
    "    print(f\"Stream {i+1}:\")\n",
    "    print(\"  Stream Name:\", stream[\"info\"][\"name\"][0])\n",
    "    print(\"  Data Type:\", stream[\"info\"][\"type\"][0])\n",
    "    print(\"  Sampling Rate:\", stream[\"info\"].get(\"nominal_srate\", [\"Unknown\"])[0])\n",
    "    print(\"  Data Samples:\", len(stream[\"time_stamps\"]))\n",
    "    print()\n"
   ]
  },
  {
   "cell_type": "code",
   "execution_count": 6,
   "metadata": {},
   "outputs": [
    {
     "name": "stdout",
     "output_type": "stream",
     "text": [
      "Number of streams: 7\n",
      "Stream 1:\n",
      "  Stream Name: Buttonbox\n",
      "  Data Type: Markers\n",
      "  Sampling Rate: 0.000000000000000\n",
      "  Data Samples: 7\n",
      "\n",
      "Stream 2:\n",
      "  Stream Name: BalanceBoard_stream\n",
      "  Data Type: COP\n",
      "  Sampling Rate: 500.0000000000000\n",
      "  Data Samples: 218250\n",
      "\n",
      "Stream 3:\n",
      "  Stream Name: MyWebcamFrameStream\n",
      "  Data Type: frameNR\n",
      "  Sampling Rate: 500.0000000000000\n",
      "  Data Samples: 210346\n",
      "\n",
      "Stream 4:\n",
      "  Stream Name: OpenSignals\n",
      "  Data Type: 00:07:80:D8:AA:D9\n",
      "  Sampling Rate: 1000\n",
      "  Data Samples: 436800\n",
      "\n",
      "Stream 5:\n",
      "  Stream Name: Neon Companion_Neon Events\n",
      "  Data Type: Event\n",
      "  Sampling Rate: 0.000000000000000\n",
      "  Data Samples: 0\n",
      "\n",
      "Stream 6:\n",
      "  Stream Name: Neon Companion_Neon Gaze\n",
      "  Data Type: Gaze\n",
      "  Sampling Rate: 200.0000000000000\n",
      "  Data Samples: 87144\n",
      "\n",
      "Stream 7:\n",
      "  Stream Name: Mic\n",
      "  Data Type: voice\n",
      "  Sampling Rate: 16000.00000000000\n",
      "  Data Samples: 6984473\n",
      "\n"
     ]
    }
   ],
   "source": [
    "file_path_new2 = r'\\\\fileserver.dccn.nl\\project\\3025011.01\\pilots\\data\\training_sessions\\session_06\\ses-03\\xdf_files\\training-03\\training-03_d3_speech.xdf'\n",
    "\n",
    "# Load the new XDF file\n",
    "streams_new2, fileheader_new2 = pyxdf.load_xdf(file_path_new2)\n",
    "\n",
    "# Explore the new xdf\n",
    "print(\"Number of streams:\", len(streams_new2))\n",
    "for i, stream in enumerate(streams_new2):\n",
    "    print(f\"Stream {i+1}:\")\n",
    "    print(\"  Stream Name:\", stream[\"info\"][\"name\"][0])\n",
    "    print(\"  Data Type:\", stream[\"info\"][\"type\"][0])\n",
    "    print(\"  Sampling Rate:\", stream[\"info\"].get(\"nominal_srate\", [\"Unknown\"])[0])\n",
    "    print(\"  Data Samples:\", len(stream[\"time_stamps\"]))\n",
    "    print()"
   ]
  },
  {
   "cell_type": "code",
   "execution_count": 6,
   "metadata": {},
   "outputs": [
    {
     "name": "stdout",
     "output_type": "stream",
     "text": [
      "Stream Name: tACS_triggers\n",
      "Sampling Rate: 0.000000000000000 Hz\n",
      "Number of Samples: 0\n",
      "[]\n"
     ]
    }
   ],
   "source": [
    "# Assume we're interested in the first stream\n",
    "stream = streams_new[2]\n",
    "\n",
    "# Metadata\n",
    "stream_name = stream[\"info\"][\"name\"][0]\n",
    "sampling_rate = stream[\"info\"].get(\"nominal_srate\", [\"Unknown\"])[0]\n",
    "\n",
    "# Data\n",
    "timestamps = stream[\"time_stamps\"]\n",
    "data_samples = stream[\"time_series\"]\n",
    "\n",
    "print(f\"Stream Name: {stream_name}\")\n",
    "print(f\"Sampling Rate: {sampling_rate} Hz\")\n",
    "print(f\"Number of Samples: {len(data_samples)}\")\n",
    "print(data_samples)"
   ]
  },
  {
   "cell_type": "code",
   "execution_count": null,
   "metadata": {},
   "outputs": [
    {
     "name": "stdout",
     "output_type": "stream",
     "text": [
      "Overall Start Time: 12065.315581810108\n",
      "Overall End Time: 12601.09966799034\n"
     ]
    }
   ],
   "source": [
    "# find the earliest start and latest end time\n",
    "\n",
    "# Collect timestamps from all streams\n",
    "all_timestamps = []\n",
    "for stream in stream_old:\n",
    "    all_timestamps.extend(stream['time_stamps'])\n",
    "\n",
    "# Determine the overall start and end time\n",
    "overall_start_time = min(all_timestamps)\n",
    "overall_end_time = max(all_timestamps)\n",
    "\n",
    "print(\"Overall Start Time:\", overall_start_time)\n",
    "print(\"Overall End Time:\", overall_end_time)"
   ]
  },
  {
   "cell_type": "code",
   "execution_count": 40,
   "metadata": {},
   "outputs": [
    {
     "name": "stdout",
     "output_type": "stream",
     "text": [
      "Stream 1:\n",
      "  Name: Buttonbox\n",
      "  Type: Markers\n",
      "  Start Time (relative): 4559.073836496676 seconds\n",
      "  End Time (relative): 4924.765286717945 seconds\n",
      "\n",
      "Stream 2:\n",
      "  Name: BalanceBoard_stream\n",
      "  Type: COP\n",
      "  Start Time (relative): 4491.906944214172 seconds\n",
      "  End Time (relative): 4928.415993796886 seconds\n",
      "\n",
      "Stream 3:\n",
      "  Name: MyWebcamFrameStream\n",
      "  Type: frameNR\n",
      "  Start Time (relative): 4491.646520125437 seconds\n",
      "  End Time (relative): 4928.501932331427 seconds\n",
      "\n",
      "Stream 4:\n",
      "  Name: OpenSignals\n",
      "  Type: 00:07:80:D8:AA:D9\n",
      "  Start Time (relative): 4491.921045399805 seconds\n",
      "  End Time (relative): 4928.470379994677 seconds\n",
      "\n",
      "Stream 5:\n",
      "  Name: Neon Companion_Neon Events\n",
      "  Type: Event\n",
      "  No time_stamps available (stream is empty).\n",
      "\n",
      "Stream 6:\n",
      "  Name: Neon Companion_Neon Gaze\n",
      "  Type: Gaze\n",
      "  Start Time (relative): 4491.9086893133 seconds\n",
      "  End Time (relative): 4928.441380034376 seconds\n",
      "\n",
      "Stream 7:\n",
      "  Name: Mic\n",
      "  Type: voice\n",
      "  Start Time (relative): 4491.960861428698 seconds\n",
      "  End Time (relative): 4928.470207106708 seconds\n",
      "\n"
     ]
    }
   ],
   "source": [
    "# Loop through each stream and calculate start and end times\n",
    "for i, stream in enumerate(streams_new2):\n",
    "    stream_name = stream['info']['name'][0]  # Stream name\n",
    "    stream_type = stream['info']['type'][0]  # Stream type (e.g., EEG, Markers)\n",
    "\n",
    "    # Check if the time_stamps array is non-empty\n",
    "    if stream['time_stamps'].any():\n",
    "        start_time = min(stream['time_stamps'])\n",
    "        end_time = max(stream['time_stamps'])\n",
    "        print(f\"Stream {i + 1}:\")\n",
    "        print(f\"  Name: {stream_name}\")\n",
    "        print(f\"  Type: {stream_type}\")\n",
    "        print(f\"  Start Time (relative): {start_time} seconds\")\n",
    "        print(f\"  End Time (relative): {end_time} seconds\")\n",
    "    else:\n",
    "        print(f\"Stream {i + 1}:\")\n",
    "        print(f\"  Name: {stream_name}\")\n",
    "        print(f\"  Type: {stream_type}\")\n",
    "        print(f\"  No time_stamps available (stream is empty).\")\n",
    "    print()"
   ]
  },
  {
   "cell_type": "code",
   "execution_count": 23,
   "metadata": {},
   "outputs": [
    {
     "data": {
      "image/png": "[encoded data removed]",
      "text/plain": [
       "<Figure size 640x480 with 1 Axes>"
      ]
     },
     "metadata": {},
     "output_type": "display_data"
    }
   ],
   "source": [
    "import matplotlib.pyplot as plt\n",
    "\n",
    "# Plot the first channel of the first stream\n",
    "plt.plot(timestamps, [sample[0] for sample in data_samples])  # Assuming multidimensional data\n",
    "plt.xlabel(\"Time (s)\")\n",
    "plt.ylabel(\"Amplitude\")\n",
    "plt.title(f\"Stream: {stream_name}\")\n",
    "plt.show()"
   ]
  }
 ],
 "metadata": {
  "kernelspec": {
   "display_name": "multimodal_venv",
   "language": "python",
   "name": "python3"
  },
  "language_info": {
   "codemirror_mode": {
    "name": "ipython",
    "version": 3
   },
   "file_extension": ".py",
   "mimetype": "text/x-python",
   "name": "python",
   "nbconvert_exporter": "python",
   "pygments_lexer": "ipython3",
   "version": "3.12.2"
  }
 },
 "nbformat": 4,
 "nbformat_minor": 2
}
