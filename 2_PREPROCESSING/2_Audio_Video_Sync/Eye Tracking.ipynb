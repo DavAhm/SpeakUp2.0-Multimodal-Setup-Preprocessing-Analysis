{
 "cells": [
  {
   "cell_type": "markdown",
   "metadata": {},
   "source": [
    "# SpeakUp2.0: Eye Tracking Alignment: \n",
    "\n",
    "### Info Documents \n",
    "Location Repository\n",
    "Github Repository \n",
    "Jupyter Notebook\n",
    "\n",
    "## Info from Pupil Labs: \n",
    "The time alignment is started by executing:\n",
    "\n",
    "lsl_relay_time_alignment <path_to_xdf> <paths_to_exports>\n",
    "It requires the following positional arguments:\n",
    "\n",
    "--path_to_xdf is the path to the xdf file with your lsl recording. The xdf file must contain event streams for each recorded device.\n",
    "\n",
    "--paths_to_export is one or more paths pointing to the directory of raw data exports from pupil cloud. The raw data exports can be made for entire projects, or for each recording individually. The export must contain the events.csv file.\n",
    "\n",
    "The post-hoc time alignment outputs a json file ‘time_alignment_parameters.json’ in the same directory where the events.csv file from the pupil cloud export is located. The json file contains three fields:\n",
    "\n",
    "cloud_to_lsl contains an intercept and a slope to map from cloud time to lsl time\n",
    "\n",
    "lsl_to_cloud also contains an intercept and a slope, but for mapping from lsl time to cloud time\n",
    "\n",
    "info contains the type of the model that was fitted and the version of the time alignment.\n",
    "\n",
    "### Requirements\n",
    "Please install the necessary packages in requirements.txt using pip install -r requirements.txt"
   ]
  },
  {
   "cell_type": "markdown",
   "metadata": {},
   "source": [
    "## 1. Importing Necessary Packages "
   ]
  },
  {
   "cell_type": "code",
   "execution_count": 4,
   "metadata": {},
   "outputs": [
    {
     "name": "stdout",
     "output_type": "stream",
     "text": [
      "Everything was imported succesfully\n"
     ]
    }
   ],
   "source": [
    "import os             # Importing the os module which provides functions for interacting with the operating system\n",
    "import pyxdf          # Importing pyxdf, a Python library for reading XDF files\n",
    "import glob           # Importing the glob module which helps in finding files/directories with specific patterns\n",
    "import pandas as pd   # Importing pandas library (abbreviated as pd), which is used for data manipulation and analysis\n",
    "import numpy as np    # Importing numpy library (abbreviated as np), which is used for numerical computations\n",
    "import math           # Importing math module which provides mathematical functions\n",
    "import random         # Importing random module for generating random numbers\n",
    "import json            # Importing json module for working with JSON data\n",
    "import cv2            # Importing OpenCV library for computer vision tasks\n",
    "from moviepy.editor import (                # Importing various classes and functions from moviepy.editor module\n",
    "                            VideoFileClip,  # Class for working with video files\n",
    "                            AudioFileClip,  # Class for working with audio files\n",
    "                            CompositeAudioClip)  # Class for composing audio clip\n",
    "from moviepy.video.io.VideoFileClip import VideoFileClip\n",
    "from moviepy.video.io.ffmpeg_tools import ffmpeg_extract_subclip  # video  clipping fucntion \n",
    "from moviepy.video.io.VideoFileClip import VideoFileClip          # alternative video clipping function\n",
    "import matplotlib.pyplot as plt                                   # Importing pyplot library to create figures and plot data \n",
    "from matplotlib.widgets import Slider  \n",
    "import tkinter                                                    # GUI toolkit to open and save files\n",
    "from tkinter import filedialog                                    # GUI toolkit to open and save files\n",
    "import subprocess \n",
    "from tqdm.notebook import tqdm\n",
    "import re                                                         # Importing re module for working with regular expressions\n",
    "# import lsl_relay                                             # Importing lsl_relay module for working with pupil cloud alignment \n",
    "\n",
    "print(\"Everything was imported succesfully\") #as terminal"
   ]
  },
  {
   "cell_type": "markdown",
   "metadata": {},
   "source": [
    "## 2. Variables and Functions "
   ]
  },
  {
   "cell_type": "code",
   "execution_count": 6,
   "metadata": {},
   "outputs": [
    {
     "name": "stdout",
     "output_type": "stream",
     "text": [
      "The input files are:  C:\\Users\\ahmar\\OneDrive\\Documents\\GitHub\\SpeakUp-2.0\\2_PREPROCESSING\\1_XDF_PROCESSING\\data_raw\\pilot_01_merel\\pilot_01_d2_speech_lsl.xdf  and  C:\\Users\\ahmar\\OneDrive\\Documents\\GitHub\\SpeakUp-2.0\\2_PREPROCESSING\\3_PupilCloud_Sync\\cloud_exports\\2024-06-10_16-21-43-f46ab3c3\n"
     ]
    }
   ],
   "source": [
    "input_xdf_files = r'C:\\Users\\ahmar\\OneDrive\\Documents\\GitHub\\SpeakUp-2.0\\2_PREPROCESSING\\1_XDF_PROCESSING\\data_raw\\pilot_01_merel\\pilot_01_d2_speech_lsl.xdf'\n",
    "input_neonexport_files = r'C:\\Users\\ahmar\\OneDrive\\Documents\\GitHub\\SpeakUp-2.0\\2_PREPROCESSING\\3_PupilCloud_Sync\\cloud_exports\\2024-06-10_16-21-43-f46ab3c3'\n",
    "\n",
    "print(\"The input files are: \", input_xdf_files, \" and \", input_neonexport_files) #as terminal\n"
   ]
  },
  {
   "cell_type": "markdown",
   "metadata": {},
   "source": [
    "## 2. Aligning the XDF times with the export Time "
   ]
  },
  {
   "cell_type": "code",
   "execution_count": 12,
   "metadata": {},
   "outputs": [
    {
     "ename": "SyntaxError",
     "evalue": "(unicode error) 'unicodeescape' codec can't decode bytes in position 2-3: truncated \\UXXXXXXXX escape (1824291684.py, line 1)",
     "output_type": "error",
     "traceback": [
      "\u001b[1;36m  Cell \u001b[1;32mIn[12], line 1\u001b[1;36m\u001b[0m\n\u001b[1;33m    lsl_relay_time_alignment \"C:\\Users\\ahmar\\OneDrive\\Documents\\GitHub\\SpeakUp-2.0\\2_PREPROCESSING\\1_XDF_PROCESSING\\data_raw\\pilot_01_merel\\pilot_01_d2_speech_lsl.xdf\" \"C:\\Users\\ahmar\\OneDrive\\Documents\\GitHub\\SpeakUp-2.0\\2_PREPROCESSING\\3_PupilCloud_Sync\\cloud_exports\\2024-06-10_16-21-43-f46ab3c3\"\u001b[0m\n\u001b[1;37m                             ^\u001b[0m\n\u001b[1;31mSyntaxError\u001b[0m\u001b[1;31m:\u001b[0m (unicode error) 'unicodeescape' codec can't decode bytes in position 2-3: truncated \\UXXXXXXXX escape\n"
     ]
    }
   ],
   "source": [
    "lsl_relay_time_alignment \"C:\\Users\\ahmar\\OneDrive\\Documents\\GitHub\\SpeakUp-2.0\\2_PREPROCESSING\\1_XDF_PROCESSING\\data_raw\\pilot_01_merel\\pilot_01_d2_speech_lsl.xdf\" \"C:\\Users\\ahmar\\OneDrive\\Documents\\GitHub\\SpeakUp-2.0\\2_PREPROCESSING\\3_PupilCloud_Sync\\cloud_exports\\2024-06-10_16-21-43-f46ab3c3\"\n"
   ]
  },
  {
   "cell_type": "code",
   "execution_count": 11,
   "metadata": {},
   "outputs": [
    {
     "ename": "CalledProcessError",
     "evalue": "Command '['lsl_relay_time_alignment', 'C:\\\\Users\\\\ahmar\\\\OneDrive\\\\Documents\\\\GitHub\\\\SpeakUp-2.0\\\\2_PREPROCESSING\\\\1_XDF_PROCESSING\\\\data_raw\\\\pilot_01_merel\\\\pilot_01_d2_speech_lsl.xdf', 'C:\\\\Users\\\\ahmar\\\\OneDrive\\\\Documents\\\\GitHub\\\\SpeakUp-2.0\\\\2_PREPROCESSING\\\\3_PupilCloud_Sync\\\\cloud_exports\\\\2024-06-10_16-21-43-f46ab3c3']' returned non-zero exit status 1.",
     "output_type": "error",
     "traceback": [
      "\u001b[1;31m---------------------------------------------------------------------------\u001b[0m",
      "\u001b[1;31mCalledProcessError\u001b[0m                        Traceback (most recent call last)",
      "Cell \u001b[1;32mIn[11], line 6\u001b[0m\n\u001b[0;32m      3\u001b[0m command \u001b[38;5;241m=\u001b[39m [\u001b[38;5;124m\"\u001b[39m\u001b[38;5;124mlsl_relay_time_alignment\u001b[39m\u001b[38;5;124m\"\u001b[39m, input_xdf_files, input_neonexport_files]\n\u001b[0;32m      5\u001b[0m \u001b[38;5;66;03m# Execute the command\u001b[39;00m\n\u001b[1;32m----> 6\u001b[0m subprocess\u001b[38;5;241m.\u001b[39mrun(command, check\u001b[38;5;241m=\u001b[39m\u001b[38;5;28;01mTrue\u001b[39;00m)\n",
      "File \u001b[1;32mc:\\Users\\ahmar\\anaconda3\\envs\\multimodallab\\Lib\\subprocess.py:571\u001b[0m, in \u001b[0;36mrun\u001b[1;34m(input, capture_output, timeout, check, *popenargs, **kwargs)\u001b[0m\n\u001b[0;32m    569\u001b[0m     retcode \u001b[38;5;241m=\u001b[39m process\u001b[38;5;241m.\u001b[39mpoll()\n\u001b[0;32m    570\u001b[0m     \u001b[38;5;28;01mif\u001b[39;00m check \u001b[38;5;129;01mand\u001b[39;00m retcode:\n\u001b[1;32m--> 571\u001b[0m         \u001b[38;5;28;01mraise\u001b[39;00m CalledProcessError(retcode, process\u001b[38;5;241m.\u001b[39margs,\n\u001b[0;32m    572\u001b[0m                                  output\u001b[38;5;241m=\u001b[39mstdout, stderr\u001b[38;5;241m=\u001b[39mstderr)\n\u001b[0;32m    573\u001b[0m \u001b[38;5;28;01mreturn\u001b[39;00m CompletedProcess(process\u001b[38;5;241m.\u001b[39margs, retcode, stdout, stderr)\n",
      "\u001b[1;31mCalledProcessError\u001b[0m: Command '['lsl_relay_time_alignment', 'C:\\\\Users\\\\ahmar\\\\OneDrive\\\\Documents\\\\GitHub\\\\SpeakUp-2.0\\\\2_PREPROCESSING\\\\1_XDF_PROCESSING\\\\data_raw\\\\pilot_01_merel\\\\pilot_01_d2_speech_lsl.xdf', 'C:\\\\Users\\\\ahmar\\\\OneDrive\\\\Documents\\\\GitHub\\\\SpeakUp-2.0\\\\2_PREPROCESSING\\\\3_PupilCloud_Sync\\\\cloud_exports\\\\2024-06-10_16-21-43-f46ab3c3']' returned non-zero exit status 1."
     ]
    }
   ],
   "source": [
    "## Run the terminal commmand using subprocess\n",
    "\n",
    "command = [\"lsl_relay_time_alignment\", input_xdf_files, input_neonexport_files]\n",
    "\n",
    "# Execute the command\n",
    "subprocess.run(command, check=True)"
   ]
  },
  {
   "cell_type": "code",
   "execution_count": null,
   "metadata": {},
   "outputs": [],
   "source": []
  },
  {
   "cell_type": "code",
   "execution_count": null,
   "metadata": {},
   "outputs": [],
   "source": []
  },
  {
   "cell_type": "code",
   "execution_count": null,
   "metadata": {},
   "outputs": [],
   "source": []
  }
 ],
 "metadata": {
  "kernelspec": {
   "display_name": "multimodal_venv",
   "language": "python",
   "name": "python3"
  },
  "language_info": {
   "codemirror_mode": {
    "name": "ipython",
    "version": 3
   },
   "file_extension": ".py",
   "mimetype": "text/x-python",
   "name": "python",
   "nbconvert_exporter": "python",
   "pygments_lexer": "ipython3",
   "version": "3.12.2"
  }
 },
 "nbformat": 4,
 "nbformat_minor": 2
}
