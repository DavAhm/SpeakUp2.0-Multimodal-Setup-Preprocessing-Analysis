{
 "cells": [
  {
   "cell_type": "markdown",
   "metadata": {},
   "source": [
    "# SpeakUp2.0: Neon Eyetrackign LSL with Pupil Cloud Alignment \n",
    "\n",
    "### Info Documents \n",
    "Location Repository\n",
    "Github Repository \n",
    "Jupyter Notebook\n",
    "\n",
    "see documentation here: https://pupil-invisible-lsl-relay.readthedocs.io/en/stable/guides/time_alignment.html\n",
    "\n",
    "\n",
    "\n",
    "\n",
    "### Requirements\n",
    "Please install the necessary packages in requirements.txt using pip install -r requirements.txt"
   ]
  },
  {
   "cell_type": "markdown",
   "metadata": {},
   "source": [
    "### 0. Importing Necessary Packages"
   ]
  },
  {
   "cell_type": "code",
   "execution_count": null,
   "metadata": {},
   "outputs": [],
   "source": [
    "import json\n",
    "import pandas as pd\n",
    "import numpy as np\n",
    "from sklearn.linear_model import LinearRegression\n",
    "import os  \n",
    "from lsl_relay import time_alignment\n"
   ]
  },
  {
   "cell_type": "markdown",
   "metadata": {},
   "source": [
    "### 1. Defyining Directories, Variables and Functions "
   ]
  },
  {
   "cell_type": "code",
   "execution_count": null,
   "metadata": {},
   "outputs": [],
   "source": [
    "input_LSL_Neon = '../1_XDF_PROCESSING/data_processed/lateststart_earliestend/'\n",
    "input_Pupil_Cloud = './cloud_exports/'\n",
    "output_Cloud_LSl_aligned = './cloudLSL_aligned/'\n",
    "\n",
    "print(\"Input LSL Neon =\", os.path.abspath(input_LSL_Neon))\n",
    "print(\"Input Pupil Cloud =\", os.path.abspath(input_Pupil_Cloud))\n",
    "print(\"Output Cloud LSL aligned =\", os.path.abspath(output_Cloud_LSl_aligned))"
   ]
  }
 ],
 "metadata": {
  "language_info": {
   "name": "python"
  }
 },
 "nbformat": 4,
 "nbformat_minor": 2
}
