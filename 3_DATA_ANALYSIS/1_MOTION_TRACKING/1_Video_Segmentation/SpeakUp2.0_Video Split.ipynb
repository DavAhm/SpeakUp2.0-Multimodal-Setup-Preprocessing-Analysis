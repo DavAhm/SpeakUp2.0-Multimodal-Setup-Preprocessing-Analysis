{
 "cells": [
  {
   "cell_type": "markdown",
   "id": "b1083ca2-3e16-43bf-841d-deba02258dc7",
   "metadata": {},
   "source": [
    "# SpeakUp2.0: Splitting Multiple Videos\n",
    "\n",
    "\n",
    "\n",
    "## Info documents\n",
    "location Repositor :https://github.com/DavAhm/Mobile-Multimodal-Lab/tree/main/2_PREPROCESSING/2_MOTION_TRACKIN\n",
    "\n",
    "location Jupyter Noteboo  \n",
    "##  Requirements\n",
    "Please install the necessary packages in requirements.\n",
    "## OVERVIEWE\n",
    "This Python script splits single videos containing multiple cameras views into individual videos of each separate view using OpenCV. \n",
    "It outputs the split video files into a specific folder structure, making them ready for further processing, such as motion tracking with tools like OpenPose or Pose2Sim. Below is an overview of the key steps in the code:\n",
    "\n",
    "0. Importing Necessary Packages:\n",
    "             see requirements.txt for all necessary packages\n",
    "\n",
    "1. Defining Relevant Directories, Variables, and Functions:\n",
    "         Working with relative paths, the scripts defines input and output folders.\n",
    "         Video extension (e.g., *.avi) and corresponding codec extension (e.g., XVID) can be ajusted by the user accordingly.\n",
    "         The current script assumes 3 cameras for each vidoe, each of them with an euqal height and width.\n",
    "         The split_camera_views function is defined to handle the core task of splitting a video file into separate camera views. This function processes each video file, extracting frames and dividing them into distinct sections corresponding to different camera views. The split videos are then saved to specified output files.\n",
    "\n",
    "\n",
    "2. and 2a. In **2** the script automatically scans a specified directory to identify and collect all video files with a specific extension (e.g., .avi). This allows for batch processing of multiple videos without requiring manual file selection.\n",
    "   In **2a**, the the script provides an option for the user to manually select one or more video files through a graphical file dialog. This feature offers flexibility for the user to choose specific videos from any directory for processing.\n",
    "\n",
    "3. The scripts loops through the selected or identified video files and splitting each one into separate camera views:\n",
    "For each video file, the script extracts the filename and generates output file paths for each camera view (e.g., _cam1.avi, _cam2.avi, _cam3.avi).\n",
    "The split_camera_views function is called to process the video, splitting it into three separate camera views and saving them in a structured folder, such as a raw-2d subfolder within the output directory.   "
   ]
  },
  {
   "cell_type": "markdown",
   "id": "0ef3895e-54b4-4281-a860-402dd6a015b8",
   "metadata": {},
   "source": [
    "## 0. Importing Necessary Packages\n"
   ]
  },
  {
   "cell_type": "code",
   "execution_count": 1,
   "id": "85430158-afc2-46de-919d-f44825208426",
   "metadata": {},
   "outputs": [
    {
     "name": "stdout",
     "output_type": "stream",
     "text": [
      "Everything was imported succesfully\n"
     ]
    }
   ],
   "source": [
    "import os                                 # Importing the os module which provides functions for interacting with the operating system\n",
    "from moviepy.editor import (              # Importing functions from the MoviePy library, which is used for video editing.\n",
    "                VideoFileClip,                # VideoFileClip allows you to load a video file and manipulate it as a clip object.\n",
    "                concatenate_videoclips)       # concatenate_videoclips allows you to concatenate multiple video clips into one video.\n",
    "import cv2                                # Importing cv2 module from OpenCV library, used for computer vision tasks (provides various functions to process images and videos).\n",
    "import subprocess                         # Importing subprocess, commonly used for running external commands or scripts from within a Python script.\n",
    "import tkinter                            # Importning tkinter, whch crates graphical user interfaces (GUIs) and provides a variety of widgets and controls to build desktop applications.\n",
    "from tkinter import filedialog                # importing filedialog from tkinter, is a module in tkinter, which allows the user to select files or directories through a dialog window.\n",
    "from tqdm import tqdm                     # Importing tqdm for the progress bar\n",
    "import re\n",
    "\n",
    "print(\"Everything was imported succesfully\") #as terminal"
   ]
  },
  {
   "cell_type": "markdown",
   "id": "d9d7ce55-8a2e-4225-a0ba-42a9b13a0bc3",
   "metadata": {},
   "source": [
    "## 1. Defining the Relevant Directories, Variables & Functions"
   ]
  },
  {
   "cell_type": "code",
   "execution_count": 4,
   "id": "10ede56c-ebdb-470d-bc52-9caaacb2b735",
   "metadata": {},
   "outputs": [
    {
     "name": "stdout",
     "output_type": "stream",
     "text": [
      "Input folder = \\\\fileserver.dccn.nl\\project\\3025011.01\\Davide_MultimodalLab\\3_DATA_ANALYSIS\\1_MOTION_TRACKING\\2_Video_Calibration\\calibration_charuco_raw\n",
      "Output folder = \\\\fileserver.dccn.nl\\project\\3025011.01\\Davide_MultimodalLab\\3_DATA_ANALYSIS\\1_MOTION_TRACKING\\2_Video_Calibration\\calibration_charuco_split\n",
      "Function split_camera_views created successfully\n"
     ]
    }
   ],
   "source": [
    "# ------------ DIRECTORIES -----------------------------\n",
    "input_folder  = r'\\\\fileserver.dccn.nl\\project\\3025011.01\\Davide_MultimodalLab\\3_DATA_ANALYSIS\\1_MOTION_TRACKING\\2_Video_Calibration\\calibration_charuco_raw'    # Relative path to the input folder with the raw video files\n",
    "output_folder = r'\\\\fileserver.dccn.nl\\project\\3025011.01\\Davide_MultimodalLab\\3_DATA_ANALYSIS\\1_MOTION_TRACKING\\2_Video_Calibration\\calibration_charuco_split'  # output folder where the split videos will be saved (relative path) \n",
    "\n",
    "print(\"Input folder =\", os.path.abspath(input_folder))\n",
    "print(\"Output folder =\", os.path.abspath(output_folder))\n",
    "\n",
    "\n",
    "# ----------- VARIABLES --------------------------\n",
    "input_video_extension = '.avi'  # Video format extension avi. Change as needed (e.g., .mp4)\n",
    "codec_extension  = 'mp4v'  # Codec for avi. Consider other codecs for different extensions:\n",
    "                            # '.mp4': 'libx264',\n",
    "                            # '.avi': 'libxvid',\n",
    "                            # '.mov': 'libx264',\n",
    "                            # '.mkv': 'libx264',\n",
    "                            # '.flv': 'flv',\n",
    "                            \n",
    "output_video_extension = '.mp4'  # Output video format extension. Change as needed (e.g., .avi)\n",
    "\n",
    "num_cameras = 3          # Number of cameras for each \"raw video\". Change accordingly. \n",
    "\n",
    "condition_pattern_matching = re.compile(r'.(Vision|NoVision)_(Movement|NoMovement)')\n",
    "\n",
    "keyword = 'charuco'  # Keyword to search for in the file name. Change as needed.\n",
    "\n",
    "\n",
    "\n",
    "\n",
    "# ----------- FUNCTIONS -------------------------\n",
    "def split_camera_views(input_file, output_files, num_cameras=3, codec_extension='mp4v'):\n",
    "    \"\"\"\n",
    "    This split_camera_views function takes an input video file and splits it into three separate video files, \n",
    "    each corresponding to a different camera view. It assumes that the input video is composed \n",
    "    of three side-by-side camera views. The function outputs three video files, each containing \n",
    "    one of the camera views.\n",
    "\n",
    "    Parameters:\n",
    "    input_file (str): The path to the input video file.\n",
    "    output_files (list of str): A list containing the paths to the output video files for each camera view.\n",
    "    num_cameras (int): The number of camera views in the input video. Default is 3.\n",
    "    codec_extension (str): The codec extension to be used for the output videos. Default is 'mp4v'.\n",
    "    \"\"\"\n",
    "    \n",
    "    cap = cv2.VideoCapture(input_file)  # Open the video file\n",
    "\n",
    "    # Extract relevant information from the video\n",
    "    width_per_camera = int(cap.get(cv2.CAP_PROP_FRAME_WIDTH)) // num_cameras  # Calculate width per camera\n",
    "    height = int(cap.get(cv2.CAP_PROP_FRAME_HEIGHT))  # Get the height of the video (same for all cameras)\n",
    "    frame_rate = int(cap.get(cv2.CAP_PROP_FPS))  # Get the frame rate of the video (same for all cameras)\n",
    "\n",
    "    # Create VideoWriters for each camera\n",
    "    fourcc = cv2.VideoWriter_fourcc(*codec_extension)  # Define the codec for the output videos\n",
    "    out_cam1 = cv2.VideoWriter(output_files[0], fourcc, frame_rate, (width_per_camera, height))  # Create VideoWriter for the first camera\n",
    "    out_cam2 = cv2.VideoWriter(output_files[1], fourcc, frame_rate, (width_per_camera, height))  # Create VideoWriter for the second camera\n",
    "    out_cam3 = cv2.VideoWriter(output_files[2], fourcc, frame_rate, (width_per_camera, height))  # Create VideoWriter for the third camera\n",
    "\n",
    "    while True:  # Loop to read frames from the video\n",
    "        ret, frame = cap.read()  # Read a frame from the video\n",
    "\n",
    "        # Check if the frame is None (end of video)\n",
    "        if frame is None:  # If no frame is returned, break the loop\n",
    "            break\n",
    "\n",
    "        # Break the frame into three parts\n",
    "        camera1_frame = frame[:, :width_per_camera, :]                    # Extract the first camera view\n",
    "        camera2_frame = frame[:, width_per_camera:2*width_per_camera, :]  # Extract the second camera view\n",
    "        camera3_frame = frame[:, 2*width_per_camera:, :]                  # Extract the third camera view\n",
    "\n",
    "        # Display each camera view separately (optional)\n",
    "        cv2.imshow('Camera 1', camera1_frame)  # Display the first camera view\n",
    "        # cv2.imshow('Camera 2', camera2_frame)  # Display the second camera view\n",
    "        # cv2.imshow('Camera 3', camera3_frame)  # Display the third camera view\n",
    "\n",
    "        # Write frames to video files\n",
    "        out_cam1.write(camera1_frame)  # Write the first camera view to its file\n",
    "        out_cam2.write(camera2_frame)  # Write the second camera view to its file\n",
    "        out_cam3.write(camera3_frame)  # Write the third camera view to its file\n",
    "\n",
    "        if cv2.waitKey(1) == 27:  # Break the loop if 'Esc' key is pressed\n",
    "            break\n",
    "\n",
    "    # Release VideoWriters and VideoCapture\n",
    "    out_cam1.release()  # Release the VideoWriter for the first camera\n",
    "    out_cam2.release()  # Release the VideoWriter for the second camera\n",
    "    out_cam3.release()  # Release the VideoWriter for the third camera\n",
    "    cap.release()  # Release the VideoCapture\n",
    "    cv2.destroyAllWindows()  # Close all OpenCV windows\n",
    "\n",
    "print('Function split_camera_views created successfully')"
   ]
  },
  {
   "cell_type": "markdown",
   "id": "d9eb8346-b31c-46ee-b026-e5d80182100c",
   "metadata": {},
   "source": [
    "## 2. Identifying Relevant Videos in the input_folder "
   ]
  },
  {
   "cell_type": "code",
   "execution_count": 6,
   "id": "9c83f58f-6d52-4895-ad23-f59980636a53",
   "metadata": {},
   "outputs": [
    {
     "name": "stdout",
     "output_type": "stream",
     "text": [
      "We have idenified the following vides: ['\\\\\\\\fileserver.dccn.nl\\\\project\\\\3025011.01\\\\Davide_MultimodalLab\\\\3_DATA_ANALYSIS\\\\1_MOTION_TRACKING\\\\2_Video_Calibration\\\\calibration_charuco_raw\\\\pilot_01_d2_calibration_charuco.avi', '\\\\\\\\fileserver.dccn.nl\\\\project\\\\3025011.01\\\\Davide_MultimodalLab\\\\3_DATA_ANALYSIS\\\\1_MOTION_TRACKING\\\\2_Video_Calibration\\\\calibration_charuco_raw\\\\pilot_01_d3_calibration_charuco.avi', '\\\\\\\\fileserver.dccn.nl\\\\project\\\\3025011.01\\\\Davide_MultimodalLab\\\\3_DATA_ANALYSIS\\\\1_MOTION_TRACKING\\\\2_Video_Calibration\\\\calibration_charuco_raw\\\\pilot_02_d2_calibration_charuco.avi', '\\\\\\\\fileserver.dccn.nl\\\\project\\\\3025011.01\\\\Davide_MultimodalLab\\\\3_DATA_ANALYSIS\\\\1_MOTION_TRACKING\\\\2_Video_Calibration\\\\calibration_charuco_raw\\\\pilot_02_d3_calibration_charuco.avi', '\\\\\\\\fileserver.dccn.nl\\\\project\\\\3025011.01\\\\Davide_MultimodalLab\\\\3_DATA_ANALYSIS\\\\1_MOTION_TRACKING\\\\2_Video_Calibration\\\\calibration_charuco_raw\\\\pilot_04_d2_calibration_charuco.avi', '\\\\\\\\fileserver.dccn.nl\\\\project\\\\3025011.01\\\\Davide_MultimodalLab\\\\3_DATA_ANALYSIS\\\\1_MOTION_TRACKING\\\\2_Video_Calibration\\\\calibration_charuco_raw\\\\pilot_05_d2_calibration_charuco.avi', '\\\\\\\\fileserver.dccn.nl\\\\project\\\\3025011.01\\\\Davide_MultimodalLab\\\\3_DATA_ANALYSIS\\\\1_MOTION_TRACKING\\\\2_Video_Calibration\\\\calibration_charuco_raw\\\\pilot_06_d2_calibration_charuco.avi']\n"
     ]
    }
   ],
   "source": [
    "video_files = [ ]    # Initialize an empty list to store paths of video files\n",
    "\n",
    "# Traverse through the directory and its subdirectories to find XDF files\n",
    "try: \n",
    "    for root, dirs, videos in os.walk(os.path.abspath(input_folder)):  # 1st loop iterating over the results returned by os.walk()\n",
    "        \n",
    "        for video in videos:                               # 2nd loop iterating through each file in the current directory\n",
    "            \n",
    "            if  keyword in video and video.endswith(input_video_extension):            # checking if the video has the specified video_extension (e.g., '.avi') \n",
    "                \n",
    "                video_files.append(os.path.join(root, video))   # if the video is an .avi file, append its full path to the  list\n",
    "    \n",
    "    if video_files:           \n",
    "        print('We have idenified the following vides: ' + str(video_files))\n",
    "\n",
    "    else:\n",
    "        print('No video files found in the specified directory')\n",
    "\n",
    "except Exception as e:\n",
    "    print('An error occurred:', e)"
   ]
  },
  {
   "cell_type": "markdown",
   "id": "00922a46-dcc5-449c-81ac-7d672c9b723f",
   "metadata": {},
   "source": [
    "## 2a. Alternatively, the user can select their own Videos from any directory. "
   ]
  },
  {
   "cell_type": "code",
   "execution_count": 6,
   "id": "a5efcca4-8236-4ffe-a02c-e4ea33710d5c",
   "metadata": {},
   "outputs": [
    {
     "name": "stdout",
     "output_type": "stream",
     "text": [
      "You have selected the following Videos: ['C:/Users/ahmar/OneDrive - Radboud Universiteit/SpeakUp_temp/pilot_06_d2_calibration_charuco_output_compr - Trim.avi']\n"
     ]
    }
   ],
   "source": [
    "root = tkinter.Tk()\n",
    "root.attributes('-topmost',True)\n",
    "root.iconify()\n",
    "\n",
    "video_files = filedialog.askopenfilename(title=\"Select one or multiple Videos in the format\" + str(input_video_extension), filetypes=[(\"Video Files\", str(input_video_extension))], multiple = 'True')\n",
    "\n",
    "root.destroy()\n",
    "\n",
    "# Convert the tuple returned by askopenfilenames() to a list\n",
    "video_files = list(video_files)\n",
    "\n",
    "print('You have selected the following Videos: ' + str(video_files))"
   ]
  },
  {
   "cell_type": "markdown",
   "id": "0398cf5e-2b5c-4286-bfd8-f427906ce48a",
   "metadata": {},
   "source": [
    "## 3. Splitting Videos (Loop)"
   ]
  },
  {
   "cell_type": "code",
   "execution_count": 7,
   "id": "eba65685",
   "metadata": {},
   "outputs": [
    {
     "name": "stderr",
     "output_type": "stream",
     "text": [
      "Splitting the videos:   0%|          | 0/7 [00:00<?, ?file/s]"
     ]
    },
    {
     "name": "stdout",
     "output_type": "stream",
     "text": [
      "saving Split Videos as: ['\\\\\\\\fileserver.dccn.nl\\\\project\\\\3025011.01\\\\Davide_MultimodalLab\\\\3_DATA_ANALYSIS\\\\1_MOTION_TRACKING\\\\2_Video_Calibration\\\\calibration_charuco_split\\\\pilot_01_d2_calibration_charuco\\\\pilot_01_d2_calibration_charuco_cam1.mp4', '\\\\\\\\fileserver.dccn.nl\\\\project\\\\3025011.01\\\\Davide_MultimodalLab\\\\3_DATA_ANALYSIS\\\\1_MOTION_TRACKING\\\\2_Video_Calibration\\\\calibration_charuco_split\\\\pilot_01_d2_calibration_charuco\\\\pilot_01_d2_calibration_charuco_cam2.mp4', '\\\\\\\\fileserver.dccn.nl\\\\project\\\\3025011.01\\\\Davide_MultimodalLab\\\\3_DATA_ANALYSIS\\\\1_MOTION_TRACKING\\\\2_Video_Calibration\\\\calibration_charuco_split\\\\pilot_01_d2_calibration_charuco\\\\pilot_01_d2_calibration_charuco_cam3.mp4']\n"
     ]
    },
    {
     "name": "stderr",
     "output_type": "stream",
     "text": [
      "Splitting the videos:  14%|█▍        | 1/7 [00:52<05:17, 52.92s/file]"
     ]
    },
    {
     "name": "stdout",
     "output_type": "stream",
     "text": [
      "saving Split Videos as: ['\\\\\\\\fileserver.dccn.nl\\\\project\\\\3025011.01\\\\Davide_MultimodalLab\\\\3_DATA_ANALYSIS\\\\1_MOTION_TRACKING\\\\2_Video_Calibration\\\\calibration_charuco_split\\\\pilot_01_d3_calibration_charuco\\\\pilot_01_d3_calibration_charuco_cam1.mp4', '\\\\\\\\fileserver.dccn.nl\\\\project\\\\3025011.01\\\\Davide_MultimodalLab\\\\3_DATA_ANALYSIS\\\\1_MOTION_TRACKING\\\\2_Video_Calibration\\\\calibration_charuco_split\\\\pilot_01_d3_calibration_charuco\\\\pilot_01_d3_calibration_charuco_cam2.mp4', '\\\\\\\\fileserver.dccn.nl\\\\project\\\\3025011.01\\\\Davide_MultimodalLab\\\\3_DATA_ANALYSIS\\\\1_MOTION_TRACKING\\\\2_Video_Calibration\\\\calibration_charuco_split\\\\pilot_01_d3_calibration_charuco\\\\pilot_01_d3_calibration_charuco_cam3.mp4']\n"
     ]
    },
    {
     "name": "stderr",
     "output_type": "stream",
     "text": [
      "Splitting the videos:  29%|██▊       | 2/7 [01:14<02:51, 34.33s/file]"
     ]
    },
    {
     "name": "stdout",
     "output_type": "stream",
     "text": [
      "saving Split Videos as: ['\\\\\\\\fileserver.dccn.nl\\\\project\\\\3025011.01\\\\Davide_MultimodalLab\\\\3_DATA_ANALYSIS\\\\1_MOTION_TRACKING\\\\2_Video_Calibration\\\\calibration_charuco_split\\\\pilot_02_d2_calibration_charuco\\\\pilot_02_d2_calibration_charuco_cam1.mp4', '\\\\\\\\fileserver.dccn.nl\\\\project\\\\3025011.01\\\\Davide_MultimodalLab\\\\3_DATA_ANALYSIS\\\\1_MOTION_TRACKING\\\\2_Video_Calibration\\\\calibration_charuco_split\\\\pilot_02_d2_calibration_charuco\\\\pilot_02_d2_calibration_charuco_cam2.mp4', '\\\\\\\\fileserver.dccn.nl\\\\project\\\\3025011.01\\\\Davide_MultimodalLab\\\\3_DATA_ANALYSIS\\\\1_MOTION_TRACKING\\\\2_Video_Calibration\\\\calibration_charuco_split\\\\pilot_02_d2_calibration_charuco\\\\pilot_02_d2_calibration_charuco_cam3.mp4']\n"
     ]
    },
    {
     "name": "stderr",
     "output_type": "stream",
     "text": [
      "Splitting the videos:  43%|████▎     | 3/7 [01:52<02:23, 35.93s/file]"
     ]
    },
    {
     "name": "stdout",
     "output_type": "stream",
     "text": [
      "saving Split Videos as: ['\\\\\\\\fileserver.dccn.nl\\\\project\\\\3025011.01\\\\Davide_MultimodalLab\\\\3_DATA_ANALYSIS\\\\1_MOTION_TRACKING\\\\2_Video_Calibration\\\\calibration_charuco_split\\\\pilot_02_d3_calibration_charuco\\\\pilot_02_d3_calibration_charuco_cam1.mp4', '\\\\\\\\fileserver.dccn.nl\\\\project\\\\3025011.01\\\\Davide_MultimodalLab\\\\3_DATA_ANALYSIS\\\\1_MOTION_TRACKING\\\\2_Video_Calibration\\\\calibration_charuco_split\\\\pilot_02_d3_calibration_charuco\\\\pilot_02_d3_calibration_charuco_cam2.mp4', '\\\\\\\\fileserver.dccn.nl\\\\project\\\\3025011.01\\\\Davide_MultimodalLab\\\\3_DATA_ANALYSIS\\\\1_MOTION_TRACKING\\\\2_Video_Calibration\\\\calibration_charuco_split\\\\pilot_02_d3_calibration_charuco\\\\pilot_02_d3_calibration_charuco_cam3.mp4']\n"
     ]
    },
    {
     "name": "stderr",
     "output_type": "stream",
     "text": [
      "Splitting the videos:  57%|█████▋    | 4/7 [02:28<01:48, 36.19s/file]"
     ]
    },
    {
     "name": "stdout",
     "output_type": "stream",
     "text": [
      "saving Split Videos as: ['\\\\\\\\fileserver.dccn.nl\\\\project\\\\3025011.01\\\\Davide_MultimodalLab\\\\3_DATA_ANALYSIS\\\\1_MOTION_TRACKING\\\\2_Video_Calibration\\\\calibration_charuco_split\\\\pilot_04_d2_calibration_charuco\\\\pilot_04_d2_calibration_charuco_cam1.mp4', '\\\\\\\\fileserver.dccn.nl\\\\project\\\\3025011.01\\\\Davide_MultimodalLab\\\\3_DATA_ANALYSIS\\\\1_MOTION_TRACKING\\\\2_Video_Calibration\\\\calibration_charuco_split\\\\pilot_04_d2_calibration_charuco\\\\pilot_04_d2_calibration_charuco_cam2.mp4', '\\\\\\\\fileserver.dccn.nl\\\\project\\\\3025011.01\\\\Davide_MultimodalLab\\\\3_DATA_ANALYSIS\\\\1_MOTION_TRACKING\\\\2_Video_Calibration\\\\calibration_charuco_split\\\\pilot_04_d2_calibration_charuco\\\\pilot_04_d2_calibration_charuco_cam3.mp4']\n"
     ]
    },
    {
     "name": "stderr",
     "output_type": "stream",
     "text": [
      "Splitting the videos:  71%|███████▏  | 5/7 [02:59<01:08, 34.35s/file]"
     ]
    },
    {
     "name": "stdout",
     "output_type": "stream",
     "text": [
      "saving Split Videos as: ['\\\\\\\\fileserver.dccn.nl\\\\project\\\\3025011.01\\\\Davide_MultimodalLab\\\\3_DATA_ANALYSIS\\\\1_MOTION_TRACKING\\\\2_Video_Calibration\\\\calibration_charuco_split\\\\pilot_05_d2_calibration_charuco\\\\pilot_05_d2_calibration_charuco_cam1.mp4', '\\\\\\\\fileserver.dccn.nl\\\\project\\\\3025011.01\\\\Davide_MultimodalLab\\\\3_DATA_ANALYSIS\\\\1_MOTION_TRACKING\\\\2_Video_Calibration\\\\calibration_charuco_split\\\\pilot_05_d2_calibration_charuco\\\\pilot_05_d2_calibration_charuco_cam2.mp4', '\\\\\\\\fileserver.dccn.nl\\\\project\\\\3025011.01\\\\Davide_MultimodalLab\\\\3_DATA_ANALYSIS\\\\1_MOTION_TRACKING\\\\2_Video_Calibration\\\\calibration_charuco_split\\\\pilot_05_d2_calibration_charuco\\\\pilot_05_d2_calibration_charuco_cam3.mp4']\n"
     ]
    },
    {
     "name": "stderr",
     "output_type": "stream",
     "text": [
      "Splitting the videos:  86%|████████▌ | 6/7 [04:03<00:44, 44.44s/file]"
     ]
    },
    {
     "name": "stdout",
     "output_type": "stream",
     "text": [
      "saving Split Videos as: ['\\\\\\\\fileserver.dccn.nl\\\\project\\\\3025011.01\\\\Davide_MultimodalLab\\\\3_DATA_ANALYSIS\\\\1_MOTION_TRACKING\\\\2_Video_Calibration\\\\calibration_charuco_split\\\\pilot_06_d2_calibration_charuco\\\\pilot_06_d2_calibration_charuco_cam1.mp4', '\\\\\\\\fileserver.dccn.nl\\\\project\\\\3025011.01\\\\Davide_MultimodalLab\\\\3_DATA_ANALYSIS\\\\1_MOTION_TRACKING\\\\2_Video_Calibration\\\\calibration_charuco_split\\\\pilot_06_d2_calibration_charuco\\\\pilot_06_d2_calibration_charuco_cam2.mp4', '\\\\\\\\fileserver.dccn.nl\\\\project\\\\3025011.01\\\\Davide_MultimodalLab\\\\3_DATA_ANALYSIS\\\\1_MOTION_TRACKING\\\\2_Video_Calibration\\\\calibration_charuco_split\\\\pilot_06_d2_calibration_charuco\\\\pilot_06_d2_calibration_charuco_cam3.mp4']\n"
     ]
    },
    {
     "name": "stderr",
     "output_type": "stream",
     "text": [
      "Splitting the videos: 100%|██████████| 7/7 [05:07<00:00, 43.95s/file]"
     ]
    },
    {
     "name": "stdout",
     "output_type": "stream",
     "text": [
      "Done, you can now look into the folder: \\\\fileserver.dccn.nl\\project\\3025011.01\\Davide_MultimodalLab\\3_DATA_ANALYSIS\\1_MOTION_TRACKING\\2_Video_Calibration\\calibration_charuco_split\n"
     ]
    },
    {
     "name": "stderr",
     "output_type": "stream",
     "text": [
      "\n"
     ]
    }
   ],
   "source": [
    "### FOR CALIBRATION VIDEOS\n",
    "\n",
    "# loop over files in folder and split them\n",
    "for file in tqdm(video_files, desc=\"Splitting the videos: \", unit=\"file\"):\n",
    "\n",
    "    # Get the name of the file without the extension\n",
    "    filename = os.path.splitext(os.path.basename(file))[0]\n",
    "    \n",
    "    subfolder_path = os.path.join(output_folder, filename)\n",
    "\n",
    "    \n",
    "    # Check if the subfolder exists, if not create it\n",
    "    if not os.path.exists(subfolder_path):\n",
    "        os.makedirs(subfolder_path)\n",
    "\n",
    "    # create output file names for each camera, and save the three videos into ouput_folder with their correspodning camera angle \n",
    "    output_files = [\n",
    "        os.path.join(subfolder_path, filename + '_cam1' + output_video_extension),\n",
    "        os.path.join(subfolder_path, filename + '_cam2' + output_video_extension),\n",
    "        os.path.join(subfolder_path, filename + '_cam3' + output_video_extension)\n",
    "    ]\n",
    "\n",
    "    # Make sure the output folder exists\n",
    "    os.makedirs(output_folder, exist_ok=True)\n",
    "\n",
    "    print(\"saving Split Videos as: \" + str(output_files))\n",
    "\n",
    "\n",
    "    # Splitting the videos using the function split_camera view\n",
    "    split_camera_views(file, output_files)\n",
    "\n",
    "print('Done, you can now look into the folder: ' + output_folder)"
   ]
  },
  {
   "cell_type": "code",
   "execution_count": null,
   "id": "2a753088",
   "metadata": {},
   "outputs": [],
   "source": []
  },
  {
   "cell_type": "code",
   "execution_count": 9,
   "id": "fd1238f5-afb0-425a-aeed-8299ecb7d67e",
   "metadata": {},
   "outputs": [
    {
     "name": "stderr",
     "output_type": "stream",
     "text": [
      "Splitting the videos:   0%|          | 0/40 [00:00<?, ?file/s]"
     ]
    },
    {
     "name": "stdout",
     "output_type": "stream",
     "text": [
      "Participant: P1\n",
      "Condition: NoVision_Movement\n",
      "Trial: trial_0\n",
      "saving Split Videos as: ['./video_split/P1\\\\NoVision_Movement\\\\trial_0\\\\T1_experiment_Video_P1_NoVision_Movement_0_StartParticipantSinging_NoVision_Movement_0_EndParticipantSinging_clipped_cam1.avi', './video_split/P1\\\\NoVision_Movement\\\\trial_0\\\\T1_experiment_Video_P1_NoVision_Movement_0_StartParticipantSinging_NoVision_Movement_0_EndParticipantSinging_clipped_cam2.avi', './video_split/P1\\\\NoVision_Movement\\\\trial_0\\\\T1_experiment_Video_P1_NoVision_Movement_0_StartParticipantSinging_NoVision_Movement_0_EndParticipantSinging_clipped_cam3.avi']\n"
     ]
    },
    {
     "name": "stderr",
     "output_type": "stream",
     "text": [
      "Splitting the videos:   2%|▎         | 1/40 [00:12<07:58, 12.27s/file]"
     ]
    },
    {
     "name": "stdout",
     "output_type": "stream",
     "text": [
      "Participant: P1\n",
      "Condition: NoVision_Movement\n",
      "Trial: trial_1\n",
      "saving Split Videos as: ['./video_split/P1\\\\NoVision_Movement\\\\trial_1\\\\T1_experiment_Video_P1_NoVision_Movement_1_StartParticipantSinging_NoVision_Movement_1_EndParticipantSinging_clipped_cam1.avi', './video_split/P1\\\\NoVision_Movement\\\\trial_1\\\\T1_experiment_Video_P1_NoVision_Movement_1_StartParticipantSinging_NoVision_Movement_1_EndParticipantSinging_clipped_cam2.avi', './video_split/P1\\\\NoVision_Movement\\\\trial_1\\\\T1_experiment_Video_P1_NoVision_Movement_1_StartParticipantSinging_NoVision_Movement_1_EndParticipantSinging_clipped_cam3.avi']\n"
     ]
    },
    {
     "name": "stderr",
     "output_type": "stream",
     "text": [
      "Splitting the videos:   5%|▌         | 2/40 [00:24<07:51, 12.42s/file]"
     ]
    },
    {
     "name": "stdout",
     "output_type": "stream",
     "text": [
      "Participant: P1\n",
      "Condition: NoVision_Movement\n",
      "Trial: trial_2\n",
      "saving Split Videos as: ['./video_split/P1\\\\NoVision_Movement\\\\trial_2\\\\T1_experiment_Video_P1_NoVision_Movement_2_StartParticipantSinging_NoVision_Movement_2_EndParticipantSinging_clipped_cam1.avi', './video_split/P1\\\\NoVision_Movement\\\\trial_2\\\\T1_experiment_Video_P1_NoVision_Movement_2_StartParticipantSinging_NoVision_Movement_2_EndParticipantSinging_clipped_cam2.avi', './video_split/P1\\\\NoVision_Movement\\\\trial_2\\\\T1_experiment_Video_P1_NoVision_Movement_2_StartParticipantSinging_NoVision_Movement_2_EndParticipantSinging_clipped_cam3.avi']\n"
     ]
    },
    {
     "name": "stderr",
     "output_type": "stream",
     "text": [
      "Splitting the videos:   8%|▊         | 3/40 [00:37<07:41, 12.48s/file]"
     ]
    },
    {
     "name": "stdout",
     "output_type": "stream",
     "text": [
      "Participant: P1\n",
      "Condition: NoVision_Movement\n",
      "Trial: trial_3\n",
      "saving Split Videos as: ['./video_split/P1\\\\NoVision_Movement\\\\trial_3\\\\T1_experiment_Video_P1_NoVision_Movement_3_StartParticipantSinging_NoVision_Movement_3_EndParticipantSinging_clipped_cam1.avi', './video_split/P1\\\\NoVision_Movement\\\\trial_3\\\\T1_experiment_Video_P1_NoVision_Movement_3_StartParticipantSinging_NoVision_Movement_3_EndParticipantSinging_clipped_cam2.avi', './video_split/P1\\\\NoVision_Movement\\\\trial_3\\\\T1_experiment_Video_P1_NoVision_Movement_3_StartParticipantSinging_NoVision_Movement_3_EndParticipantSinging_clipped_cam3.avi']\n"
     ]
    },
    {
     "name": "stderr",
     "output_type": "stream",
     "text": [
      "Splitting the videos:  10%|█         | 4/40 [00:49<07:29, 12.50s/file]"
     ]
    },
    {
     "name": "stdout",
     "output_type": "stream",
     "text": [
      "Participant: P1\n",
      "Condition: NoVision_Movement\n",
      "Trial: trial_4\n",
      "saving Split Videos as: ['./video_split/P1\\\\NoVision_Movement\\\\trial_4\\\\T1_experiment_Video_P1_NoVision_Movement_4_StartParticipantSinging_NoVision_Movement_4_EndParticipantSinging_clipped_cam1.avi', './video_split/P1\\\\NoVision_Movement\\\\trial_4\\\\T1_experiment_Video_P1_NoVision_Movement_4_StartParticipantSinging_NoVision_Movement_4_EndParticipantSinging_clipped_cam2.avi', './video_split/P1\\\\NoVision_Movement\\\\trial_4\\\\T1_experiment_Video_P1_NoVision_Movement_4_StartParticipantSinging_NoVision_Movement_4_EndParticipantSinging_clipped_cam3.avi']\n"
     ]
    },
    {
     "name": "stderr",
     "output_type": "stream",
     "text": [
      "Splitting the videos:  12%|█▎        | 5/40 [01:02<07:17, 12.51s/file]"
     ]
    },
    {
     "name": "stdout",
     "output_type": "stream",
     "text": [
      "Participant: P1\n",
      "Condition: NoVision_NoMovement\n",
      "Trial: trial_0\n",
      "saving Split Videos as: ['./video_split/P1\\\\NoVision_NoMovement\\\\trial_0\\\\T1_experiment_Video_P1_NoVision_NoMovement_0_StartParticipantSinging_NoVision_NoMovement_0_EndParticipantSinging_clipped_cam1.avi', './video_split/P1\\\\NoVision_NoMovement\\\\trial_0\\\\T1_experiment_Video_P1_NoVision_NoMovement_0_StartParticipantSinging_NoVision_NoMovement_0_EndParticipantSinging_clipped_cam2.avi', './video_split/P1\\\\NoVision_NoMovement\\\\trial_0\\\\T1_experiment_Video_P1_NoVision_NoMovement_0_StartParticipantSinging_NoVision_NoMovement_0_EndParticipantSinging_clipped_cam3.avi']\n"
     ]
    },
    {
     "name": "stderr",
     "output_type": "stream",
     "text": [
      "Splitting the videos:  15%|█▌        | 6/40 [01:14<06:58, 12.30s/file]"
     ]
    },
    {
     "name": "stdout",
     "output_type": "stream",
     "text": [
      "Participant: P1\n",
      "Condition: NoVision_NoMovement\n",
      "Trial: trial_1\n",
      "saving Split Videos as: ['./video_split/P1\\\\NoVision_NoMovement\\\\trial_1\\\\T1_experiment_Video_P1_NoVision_NoMovement_1_StartParticipantSinging_NoVision_NoMovement_1_EndParticipantSinging_clipped_cam1.avi', './video_split/P1\\\\NoVision_NoMovement\\\\trial_1\\\\T1_experiment_Video_P1_NoVision_NoMovement_1_StartParticipantSinging_NoVision_NoMovement_1_EndParticipantSinging_clipped_cam2.avi', './video_split/P1\\\\NoVision_NoMovement\\\\trial_1\\\\T1_experiment_Video_P1_NoVision_NoMovement_1_StartParticipantSinging_NoVision_NoMovement_1_EndParticipantSinging_clipped_cam3.avi']\n"
     ]
    },
    {
     "name": "stderr",
     "output_type": "stream",
     "text": [
      "Splitting the videos:  18%|█▊        | 7/40 [01:26<06:41, 12.17s/file]"
     ]
    },
    {
     "name": "stdout",
     "output_type": "stream",
     "text": [
      "Participant: P1\n",
      "Condition: NoVision_NoMovement\n",
      "Trial: trial_2\n",
      "saving Split Videos as: ['./video_split/P1\\\\NoVision_NoMovement\\\\trial_2\\\\T1_experiment_Video_P1_NoVision_NoMovement_2_StartParticipantSinging_NoVision_NoMovement_2_EndParticipantSinging_clipped_cam1.avi', './video_split/P1\\\\NoVision_NoMovement\\\\trial_2\\\\T1_experiment_Video_P1_NoVision_NoMovement_2_StartParticipantSinging_NoVision_NoMovement_2_EndParticipantSinging_clipped_cam2.avi', './video_split/P1\\\\NoVision_NoMovement\\\\trial_2\\\\T1_experiment_Video_P1_NoVision_NoMovement_2_StartParticipantSinging_NoVision_NoMovement_2_EndParticipantSinging_clipped_cam3.avi']\n"
     ]
    },
    {
     "name": "stderr",
     "output_type": "stream",
     "text": [
      "Splitting the videos:  20%|██        | 8/40 [01:38<06:28, 12.13s/file]"
     ]
    },
    {
     "name": "stdout",
     "output_type": "stream",
     "text": [
      "Participant: P1\n",
      "Condition: NoVision_NoMovement\n",
      "Trial: trial_3\n",
      "saving Split Videos as: ['./video_split/P1\\\\NoVision_NoMovement\\\\trial_3\\\\T1_experiment_Video_P1_NoVision_NoMovement_3_StartParticipantSinging_NoVision_NoMovement_3_EndParticipantSinging_clipped_cam1.avi', './video_split/P1\\\\NoVision_NoMovement\\\\trial_3\\\\T1_experiment_Video_P1_NoVision_NoMovement_3_StartParticipantSinging_NoVision_NoMovement_3_EndParticipantSinging_clipped_cam2.avi', './video_split/P1\\\\NoVision_NoMovement\\\\trial_3\\\\T1_experiment_Video_P1_NoVision_NoMovement_3_StartParticipantSinging_NoVision_NoMovement_3_EndParticipantSinging_clipped_cam3.avi']\n"
     ]
    },
    {
     "name": "stderr",
     "output_type": "stream",
     "text": [
      "Splitting the videos:  22%|██▎       | 9/40 [01:49<06:11, 11.99s/file]"
     ]
    },
    {
     "name": "stdout",
     "output_type": "stream",
     "text": [
      "Participant: P1\n",
      "Condition: NoVision_NoMovement\n",
      "Trial: trial_4\n",
      "saving Split Videos as: ['./video_split/P1\\\\NoVision_NoMovement\\\\trial_4\\\\T1_experiment_Video_P1_NoVision_NoMovement_4_StartParticipantSinging_NoVision_NoMovement_4_EndParticipantSinging_clipped_cam1.avi', './video_split/P1\\\\NoVision_NoMovement\\\\trial_4\\\\T1_experiment_Video_P1_NoVision_NoMovement_4_StartParticipantSinging_NoVision_NoMovement_4_EndParticipantSinging_clipped_cam2.avi', './video_split/P1\\\\NoVision_NoMovement\\\\trial_4\\\\T1_experiment_Video_P1_NoVision_NoMovement_4_StartParticipantSinging_NoVision_NoMovement_4_EndParticipantSinging_clipped_cam3.avi']\n"
     ]
    },
    {
     "name": "stderr",
     "output_type": "stream",
     "text": [
      "Splitting the videos:  25%|██▌       | 10/40 [02:01<05:53, 11.79s/file]"
     ]
    },
    {
     "name": "stdout",
     "output_type": "stream",
     "text": [
      "Participant: P1\n",
      "Condition: Vision_Movement\n",
      "Trial: trial_0\n",
      "saving Split Videos as: ['./video_split/P1\\\\Vision_Movement\\\\trial_0\\\\T1_experiment_Video_P1_Vision_Movement_0_StartParticipantSinging_Vision_Movement_0_EndParticipantSinging_clipped_cam1.avi', './video_split/P1\\\\Vision_Movement\\\\trial_0\\\\T1_experiment_Video_P1_Vision_Movement_0_StartParticipantSinging_Vision_Movement_0_EndParticipantSinging_clipped_cam2.avi', './video_split/P1\\\\Vision_Movement\\\\trial_0\\\\T1_experiment_Video_P1_Vision_Movement_0_StartParticipantSinging_Vision_Movement_0_EndParticipantSinging_clipped_cam3.avi']\n"
     ]
    },
    {
     "name": "stderr",
     "output_type": "stream",
     "text": [
      "Splitting the videos:  28%|██▊       | 11/40 [02:13<05:50, 12.08s/file]"
     ]
    },
    {
     "name": "stdout",
     "output_type": "stream",
     "text": [
      "Participant: P1\n",
      "Condition: Vision_Movement\n",
      "Trial: trial_1\n",
      "saving Split Videos as: ['./video_split/P1\\\\Vision_Movement\\\\trial_1\\\\T1_experiment_Video_P1_Vision_Movement_1_StartParticipantSinging_Vision_Movement_1_EndParticipantSinging_clipped_cam1.avi', './video_split/P1\\\\Vision_Movement\\\\trial_1\\\\T1_experiment_Video_P1_Vision_Movement_1_StartParticipantSinging_Vision_Movement_1_EndParticipantSinging_clipped_cam2.avi', './video_split/P1\\\\Vision_Movement\\\\trial_1\\\\T1_experiment_Video_P1_Vision_Movement_1_StartParticipantSinging_Vision_Movement_1_EndParticipantSinging_clipped_cam3.avi']\n"
     ]
    },
    {
     "name": "stderr",
     "output_type": "stream",
     "text": [
      "Splitting the videos:  30%|███       | 12/40 [02:26<05:42, 12.22s/file]"
     ]
    },
    {
     "name": "stdout",
     "output_type": "stream",
     "text": [
      "Participant: P1\n",
      "Condition: Vision_Movement\n",
      "Trial: trial_2\n",
      "saving Split Videos as: ['./video_split/P1\\\\Vision_Movement\\\\trial_2\\\\T1_experiment_Video_P1_Vision_Movement_2_StartParticipantSinging_Vision_Movement_2_EndParticipantSinging_clipped_cam1.avi', './video_split/P1\\\\Vision_Movement\\\\trial_2\\\\T1_experiment_Video_P1_Vision_Movement_2_StartParticipantSinging_Vision_Movement_2_EndParticipantSinging_clipped_cam2.avi', './video_split/P1\\\\Vision_Movement\\\\trial_2\\\\T1_experiment_Video_P1_Vision_Movement_2_StartParticipantSinging_Vision_Movement_2_EndParticipantSinging_clipped_cam3.avi']\n"
     ]
    },
    {
     "name": "stderr",
     "output_type": "stream",
     "text": [
      "Splitting the videos:  32%|███▎      | 13/40 [02:39<05:32, 12.33s/file]"
     ]
    },
    {
     "name": "stdout",
     "output_type": "stream",
     "text": [
      "Participant: P1\n",
      "Condition: Vision_Movement\n",
      "Trial: trial_3\n",
      "saving Split Videos as: ['./video_split/P1\\\\Vision_Movement\\\\trial_3\\\\T1_experiment_Video_P1_Vision_Movement_3_StartParticipantSinging_Vision_Movement_3_EndParticipantSinging_clipped_cam1.avi', './video_split/P1\\\\Vision_Movement\\\\trial_3\\\\T1_experiment_Video_P1_Vision_Movement_3_StartParticipantSinging_Vision_Movement_3_EndParticipantSinging_clipped_cam2.avi', './video_split/P1\\\\Vision_Movement\\\\trial_3\\\\T1_experiment_Video_P1_Vision_Movement_3_StartParticipantSinging_Vision_Movement_3_EndParticipantSinging_clipped_cam3.avi']\n"
     ]
    },
    {
     "name": "stderr",
     "output_type": "stream",
     "text": [
      "Splitting the videos:  35%|███▌      | 14/40 [02:51<05:19, 12.29s/file]"
     ]
    },
    {
     "name": "stdout",
     "output_type": "stream",
     "text": [
      "Participant: P1\n",
      "Condition: Vision_Movement\n",
      "Trial: trial_4\n",
      "saving Split Videos as: ['./video_split/P1\\\\Vision_Movement\\\\trial_4\\\\T1_experiment_Video_P1_Vision_Movement_4_StartParticipantSinging_Vision_Movement_4_EndParticipantSinging_clipped_cam1.avi', './video_split/P1\\\\Vision_Movement\\\\trial_4\\\\T1_experiment_Video_P1_Vision_Movement_4_StartParticipantSinging_Vision_Movement_4_EndParticipantSinging_clipped_cam2.avi', './video_split/P1\\\\Vision_Movement\\\\trial_4\\\\T1_experiment_Video_P1_Vision_Movement_4_StartParticipantSinging_Vision_Movement_4_EndParticipantSinging_clipped_cam3.avi']\n"
     ]
    },
    {
     "name": "stderr",
     "output_type": "stream",
     "text": [
      "Splitting the videos:  38%|███▊      | 15/40 [03:03<05:05, 12.23s/file]"
     ]
    },
    {
     "name": "stdout",
     "output_type": "stream",
     "text": [
      "Participant: P1\n",
      "Condition: Vision_NoMovement\n",
      "Trial: trial_0\n",
      "saving Split Videos as: ['./video_split/P1\\\\Vision_NoMovement\\\\trial_0\\\\T1_experiment_Video_P1_Vision_NoMovement_0_StartParticipantSinging_Vision_NoMovement_0_EndParticipantSinging_clipped_cam1.avi', './video_split/P1\\\\Vision_NoMovement\\\\trial_0\\\\T1_experiment_Video_P1_Vision_NoMovement_0_StartParticipantSinging_Vision_NoMovement_0_EndParticipantSinging_clipped_cam2.avi', './video_split/P1\\\\Vision_NoMovement\\\\trial_0\\\\T1_experiment_Video_P1_Vision_NoMovement_0_StartParticipantSinging_Vision_NoMovement_0_EndParticipantSinging_clipped_cam3.avi']\n"
     ]
    },
    {
     "name": "stderr",
     "output_type": "stream",
     "text": [
      "Splitting the videos:  40%|████      | 16/40 [03:15<04:55, 12.31s/file]"
     ]
    },
    {
     "name": "stdout",
     "output_type": "stream",
     "text": [
      "Participant: P1\n",
      "Condition: Vision_NoMovement\n",
      "Trial: trial_1\n",
      "saving Split Videos as: ['./video_split/P1\\\\Vision_NoMovement\\\\trial_1\\\\T1_experiment_Video_P1_Vision_NoMovement_1_StartParticipantSinging_Vision_NoMovement_1_EndParticipantSinging_clipped_cam1.avi', './video_split/P1\\\\Vision_NoMovement\\\\trial_1\\\\T1_experiment_Video_P1_Vision_NoMovement_1_StartParticipantSinging_Vision_NoMovement_1_EndParticipantSinging_clipped_cam2.avi', './video_split/P1\\\\Vision_NoMovement\\\\trial_1\\\\T1_experiment_Video_P1_Vision_NoMovement_1_StartParticipantSinging_Vision_NoMovement_1_EndParticipantSinging_clipped_cam3.avi']\n"
     ]
    },
    {
     "name": "stderr",
     "output_type": "stream",
     "text": [
      "Splitting the videos:  42%|████▎     | 17/40 [03:27<04:40, 12.20s/file]"
     ]
    },
    {
     "name": "stdout",
     "output_type": "stream",
     "text": [
      "Participant: P1\n",
      "Condition: Vision_NoMovement\n",
      "Trial: trial_2\n",
      "saving Split Videos as: ['./video_split/P1\\\\Vision_NoMovement\\\\trial_2\\\\T1_experiment_Video_P1_Vision_NoMovement_2_StartParticipantSinging_Vision_NoMovement_2_EndParticipantSinging_clipped_cam1.avi', './video_split/P1\\\\Vision_NoMovement\\\\trial_2\\\\T1_experiment_Video_P1_Vision_NoMovement_2_StartParticipantSinging_Vision_NoMovement_2_EndParticipantSinging_clipped_cam2.avi', './video_split/P1\\\\Vision_NoMovement\\\\trial_2\\\\T1_experiment_Video_P1_Vision_NoMovement_2_StartParticipantSinging_Vision_NoMovement_2_EndParticipantSinging_clipped_cam3.avi']\n"
     ]
    },
    {
     "name": "stderr",
     "output_type": "stream",
     "text": [
      "Splitting the videos:  45%|████▌     | 18/40 [03:40<04:30, 12.29s/file]"
     ]
    },
    {
     "name": "stdout",
     "output_type": "stream",
     "text": [
      "Participant: P1\n",
      "Condition: Vision_NoMovement\n",
      "Trial: trial_3\n",
      "saving Split Videos as: ['./video_split/P1\\\\Vision_NoMovement\\\\trial_3\\\\T1_experiment_Video_P1_Vision_NoMovement_3_StartParticipantSinging_Vision_NoMovement_3_EndParticipantSinging_clipped_cam1.avi', './video_split/P1\\\\Vision_NoMovement\\\\trial_3\\\\T1_experiment_Video_P1_Vision_NoMovement_3_StartParticipantSinging_Vision_NoMovement_3_EndParticipantSinging_clipped_cam2.avi', './video_split/P1\\\\Vision_NoMovement\\\\trial_3\\\\T1_experiment_Video_P1_Vision_NoMovement_3_StartParticipantSinging_Vision_NoMovement_3_EndParticipantSinging_clipped_cam3.avi']\n"
     ]
    },
    {
     "name": "stderr",
     "output_type": "stream",
     "text": [
      "Splitting the videos:  48%|████▊     | 19/40 [03:52<04:19, 12.37s/file]"
     ]
    },
    {
     "name": "stdout",
     "output_type": "stream",
     "text": [
      "Participant: P1\n",
      "Condition: Vision_NoMovement\n",
      "Trial: trial_4\n",
      "saving Split Videos as: ['./video_split/P1\\\\Vision_NoMovement\\\\trial_4\\\\T1_experiment_Video_P1_Vision_NoMovement_4_StartParticipantSinging_Vision_NoMovement_4_EndParticipantSinging_clipped_cam1.avi', './video_split/P1\\\\Vision_NoMovement\\\\trial_4\\\\T1_experiment_Video_P1_Vision_NoMovement_4_StartParticipantSinging_Vision_NoMovement_4_EndParticipantSinging_clipped_cam2.avi', './video_split/P1\\\\Vision_NoMovement\\\\trial_4\\\\T1_experiment_Video_P1_Vision_NoMovement_4_StartParticipantSinging_Vision_NoMovement_4_EndParticipantSinging_clipped_cam3.avi']\n"
     ]
    },
    {
     "name": "stderr",
     "output_type": "stream",
     "text": [
      "Splitting the videos:  50%|█████     | 20/40 [04:05<04:07, 12.38s/file]"
     ]
    },
    {
     "name": "stdout",
     "output_type": "stream",
     "text": [
      "Participant: P2\n",
      "Condition: NoVision_Movement\n",
      "Trial: trial_0\n",
      "saving Split Videos as: ['./video_split/P2\\\\NoVision_Movement\\\\trial_0\\\\T1_experiment_Video_P2_NoVision_Movement_0_StartParticipantSinging_NoVision_Movement_0_EndParticipantSinging_clipped_cam1.avi', './video_split/P2\\\\NoVision_Movement\\\\trial_0\\\\T1_experiment_Video_P2_NoVision_Movement_0_StartParticipantSinging_NoVision_Movement_0_EndParticipantSinging_clipped_cam2.avi', './video_split/P2\\\\NoVision_Movement\\\\trial_0\\\\T1_experiment_Video_P2_NoVision_Movement_0_StartParticipantSinging_NoVision_Movement_0_EndParticipantSinging_clipped_cam3.avi']\n"
     ]
    },
    {
     "name": "stderr",
     "output_type": "stream",
     "text": [
      "Splitting the videos:  52%|█████▎    | 21/40 [04:18<03:59, 12.59s/file]"
     ]
    },
    {
     "name": "stdout",
     "output_type": "stream",
     "text": [
      "Participant: P2\n",
      "Condition: NoVision_Movement\n",
      "Trial: trial_1\n",
      "saving Split Videos as: ['./video_split/P2\\\\NoVision_Movement\\\\trial_1\\\\T1_experiment_Video_P2_NoVision_Movement_1_StartParticipantSinging_NoVision_Movement_1_EndParticipantSinging_clipped_cam1.avi', './video_split/P2\\\\NoVision_Movement\\\\trial_1\\\\T1_experiment_Video_P2_NoVision_Movement_1_StartParticipantSinging_NoVision_Movement_1_EndParticipantSinging_clipped_cam2.avi', './video_split/P2\\\\NoVision_Movement\\\\trial_1\\\\T1_experiment_Video_P2_NoVision_Movement_1_StartParticipantSinging_NoVision_Movement_1_EndParticipantSinging_clipped_cam3.avi']\n"
     ]
    },
    {
     "name": "stderr",
     "output_type": "stream",
     "text": [
      "Splitting the videos:  55%|█████▌    | 22/40 [04:31<03:48, 12.72s/file]"
     ]
    },
    {
     "name": "stdout",
     "output_type": "stream",
     "text": [
      "Participant: P2\n",
      "Condition: NoVision_Movement\n",
      "Trial: trial_2\n",
      "saving Split Videos as: ['./video_split/P2\\\\NoVision_Movement\\\\trial_2\\\\T1_experiment_Video_P2_NoVision_Movement_2_StartParticipantSinging_NoVision_Movement_2_EndParticipantSinging_clipped_cam1.avi', './video_split/P2\\\\NoVision_Movement\\\\trial_2\\\\T1_experiment_Video_P2_NoVision_Movement_2_StartParticipantSinging_NoVision_Movement_2_EndParticipantSinging_clipped_cam2.avi', './video_split/P2\\\\NoVision_Movement\\\\trial_2\\\\T1_experiment_Video_P2_NoVision_Movement_2_StartParticipantSinging_NoVision_Movement_2_EndParticipantSinging_clipped_cam3.avi']\n"
     ]
    },
    {
     "name": "stderr",
     "output_type": "stream",
     "text": [
      "Splitting the videos:  57%|█████▊    | 23/40 [04:44<03:38, 12.83s/file]"
     ]
    },
    {
     "name": "stdout",
     "output_type": "stream",
     "text": [
      "Participant: P2\n",
      "Condition: NoVision_Movement\n",
      "Trial: trial_3\n",
      "saving Split Videos as: ['./video_split/P2\\\\NoVision_Movement\\\\trial_3\\\\T1_experiment_Video_P2_NoVision_Movement_3_StartParticipantSinging_NoVision_Movement_3_EndParticipantSinging_clipped_cam1.avi', './video_split/P2\\\\NoVision_Movement\\\\trial_3\\\\T1_experiment_Video_P2_NoVision_Movement_3_StartParticipantSinging_NoVision_Movement_3_EndParticipantSinging_clipped_cam2.avi', './video_split/P2\\\\NoVision_Movement\\\\trial_3\\\\T1_experiment_Video_P2_NoVision_Movement_3_StartParticipantSinging_NoVision_Movement_3_EndParticipantSinging_clipped_cam3.avi']\n"
     ]
    },
    {
     "name": "stderr",
     "output_type": "stream",
     "text": [
      "Splitting the videos:  60%|██████    | 24/40 [04:57<03:26, 12.90s/file]"
     ]
    },
    {
     "name": "stdout",
     "output_type": "stream",
     "text": [
      "Participant: P2\n",
      "Condition: NoVision_Movement\n",
      "Trial: trial_4\n",
      "saving Split Videos as: ['./video_split/P2\\\\NoVision_Movement\\\\trial_4\\\\T1_experiment_Video_P2_NoVision_Movement_4_StartParticipantSinging_NoVision_Movement_4_EndParticipantSinging_clipped_cam1.avi', './video_split/P2\\\\NoVision_Movement\\\\trial_4\\\\T1_experiment_Video_P2_NoVision_Movement_4_StartParticipantSinging_NoVision_Movement_4_EndParticipantSinging_clipped_cam2.avi', './video_split/P2\\\\NoVision_Movement\\\\trial_4\\\\T1_experiment_Video_P2_NoVision_Movement_4_StartParticipantSinging_NoVision_Movement_4_EndParticipantSinging_clipped_cam3.avi']\n"
     ]
    },
    {
     "name": "stderr",
     "output_type": "stream",
     "text": [
      "Splitting the videos:  62%|██████▎   | 25/40 [05:10<03:14, 12.95s/file]"
     ]
    },
    {
     "name": "stdout",
     "output_type": "stream",
     "text": [
      "Participant: P2\n",
      "Condition: NoVision_NoMovement\n",
      "Trial: trial_0\n",
      "saving Split Videos as: ['./video_split/P2\\\\NoVision_NoMovement\\\\trial_0\\\\T1_experiment_Video_P2_NoVision_NoMovement_0_StartParticipantSinging_NoVision_NoMovement_0_EndParticipantSinging_clipped_cam1.avi', './video_split/P2\\\\NoVision_NoMovement\\\\trial_0\\\\T1_experiment_Video_P2_NoVision_NoMovement_0_StartParticipantSinging_NoVision_NoMovement_0_EndParticipantSinging_clipped_cam2.avi', './video_split/P2\\\\NoVision_NoMovement\\\\trial_0\\\\T1_experiment_Video_P2_NoVision_NoMovement_0_StartParticipantSinging_NoVision_NoMovement_0_EndParticipantSinging_clipped_cam3.avi']\n"
     ]
    },
    {
     "name": "stderr",
     "output_type": "stream",
     "text": [
      "Splitting the videos:  65%|██████▌   | 26/40 [05:23<03:01, 12.93s/file]"
     ]
    },
    {
     "name": "stdout",
     "output_type": "stream",
     "text": [
      "Participant: P2\n",
      "Condition: NoVision_NoMovement\n",
      "Trial: trial_1\n",
      "saving Split Videos as: ['./video_split/P2\\\\NoVision_NoMovement\\\\trial_1\\\\T1_experiment_Video_P2_NoVision_NoMovement_1_StartParticipantSinging_NoVision_NoMovement_1_EndParticipantSinging_clipped_cam1.avi', './video_split/P2\\\\NoVision_NoMovement\\\\trial_1\\\\T1_experiment_Video_P2_NoVision_NoMovement_1_StartParticipantSinging_NoVision_NoMovement_1_EndParticipantSinging_clipped_cam2.avi', './video_split/P2\\\\NoVision_NoMovement\\\\trial_1\\\\T1_experiment_Video_P2_NoVision_NoMovement_1_StartParticipantSinging_NoVision_NoMovement_1_EndParticipantSinging_clipped_cam3.avi']\n"
     ]
    },
    {
     "name": "stderr",
     "output_type": "stream",
     "text": [
      "Splitting the videos:  68%|██████▊   | 27/40 [05:36<02:48, 12.96s/file]"
     ]
    },
    {
     "name": "stdout",
     "output_type": "stream",
     "text": [
      "Participant: P2\n",
      "Condition: NoVision_NoMovement\n",
      "Trial: trial_2\n",
      "saving Split Videos as: ['./video_split/P2\\\\NoVision_NoMovement\\\\trial_2\\\\T1_experiment_Video_P2_NoVision_NoMovement_2_StartParticipantSinging_NoVision_NoMovement_2_EndParticipantSinging_clipped_cam1.avi', './video_split/P2\\\\NoVision_NoMovement\\\\trial_2\\\\T1_experiment_Video_P2_NoVision_NoMovement_2_StartParticipantSinging_NoVision_NoMovement_2_EndParticipantSinging_clipped_cam2.avi', './video_split/P2\\\\NoVision_NoMovement\\\\trial_2\\\\T1_experiment_Video_P2_NoVision_NoMovement_2_StartParticipantSinging_NoVision_NoMovement_2_EndParticipantSinging_clipped_cam3.avi']\n"
     ]
    },
    {
     "name": "stderr",
     "output_type": "stream",
     "text": [
      "Splitting the videos:  70%|███████   | 28/40 [05:49<02:35, 12.99s/file]"
     ]
    },
    {
     "name": "stdout",
     "output_type": "stream",
     "text": [
      "Participant: P2\n",
      "Condition: NoVision_NoMovement\n",
      "Trial: trial_3\n",
      "saving Split Videos as: ['./video_split/P2\\\\NoVision_NoMovement\\\\trial_3\\\\T1_experiment_Video_P2_NoVision_NoMovement_3_StartParticipantSinging_NoVision_NoMovement_3_EndParticipantSinging_clipped_cam1.avi', './video_split/P2\\\\NoVision_NoMovement\\\\trial_3\\\\T1_experiment_Video_P2_NoVision_NoMovement_3_StartParticipantSinging_NoVision_NoMovement_3_EndParticipantSinging_clipped_cam2.avi', './video_split/P2\\\\NoVision_NoMovement\\\\trial_3\\\\T1_experiment_Video_P2_NoVision_NoMovement_3_StartParticipantSinging_NoVision_NoMovement_3_EndParticipantSinging_clipped_cam3.avi']\n"
     ]
    },
    {
     "name": "stderr",
     "output_type": "stream",
     "text": [
      "Splitting the videos:  72%|███████▎  | 29/40 [06:02<02:23, 13.01s/file]"
     ]
    },
    {
     "name": "stdout",
     "output_type": "stream",
     "text": [
      "Participant: P2\n",
      "Condition: NoVision_NoMovement\n",
      "Trial: trial_4\n",
      "saving Split Videos as: ['./video_split/P2\\\\NoVision_NoMovement\\\\trial_4\\\\T1_experiment_Video_P2_NoVision_NoMovement_4_StartParticipantSinging_NoVision_NoMovement_4_EndParticipantSinging_clipped_cam1.avi', './video_split/P2\\\\NoVision_NoMovement\\\\trial_4\\\\T1_experiment_Video_P2_NoVision_NoMovement_4_StartParticipantSinging_NoVision_NoMovement_4_EndParticipantSinging_clipped_cam2.avi', './video_split/P2\\\\NoVision_NoMovement\\\\trial_4\\\\T1_experiment_Video_P2_NoVision_NoMovement_4_StartParticipantSinging_NoVision_NoMovement_4_EndParticipantSinging_clipped_cam3.avi']\n"
     ]
    },
    {
     "name": "stderr",
     "output_type": "stream",
     "text": [
      "Splitting the videos:  75%|███████▌  | 30/40 [06:15<02:10, 13.02s/file]"
     ]
    },
    {
     "name": "stdout",
     "output_type": "stream",
     "text": [
      "Participant: P2\n",
      "Condition: Vision_Movement\n",
      "Trial: trial_0\n",
      "saving Split Videos as: ['./video_split/P2\\\\Vision_Movement\\\\trial_0\\\\T1_experiment_Video_P2_Vision_Movement_0_StartParticipantSinging_Vision_Movement_0_EndParticipantSinging_clipped_cam1.avi', './video_split/P2\\\\Vision_Movement\\\\trial_0\\\\T1_experiment_Video_P2_Vision_Movement_0_StartParticipantSinging_Vision_Movement_0_EndParticipantSinging_clipped_cam2.avi', './video_split/P2\\\\Vision_Movement\\\\trial_0\\\\T1_experiment_Video_P2_Vision_Movement_0_StartParticipantSinging_Vision_Movement_0_EndParticipantSinging_clipped_cam3.avi']\n"
     ]
    },
    {
     "name": "stderr",
     "output_type": "stream",
     "text": [
      "Splitting the videos:  78%|███████▊  | 31/40 [06:28<01:58, 13.11s/file]"
     ]
    },
    {
     "name": "stdout",
     "output_type": "stream",
     "text": [
      "Participant: P2\n",
      "Condition: Vision_Movement\n",
      "Trial: trial_1\n",
      "saving Split Videos as: ['./video_split/P2\\\\Vision_Movement\\\\trial_1\\\\T1_experiment_Video_P2_Vision_Movement_1_StartParticipantSinging_Vision_Movement_1_EndParticipantSinging_clipped_cam1.avi', './video_split/P2\\\\Vision_Movement\\\\trial_1\\\\T1_experiment_Video_P2_Vision_Movement_1_StartParticipantSinging_Vision_Movement_1_EndParticipantSinging_clipped_cam2.avi', './video_split/P2\\\\Vision_Movement\\\\trial_1\\\\T1_experiment_Video_P2_Vision_Movement_1_StartParticipantSinging_Vision_Movement_1_EndParticipantSinging_clipped_cam3.avi']\n"
     ]
    },
    {
     "name": "stderr",
     "output_type": "stream",
     "text": [
      "Splitting the videos:  80%|████████  | 32/40 [06:42<01:45, 13.16s/file]"
     ]
    },
    {
     "name": "stdout",
     "output_type": "stream",
     "text": [
      "Participant: P2\n",
      "Condition: Vision_Movement\n",
      "Trial: trial_2\n",
      "saving Split Videos as: ['./video_split/P2\\\\Vision_Movement\\\\trial_2\\\\T1_experiment_Video_P2_Vision_Movement_2_StartParticipantSinging_Vision_Movement_2_EndParticipantSinging_clipped_cam1.avi', './video_split/P2\\\\Vision_Movement\\\\trial_2\\\\T1_experiment_Video_P2_Vision_Movement_2_StartParticipantSinging_Vision_Movement_2_EndParticipantSinging_clipped_cam2.avi', './video_split/P2\\\\Vision_Movement\\\\trial_2\\\\T1_experiment_Video_P2_Vision_Movement_2_StartParticipantSinging_Vision_Movement_2_EndParticipantSinging_clipped_cam3.avi']\n"
     ]
    },
    {
     "name": "stderr",
     "output_type": "stream",
     "text": [
      "Splitting the videos:  82%|████████▎ | 33/40 [06:55<01:32, 13.17s/file]"
     ]
    },
    {
     "name": "stdout",
     "output_type": "stream",
     "text": [
      "Participant: P2\n",
      "Condition: Vision_Movement\n",
      "Trial: trial_3\n",
      "saving Split Videos as: ['./video_split/P2\\\\Vision_Movement\\\\trial_3\\\\T1_experiment_Video_P2_Vision_Movement_3_StartParticipantSinging_Vision_Movement_3_EndParticipantSinging_clipped_cam1.avi', './video_split/P2\\\\Vision_Movement\\\\trial_3\\\\T1_experiment_Video_P2_Vision_Movement_3_StartParticipantSinging_Vision_Movement_3_EndParticipantSinging_clipped_cam2.avi', './video_split/P2\\\\Vision_Movement\\\\trial_3\\\\T1_experiment_Video_P2_Vision_Movement_3_StartParticipantSinging_Vision_Movement_3_EndParticipantSinging_clipped_cam3.avi']\n"
     ]
    },
    {
     "name": "stderr",
     "output_type": "stream",
     "text": [
      "Splitting the videos:  85%|████████▌ | 34/40 [07:08<01:19, 13.18s/file]"
     ]
    },
    {
     "name": "stdout",
     "output_type": "stream",
     "text": [
      "Participant: P2\n",
      "Condition: Vision_Movement\n",
      "Trial: trial_4\n",
      "saving Split Videos as: ['./video_split/P2\\\\Vision_Movement\\\\trial_4\\\\T1_experiment_Video_P2_Vision_Movement_4_StartParticipantSinging_Vision_Movement_4_EndParticipantSinging_clipped_cam1.avi', './video_split/P2\\\\Vision_Movement\\\\trial_4\\\\T1_experiment_Video_P2_Vision_Movement_4_StartParticipantSinging_Vision_Movement_4_EndParticipantSinging_clipped_cam2.avi', './video_split/P2\\\\Vision_Movement\\\\trial_4\\\\T1_experiment_Video_P2_Vision_Movement_4_StartParticipantSinging_Vision_Movement_4_EndParticipantSinging_clipped_cam3.avi']\n"
     ]
    },
    {
     "name": "stderr",
     "output_type": "stream",
     "text": [
      "Splitting the videos:  88%|████████▊ | 35/40 [07:21<01:05, 13.16s/file]"
     ]
    },
    {
     "name": "stdout",
     "output_type": "stream",
     "text": [
      "Participant: P2\n",
      "Condition: Vision_NoMovement\n",
      "Trial: trial_0\n",
      "saving Split Videos as: ['./video_split/P2\\\\Vision_NoMovement\\\\trial_0\\\\T1_experiment_Video_P2_Vision_NoMovement_0_StartParticipantSinging_Vision_NoMovement_0_EndParticipantSinging_clipped_cam1.avi', './video_split/P2\\\\Vision_NoMovement\\\\trial_0\\\\T1_experiment_Video_P2_Vision_NoMovement_0_StartParticipantSinging_Vision_NoMovement_0_EndParticipantSinging_clipped_cam2.avi', './video_split/P2\\\\Vision_NoMovement\\\\trial_0\\\\T1_experiment_Video_P2_Vision_NoMovement_0_StartParticipantSinging_Vision_NoMovement_0_EndParticipantSinging_clipped_cam3.avi']\n"
     ]
    },
    {
     "name": "stderr",
     "output_type": "stream",
     "text": [
      "Splitting the videos:  90%|█████████ | 36/40 [07:34<00:52, 13.15s/file]"
     ]
    },
    {
     "name": "stdout",
     "output_type": "stream",
     "text": [
      "Participant: P2\n",
      "Condition: Vision_NoMovement\n",
      "Trial: trial_1\n",
      "saving Split Videos as: ['./video_split/P2\\\\Vision_NoMovement\\\\trial_1\\\\T1_experiment_Video_P2_Vision_NoMovement_1_StartParticipantSinging_Vision_NoMovement_1_EndParticipantSinging_clipped_cam1.avi', './video_split/P2\\\\Vision_NoMovement\\\\trial_1\\\\T1_experiment_Video_P2_Vision_NoMovement_1_StartParticipantSinging_Vision_NoMovement_1_EndParticipantSinging_clipped_cam2.avi', './video_split/P2\\\\Vision_NoMovement\\\\trial_1\\\\T1_experiment_Video_P2_Vision_NoMovement_1_StartParticipantSinging_Vision_NoMovement_1_EndParticipantSinging_clipped_cam3.avi']\n"
     ]
    },
    {
     "name": "stderr",
     "output_type": "stream",
     "text": [
      "Splitting the videos:  92%|█████████▎| 37/40 [07:48<00:39, 13.14s/file]"
     ]
    },
    {
     "name": "stdout",
     "output_type": "stream",
     "text": [
      "Participant: P2\n",
      "Condition: Vision_NoMovement\n",
      "Trial: trial_2\n",
      "saving Split Videos as: ['./video_split/P2\\\\Vision_NoMovement\\\\trial_2\\\\T1_experiment_Video_P2_Vision_NoMovement_2_StartParticipantSinging_Vision_NoMovement_2_EndParticipantSinging_clipped_cam1.avi', './video_split/P2\\\\Vision_NoMovement\\\\trial_2\\\\T1_experiment_Video_P2_Vision_NoMovement_2_StartParticipantSinging_Vision_NoMovement_2_EndParticipantSinging_clipped_cam2.avi', './video_split/P2\\\\Vision_NoMovement\\\\trial_2\\\\T1_experiment_Video_P2_Vision_NoMovement_2_StartParticipantSinging_Vision_NoMovement_2_EndParticipantSinging_clipped_cam3.avi']\n"
     ]
    },
    {
     "name": "stderr",
     "output_type": "stream",
     "text": [
      "Splitting the videos:  95%|█████████▌| 38/40 [08:01<00:26, 13.11s/file]"
     ]
    },
    {
     "name": "stdout",
     "output_type": "stream",
     "text": [
      "Participant: P2\n",
      "Condition: Vision_NoMovement\n",
      "Trial: trial_3\n",
      "saving Split Videos as: ['./video_split/P2\\\\Vision_NoMovement\\\\trial_3\\\\T1_experiment_Video_P2_Vision_NoMovement_3_StartParticipantSinging_Vision_NoMovement_3_EndParticipantSinging_clipped_cam1.avi', './video_split/P2\\\\Vision_NoMovement\\\\trial_3\\\\T1_experiment_Video_P2_Vision_NoMovement_3_StartParticipantSinging_Vision_NoMovement_3_EndParticipantSinging_clipped_cam2.avi', './video_split/P2\\\\Vision_NoMovement\\\\trial_3\\\\T1_experiment_Video_P2_Vision_NoMovement_3_StartParticipantSinging_Vision_NoMovement_3_EndParticipantSinging_clipped_cam3.avi']\n"
     ]
    },
    {
     "name": "stderr",
     "output_type": "stream",
     "text": [
      "Splitting the videos:  98%|█████████▊| 39/40 [08:14<00:13, 13.11s/file]"
     ]
    },
    {
     "name": "stdout",
     "output_type": "stream",
     "text": [
      "Participant: P2\n",
      "Condition: Vision_NoMovement\n",
      "Trial: trial_4\n",
      "saving Split Videos as: ['./video_split/P2\\\\Vision_NoMovement\\\\trial_4\\\\T1_experiment_Video_P2_Vision_NoMovement_4_StartParticipantSinging_Vision_NoMovement_4_EndParticipantSinging_clipped_cam1.avi', './video_split/P2\\\\Vision_NoMovement\\\\trial_4\\\\T1_experiment_Video_P2_Vision_NoMovement_4_StartParticipantSinging_Vision_NoMovement_4_EndParticipantSinging_clipped_cam2.avi', './video_split/P2\\\\Vision_NoMovement\\\\trial_4\\\\T1_experiment_Video_P2_Vision_NoMovement_4_StartParticipantSinging_Vision_NoMovement_4_EndParticipantSinging_clipped_cam3.avi']\n"
     ]
    },
    {
     "name": "stderr",
     "output_type": "stream",
     "text": [
      "Splitting the videos: 100%|██████████| 40/40 [08:27<00:00, 12.68s/file]"
     ]
    },
    {
     "name": "stdout",
     "output_type": "stream",
     "text": [
      "Done, you can now look into the folder: ./video_split/\n"
     ]
    },
    {
     "name": "stderr",
     "output_type": "stream",
     "text": [
      "\n"
     ]
    }
   ],
   "source": [
    "### FOR SPEECH VIDEOS\n",
    "\n",
    "# loop over files in folder and split them\n",
    "for file in tqdm(video_files, desc=\"Splitting the videos: \", unit=\"file\"):\n",
    "\n",
    "    # Get the name of the file without the extension\n",
    "    filename = os.path.splitext(os.path.basename(file))[0]\n",
    "    \n",
    "    subfolder_path = os.path.join(output_folder, filename)\n",
    "    \n",
    "    # Check if the subfolder exists, if not create it\n",
    "    if not os.path.exists(subfolder_path):\n",
    "        os.makedirs(subfolder_path)\n",
    "\n",
    "    # create output file names for each camera, and save the three videos into ouput_folder with their correspodning camera angle \n",
    "    output_files = [\n",
    "        os.path.join(subfolder_path, f'{filename}_cam1{output_video_extension}'),\n",
    "        os.path.join(subfolder_path, f'{filename}_cam2{output_video_extension}'),\n",
    "        os.path.join(subfolder_path, f'{filename}_cam3{output_video_extension}')\n",
    "    ]\n",
    "\n",
    "    print(\"saving Split Videos as: \" + str(output_files))\n",
    "\n",
    "\n",
    "    # Splitting the videos using the function split_camera view\n",
    "    split_camera_views(file, output_files)\n",
    "\n",
    "print('Done, you can now look into the folder: ' + output_folder)"
   ]
  },
  {
   "cell_type": "code",
   "execution_count": null,
   "id": "644b0325",
   "metadata": {},
   "outputs": [],
   "source": []
  },
  {
   "cell_type": "markdown",
   "id": "0a2246ca-63ee-4d3b-a563-1621425d09a8",
   "metadata": {},
   "source": [
    "## 4. MP4 Conversion (if necessary) \n",
    "Note that you can also use online tools to convert videos like https://cloudconvert.com/"
   ]
  },
  {
   "cell_type": "code",
   "execution_count": 7,
   "id": "04e65926-21b6-429b-b55e-5d01457b9f4d",
   "metadata": {},
   "outputs": [
    {
     "ename": "SyntaxError",
     "evalue": "unterminated string literal (detected at line 2) (1093415785.py, line 2)",
     "output_type": "error",
     "traceback": [
      "\u001b[1;36m  Cell \u001b[1;32mIn[7], line 2\u001b[1;36m\u001b[0m\n\u001b[1;33m    output_folder = r \"C:\\Users\\ahmar\\OneDrive\\Documents\\GitHub\\Mobile-Multimodal-Lab\\2_PREPROCESSING\\2_MOTION_TRACKING\\3_freemocap\\\"\u001b[0m\n\u001b[1;37m                      ^\u001b[0m\n\u001b[1;31mSyntaxError\u001b[0m\u001b[1;31m:\u001b[0m unterminated string literal (detected at line 2)\n"
     ]
    }
   ],
   "source": [
    "input_folder  = './videos_split/' \n",
    "output_folder = r \"C:\\Users\\ahmar\\OneDrive\\Documents\\GitHub\\Mobile-Multimodal-Lab\\2_PREPROCESSING\\2_MOTION_TRACKING\\3_freemocap\\\"\n",
    "\n",
    "#Should we add this step? \n",
    "# Yes, should write some easy code with moviepy that converts whatever format into MP4. "
   ]
  },
  {
   "cell_type": "code",
   "execution_count": null,
   "id": "1e577420-759d-41b7-bd33-afa76ac1d8fb",
   "metadata": {},
   "outputs": [],
   "source": []
  }
 ],
 "metadata": {
  "kernelspec": {
   "display_name": "Python 3 (ipykernel)",
   "language": "python",
   "name": "python3"
  },
  "language_info": {
   "codemirror_mode": {
    "name": "ipython",
    "version": 3
   },
   "file_extension": ".py",
   "mimetype": "text/x-python",
   "name": "python",
   "nbconvert_exporter": "python",
   "pygments_lexer": "ipython3",
   "version": "3.11.9"
  }
 },
 "nbformat": 4,
 "nbformat_minor": 5
}
