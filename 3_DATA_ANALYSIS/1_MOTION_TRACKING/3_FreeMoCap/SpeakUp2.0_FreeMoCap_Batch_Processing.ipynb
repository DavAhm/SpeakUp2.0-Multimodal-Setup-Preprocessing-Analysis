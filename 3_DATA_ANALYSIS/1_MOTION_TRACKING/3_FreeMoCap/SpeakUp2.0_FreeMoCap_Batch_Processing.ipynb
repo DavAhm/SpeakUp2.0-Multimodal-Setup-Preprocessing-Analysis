{
 "cells": [
  {
   "cell_type": "markdown",
   "metadata": {},
   "source": [
    "# SpeakUp2.0: Batch Processing for FreeMoCap "
   ]
  },
  {
   "cell_type": "markdown",
   "metadata": {},
   "source": [
    "### 0. Import Necessary Packages "
   ]
  },
  {
   "cell_type": "code",
   "execution_count": 8,
   "metadata": {},
   "outputs": [],
   "source": [
    "# Cell 1: Importing necessary packages\n",
    "import logging\n",
    "import shutil\n",
    "from pathlib import Path\n",
    "from typing import Optional, Union\n",
    "from freemocap.core_processes.export_data.blender_stuff.export_to_blender.export_to_blender import export_to_blender\n",
    "from freemocap.core_processes.process_motion_capture_videos.process_recording_folder import process_recording_folder\n",
    "from freemocap.data_layer.recording_models.post_processing_parameter_models import ProcessingParameterModel\n",
    "from freemocap.data_layer.recording_models.recording_info_model import RecordingInfoModel\n",
    "from freemocap.system.paths_and_filenames.file_and_folder_names import RECORDING_PARAMETERS_JSON_FILE_NAME\n",
    "from freemocap.system.paths_and_filenames.path_getters import get_blender_file_path\n",
    "from freemocap.utilities.save_dictionary_to_json import save_dictionary_to_json\n",
    "\n",
    "logging.basicConfig(level=logging.INFO)"
   ]
  },
  {
   "cell_type": "markdown",
   "metadata": {},
   "source": [
    "### 1. Defyining Relevant Directories, Key Variables & Functions "
   ]
  },
  {
   "cell_type": "code",
   "execution_count": 10,
   "metadata": {},
   "outputs": [
    {
     "name": "stdout",
     "output_type": "stream",
     "text": [
      "input_calibration_files: Z:\\Davide_MultimodalLab\\3_DATA_ANALYSIS\\1_MOTION_TRACKING\\2_Video_Calibration\\calibration_results\n",
      "input_video_folders: Z:\\Davide_MultimodalLab\\3_DATA_ANALYSIS\\1_MOTION_TRACKING\\1_Video_Segmentation\\video_split\n",
      "blender_executable_path: C:\\Programs\\blender\\blender.exe\n"
     ]
    }
   ],
   "source": [
    "# Paths for calibration and video files\n",
    "input_calibration_files = Path(r'Z:/Davide_MultimodalLab/3_DATA_ANALYSIS/1_MOTION_TRACKING/2_Video_Calibration/calibration_results')\n",
    "input_video_folders= Path(r'Z:\\Davide_MultimodalLab\\3_DATA_ANALYSIS\\1_MOTION_TRACKING\\1_Video_Segmentation\\video_split')\n",
    "blender_executable_path = Path('C:/Programs/blender/blender.exe')\n",
    "\n",
    "print('input_calibration_files:', input_calibration_files)  \n",
    "print('input_video_folders:', input_video_folders)  \n",
    "print('blender_executable_path:', blender_executable_path)  \n",
    "\n",
    "\n",
    "# Cell 2: Defining directories, key variables, and functions\n",
    "def process_recording(\n",
    "        calibration_file: Path,\n",
    "        video_folder: Path,\n",
    "        blender_executable: Optional[Path] = None\n",
    "):\n",
    "    \"\"\"\n",
    "    Process a recording folder with the given calibration file and videos.\n",
    "    \"\"\"\n",
    "    # Ensure synchronized_videos folder exists in the output directory\n",
    "    synchronized_videos_path = video_folder / \"synchronized_videos\"\n",
    "    if not synchronized_videos_path.exists():\n",
    "        synchronized_videos_path.mkdir(parents=True, exist_ok=True)\n",
    "\n",
    "    rec = ProcessingParameterModel()\n",
    "    rec.recording_info_model = RecordingInfoModel(recording_folder_path=video_folder)\n",
    "    rec.recording_info_model.calibration_toml_path = calibration_file\n",
    "\n",
    "    recording_info_dict = rec.dict(exclude={\"recording_info_model\"})\n",
    "    Path(rec.recording_info_model.output_data_folder_path).mkdir(parents=True, exist_ok=True)\n",
    "    save_dictionary_to_json(\n",
    "        save_path=rec.recording_info_model.output_data_folder_path,\n",
    "        file_name=RECORDING_PARAMETERS_JSON_FILE_NAME,\n",
    "        dictionary=recording_info_dict,\n",
    "    )\n",
    "\n",
    "    process_recording_folder(recording_processing_parameter_model=rec)\n",
    "\n",
    "    if blender_executable:\n",
    "        blender_file_path = get_blender_file_path(recording_folder_path=video_folder)\n",
    "        logging.info(f\"Exporting to Blender: {blender_file_path}\")\n",
    "        export_to_blender(\n",
    "            recording_folder_path=rec.recording_info_model.output_data_folder_path,\n",
    "            blender_file_path=blender_file_path,\n",
    "            blender_exe_path=blender_executable,\n",
    "        )\n",
    "    else:\n",
    "        logging.warning(\"No blender executable provided. Blender file will not be exported.\")\n",
    "\n",
    "        \n",
    "        \n",
    "        \n"
   ]
  },
  {
   "cell_type": "markdown",
   "metadata": {},
   "source": [
    "## 2. Loop Over Input Calibration files and Video folders to load into FreeMoCap"
   ]
  },
  {
   "cell_type": "code",
   "execution_count": 11,
   "metadata": {},
   "outputs": [
    {
     "name": "stdout",
     "output_type": "stream",
     "text": [
      "current pilot_id:  pilot_01_d2\n",
      "\u001b[96m[2024-10-06T14:14:10.726030] [Δt:89369.724379s] [    INFO] [root] [2323846283:<module>():7] [\u001b[38;2;50;255;72mPID:36168:MainProcess\u001b[0m \u001b[38;2;50;255;68mTID:33348:MainThread\u001b[0m ] Processing calibration file: Z:\\Davide_MultimodalLab\\3_DATA_ANALYSIS\\1_MOTION_TRACKING\\2_Video_Calibration\\calibration_results\\pilot_01_d2_calibration_charuco_calibration_anipose.toml\u001b[0m\n",
      "2024-10-06 14:14:10,726 - root - INFO - Processing calibration file: Z:\\Davide_MultimodalLab\\3_DATA_ANALYSIS\\1_MOTION_TRACKING\\2_Video_Calibration\\calibration_results\\pilot_01_d2_calibration_charuco_calibration_anipose.toml\n",
      "current calibrtion file:  Z:\\Davide_MultimodalLab\\3_DATA_ANALYSIS\\1_MOTION_TRACKING\\2_Video_Calibration\\calibration_results\\pilot_01_d2_calibration_charuco_calibration_anipose.toml\n",
      "We found these matching folder:  []\n",
      "current pilot_id:  pilot_01_d3\n",
      "\u001b[96m[2024-10-06T14:14:10.935834] [Δt:0.209805s] [    INFO] [root] [2323846283:<module>():7] [\u001b[38;2;50;255;72mPID:36168:MainProcess\u001b[0m \u001b[38;2;50;255;68mTID:33348:MainThread\u001b[0m ] Processing calibration file: Z:\\Davide_MultimodalLab\\3_DATA_ANALYSIS\\1_MOTION_TRACKING\\2_Video_Calibration\\calibration_results\\pilot_01_d3_calibration_charuco_calibration_anipose.toml\u001b[0m\n",
      "2024-10-06 14:14:10,935 - root - INFO - Processing calibration file: Z:\\Davide_MultimodalLab\\3_DATA_ANALYSIS\\1_MOTION_TRACKING\\2_Video_Calibration\\calibration_results\\pilot_01_d3_calibration_charuco_calibration_anipose.toml\n",
      "current calibrtion file:  Z:\\Davide_MultimodalLab\\3_DATA_ANALYSIS\\1_MOTION_TRACKING\\2_Video_Calibration\\calibration_results\\pilot_01_d3_calibration_charuco_calibration_anipose.toml\n",
      "We found these matching folder:  []\n",
      "current pilot_id:  pilot_02_d2\n",
      "\u001b[96m[2024-10-06T14:14:10.938798] [Δt:0.002964s] [    INFO] [root] [2323846283:<module>():7] [\u001b[38;2;50;255;72mPID:36168:MainProcess\u001b[0m \u001b[38;2;50;255;68mTID:33348:MainThread\u001b[0m ] Processing calibration file: Z:\\Davide_MultimodalLab\\3_DATA_ANALYSIS\\1_MOTION_TRACKING\\2_Video_Calibration\\calibration_results\\pilot_02_d2_calibration_charuco_calibration_anipose.toml\u001b[0m\n",
      "2024-10-06 14:14:10,938 - root - INFO - Processing calibration file: Z:\\Davide_MultimodalLab\\3_DATA_ANALYSIS\\1_MOTION_TRACKING\\2_Video_Calibration\\calibration_results\\pilot_02_d2_calibration_charuco_calibration_anipose.toml\n",
      "current calibrtion file:  Z:\\Davide_MultimodalLab\\3_DATA_ANALYSIS\\1_MOTION_TRACKING\\2_Video_Calibration\\calibration_results\\pilot_02_d2_calibration_charuco_calibration_anipose.toml\n",
      "We found these matching folder:  []\n",
      "current pilot_id:  pilot_02_d3\n",
      "\u001b[96m[2024-10-06T14:14:10.941789] [Δt:0.002991s] [    INFO] [root] [2323846283:<module>():7] [\u001b[38;2;50;255;72mPID:36168:MainProcess\u001b[0m \u001b[38;2;50;255;68mTID:33348:MainThread\u001b[0m ] Processing calibration file: Z:\\Davide_MultimodalLab\\3_DATA_ANALYSIS\\1_MOTION_TRACKING\\2_Video_Calibration\\calibration_results\\pilot_02_d3_calibration_charuco_calibration_anipose.toml\u001b[0m\n",
      "2024-10-06 14:14:10,941 - root - INFO - Processing calibration file: Z:\\Davide_MultimodalLab\\3_DATA_ANALYSIS\\1_MOTION_TRACKING\\2_Video_Calibration\\calibration_results\\pilot_02_d3_calibration_charuco_calibration_anipose.toml\n",
      "current calibrtion file:  Z:\\Davide_MultimodalLab\\3_DATA_ANALYSIS\\1_MOTION_TRACKING\\2_Video_Calibration\\calibration_results\\pilot_02_d3_calibration_charuco_calibration_anipose.toml\n",
      "We found these matching folder:  []\n",
      "current pilot_id:  pilot_04_d2\n",
      "\u001b[96m[2024-10-06T14:14:10.943469] [Δt:0.001679s] [    INFO] [root] [2323846283:<module>():7] [\u001b[38;2;50;255;72mPID:36168:MainProcess\u001b[0m \u001b[38;2;50;255;68mTID:33348:MainThread\u001b[0m ] Processing calibration file: Z:\\Davide_MultimodalLab\\3_DATA_ANALYSIS\\1_MOTION_TRACKING\\2_Video_Calibration\\calibration_results\\pilot_04_d2_calibration_charuco_calibration_anipose.toml\u001b[0m\n",
      "2024-10-06 14:14:10,943 - root - INFO - Processing calibration file: Z:\\Davide_MultimodalLab\\3_DATA_ANALYSIS\\1_MOTION_TRACKING\\2_Video_Calibration\\calibration_results\\pilot_04_d2_calibration_charuco_calibration_anipose.toml\n",
      "current calibrtion file:  Z:\\Davide_MultimodalLab\\3_DATA_ANALYSIS\\1_MOTION_TRACKING\\2_Video_Calibration\\calibration_results\\pilot_04_d2_calibration_charuco_calibration_anipose.toml\n",
      "We found these matching folder:  [WindowsPath('Z:/Davide_MultimodalLab/3_DATA_ANALYSIS/1_MOTION_TRACKING/1_Video_Segmentation/video_split/pilot_04_d2_Speech_Start_SUD_1_Start'), WindowsPath('Z:/Davide_MultimodalLab/3_DATA_ANALYSIS/1_MOTION_TRACKING/1_Video_Segmentation/video_split/pilot_04_d2_SUD_1_End_SUD_2_Start'), WindowsPath('Z:/Davide_MultimodalLab/3_DATA_ANALYSIS/1_MOTION_TRACKING/1_Video_Segmentation/video_split/pilot_04_d2_SUD_2_End_SUD_3_Start')]\n",
      "\u001b[96m[2024-10-06T14:14:10.945868] [Δt:0.002400s] [    INFO] [root] [2323846283:<module>():20] [\u001b[38;2;50;255;72mPID:36168:MainProcess\u001b[0m \u001b[38;2;50;255;68mTID:33348:MainThread\u001b[0m ] Processing video folder: Z:\\Davide_MultimodalLab\\3_DATA_ANALYSIS\\1_MOTION_TRACKING\\1_Video_Segmentation\\video_split\\pilot_04_d2_Speech_Start_SUD_1_Start\u001b[0m\n",
      "2024-10-06 14:14:10,945 - root - INFO - Processing video folder: Z:\\Davide_MultimodalLab\\3_DATA_ANALYSIS\\1_MOTION_TRACKING\\1_Video_Segmentation\\video_split\\pilot_04_d2_Speech_Start_SUD_1_Start\n",
      "\u001b[96m[2024-10-06T14:14:11.047457] [Δt:0.102630s] [    INFO] [freemocap.utilities.save_dictionary_to_json] [save_dictionary_to_json:save_dictionary_to_json():16] [\u001b[38;2;50;255;72mPID:36168:MainProcess\u001b[0m \u001b[38;2;50;255;68mTID:33348:MainThread\u001b[0m ] Saved dictionary recording_parameters.json as json  at: Z:\\Davide_MultimodalLab\\3_DATA_ANALYSIS\\1_MOTION_TRACKING\\1_Video_Segmentation\\video_split\\pilot_04_d2_Speech_Start_SUD_1_Start\\output_data\\recording_parameters.json\u001b[0m\n",
      "2024-10-06 14:14:11,047 - freemocap.utilities.save_dictionary_to_json - INFO - Saved dictionary recording_parameters.json as json  at: Z:\\Davide_MultimodalLab\\3_DATA_ANALYSIS\\1_MOTION_TRACKING\\1_Video_Segmentation\\video_split\\pilot_04_d2_Speech_Start_SUD_1_Start\\output_data\\recording_parameters.json\n",
      "\u001b[96m[2024-10-06T14:14:11.619616] [Δt:0.571118s] [    INFO] [freemocap.data_layer.recording_models.recording_info_model] [recording_info_model:get_number_of_mp4s_in_synched_videos_directory():239] [\u001b[38;2;50;255;72mPID:36168:MainProcess\u001b[0m \u001b[38;2;50;255;68mTID:33348:MainThread\u001b[0m ] Number of `.mp4`'s in Z:\\Davide_MultimodalLab\\3_DATA_ANALYSIS\\1_MOTION_TRACKING\\1_Video_Segmentation\\video_split\\pilot_04_d2_Speech_Start_SUD_1_Start\\synchronized_videos: 3\u001b[0m\n",
      "2024-10-06 14:14:11,619 - freemocap.data_layer.recording_models.recording_info_model - INFO - Number of `.mp4`'s in Z:\\Davide_MultimodalLab\\3_DATA_ANALYSIS\\1_MOTION_TRACKING\\1_Video_Segmentation\\video_split\\pilot_04_d2_Speech_Start_SUD_1_Start\\synchronized_videos: 3\n",
      "\u001b[34m[2024-10-06T14:14:11.619616] [Δt:0.000000s] [   DEBUG] [freemocap.data_layer.recording_models.recording_info_model] [recording_info_model:get_number_of_frames_in_videos():253] [\u001b[38;2;50;255;72mPID:36168:MainProcess\u001b[0m \u001b[38;2;50;255;68mTID:33348:MainThread\u001b[0m ] No 'timestamps' directory, finding frame counts from synchronized videos\u001b[0m\n",
      "\u001b[96m[2024-10-06T14:14:11.820849] [Δt:0.201233s] [    INFO] [freemocap.core_processes.process_motion_capture_videos.processing_pipeline_functions.image_tracking_pipeline_functions] [image_tracking_pipeline_functions:run_image_tracking_pipeline():44] [\u001b[38;2;50;255;72mPID:36168:MainProcess\u001b[0m \u001b[38;2;50;255;68mTID:33348:MainThread\u001b[0m ] Detecting 2d skeletons...\u001b[0m\n",
      "2024-10-06 14:14:11,820 - freemocap.core_processes.process_motion_capture_videos.processing_pipeline_functions.image_tracking_pipeline_functions - INFO - Detecting 2d skeletons...\n",
      "\u001b[96m[2024-10-06T14:14:11.820849] [Δt:0.000000s] [    INFO] [freemocap.core_processes.process_motion_capture_videos.processing_pipeline_functions.image_tracking_pipeline_functions] [image_tracking_pipeline_functions:run_image_tracking_pipeline():45] [\u001b[38;2;50;255;72mPID:36168:MainProcess\u001b[0m \u001b[38;2;50;255;68mTID:33348:MainThread\u001b[0m ] Log Progress\u001b[0m\n",
      "2024-10-06 14:14:11,820 - freemocap.core_processes.process_motion_capture_videos.processing_pipeline_functions.image_tracking_pipeline_functions - INFO - Log Progress\n",
      "\u001b[96m[2024-10-06T14:14:11.984807] [Δt:0.163957s] [    INFO] [skellytracker.process_folder_of_videos] [process_folder_of_videos:process_single_video():131] [\u001b[38;2;50;255;72mPID:36168:MainProcess\u001b[0m \u001b[38;2;50;255;68mTID:33348:MainThread\u001b[0m ] Processing video: pilot_04_d2_Speech_Start_SUD_1_Start_cam1_mediapipe.mp4 with tracker: MediapipeHolisticTracker\u001b[0m\n",
      "2024-10-06 14:14:11,984 - skellytracker.process_folder_of_videos - INFO - Processing video: pilot_04_d2_Speech_Start_SUD_1_Start_cam1_mediapipe.mp4 with tracker: MediapipeHolisticTracker\n"
     ]
    },
    {
     "name": "stderr",
     "output_type": "stream",
     "text": [
      "processing video: pilot_04_d2_Speech_Start_SUD_1_Start_cam1.mp4: 100%|\u001b[35m██████████\u001b[0m| 7284/7284 [14:25<00:00,  8.42frames/s]"
     ]
    },
    {
     "name": "stdout",
     "output_type": "stream",
     "text": [
      "\u001b[96m[2024-10-06T14:28:37.177918] [Δt:865.193112s] [    INFO] [skellytracker.trackers.base_tracker.video_handler] [video_handler:close():45] [\u001b[38;2;50;255;72mPID:36168:MainProcess\u001b[0m \u001b[38;2;50;255;68mTID:33348:MainThread\u001b[0m ] video saved to Z:\\Davide_MultimodalLab\\3_DATA_ANALYSIS\\1_MOTION_TRACKING\\1_Video_Segmentation\\video_split\\pilot_04_d2_Speech_Start_SUD_1_Start\\annotated_videos\\pilot_04_d2_Speech_Start_SUD_1_Start_cam1_mediapipe.mp4\u001b[0m\n",
      "2024-10-06 14:28:37,177 - skellytracker.trackers.base_tracker.video_handler - INFO - video saved to Z:\\Davide_MultimodalLab\\3_DATA_ANALYSIS\\1_MOTION_TRACKING\\1_Video_Segmentation\\video_split\\pilot_04_d2_Speech_Start_SUD_1_Start\\annotated_videos\\pilot_04_d2_Speech_Start_SUD_1_Start_cam1_mediapipe.mp4\n"
     ]
    },
    {
     "name": "stderr",
     "output_type": "stream",
     "text": [
      "\n"
     ]
    },
    {
     "name": "stdout",
     "output_type": "stream",
     "text": [
      "\u001b[96m[2024-10-06T14:28:41.512862] [Δt:4.334944s] [    INFO] [skellytracker.process_folder_of_videos] [process_folder_of_videos:process_single_video():131] [\u001b[38;2;50;255;72mPID:36168:MainProcess\u001b[0m \u001b[38;2;50;255;68mTID:33348:MainThread\u001b[0m ] Processing video: pilot_04_d2_Speech_Start_SUD_1_Start_cam2_mediapipe.mp4 with tracker: MediapipeHolisticTracker\u001b[0m\n",
      "2024-10-06 14:28:41,512 - skellytracker.process_folder_of_videos - INFO - Processing video: pilot_04_d2_Speech_Start_SUD_1_Start_cam2_mediapipe.mp4 with tracker: MediapipeHolisticTracker\n"
     ]
    },
    {
     "name": "stderr",
     "output_type": "stream",
     "text": [
      "processing video: pilot_04_d2_Speech_Start_SUD_1_Start_cam2.mp4: 100%|\u001b[35m██████████\u001b[0m| 7284/7284 [13:49<00:00,  8.78frames/s]"
     ]
    },
    {
     "name": "stdout",
     "output_type": "stream",
     "text": [
      "\u001b[96m[2024-10-06T14:42:31.068067] [Δt:829.555204s] [    INFO] [skellytracker.trackers.base_tracker.video_handler] [video_handler:close():45] [\u001b[38;2;50;255;72mPID:36168:MainProcess\u001b[0m \u001b[38;2;50;255;68mTID:33348:MainThread\u001b[0m ] video saved to Z:\\Davide_MultimodalLab\\3_DATA_ANALYSIS\\1_MOTION_TRACKING\\1_Video_Segmentation\\video_split\\pilot_04_d2_Speech_Start_SUD_1_Start\\annotated_videos\\pilot_04_d2_Speech_Start_SUD_1_Start_cam2_mediapipe.mp4\u001b[0m\n",
      "2024-10-06 14:42:31,068 - skellytracker.trackers.base_tracker.video_handler - INFO - video saved to Z:\\Davide_MultimodalLab\\3_DATA_ANALYSIS\\1_MOTION_TRACKING\\1_Video_Segmentation\\video_split\\pilot_04_d2_Speech_Start_SUD_1_Start\\annotated_videos\\pilot_04_d2_Speech_Start_SUD_1_Start_cam2_mediapipe.mp4\n"
     ]
    },
    {
     "name": "stderr",
     "output_type": "stream",
     "text": [
      "\n"
     ]
    },
    {
     "name": "stdout",
     "output_type": "stream",
     "text": [
      "\u001b[96m[2024-10-06T14:42:35.301170] [Δt:4.233104s] [    INFO] [skellytracker.process_folder_of_videos] [process_folder_of_videos:process_single_video():131] [\u001b[38;2;50;255;72mPID:36168:MainProcess\u001b[0m \u001b[38;2;50;255;68mTID:33348:MainThread\u001b[0m ] Processing video: pilot_04_d2_Speech_Start_SUD_1_Start_cam3_mediapipe.mp4 with tracker: MediapipeHolisticTracker\u001b[0m\n",
      "2024-10-06 14:42:35,301 - skellytracker.process_folder_of_videos - INFO - Processing video: pilot_04_d2_Speech_Start_SUD_1_Start_cam3_mediapipe.mp4 with tracker: MediapipeHolisticTracker\n"
     ]
    },
    {
     "name": "stderr",
     "output_type": "stream",
     "text": [
      "processing video: pilot_04_d2_Speech_Start_SUD_1_Start_cam3.mp4: 100%|\u001b[35m██████████\u001b[0m| 7284/7284 [14:17<00:00,  8.49frames/s]"
     ]
    },
    {
     "name": "stdout",
     "output_type": "stream",
     "text": [
      "\u001b[96m[2024-10-06T14:56:53.694802] [Δt:858.393631s] [    INFO] [skellytracker.trackers.base_tracker.video_handler] [video_handler:close():45] [\u001b[38;2;50;255;72mPID:36168:MainProcess\u001b[0m \u001b[38;2;50;255;68mTID:33348:MainThread\u001b[0m ] video saved to Z:\\Davide_MultimodalLab\\3_DATA_ANALYSIS\\1_MOTION_TRACKING\\1_Video_Segmentation\\video_split\\pilot_04_d2_Speech_Start_SUD_1_Start\\annotated_videos\\pilot_04_d2_Speech_Start_SUD_1_Start_cam3_mediapipe.mp4\u001b[0m\n",
      "2024-10-06 14:56:53,694 - skellytracker.trackers.base_tracker.video_handler - INFO - video saved to Z:\\Davide_MultimodalLab\\3_DATA_ANALYSIS\\1_MOTION_TRACKING\\1_Video_Segmentation\\video_split\\pilot_04_d2_Speech_Start_SUD_1_Start\\annotated_videos\\pilot_04_d2_Speech_Start_SUD_1_Start_cam3_mediapipe.mp4\n"
     ]
    },
    {
     "name": "stderr",
     "output_type": "stream",
     "text": [
      "\n"
     ]
    },
    {
     "name": "stdout",
     "output_type": "stream",
     "text": [
      "\u001b[96m[2024-10-06T14:56:57.989531] [Δt:4.294729s] [    INFO] [skellytracker.process_folder_of_videos] [process_folder_of_videos:process_folder_of_videos():105] [\u001b[38;2;50;255;72mPID:36168:MainProcess\u001b[0m \u001b[38;2;50;255;68mTID:33348:MainThread\u001b[0m ] Shape of output array: (3, 7284, 553, 3)\u001b[0m\n",
      "2024-10-06 14:56:57,989 - skellytracker.process_folder_of_videos - INFO - Shape of output array: (3, 7284, 553, 3)\n",
      "\u001b[96m[2024-10-06T14:57:20.736034] [Δt:22.746504s] [    INFO] [freemocap.core_processes.process_motion_capture_videos.processing_pipeline_functions.triangulation_pipeline_functions] [triangulation_pipeline_functions:get_triangulated_data():63] [\u001b[38;2;50;255;72mPID:36168:MainProcess\u001b[0m \u001b[38;2;50;255;68mTID:33348:MainThread\u001b[0m ] Triangulating 3d skeletons...\u001b[0m\n",
      "2024-10-06 14:57:20,736 - freemocap.core_processes.process_motion_capture_videos.processing_pipeline_functions.triangulation_pipeline_functions - INFO - Triangulating 3d skeletons...\n",
      "\u001b[96m[2024-10-06T14:57:20.736034] [Δt:0.000000s] [    INFO] [freemocap.core_processes.process_motion_capture_videos.processing_pipeline_functions.triangulation_pipeline_functions] [triangulation_pipeline_functions:get_triangulated_data():64] [\u001b[38;2;50;255;72mPID:36168:MainProcess\u001b[0m \u001b[38;2;50;255;68mTID:33348:MainThread\u001b[0m ] Log Progress\u001b[0m\n",
      "2024-10-06 14:57:20,736 - freemocap.core_processes.process_motion_capture_videos.processing_pipeline_functions.triangulation_pipeline_functions - INFO - Log Progress\n",
      "\u001b[96m[2024-10-06T14:57:21.239028] [Δt:0.502994s] [    INFO] [freemocap.core_processes.capture_volume_calibration.anipose_camera_calibration.get_anipose_calibration_object] [get_anipose_calibration_object:load_anipose_calibration_toml_from_path():38] [\u001b[38;2;50;255;72mPID:36168:MainProcess\u001b[0m \u001b[38;2;50;255;68mTID:33348:MainThread\u001b[0m ] loading camera calibration file from:Z:\\Davide_MultimodalLab\\3_DATA_ANALYSIS\\1_MOTION_TRACKING\\2_Video_Calibration\\calibration_results\\pilot_04_d2_calibration_charuco_calibration_anipose.toml\u001b[0m\n",
      "2024-10-06 14:57:21,239 - freemocap.core_processes.capture_volume_calibration.anipose_camera_calibration.get_anipose_calibration_object - INFO - loading camera calibration file from:Z:\\Davide_MultimodalLab\\3_DATA_ANALYSIS\\1_MOTION_TRACKING\\2_Video_Calibration\\calibration_results\\pilot_04_d2_calibration_charuco_calibration_anipose.toml\n",
      "\u001b[96m[2024-10-06T14:57:21.297391] [Δt:0.058362s] [    INFO] [freemocap.core_processes.capture_volume_calibration.triangulate_3d_data] [triangulate_3d_data:triangulate_3d_data():35] [\u001b[38;2;50;255;72mPID:36168:MainProcess\u001b[0m \u001b[38;2;50;255;68mTID:33348:MainThread\u001b[0m ] Reconstructing 3d points from 2d points with shape: \n",
      "number_of_cameras: 3,\n",
      "number_of_frames: 7284, \n",
      "number_of_tracked_points: 553,\n",
      "number_of_spatial_dimensions: 2\u001b[0m\n",
      "2024-10-06 14:57:21,297 - freemocap.core_processes.capture_volume_calibration.triangulate_3d_data - INFO - Reconstructing 3d points from 2d points with shape: \n",
      "number_of_cameras: 3,\n",
      "number_of_frames: 7284, \n",
      "number_of_tracked_points: 553,\n",
      "number_of_spatial_dimensions: 2\n",
      "\u001b[96m[2024-10-06T14:57:21.298335] [Δt:0.000944s] [    INFO] [freemocap.core_processes.capture_volume_calibration.triangulate_3d_data] [triangulate_3d_data:triangulate_3d_data():47] [\u001b[38;2;50;255;72mPID:36168:MainProcess\u001b[0m \u001b[38;2;50;255;68mTID:33348:MainThread\u001b[0m ] Using simple `triangulate` method \u001b[0m\n",
      "2024-10-06 14:57:21,298 - freemocap.core_processes.capture_volume_calibration.triangulate_3d_data - INFO - Using simple `triangulate` method \n"
     ]
    },
    {
     "name": "stderr",
     "output_type": "stream",
     "text": [
      "100%|█████████████████████| 4028052/4028052 [09:02<00:00, 7420.52it/s]\n"
     ]
    },
    {
     "name": "stdout",
     "output_type": "stream",
     "text": [
      "\u001b[96m[2024-10-06T15:06:37.953173] [Δt:556.654839s] [    INFO] [freemocap.core_processes.capture_volume_calibration.save_mediapipe_3d_data_to_npy] [save_mediapipe_3d_data_to_npy:save_mediapipe_3d_data_to_npy():50] [\u001b[38;2;50;255;72mPID:36168:MainProcess\u001b[0m \u001b[38;2;50;255;68mTID:33348:MainThread\u001b[0m ] saving: Z:\\Davide_MultimodalLab\\3_DATA_ANALYSIS\\1_MOTION_TRACKING\\1_Video_Segmentation\\video_split\\pilot_04_d2_Speech_Start_SUD_1_Start\\output_data\\raw_data\\mediapipe3dData_numFrames_numTrackedPoints_spatialXYZ.npy\u001b[0m\n",
      "2024-10-06 15:06:37,953 - freemocap.core_processes.capture_volume_calibration.save_mediapipe_3d_data_to_npy - INFO - saving: Z:\\Davide_MultimodalLab\\3_DATA_ANALYSIS\\1_MOTION_TRACKING\\1_Video_Segmentation\\video_split\\pilot_04_d2_Speech_Start_SUD_1_Start\\output_data\\raw_data\\mediapipe3dData_numFrames_numTrackedPoints_spatialXYZ.npy\n",
      "\u001b[96m[2024-10-06T15:06:38.957800] [Δt:1.082359s] [    INFO] [freemocap.core_processes.capture_volume_calibration.save_mediapipe_3d_data_to_npy] [save_mediapipe_3d_data_to_npy:save_mediapipe_3d_data_to_npy():55] [\u001b[38;2;50;255;72mPID:36168:MainProcess\u001b[0m \u001b[38;2;50;255;68mTID:33348:MainThread\u001b[0m ] saving: Z:\\Davide_MultimodalLab\\3_DATA_ANALYSIS\\1_MOTION_TRACKING\\1_Video_Segmentation\\video_split\\pilot_04_d2_Speech_Start_SUD_1_Start\\output_data\\raw_data\\mediapipe3dData_numFrames_numTrackedPoints_reprojectionError.npy\u001b[0m\n",
      "2024-10-06 15:06:38,957 - freemocap.core_processes.capture_volume_calibration.save_mediapipe_3d_data_to_npy - INFO - saving: Z:\\Davide_MultimodalLab\\3_DATA_ANALYSIS\\1_MOTION_TRACKING\\1_Video_Segmentation\\video_split\\pilot_04_d2_Speech_Start_SUD_1_Start\\output_data\\raw_data\\mediapipe3dData_numFrames_numTrackedPoints_reprojectionError.npy\n",
      "\u001b[96m[2024-10-06T15:06:39.388168] [Δt:0.353633s] [    INFO] [freemocap.core_processes.capture_volume_calibration.save_mediapipe_3d_data_to_npy] [save_mediapipe_3d_data_to_npy:save_mediapipe_3d_data_to_npy():61] [\u001b[38;2;50;255;72mPID:36168:MainProcess\u001b[0m \u001b[38;2;50;255;68mTID:33348:MainThread\u001b[0m ] saving: Z:\\Davide_MultimodalLab\\3_DATA_ANALYSIS\\1_MOTION_TRACKING\\1_Video_Segmentation\\video_split\\pilot_04_d2_Speech_Start_SUD_1_Start\\output_data\\raw_data\\mediapipe3dData_numCams_numFrames_numTrackedPoints_reprojectionError.npy\u001b[0m\n",
      "2024-10-06 15:06:39,388 - freemocap.core_processes.capture_volume_calibration.save_mediapipe_3d_data_to_npy - INFO - saving: Z:\\Davide_MultimodalLab\\3_DATA_ANALYSIS\\1_MOTION_TRACKING\\1_Video_Segmentation\\video_split\\pilot_04_d2_Speech_Start_SUD_1_Start\\output_data\\raw_data\\mediapipe3dData_numCams_numFrames_numTrackedPoints_reprojectionError.npy\n",
      "\u001b[96m[2024-10-06T15:06:40.466656] [Δt:1.077491s] [    INFO] [freemocap.core_processes.post_process_skeleton_data.post_process_skeleton] [post_process_skeleton:run_post_processing_worker():79] [\u001b[38;2;50;255;72mPID:36168:MainProcess\u001b[0m \u001b[38;2;50;255;68mTID:33348:MainThread\u001b[0m ] Starting post-processing worker thread\u001b[0m\n",
      "2024-10-06 15:06:40,466 - freemocap.core_processes.post_process_skeleton_data.post_process_skeleton - INFO - Starting post-processing worker thread\n",
      "\u001b[96m[2024-10-06T15:06:40.471846] [Δt:0.005190s] [    INFO] [freemocap.core_processes.post_process_skeleton_data.post_process_skeleton] [post_process_skeleton:run_post_processing_worker():80] [\u001b[38;2;50;255;72mPID:36168:MainProcess\u001b[0m \u001b[38;2;50;255;68mTID:33348:MainThread\u001b[0m ] Log Progress\u001b[0m\n",
      "2024-10-06 15:06:40,471 - freemocap.core_processes.post_process_skeleton_data.post_process_skeleton - INFO - Log Progress\n"
     ]
    },
    {
     "data": {
      "text/html": [
       "<pre style=\"white-space:pre;overflow-x:auto;line-height:normal;font-family:Menlo,'DejaVu Sans Mono',consolas,'Courier New',monospace\">c:\\ProgramData\\Anaconda3\\envs\\freemocap-env\\Lib\\site-packages\\rich\\live.py:231: UserWarning: install \"ipywidgets\" \n",
       "for Jupyter support\n",
       "  warnings.warn('install \"ipywidgets\" for Jupyter support')\n",
       "</pre>\n"
      ],
      "text/plain": [
       "c:\\ProgramData\\Anaconda3\\envs\\freemocap-env\\Lib\\site-packages\\rich\\live.py:231: UserWarning: install \"ipywidgets\" \n",
       "for Jupyter support\n",
       "  warnings.warn('install \"ipywidgets\" for Jupyter support')\n"
      ]
     },
     "metadata": {},
     "output_type": "display_data"
    },
    {
     "data": {
      "text/html": [
       "<pre style=\"white-space:pre;overflow-x:auto;line-height:normal;font-family:Menlo,'DejaVu Sans Mono',consolas,'Courier New',monospace\">c:\\ProgramData\\Anaconda3\\envs\\freemocap-env\\Lib\\site-packages\\rich\\live.py:231: UserWarning: install \"ipywidgets\" \n",
       "for Jupyter support\n",
       "  warnings.warn('install \"ipywidgets\" for Jupyter support')\n",
       "</pre>\n"
      ],
      "text/plain": [
       "c:\\ProgramData\\Anaconda3\\envs\\freemocap-env\\Lib\\site-packages\\rich\\live.py:231: UserWarning: install \"ipywidgets\" \n",
       "for Jupyter support\n",
       "  warnings.warn('install \"ipywidgets\" for Jupyter support')\n"
      ]
     },
     "metadata": {},
     "output_type": "display_data"
    },
    {
     "data": {
      "text/html": [
       "<pre style=\"white-space:pre;overflow-x:auto;line-height:normal;font-family:Menlo,'DejaVu Sans Mono',consolas,'Courier New',monospace\">c:\\ProgramData\\Anaconda3\\envs\\freemocap-env\\Lib\\site-packages\\rich\\live.py:231: UserWarning: install \"ipywidgets\" \n",
       "for Jupyter support\n",
       "  warnings.warn('install \"ipywidgets\" for Jupyter support')\n",
       "</pre>\n"
      ],
      "text/plain": [
       "c:\\ProgramData\\Anaconda3\\envs\\freemocap-env\\Lib\\site-packages\\rich\\live.py:231: UserWarning: install \"ipywidgets\" \n",
       "for Jupyter support\n",
       "  warnings.warn('install \"ipywidgets\" for Jupyter support')\n"
      ]
     },
     "metadata": {},
     "output_type": "display_data"
    },
    {
     "data": {
      "text/html": [
       "<pre style=\"white-space:pre;overflow-x:auto;line-height:normal;font-family:Menlo,'DejaVu Sans Mono',consolas,'Courier New',monospace\">c:\\ProgramData\\Anaconda3\\envs\\freemocap-env\\Lib\\site-packages\\rich\\live.py:231: UserWarning: install \"ipywidgets\" \n",
       "for Jupyter support\n",
       "  warnings.warn('install \"ipywidgets\" for Jupyter support')\n",
       "</pre>\n"
      ],
      "text/plain": [
       "c:\\ProgramData\\Anaconda3\\envs\\freemocap-env\\Lib\\site-packages\\rich\\live.py:231: UserWarning: install \"ipywidgets\" \n",
       "for Jupyter support\n",
       "  warnings.warn('install \"ipywidgets\" for Jupyter support')\n"
      ]
     },
     "metadata": {},
     "output_type": "display_data"
    },
    {
     "data": {
      "text/html": [
       "<pre style=\"white-space:pre;overflow-x:auto;line-height:normal;font-family:Menlo,'DejaVu Sans Mono',consolas,'Courier New',monospace\">c:\\ProgramData\\Anaconda3\\envs\\freemocap-env\\Lib\\site-packages\\rich\\live.py:231: UserWarning: install \"ipywidgets\" \n",
       "for Jupyter support\n",
       "  warnings.warn('install \"ipywidgets\" for Jupyter support')\n",
       "</pre>\n"
      ],
      "text/plain": [
       "c:\\ProgramData\\Anaconda3\\envs\\freemocap-env\\Lib\\site-packages\\rich\\live.py:231: UserWarning: install \"ipywidgets\" \n",
       "for Jupyter support\n",
       "  warnings.warn('install \"ipywidgets\" for Jupyter support')\n"
      ]
     },
     "metadata": {},
     "output_type": "display_data"
    },
    {
     "data": {
      "text/html": [
       "<pre style=\"white-space:pre;overflow-x:auto;line-height:normal;font-family:Menlo,'DejaVu Sans Mono',consolas,'Courier New',monospace\">c:\\ProgramData\\Anaconda3\\envs\\freemocap-env\\Lib\\site-packages\\rich\\live.py:231: UserWarning: install \"ipywidgets\" \n",
       "for Jupyter support\n",
       "  warnings.warn('install \"ipywidgets\" for Jupyter support')\n",
       "</pre>\n"
      ],
      "text/plain": [
       "c:\\ProgramData\\Anaconda3\\envs\\freemocap-env\\Lib\\site-packages\\rich\\live.py:231: UserWarning: install \"ipywidgets\" \n",
       "for Jupyter support\n",
       "  warnings.warn('install \"ipywidgets\" for Jupyter support')\n"
      ]
     },
     "metadata": {},
     "output_type": "display_data"
    },
    {
     "data": {
      "text/html": [
       "<pre style=\"white-space:pre;overflow-x:auto;line-height:normal;font-family:Menlo,'DejaVu Sans Mono',consolas,'Courier New',monospace\">c:\\ProgramData\\Anaconda3\\envs\\freemocap-env\\Lib\\site-packages\\rich\\live.py:231: UserWarning: install \"ipywidgets\" \n",
       "for Jupyter support\n",
       "  warnings.warn('install \"ipywidgets\" for Jupyter support')\n",
       "</pre>\n"
      ],
      "text/plain": [
       "c:\\ProgramData\\Anaconda3\\envs\\freemocap-env\\Lib\\site-packages\\rich\\live.py:231: UserWarning: install \"ipywidgets\" \n",
       "for Jupyter support\n",
       "  warnings.warn('install \"ipywidgets\" for Jupyter support')\n"
      ]
     },
     "metadata": {},
     "output_type": "display_data"
    },
    {
     "data": {
      "text/html": [
       "<pre style=\"white-space:pre;overflow-x:auto;line-height:normal;font-family:Menlo,'DejaVu Sans Mono',consolas,'Courier New',monospace\"></pre>\n"
      ],
      "text/plain": []
     },
     "metadata": {},
     "output_type": "display_data"
    },
    {
     "data": {
      "text/html": [
       "<pre style=\"white-space:pre;overflow-x:auto;line-height:normal;font-family:Menlo,'DejaVu Sans Mono',consolas,'Courier New',monospace\">\n",
       "</pre>\n"
      ],
      "text/plain": [
       "\n"
      ]
     },
     "metadata": {},
     "output_type": "display_data"
    },
    {
     "data": {
      "text/html": [
       "<pre style=\"white-space:pre;overflow-x:auto;line-height:normal;font-family:Menlo,'DejaVu Sans Mono',consolas,'Courier New',monospace\"></pre>\n"
      ],
      "text/plain": []
     },
     "metadata": {},
     "output_type": "display_data"
    },
    {
     "data": {
      "text/html": [
       "<pre style=\"white-space:pre;overflow-x:auto;line-height:normal;font-family:Menlo,'DejaVu Sans Mono',consolas,'Courier New',monospace\">\n",
       "</pre>\n"
      ],
      "text/plain": [
       "\n"
      ]
     },
     "metadata": {},
     "output_type": "display_data"
    },
    {
     "name": "stdout",
     "output_type": "stream",
     "text": [
      "\u001b[96m[2024-10-06T15:06:42.144085] [Δt:1.672238s] [    INFO] [freemocap.core_processes.post_process_skeleton_data.post_process_skeleton] [post_process_skeleton:run_post_processing_worker():90] [\u001b[38;2;50;255;72mPID:36168:MainProcess\u001b[0m \u001b[38;2;50;255;68mTID:33348:MainThread\u001b[0m ] Done with gap filling, filtering, and aligning\u001b[0m\n",
      "2024-10-06 15:06:42,144 - freemocap.core_processes.post_process_skeleton_data.post_process_skeleton - INFO - Done with gap filling, filtering, and aligning\n",
      "\u001b[96m[2024-10-06T15:06:42.144085] [Δt:0.000000s] [    INFO] [freemocap.core_processes.process_motion_capture_videos.processing_pipeline_functions.anatomical_data_pipeline_functions] [anatomical_data_pipeline_functions:calculate_anatomical_data():26] [\u001b[38;2;50;255;72mPID:36168:MainProcess\u001b[0m \u001b[38;2;50;255;68mTID:33348:MainThread\u001b[0m ] Calculating center of mass...\u001b[0m\n",
      "2024-10-06 15:06:42,144 - freemocap.core_processes.process_motion_capture_videos.processing_pipeline_functions.anatomical_data_pipeline_functions - INFO - Calculating center of mass...\n"
     ]
    },
    {
     "data": {
      "text/html": [
       "<pre style=\"white-space:pre;overflow-x:auto;line-height:normal;font-family:Menlo,'DejaVu Sans Mono',consolas,'Courier New',monospace\">c:\\ProgramData\\Anaconda3\\envs\\freemocap-env\\Lib\\site-packages\\rich\\live.py:231: UserWarning: install \"ipywidgets\" \n",
       "for Jupyter support\n",
       "  warnings.warn('install \"ipywidgets\" for Jupyter support')\n",
       "</pre>\n"
      ],
      "text/plain": [
       "c:\\ProgramData\\Anaconda3\\envs\\freemocap-env\\Lib\\site-packages\\rich\\live.py:231: UserWarning: install \"ipywidgets\" \n",
       "for Jupyter support\n",
       "  warnings.warn('install \"ipywidgets\" for Jupyter support')\n"
      ]
     },
     "metadata": {},
     "output_type": "display_data"
    },
    {
     "data": {
      "text/html": [
       "<pre style=\"white-space:pre;overflow-x:auto;line-height:normal;font-family:Menlo,'DejaVu Sans Mono',consolas,'Courier New',monospace\"></pre>\n"
      ],
      "text/plain": []
     },
     "metadata": {},
     "output_type": "display_data"
    },
    {
     "data": {
      "text/html": [
       "<pre style=\"white-space:pre;overflow-x:auto;line-height:normal;font-family:Menlo,'DejaVu Sans Mono',consolas,'Courier New',monospace\">\n",
       "</pre>\n"
      ],
      "text/plain": [
       "\n"
      ]
     },
     "metadata": {},
     "output_type": "display_data"
    },
    {
     "data": {
      "text/html": [
       "<pre style=\"white-space:pre;overflow-x:auto;line-height:normal;font-family:Menlo,'DejaVu Sans Mono',consolas,'Courier New',monospace\"></pre>\n"
      ],
      "text/plain": []
     },
     "metadata": {},
     "output_type": "display_data"
    },
    {
     "data": {
      "text/html": [
       "<pre style=\"white-space:pre;overflow-x:auto;line-height:normal;font-family:Menlo,'DejaVu Sans Mono',consolas,'Courier New',monospace\">\n",
       "</pre>\n"
      ],
      "text/plain": [
       "\n"
      ]
     },
     "metadata": {},
     "output_type": "display_data"
    },
    {
     "name": "stdout",
     "output_type": "stream",
     "text": [
      "\u001b[96m[2024-10-06T15:06:51.403677] [Δt:9.259593s] [    INFO] [freemocap.core_processes.post_process_skeleton_data.calculate_center_of_mass] [calculate_center_of_mass:calculate_total_body_COM():306] [\u001b[38;2;50;255;72mPID:36168:MainProcess\u001b[0m \u001b[38;2;50;255;68mTID:33348:MainThread\u001b[0m ] Calculating Total Body Center of Mass\u001b[0m\n",
      "2024-10-06 15:06:51,403 - freemocap.core_processes.post_process_skeleton_data.calculate_center_of_mass - INFO - Calculating Total Body Center of Mass\n"
     ]
    },
    {
     "data": {
      "text/html": [
       "<pre style=\"white-space:pre;overflow-x:auto;line-height:normal;font-family:Menlo,'DejaVu Sans Mono',consolas,'Courier New',monospace\"></pre>\n"
      ],
      "text/plain": []
     },
     "metadata": {},
     "output_type": "display_data"
    },
    {
     "data": {
      "text/html": [
       "<pre style=\"white-space:pre;overflow-x:auto;line-height:normal;font-family:Menlo,'DejaVu Sans Mono',consolas,'Courier New',monospace\">\n",
       "</pre>\n"
      ],
      "text/plain": [
       "\n"
      ]
     },
     "metadata": {},
     "output_type": "display_data"
    },
    {
     "name": "stdout",
     "output_type": "stream",
     "text": [
      "\u001b[96m[2024-10-06T15:06:56.165474] [Δt:4.761797s] [    INFO] [freemocap.core_processes.detecting_things_in_2d_images.mediapipe_stuff.convert_mediapipe_npy_to_csv] [convert_mediapipe_npy_to_csv:convert_mediapipe_npy_to_csv():23] [\u001b[38;2;50;255;72mPID:36168:MainProcess\u001b[0m \u001b[38;2;50;255;68mTID:33348:MainThread\u001b[0m ] Converting npy data with shape: (7284, 553, 3) into `csv` and smaller `npy` files\u001b[0m\n",
      "2024-10-06 15:06:56,165 - freemocap.core_processes.detecting_things_in_2d_images.mediapipe_stuff.convert_mediapipe_npy_to_csv - INFO - Converting npy data with shape: (7284, 553, 3) into `csv` and smaller `npy` files\n",
      "\u001b[34m[2024-10-06T15:11:52.352919] [Δt:296.187445s] [   DEBUG] [freemocap.core_processes.detecting_things_in_2d_images.mediapipe_stuff.convert_mediapipe_npy_to_csv] [convert_mediapipe_npy_to_csv:convert_mediapipe_npy_to_csv():239] [\u001b[38;2;50;255;72mPID:36168:MainProcess\u001b[0m \u001b[38;2;50;255;68mTID:33348:MainThread\u001b[0m ] body 3d xyz shape: (7284, 33, 3)\u001b[0m\n",
      "\u001b[34m[2024-10-06T15:11:52.352919] [Δt:0.000000s] [   DEBUG] [freemocap.core_processes.detecting_things_in_2d_images.mediapipe_stuff.convert_mediapipe_npy_to_csv] [convert_mediapipe_npy_to_csv:convert_mediapipe_npy_to_csv():240] [\u001b[38;2;50;255;72mPID:36168:MainProcess\u001b[0m \u001b[38;2;50;255;68mTID:33348:MainThread\u001b[0m ] right hand 3d xyz shape: (7284, 21, 3)\u001b[0m\n",
      "\u001b[34m[2024-10-06T15:11:52.352919] [Δt:0.000000s] [   DEBUG] [freemocap.core_processes.detecting_things_in_2d_images.mediapipe_stuff.convert_mediapipe_npy_to_csv] [convert_mediapipe_npy_to_csv:convert_mediapipe_npy_to_csv():241] [\u001b[38;2;50;255;72mPID:36168:MainProcess\u001b[0m \u001b[38;2;50;255;68mTID:33348:MainThread\u001b[0m ] left hand 3d xyz shape: (7284, 21, 3)\u001b[0m\n",
      "\u001b[34m[2024-10-06T15:11:52.352919] [Δt:0.000000s] [   DEBUG] [freemocap.core_processes.detecting_things_in_2d_images.mediapipe_stuff.convert_mediapipe_npy_to_csv] [convert_mediapipe_npy_to_csv:convert_mediapipe_npy_to_csv():242] [\u001b[38;2;50;255;72mPID:36168:MainProcess\u001b[0m \u001b[38;2;50;255;68mTID:33348:MainThread\u001b[0m ] face 3d xyz shape: (7284, 478, 3)\u001b[0m\n",
      "\u001b[34m[2024-10-06T15:15:02.318900] [Δt:189.965981s] [   DEBUG] [freemocap.core_processes.detecting_things_in_2d_images.mediapipe_stuff.convert_mediapipe_npy_to_csv] [convert_mediapipe_npy_to_csv:convert_mediapipe_npy_to_csv():284] [\u001b[38;2;50;255;72mPID:36168:MainProcess\u001b[0m \u001b[38;2;50;255;68mTID:33348:MainThread\u001b[0m ] length of body 3d xyz `.csv` header: 99, should be: 99\u001b[0m\n",
      "\u001b[34m[2024-10-06T15:15:02.318900] [Δt:0.000000s] [   DEBUG] [freemocap.core_processes.detecting_things_in_2d_images.mediapipe_stuff.convert_mediapipe_npy_to_csv] [convert_mediapipe_npy_to_csv:convert_mediapipe_npy_to_csv():287] [\u001b[38;2;50;255;72mPID:36168:MainProcess\u001b[0m \u001b[38;2;50;255;68mTID:33348:MainThread\u001b[0m ] length of right hand 3d xyz `.csv` header: 63, should be: 63\u001b[0m\n",
      "\u001b[34m[2024-10-06T15:15:02.318900] [Δt:0.000000s] [   DEBUG] [freemocap.core_processes.detecting_things_in_2d_images.mediapipe_stuff.convert_mediapipe_npy_to_csv] [convert_mediapipe_npy_to_csv:convert_mediapipe_npy_to_csv():290] [\u001b[38;2;50;255;72mPID:36168:MainProcess\u001b[0m \u001b[38;2;50;255;68mTID:33348:MainThread\u001b[0m ] length of left hand 3d xyz `.csv` header: 63, should be: 63\u001b[0m\n",
      "\u001b[34m[2024-10-06T15:15:02.318900] [Δt:0.000000s] [   DEBUG] [freemocap.core_processes.detecting_things_in_2d_images.mediapipe_stuff.convert_mediapipe_npy_to_csv] [convert_mediapipe_npy_to_csv:convert_mediapipe_npy_to_csv():293] [\u001b[38;2;50;255;72mPID:36168:MainProcess\u001b[0m \u001b[38;2;50;255;68mTID:33348:MainThread\u001b[0m ] length of face 3d xyz `.csv` header: 1434, should be: 1434\u001b[0m\n",
      "\u001b[96m[2024-10-06T15:16:52.894828] [Δt:110.575927s] [    INFO] [freemocap.core_processes.detecting_things_in_2d_images.mediapipe_stuff.convert_mediapipe_npy_to_csv] [convert_mediapipe_npy_to_csv:convert_mediapipe_npy_to_csv():322] [\u001b[38;2;50;255;72mPID:36168:MainProcess\u001b[0m \u001b[38;2;50;255;68mTID:33348:MainThread\u001b[0m ] Done saving out `csv` and broken up `npy` files\u001b[0m\n",
      "2024-10-06 15:16:52,894 - freemocap.core_processes.detecting_things_in_2d_images.mediapipe_stuff.convert_mediapipe_npy_to_csv - INFO - Done saving out `csv` and broken up `npy` files\n",
      "\u001b[96m[2024-10-06T15:16:52.894828] [Δt:0.000000s] [    INFO] [freemocap.core_processes.process_motion_capture_videos.processing_pipeline_functions.data_saving_pipeline_functions] [data_saving_pipeline_functions:save_data():39] [\u001b[38;2;50;255;72mPID:36168:MainProcess\u001b[0m \u001b[38;2;50;255;68mTID:33348:MainThread\u001b[0m ] Saving post-processed data\u001b[0m\n",
      "2024-10-06 15:16:52,894 - freemocap.core_processes.process_motion_capture_videos.processing_pipeline_functions.data_saving_pipeline_functions - INFO - Saving post-processed data\n",
      "\u001b[96m[2024-10-06T15:16:53.910236] [Δt:1.015409s] [    INFO] [freemocap.core_processes.process_motion_capture_videos.processing_pipeline_functions.data_saving_pipeline_functions] [data_saving_pipeline_functions:save_data():46] [\u001b[38;2;50;255;72mPID:36168:MainProcess\u001b[0m \u001b[38;2;50;255;68mTID:33348:MainThread\u001b[0m ] Saving segment center of mass data\u001b[0m\n",
      "2024-10-06 15:16:53,910 - freemocap.core_processes.process_motion_capture_videos.processing_pipeline_functions.data_saving_pipeline_functions - INFO - Saving segment center of mass data\n",
      "\u001b[96m[2024-10-06T15:16:54.050547] [Δt:0.140310s] [    INFO] [freemocap.core_processes.process_motion_capture_videos.processing_pipeline_functions.data_saving_pipeline_functions] [data_saving_pipeline_functions:save_data():53] [\u001b[38;2;50;255;72mPID:36168:MainProcess\u001b[0m \u001b[38;2;50;255;68mTID:33348:MainThread\u001b[0m ] Saving total body center of mass data\u001b[0m\n",
      "2024-10-06 15:16:54,050 - freemocap.core_processes.process_motion_capture_videos.processing_pipeline_functions.data_saving_pipeline_functions - INFO - Saving total body center of mass data\n",
      "\u001b[96m[2024-10-06T15:16:54.200065] [Δt:0.149518s] [    INFO] [freemocap.utilities.save_dictionary_to_json] [save_dictionary_to_json:save_dictionary_to_json():16] [\u001b[38;2;50;255;72mPID:36168:MainProcess\u001b[0m \u001b[38;2;50;255;68mTID:33348:MainThread\u001b[0m ] Saved dictionary mediapipe_names_and_connections_dict.json as json  at: Z:\\Davide_MultimodalLab\\3_DATA_ANALYSIS\\1_MOTION_TRACKING\\1_Video_Segmentation\\video_split\\pilot_04_d2_Speech_Start_SUD_1_Start\\output_data\\mediapipe_names_and_connections_dict.json\u001b[0m\n",
      "2024-10-06 15:16:54,200 - freemocap.utilities.save_dictionary_to_json - INFO - Saved dictionary mediapipe_names_and_connections_dict.json as json  at: Z:\\Davide_MultimodalLab\\3_DATA_ANALYSIS\\1_MOTION_TRACKING\\1_Video_Segmentation\\video_split\\pilot_04_d2_Speech_Start_SUD_1_Start\\output_data\\mediapipe_names_and_connections_dict.json\n",
      "\u001b[33m[2024-10-06T15:16:54.268194] [Δt:0.068130s] [ WARNING] [freemocap.system.paths_and_filenames.file_and_folder_names] [path_getters:get_timestamps_directory():252] [\u001b[38;2;50;255;72mPID:36168:MainProcess\u001b[0m \u001b[38;2;50;255;68mTID:33348:MainThread\u001b[0m ] Could not find timestamps directory in Z:\\Davide_MultimodalLab\\3_DATA_ANALYSIS\\1_MOTION_TRACKING\\1_Video_Segmentation\\video_split\\pilot_04_d2_Speech_Start_SUD_1_Start\\synchronized_videos\u001b[0m\n",
      "2024-10-06 15:16:54,268 - freemocap.system.paths_and_filenames.file_and_folder_names - WARNING - Could not find timestamps directory in Z:\\Davide_MultimodalLab\\3_DATA_ANALYSIS\\1_MOTION_TRACKING\\1_Video_Segmentation\\video_split\\pilot_04_d2_Speech_Start_SUD_1_Start\\synchronized_videos\n",
      "\u001b[33m[2024-10-06T15:16:54.268194] [Δt:0.000000s] [ WARNING] [freemocap.data_layer.data_saver.data_loader] [data_loader:_load_timestamps():91] [\u001b[38;2;50;255;72mPID:36168:MainProcess\u001b[0m \u001b[38;2;50;255;68mTID:33348:MainThread\u001b[0m ] No timestamps directory found. Skipping timestamps loading.\u001b[0m\n",
      "2024-10-06 15:16:54,268 - freemocap.data_layer.data_saver.data_loader - WARNING - No timestamps directory found. Skipping timestamps loading.\n",
      "\u001b[96m[2024-10-06T15:18:51.388190] [Δt:117.119996s] [    INFO] [freemocap.data_layer.data_saver.data_saver] [data_saver:save_to_json():59] [\u001b[38;2;50;255;72mPID:36168:MainProcess\u001b[0m \u001b[38;2;50;255;68mTID:33348:MainThread\u001b[0m ] Saving recording data to Z:\\Davide_MultimodalLab\\3_DATA_ANALYSIS\\1_MOTION_TRACKING\\1_Video_Segmentation\\video_split\\pilot_04_d2_Speech_Start_SUD_1_Start\\pilot_04_d2_Speech_Start_SUD_1_Start_by_frame.json\u001b[0m\n",
      "2024-10-06 15:18:51,388 - freemocap.data_layer.data_saver.data_saver - INFO - Saving recording data to Z:\\Davide_MultimodalLab\\3_DATA_ANALYSIS\\1_MOTION_TRACKING\\1_Video_Segmentation\\video_split\\pilot_04_d2_Speech_Start_SUD_1_Start\\pilot_04_d2_Speech_Start_SUD_1_Start_by_frame.json\n",
      "\u001b[96m[2024-10-06T15:21:03.374793] [Δt:131.986603s] [    INFO] [freemocap.data_layer.data_saver.data_saver] [data_saver:save_to_csv():76] [\u001b[38;2;50;255;72mPID:36168:MainProcess\u001b[0m \u001b[38;2;50;255;68mTID:33348:MainThread\u001b[0m ] Saved recording data to Z:\\Davide_MultimodalLab\\3_DATA_ANALYSIS\\1_MOTION_TRACKING\\1_Video_Segmentation\\video_split\\pilot_04_d2_Speech_Start_SUD_1_Start\\pilot_04_d2_Speech_Start_SUD_1_Start_by_trajectory.csv\u001b[0m\n",
      "2024-10-06 15:21:03,374 - freemocap.data_layer.data_saver.data_saver - INFO - Saved recording data to Z:\\Davide_MultimodalLab\\3_DATA_ANALYSIS\\1_MOTION_TRACKING\\1_Video_Segmentation\\video_split\\pilot_04_d2_Speech_Start_SUD_1_Start\\pilot_04_d2_Speech_Start_SUD_1_Start_by_trajectory.csv\n",
      "\u001b[96m[2024-10-06T15:21:05.123877] [Δt:1.749084s] [    INFO] [freemocap.data_layer.data_saver.data_saver] [data_saver:save_to_npy():82] [\u001b[38;2;50;255;72mPID:36168:MainProcess\u001b[0m \u001b[38;2;50;255;68mTID:33348:MainThread\u001b[0m ] Saved recording data to Z:\\Davide_MultimodalLab\\3_DATA_ANALYSIS\\1_MOTION_TRACKING\\1_Video_Segmentation\\video_split\\pilot_04_d2_Speech_Start_SUD_1_Start\\pilot_04_d2_Speech_Start_SUD_1_Start_frame_name_xyz.npy\u001b[0m\n",
      "2024-10-06 15:21:05,123 - freemocap.data_layer.data_saver.data_saver - INFO - Saved recording data to Z:\\Davide_MultimodalLab\\3_DATA_ANALYSIS\\1_MOTION_TRACKING\\1_Video_Segmentation\\video_split\\pilot_04_d2_Speech_Start_SUD_1_Start\\pilot_04_d2_Speech_Start_SUD_1_Start_frame_name_xyz.npy\n",
      "\u001b[96m[2024-10-06T15:21:05.426959] [Δt:0.303082s] [    INFO] [freemocap.core_processes.process_motion_capture_videos.process_recording_folder] [process_recording_folder:process_recording_folder():143] [\u001b[38;2;50;255;72mPID:36168:MainProcess\u001b[0m \u001b[38;2;50;255;68mTID:33348:MainThread\u001b[0m ] Done processing Z:\\Davide_MultimodalLab\\3_DATA_ANALYSIS\\1_MOTION_TRACKING\\1_Video_Segmentation\\video_split\\pilot_04_d2_Speech_Start_SUD_1_Start\u001b[0m\n",
      "2024-10-06 15:21:05,426 - freemocap.core_processes.process_motion_capture_videos.process_recording_folder - INFO - Done processing Z:\\Davide_MultimodalLab\\3_DATA_ANALYSIS\\1_MOTION_TRACKING\\1_Video_Segmentation\\video_split\\pilot_04_d2_Speech_Start_SUD_1_Start\n",
      "\u001b[33m[2024-10-06T15:21:05.457513] [Δt:0.030554s] [ WARNING] [root] [1048335352:process_recording():48] [\u001b[38;2;50;255;72mPID:36168:MainProcess\u001b[0m \u001b[38;2;50;255;68mTID:33348:MainThread\u001b[0m ] No blender executable provided. Blender file will not be exported.\u001b[0m\n",
      "2024-10-06 15:21:05,457 - root - WARNING - No blender executable provided. Blender file will not be exported.\n",
      "We will now load this vide folder  Z:\\Davide_MultimodalLab\\3_DATA_ANALYSIS\\1_MOTION_TRACKING\\1_Video_Segmentation\\video_split\\pilot_04_d2_Speech_Start_SUD_1_Start\n",
      "\u001b[96m[2024-10-06T15:21:05.457513] [Δt:0.000000s] [    INFO] [root] [2323846283:<module>():20] [\u001b[38;2;50;255;72mPID:36168:MainProcess\u001b[0m \u001b[38;2;50;255;68mTID:33348:MainThread\u001b[0m ] Processing video folder: Z:\\Davide_MultimodalLab\\3_DATA_ANALYSIS\\1_MOTION_TRACKING\\1_Video_Segmentation\\video_split\\pilot_04_d2_SUD_1_End_SUD_2_Start\u001b[0m\n",
      "2024-10-06 15:21:05,457 - root - INFO - Processing video folder: Z:\\Davide_MultimodalLab\\3_DATA_ANALYSIS\\1_MOTION_TRACKING\\1_Video_Segmentation\\video_split\\pilot_04_d2_SUD_1_End_SUD_2_Start\n",
      "\u001b[96m[2024-10-06T15:21:05.766252] [Δt:0.308739s] [    INFO] [freemocap.utilities.save_dictionary_to_json] [save_dictionary_to_json:save_dictionary_to_json():16] [\u001b[38;2;50;255;72mPID:36168:MainProcess\u001b[0m \u001b[38;2;50;255;68mTID:33348:MainThread\u001b[0m ] Saved dictionary recording_parameters.json as json  at: Z:\\Davide_MultimodalLab\\3_DATA_ANALYSIS\\1_MOTION_TRACKING\\1_Video_Segmentation\\video_split\\pilot_04_d2_SUD_1_End_SUD_2_Start\\output_data\\recording_parameters.json\u001b[0m\n",
      "2024-10-06 15:21:05,766 - freemocap.utilities.save_dictionary_to_json - INFO - Saved dictionary recording_parameters.json as json  at: Z:\\Davide_MultimodalLab\\3_DATA_ANALYSIS\\1_MOTION_TRACKING\\1_Video_Segmentation\\video_split\\pilot_04_d2_SUD_1_End_SUD_2_Start\\output_data\\recording_parameters.json\n",
      "\u001b[96m[2024-10-06T15:21:06.475889] [Δt:0.709637s] [    INFO] [freemocap.data_layer.recording_models.recording_info_model] [recording_info_model:get_number_of_mp4s_in_synched_videos_directory():239] [\u001b[38;2;50;255;72mPID:36168:MainProcess\u001b[0m \u001b[38;2;50;255;68mTID:33348:MainThread\u001b[0m ] Number of `.mp4`'s in Z:\\Davide_MultimodalLab\\3_DATA_ANALYSIS\\1_MOTION_TRACKING\\1_Video_Segmentation\\video_split\\pilot_04_d2_SUD_1_End_SUD_2_Start\\synchronized_videos: 3\u001b[0m\n",
      "2024-10-06 15:21:06,475 - freemocap.data_layer.recording_models.recording_info_model - INFO - Number of `.mp4`'s in Z:\\Davide_MultimodalLab\\3_DATA_ANALYSIS\\1_MOTION_TRACKING\\1_Video_Segmentation\\video_split\\pilot_04_d2_SUD_1_End_SUD_2_Start\\synchronized_videos: 3\n",
      "\u001b[34m[2024-10-06T15:21:06.475889] [Δt:0.000000s] [   DEBUG] [freemocap.data_layer.recording_models.recording_info_model] [recording_info_model:get_number_of_frames_in_videos():253] [\u001b[38;2;50;255;72mPID:36168:MainProcess\u001b[0m \u001b[38;2;50;255;68mTID:33348:MainThread\u001b[0m ] No 'timestamps' directory, finding frame counts from synchronized videos\u001b[0m\n",
      "\u001b[96m[2024-10-06T15:21:06.720754] [Δt:0.244865s] [    INFO] [freemocap.core_processes.process_motion_capture_videos.processing_pipeline_functions.image_tracking_pipeline_functions] [image_tracking_pipeline_functions:run_image_tracking_pipeline():44] [\u001b[38;2;50;255;72mPID:36168:MainProcess\u001b[0m \u001b[38;2;50;255;68mTID:33348:MainThread\u001b[0m ] Detecting 2d skeletons...\u001b[0m\n",
      "2024-10-06 15:21:06,720 - freemocap.core_processes.process_motion_capture_videos.processing_pipeline_functions.image_tracking_pipeline_functions - INFO - Detecting 2d skeletons...\n",
      "\u001b[96m[2024-10-06T15:21:06.722781] [Δt:0.002026s] [    INFO] [freemocap.core_processes.process_motion_capture_videos.processing_pipeline_functions.image_tracking_pipeline_functions] [image_tracking_pipeline_functions:run_image_tracking_pipeline():45] [\u001b[38;2;50;255;72mPID:36168:MainProcess\u001b[0m \u001b[38;2;50;255;68mTID:33348:MainThread\u001b[0m ] Log Progress\u001b[0m\n",
      "2024-10-06 15:21:06,722 - freemocap.core_processes.process_motion_capture_videos.processing_pipeline_functions.image_tracking_pipeline_functions - INFO - Log Progress\n",
      "\u001b[96m[2024-10-06T15:21:06.897474] [Δt:0.174694s] [    INFO] [skellytracker.process_folder_of_videos] [process_folder_of_videos:process_single_video():131] [\u001b[38;2;50;255;72mPID:36168:MainProcess\u001b[0m \u001b[38;2;50;255;68mTID:33348:MainThread\u001b[0m ] Processing video: pilot_04_d2_SUD_1_End_SUD_2_Start_cam1_mediapipe.mp4 with tracker: MediapipeHolisticTracker\u001b[0m\n",
      "2024-10-06 15:21:06,897 - skellytracker.process_folder_of_videos - INFO - Processing video: pilot_04_d2_SUD_1_End_SUD_2_Start_cam1_mediapipe.mp4 with tracker: MediapipeHolisticTracker\n"
     ]
    },
    {
     "name": "stderr",
     "output_type": "stream",
     "text": [
      "processing video: pilot_04_d2_SUD_1_End_SUD_2_Start_cam1.mp4: 100%|\u001b[35m██████████\u001b[0m| 6901/6901 [13:30<00:00,  8.52frames/s]"
     ]
    },
    {
     "name": "stdout",
     "output_type": "stream",
     "text": [
      "\u001b[96m[2024-10-06T15:34:37.209426] [Δt:810.311951s] [    INFO] [skellytracker.trackers.base_tracker.video_handler] [video_handler:close():45] [\u001b[38;2;50;255;72mPID:36168:MainProcess\u001b[0m \u001b[38;2;50;255;68mTID:33348:MainThread\u001b[0m ] video saved to Z:\\Davide_MultimodalLab\\3_DATA_ANALYSIS\\1_MOTION_TRACKING\\1_Video_Segmentation\\video_split\\pilot_04_d2_SUD_1_End_SUD_2_Start\\annotated_videos\\pilot_04_d2_SUD_1_End_SUD_2_Start_cam1_mediapipe.mp4\u001b[0m\n",
      "2024-10-06 15:34:37,209 - skellytracker.trackers.base_tracker.video_handler - INFO - video saved to Z:\\Davide_MultimodalLab\\3_DATA_ANALYSIS\\1_MOTION_TRACKING\\1_Video_Segmentation\\video_split\\pilot_04_d2_SUD_1_End_SUD_2_Start\\annotated_videos\\pilot_04_d2_SUD_1_End_SUD_2_Start_cam1_mediapipe.mp4\n"
     ]
    },
    {
     "name": "stderr",
     "output_type": "stream",
     "text": [
      "\n"
     ]
    },
    {
     "name": "stdout",
     "output_type": "stream",
     "text": [
      "\u001b[96m[2024-10-06T15:34:41.199051] [Δt:3.989626s] [    INFO] [skellytracker.process_folder_of_videos] [process_folder_of_videos:process_single_video():131] [\u001b[38;2;50;255;72mPID:36168:MainProcess\u001b[0m \u001b[38;2;50;255;68mTID:33348:MainThread\u001b[0m ] Processing video: pilot_04_d2_SUD_1_End_SUD_2_Start_cam2_mediapipe.mp4 with tracker: MediapipeHolisticTracker\u001b[0m\n",
      "2024-10-06 15:34:41,199 - skellytracker.process_folder_of_videos - INFO - Processing video: pilot_04_d2_SUD_1_End_SUD_2_Start_cam2_mediapipe.mp4 with tracker: MediapipeHolisticTracker\n"
     ]
    },
    {
     "name": "stderr",
     "output_type": "stream",
     "text": [
      "processing video: pilot_04_d2_SUD_1_End_SUD_2_Start_cam2.mp4: 100%|\u001b[35m██████████\u001b[0m| 6901/6901 [13:09<00:00,  8.74frames/s]"
     ]
    },
    {
     "name": "stdout",
     "output_type": "stream",
     "text": [
      "\u001b[96m[2024-10-06T15:47:51.208175] [Δt:790.009124s] [    INFO] [skellytracker.trackers.base_tracker.video_handler] [video_handler:close():45] [\u001b[38;2;50;255;72mPID:36168:MainProcess\u001b[0m \u001b[38;2;50;255;68mTID:33348:MainThread\u001b[0m ] video saved to Z:\\Davide_MultimodalLab\\3_DATA_ANALYSIS\\1_MOTION_TRACKING\\1_Video_Segmentation\\video_split\\pilot_04_d2_SUD_1_End_SUD_2_Start\\annotated_videos\\pilot_04_d2_SUD_1_End_SUD_2_Start_cam2_mediapipe.mp4\u001b[0m\n",
      "2024-10-06 15:47:51,208 - skellytracker.trackers.base_tracker.video_handler - INFO - video saved to Z:\\Davide_MultimodalLab\\3_DATA_ANALYSIS\\1_MOTION_TRACKING\\1_Video_Segmentation\\video_split\\pilot_04_d2_SUD_1_End_SUD_2_Start\\annotated_videos\\pilot_04_d2_SUD_1_End_SUD_2_Start_cam2_mediapipe.mp4\n"
     ]
    },
    {
     "name": "stderr",
     "output_type": "stream",
     "text": [
      "\n"
     ]
    },
    {
     "name": "stdout",
     "output_type": "stream",
     "text": [
      "\u001b[96m[2024-10-06T15:47:55.252012] [Δt:4.043836s] [    INFO] [skellytracker.process_folder_of_videos] [process_folder_of_videos:process_single_video():131] [\u001b[38;2;50;255;72mPID:36168:MainProcess\u001b[0m \u001b[38;2;50;255;68mTID:33348:MainThread\u001b[0m ] Processing video: pilot_04_d2_SUD_1_End_SUD_2_Start_cam3_mediapipe.mp4 with tracker: MediapipeHolisticTracker\u001b[0m\n",
      "2024-10-06 15:47:55,252 - skellytracker.process_folder_of_videos - INFO - Processing video: pilot_04_d2_SUD_1_End_SUD_2_Start_cam3_mediapipe.mp4 with tracker: MediapipeHolisticTracker\n"
     ]
    },
    {
     "name": "stderr",
     "output_type": "stream",
     "text": [
      "processing video: pilot_04_d2_SUD_1_End_SUD_2_Start_cam3.mp4: 100%|\u001b[35m██████████\u001b[0m| 6901/6901 [13:25<00:00,  8.57frames/s]"
     ]
    },
    {
     "name": "stdout",
     "output_type": "stream",
     "text": [
      "\u001b[96m[2024-10-06T16:01:21.163955] [Δt:805.911944s] [    INFO] [skellytracker.trackers.base_tracker.video_handler] [video_handler:close():45] [\u001b[38;2;50;255;72mPID:36168:MainProcess\u001b[0m \u001b[38;2;50;255;68mTID:33348:MainThread\u001b[0m ] video saved to Z:\\Davide_MultimodalLab\\3_DATA_ANALYSIS\\1_MOTION_TRACKING\\1_Video_Segmentation\\video_split\\pilot_04_d2_SUD_1_End_SUD_2_Start\\annotated_videos\\pilot_04_d2_SUD_1_End_SUD_2_Start_cam3_mediapipe.mp4\u001b[0m\n",
      "2024-10-06 16:01:21,163 - skellytracker.trackers.base_tracker.video_handler - INFO - video saved to Z:\\Davide_MultimodalLab\\3_DATA_ANALYSIS\\1_MOTION_TRACKING\\1_Video_Segmentation\\video_split\\pilot_04_d2_SUD_1_End_SUD_2_Start\\annotated_videos\\pilot_04_d2_SUD_1_End_SUD_2_Start_cam3_mediapipe.mp4\n"
     ]
    },
    {
     "name": "stderr",
     "output_type": "stream",
     "text": [
      "\n"
     ]
    },
    {
     "name": "stdout",
     "output_type": "stream",
     "text": [
      "\u001b[96m[2024-10-06T16:01:25.173182] [Δt:4.009227s] [    INFO] [skellytracker.process_folder_of_videos] [process_folder_of_videos:process_folder_of_videos():105] [\u001b[38;2;50;255;72mPID:36168:MainProcess\u001b[0m \u001b[38;2;50;255;68mTID:33348:MainThread\u001b[0m ] Shape of output array: (3, 6901, 553, 3)\u001b[0m\n",
      "2024-10-06 16:01:25,173 - skellytracker.process_folder_of_videos - INFO - Shape of output array: (3, 6901, 553, 3)\n",
      "\u001b[96m[2024-10-06T16:01:55.200443] [Δt:30.027261s] [    INFO] [freemocap.core_processes.process_motion_capture_videos.processing_pipeline_functions.triangulation_pipeline_functions] [triangulation_pipeline_functions:get_triangulated_data():63] [\u001b[38;2;50;255;72mPID:36168:MainProcess\u001b[0m \u001b[38;2;50;255;68mTID:33348:MainThread\u001b[0m ] Triangulating 3d skeletons...\u001b[0m\n",
      "2024-10-06 16:01:55,200 - freemocap.core_processes.process_motion_capture_videos.processing_pipeline_functions.triangulation_pipeline_functions - INFO - Triangulating 3d skeletons...\n",
      "\u001b[96m[2024-10-06T16:01:55.200443] [Δt:0.000000s] [    INFO] [freemocap.core_processes.process_motion_capture_videos.processing_pipeline_functions.triangulation_pipeline_functions] [triangulation_pipeline_functions:get_triangulated_data():64] [\u001b[38;2;50;255;72mPID:36168:MainProcess\u001b[0m \u001b[38;2;50;255;68mTID:33348:MainThread\u001b[0m ] Log Progress\u001b[0m\n",
      "2024-10-06 16:01:55,200 - freemocap.core_processes.process_motion_capture_videos.processing_pipeline_functions.triangulation_pipeline_functions - INFO - Log Progress\n",
      "\u001b[96m[2024-10-06T16:01:55.673870] [Δt:0.473426s] [    INFO] [freemocap.core_processes.capture_volume_calibration.anipose_camera_calibration.get_anipose_calibration_object] [get_anipose_calibration_object:load_anipose_calibration_toml_from_path():38] [\u001b[38;2;50;255;72mPID:36168:MainProcess\u001b[0m \u001b[38;2;50;255;68mTID:33348:MainThread\u001b[0m ] loading camera calibration file from:Z:\\Davide_MultimodalLab\\3_DATA_ANALYSIS\\1_MOTION_TRACKING\\2_Video_Calibration\\calibration_results\\pilot_04_d2_calibration_charuco_calibration_anipose.toml\u001b[0m\n",
      "2024-10-06 16:01:55,673 - freemocap.core_processes.capture_volume_calibration.anipose_camera_calibration.get_anipose_calibration_object - INFO - loading camera calibration file from:Z:\\Davide_MultimodalLab\\3_DATA_ANALYSIS\\1_MOTION_TRACKING\\2_Video_Calibration\\calibration_results\\pilot_04_d2_calibration_charuco_calibration_anipose.toml\n",
      "\u001b[96m[2024-10-06T16:01:55.715102] [Δt:0.041232s] [    INFO] [freemocap.core_processes.capture_volume_calibration.triangulate_3d_data] [triangulate_3d_data:triangulate_3d_data():35] [\u001b[38;2;50;255;72mPID:36168:MainProcess\u001b[0m \u001b[38;2;50;255;68mTID:33348:MainThread\u001b[0m ] Reconstructing 3d points from 2d points with shape: \n",
      "number_of_cameras: 3,\n",
      "number_of_frames: 6901, \n",
      "number_of_tracked_points: 553,\n",
      "number_of_spatial_dimensions: 2\u001b[0m\n",
      "2024-10-06 16:01:55,715 - freemocap.core_processes.capture_volume_calibration.triangulate_3d_data - INFO - Reconstructing 3d points from 2d points with shape: \n",
      "number_of_cameras: 3,\n",
      "number_of_frames: 6901, \n",
      "number_of_tracked_points: 553,\n",
      "number_of_spatial_dimensions: 2\n",
      "\u001b[96m[2024-10-06T16:01:55.715102] [Δt:0.000000s] [    INFO] [freemocap.core_processes.capture_volume_calibration.triangulate_3d_data] [triangulate_3d_data:triangulate_3d_data():47] [\u001b[38;2;50;255;72mPID:36168:MainProcess\u001b[0m \u001b[38;2;50;255;68mTID:33348:MainThread\u001b[0m ] Using simple `triangulate` method \u001b[0m\n",
      "2024-10-06 16:01:55,715 - freemocap.core_processes.capture_volume_calibration.triangulate_3d_data - INFO - Using simple `triangulate` method \n"
     ]
    },
    {
     "name": "stderr",
     "output_type": "stream",
     "text": [
      "100%|█████████████████████| 3816253/3816253 [08:12<00:00, 7741.03it/s]\n"
     ]
    },
    {
     "name": "stdout",
     "output_type": "stream",
     "text": [
      "\u001b[96m[2024-10-06T16:10:21.406371] [Δt:505.691269s] [    INFO] [freemocap.core_processes.capture_volume_calibration.save_mediapipe_3d_data_to_npy] [save_mediapipe_3d_data_to_npy:save_mediapipe_3d_data_to_npy():50] [\u001b[38;2;50;255;72mPID:36168:MainProcess\u001b[0m \u001b[38;2;50;255;68mTID:33348:MainThread\u001b[0m ] saving: Z:\\Davide_MultimodalLab\\3_DATA_ANALYSIS\\1_MOTION_TRACKING\\1_Video_Segmentation\\video_split\\pilot_04_d2_SUD_1_End_SUD_2_Start\\output_data\\raw_data\\mediapipe3dData_numFrames_numTrackedPoints_spatialXYZ.npy\u001b[0m\n",
      "2024-10-06 16:10:21,406 - freemocap.core_processes.capture_volume_calibration.save_mediapipe_3d_data_to_npy - INFO - saving: Z:\\Davide_MultimodalLab\\3_DATA_ANALYSIS\\1_MOTION_TRACKING\\1_Video_Segmentation\\video_split\\pilot_04_d2_SUD_1_End_SUD_2_Start\\output_data\\raw_data\\mediapipe3dData_numFrames_numTrackedPoints_spatialXYZ.npy\n",
      "\u001b[96m[2024-10-06T16:10:22.307765] [Δt:0.901395s] [    INFO] [freemocap.core_processes.capture_volume_calibration.save_mediapipe_3d_data_to_npy] [save_mediapipe_3d_data_to_npy:save_mediapipe_3d_data_to_npy():55] [\u001b[38;2;50;255;72mPID:36168:MainProcess\u001b[0m \u001b[38;2;50;255;68mTID:33348:MainThread\u001b[0m ] saving: Z:\\Davide_MultimodalLab\\3_DATA_ANALYSIS\\1_MOTION_TRACKING\\1_Video_Segmentation\\video_split\\pilot_04_d2_SUD_1_End_SUD_2_Start\\output_data\\raw_data\\mediapipe3dData_numFrames_numTrackedPoints_reprojectionError.npy\u001b[0m\n",
      "2024-10-06 16:10:22,307 - freemocap.core_processes.capture_volume_calibration.save_mediapipe_3d_data_to_npy - INFO - saving: Z:\\Davide_MultimodalLab\\3_DATA_ANALYSIS\\1_MOTION_TRACKING\\1_Video_Segmentation\\video_split\\pilot_04_d2_SUD_1_End_SUD_2_Start\\output_data\\raw_data\\mediapipe3dData_numFrames_numTrackedPoints_reprojectionError.npy\n",
      "\u001b[96m[2024-10-06T16:10:22.650353] [Δt:0.352010s] [    INFO] [freemocap.core_processes.capture_volume_calibration.save_mediapipe_3d_data_to_npy] [save_mediapipe_3d_data_to_npy:save_mediapipe_3d_data_to_npy():61] [\u001b[38;2;50;255;72mPID:36168:MainProcess\u001b[0m \u001b[38;2;50;255;68mTID:33348:MainThread\u001b[0m ] saving: Z:\\Davide_MultimodalLab\\3_DATA_ANALYSIS\\1_MOTION_TRACKING\\1_Video_Segmentation\\video_split\\pilot_04_d2_SUD_1_End_SUD_2_Start\\output_data\\raw_data\\mediapipe3dData_numCams_numFrames_numTrackedPoints_reprojectionError.npy\u001b[0m\n",
      "2024-10-06 16:10:22,650 - freemocap.core_processes.capture_volume_calibration.save_mediapipe_3d_data_to_npy - INFO - saving: Z:\\Davide_MultimodalLab\\3_DATA_ANALYSIS\\1_MOTION_TRACKING\\1_Video_Segmentation\\video_split\\pilot_04_d2_SUD_1_End_SUD_2_Start\\output_data\\raw_data\\mediapipe3dData_numCams_numFrames_numTrackedPoints_reprojectionError.npy\n",
      "\u001b[96m[2024-10-06T16:10:23.884710] [Δt:1.224935s] [    INFO] [freemocap.core_processes.post_process_skeleton_data.post_process_skeleton] [post_process_skeleton:run_post_processing_worker():79] [\u001b[38;2;50;255;72mPID:36168:MainProcess\u001b[0m \u001b[38;2;50;255;68mTID:33348:MainThread\u001b[0m ] Starting post-processing worker thread\u001b[0m\n",
      "2024-10-06 16:10:23,884 - freemocap.core_processes.post_process_skeleton_data.post_process_skeleton - INFO - Starting post-processing worker thread\n",
      "\u001b[96m[2024-10-06T16:10:23.884710] [Δt:0.000000s] [    INFO] [freemocap.core_processes.post_process_skeleton_data.post_process_skeleton] [post_process_skeleton:run_post_processing_worker():80] [\u001b[38;2;50;255;72mPID:36168:MainProcess\u001b[0m \u001b[38;2;50;255;68mTID:33348:MainThread\u001b[0m ] Log Progress\u001b[0m\n",
      "2024-10-06 16:10:23,884 - freemocap.core_processes.post_process_skeleton_data.post_process_skeleton - INFO - Log Progress\n"
     ]
    },
    {
     "data": {
      "text/html": [
       "<pre style=\"white-space:pre;overflow-x:auto;line-height:normal;font-family:Menlo,'DejaVu Sans Mono',consolas,'Courier New',monospace\">c:\\ProgramData\\Anaconda3\\envs\\freemocap-env\\Lib\\site-packages\\rich\\live.py:231: UserWarning: install \"ipywidgets\" \n",
       "for Jupyter support\n",
       "  warnings.warn('install \"ipywidgets\" for Jupyter support')\n",
       "</pre>\n"
      ],
      "text/plain": [
       "c:\\ProgramData\\Anaconda3\\envs\\freemocap-env\\Lib\\site-packages\\rich\\live.py:231: UserWarning: install \"ipywidgets\" \n",
       "for Jupyter support\n",
       "  warnings.warn('install \"ipywidgets\" for Jupyter support')\n"
      ]
     },
     "metadata": {},
     "output_type": "display_data"
    },
    {
     "data": {
      "text/html": [
       "<pre style=\"white-space:pre;overflow-x:auto;line-height:normal;font-family:Menlo,'DejaVu Sans Mono',consolas,'Courier New',monospace\">c:\\ProgramData\\Anaconda3\\envs\\freemocap-env\\Lib\\site-packages\\rich\\live.py:231: UserWarning: install \"ipywidgets\" \n",
       "for Jupyter support\n",
       "  warnings.warn('install \"ipywidgets\" for Jupyter support')\n",
       "</pre>\n"
      ],
      "text/plain": [
       "c:\\ProgramData\\Anaconda3\\envs\\freemocap-env\\Lib\\site-packages\\rich\\live.py:231: UserWarning: install \"ipywidgets\" \n",
       "for Jupyter support\n",
       "  warnings.warn('install \"ipywidgets\" for Jupyter support')\n"
      ]
     },
     "metadata": {},
     "output_type": "display_data"
    },
    {
     "data": {
      "text/html": [
       "<pre style=\"white-space:pre;overflow-x:auto;line-height:normal;font-family:Menlo,'DejaVu Sans Mono',consolas,'Courier New',monospace\">c:\\ProgramData\\Anaconda3\\envs\\freemocap-env\\Lib\\site-packages\\rich\\live.py:231: UserWarning: install \"ipywidgets\" \n",
       "for Jupyter support\n",
       "  warnings.warn('install \"ipywidgets\" for Jupyter support')\n",
       "</pre>\n"
      ],
      "text/plain": [
       "c:\\ProgramData\\Anaconda3\\envs\\freemocap-env\\Lib\\site-packages\\rich\\live.py:231: UserWarning: install \"ipywidgets\" \n",
       "for Jupyter support\n",
       "  warnings.warn('install \"ipywidgets\" for Jupyter support')\n"
      ]
     },
     "metadata": {},
     "output_type": "display_data"
    },
    {
     "data": {
      "text/html": [
       "<pre style=\"white-space:pre;overflow-x:auto;line-height:normal;font-family:Menlo,'DejaVu Sans Mono',consolas,'Courier New',monospace\">c:\\ProgramData\\Anaconda3\\envs\\freemocap-env\\Lib\\site-packages\\rich\\live.py:231: UserWarning: install \"ipywidgets\" \n",
       "for Jupyter support\n",
       "  warnings.warn('install \"ipywidgets\" for Jupyter support')\n",
       "</pre>\n"
      ],
      "text/plain": [
       "c:\\ProgramData\\Anaconda3\\envs\\freemocap-env\\Lib\\site-packages\\rich\\live.py:231: UserWarning: install \"ipywidgets\" \n",
       "for Jupyter support\n",
       "  warnings.warn('install \"ipywidgets\" for Jupyter support')\n"
      ]
     },
     "metadata": {},
     "output_type": "display_data"
    },
    {
     "data": {
      "text/html": [
       "<pre style=\"white-space:pre;overflow-x:auto;line-height:normal;font-family:Menlo,'DejaVu Sans Mono',consolas,'Courier New',monospace\">c:\\ProgramData\\Anaconda3\\envs\\freemocap-env\\Lib\\site-packages\\rich\\live.py:231: UserWarning: install \"ipywidgets\" \n",
       "for Jupyter support\n",
       "  warnings.warn('install \"ipywidgets\" for Jupyter support')\n",
       "</pre>\n"
      ],
      "text/plain": [
       "c:\\ProgramData\\Anaconda3\\envs\\freemocap-env\\Lib\\site-packages\\rich\\live.py:231: UserWarning: install \"ipywidgets\" \n",
       "for Jupyter support\n",
       "  warnings.warn('install \"ipywidgets\" for Jupyter support')\n"
      ]
     },
     "metadata": {},
     "output_type": "display_data"
    },
    {
     "data": {
      "text/html": [
       "<pre style=\"white-space:pre;overflow-x:auto;line-height:normal;font-family:Menlo,'DejaVu Sans Mono',consolas,'Courier New',monospace\">c:\\ProgramData\\Anaconda3\\envs\\freemocap-env\\Lib\\site-packages\\rich\\live.py:231: UserWarning: install \"ipywidgets\" \n",
       "for Jupyter support\n",
       "  warnings.warn('install \"ipywidgets\" for Jupyter support')\n",
       "</pre>\n"
      ],
      "text/plain": [
       "c:\\ProgramData\\Anaconda3\\envs\\freemocap-env\\Lib\\site-packages\\rich\\live.py:231: UserWarning: install \"ipywidgets\" \n",
       "for Jupyter support\n",
       "  warnings.warn('install \"ipywidgets\" for Jupyter support')\n"
      ]
     },
     "metadata": {},
     "output_type": "display_data"
    },
    {
     "data": {
      "text/html": [
       "<pre style=\"white-space:pre;overflow-x:auto;line-height:normal;font-family:Menlo,'DejaVu Sans Mono',consolas,'Courier New',monospace\"></pre>\n"
      ],
      "text/plain": []
     },
     "metadata": {},
     "output_type": "display_data"
    },
    {
     "data": {
      "text/html": [
       "<pre style=\"white-space:pre;overflow-x:auto;line-height:normal;font-family:Menlo,'DejaVu Sans Mono',consolas,'Courier New',monospace\">\n",
       "</pre>\n"
      ],
      "text/plain": [
       "\n"
      ]
     },
     "metadata": {},
     "output_type": "display_data"
    },
    {
     "data": {
      "text/html": [
       "<pre style=\"white-space:pre;overflow-x:auto;line-height:normal;font-family:Menlo,'DejaVu Sans Mono',consolas,'Courier New',monospace\"></pre>\n"
      ],
      "text/plain": []
     },
     "metadata": {},
     "output_type": "display_data"
    },
    {
     "data": {
      "text/html": [
       "<pre style=\"white-space:pre;overflow-x:auto;line-height:normal;font-family:Menlo,'DejaVu Sans Mono',consolas,'Courier New',monospace\">\n",
       "</pre>\n"
      ],
      "text/plain": [
       "\n"
      ]
     },
     "metadata": {},
     "output_type": "display_data"
    },
    {
     "name": "stdout",
     "output_type": "stream",
     "text": [
      "\u001b[96m[2024-10-06T16:10:25.518654] [Δt:1.633943s] [    INFO] [freemocap.core_processes.post_process_skeleton_data.post_process_skeleton] [post_process_skeleton:run_post_processing_worker():90] [\u001b[38;2;50;255;72mPID:36168:MainProcess\u001b[0m \u001b[38;2;50;255;68mTID:33348:MainThread\u001b[0m ] Done with gap filling, filtering, and aligning\u001b[0m\n",
      "2024-10-06 16:10:25,518 - freemocap.core_processes.post_process_skeleton_data.post_process_skeleton - INFO - Done with gap filling, filtering, and aligning\n",
      "\u001b[96m[2024-10-06T16:10:25.518654] [Δt:0.000000s] [    INFO] [freemocap.core_processes.process_motion_capture_videos.processing_pipeline_functions.anatomical_data_pipeline_functions] [anatomical_data_pipeline_functions:calculate_anatomical_data():26] [\u001b[38;2;50;255;72mPID:36168:MainProcess\u001b[0m \u001b[38;2;50;255;68mTID:33348:MainThread\u001b[0m ] Calculating center of mass...\u001b[0m\n",
      "2024-10-06 16:10:25,518 - freemocap.core_processes.process_motion_capture_videos.processing_pipeline_functions.anatomical_data_pipeline_functions - INFO - Calculating center of mass...\n"
     ]
    },
    {
     "data": {
      "text/html": [
       "<pre style=\"white-space:pre;overflow-x:auto;line-height:normal;font-family:Menlo,'DejaVu Sans Mono',consolas,'Courier New',monospace\">c:\\ProgramData\\Anaconda3\\envs\\freemocap-env\\Lib\\site-packages\\rich\\live.py:231: UserWarning: install \"ipywidgets\" \n",
       "for Jupyter support\n",
       "  warnings.warn('install \"ipywidgets\" for Jupyter support')\n",
       "</pre>\n"
      ],
      "text/plain": [
       "c:\\ProgramData\\Anaconda3\\envs\\freemocap-env\\Lib\\site-packages\\rich\\live.py:231: UserWarning: install \"ipywidgets\" \n",
       "for Jupyter support\n",
       "  warnings.warn('install \"ipywidgets\" for Jupyter support')\n"
      ]
     },
     "metadata": {},
     "output_type": "display_data"
    },
    {
     "data": {
      "text/html": [
       "<pre style=\"white-space:pre;overflow-x:auto;line-height:normal;font-family:Menlo,'DejaVu Sans Mono',consolas,'Courier New',monospace\"></pre>\n"
      ],
      "text/plain": []
     },
     "metadata": {},
     "output_type": "display_data"
    },
    {
     "data": {
      "text/html": [
       "<pre style=\"white-space:pre;overflow-x:auto;line-height:normal;font-family:Menlo,'DejaVu Sans Mono',consolas,'Courier New',monospace\">\n",
       "</pre>\n"
      ],
      "text/plain": [
       "\n"
      ]
     },
     "metadata": {},
     "output_type": "display_data"
    },
    {
     "data": {
      "text/html": [
       "<pre style=\"white-space:pre;overflow-x:auto;line-height:normal;font-family:Menlo,'DejaVu Sans Mono',consolas,'Courier New',monospace\"></pre>\n"
      ],
      "text/plain": []
     },
     "metadata": {},
     "output_type": "display_data"
    },
    {
     "data": {
      "text/html": [
       "<pre style=\"white-space:pre;overflow-x:auto;line-height:normal;font-family:Menlo,'DejaVu Sans Mono',consolas,'Courier New',monospace\">\n",
       "</pre>\n"
      ],
      "text/plain": [
       "\n"
      ]
     },
     "metadata": {},
     "output_type": "display_data"
    },
    {
     "name": "stdout",
     "output_type": "stream",
     "text": [
      "\u001b[96m[2024-10-06T16:10:34.310466] [Δt:8.791813s] [    INFO] [freemocap.core_processes.post_process_skeleton_data.calculate_center_of_mass] [calculate_center_of_mass:calculate_total_body_COM():306] [\u001b[38;2;50;255;72mPID:36168:MainProcess\u001b[0m \u001b[38;2;50;255;68mTID:33348:MainThread\u001b[0m ] Calculating Total Body Center of Mass\u001b[0m\n",
      "2024-10-06 16:10:34,310 - freemocap.core_processes.post_process_skeleton_data.calculate_center_of_mass - INFO - Calculating Total Body Center of Mass\n"
     ]
    },
    {
     "data": {
      "text/html": [
       "<pre style=\"white-space:pre;overflow-x:auto;line-height:normal;font-family:Menlo,'DejaVu Sans Mono',consolas,'Courier New',monospace\"></pre>\n"
      ],
      "text/plain": []
     },
     "metadata": {},
     "output_type": "display_data"
    },
    {
     "data": {
      "text/html": [
       "<pre style=\"white-space:pre;overflow-x:auto;line-height:normal;font-family:Menlo,'DejaVu Sans Mono',consolas,'Courier New',monospace\">\n",
       "</pre>\n"
      ],
      "text/plain": [
       "\n"
      ]
     },
     "metadata": {},
     "output_type": "display_data"
    },
    {
     "name": "stdout",
     "output_type": "stream",
     "text": [
      "\u001b[96m[2024-10-06T16:10:38.878110] [Δt:4.567644s] [    INFO] [freemocap.core_processes.detecting_things_in_2d_images.mediapipe_stuff.convert_mediapipe_npy_to_csv] [convert_mediapipe_npy_to_csv:convert_mediapipe_npy_to_csv():23] [\u001b[38;2;50;255;72mPID:36168:MainProcess\u001b[0m \u001b[38;2;50;255;68mTID:33348:MainThread\u001b[0m ] Converting npy data with shape: (6901, 553, 3) into `csv` and smaller `npy` files\u001b[0m\n",
      "2024-10-06 16:10:38,878 - freemocap.core_processes.detecting_things_in_2d_images.mediapipe_stuff.convert_mediapipe_npy_to_csv - INFO - Converting npy data with shape: (6901, 553, 3) into `csv` and smaller `npy` files\n",
      "\u001b[34m[2024-10-06T16:15:34.925217] [Δt:296.047106s] [   DEBUG] [freemocap.core_processes.detecting_things_in_2d_images.mediapipe_stuff.convert_mediapipe_npy_to_csv] [convert_mediapipe_npy_to_csv:convert_mediapipe_npy_to_csv():239] [\u001b[38;2;50;255;72mPID:36168:MainProcess\u001b[0m \u001b[38;2;50;255;68mTID:33348:MainThread\u001b[0m ] body 3d xyz shape: (6901, 33, 3)\u001b[0m\n",
      "\u001b[34m[2024-10-06T16:15:34.925217] [Δt:0.000000s] [   DEBUG] [freemocap.core_processes.detecting_things_in_2d_images.mediapipe_stuff.convert_mediapipe_npy_to_csv] [convert_mediapipe_npy_to_csv:convert_mediapipe_npy_to_csv():240] [\u001b[38;2;50;255;72mPID:36168:MainProcess\u001b[0m \u001b[38;2;50;255;68mTID:33348:MainThread\u001b[0m ] right hand 3d xyz shape: (6901, 21, 3)\u001b[0m\n",
      "\u001b[34m[2024-10-06T16:15:34.925217] [Δt:0.000000s] [   DEBUG] [freemocap.core_processes.detecting_things_in_2d_images.mediapipe_stuff.convert_mediapipe_npy_to_csv] [convert_mediapipe_npy_to_csv:convert_mediapipe_npy_to_csv():241] [\u001b[38;2;50;255;72mPID:36168:MainProcess\u001b[0m \u001b[38;2;50;255;68mTID:33348:MainThread\u001b[0m ] left hand 3d xyz shape: (6901, 21, 3)\u001b[0m\n",
      "\u001b[34m[2024-10-06T16:15:34.925217] [Δt:0.000000s] [   DEBUG] [freemocap.core_processes.detecting_things_in_2d_images.mediapipe_stuff.convert_mediapipe_npy_to_csv] [convert_mediapipe_npy_to_csv:convert_mediapipe_npy_to_csv():242] [\u001b[38;2;50;255;72mPID:36168:MainProcess\u001b[0m \u001b[38;2;50;255;68mTID:33348:MainThread\u001b[0m ] face 3d xyz shape: (6901, 478, 3)\u001b[0m\n",
      "\u001b[34m[2024-10-06T16:18:43.812604] [Δt:188.887388s] [   DEBUG] [freemocap.core_processes.detecting_things_in_2d_images.mediapipe_stuff.convert_mediapipe_npy_to_csv] [convert_mediapipe_npy_to_csv:convert_mediapipe_npy_to_csv():284] [\u001b[38;2;50;255;72mPID:36168:MainProcess\u001b[0m \u001b[38;2;50;255;68mTID:33348:MainThread\u001b[0m ] length of body 3d xyz `.csv` header: 99, should be: 99\u001b[0m\n",
      "\u001b[34m[2024-10-06T16:18:43.812604] [Δt:0.000000s] [   DEBUG] [freemocap.core_processes.detecting_things_in_2d_images.mediapipe_stuff.convert_mediapipe_npy_to_csv] [convert_mediapipe_npy_to_csv:convert_mediapipe_npy_to_csv():287] [\u001b[38;2;50;255;72mPID:36168:MainProcess\u001b[0m \u001b[38;2;50;255;68mTID:33348:MainThread\u001b[0m ] length of right hand 3d xyz `.csv` header: 63, should be: 63\u001b[0m\n",
      "\u001b[34m[2024-10-06T16:18:43.812604] [Δt:0.000000s] [   DEBUG] [freemocap.core_processes.detecting_things_in_2d_images.mediapipe_stuff.convert_mediapipe_npy_to_csv] [convert_mediapipe_npy_to_csv:convert_mediapipe_npy_to_csv():290] [\u001b[38;2;50;255;72mPID:36168:MainProcess\u001b[0m \u001b[38;2;50;255;68mTID:33348:MainThread\u001b[0m ] length of left hand 3d xyz `.csv` header: 63, should be: 63\u001b[0m\n",
      "\u001b[34m[2024-10-06T16:18:43.812604] [Δt:0.000000s] [   DEBUG] [freemocap.core_processes.detecting_things_in_2d_images.mediapipe_stuff.convert_mediapipe_npy_to_csv] [convert_mediapipe_npy_to_csv:convert_mediapipe_npy_to_csv():293] [\u001b[38;2;50;255;72mPID:36168:MainProcess\u001b[0m \u001b[38;2;50;255;68mTID:33348:MainThread\u001b[0m ] length of face 3d xyz `.csv` header: 1434, should be: 1434\u001b[0m\n",
      "\u001b[96m[2024-10-06T16:20:34.070656] [Δt:110.258051s] [    INFO] [freemocap.core_processes.detecting_things_in_2d_images.mediapipe_stuff.convert_mediapipe_npy_to_csv] [convert_mediapipe_npy_to_csv:convert_mediapipe_npy_to_csv():322] [\u001b[38;2;50;255;72mPID:36168:MainProcess\u001b[0m \u001b[38;2;50;255;68mTID:33348:MainThread\u001b[0m ] Done saving out `csv` and broken up `npy` files\u001b[0m\n",
      "2024-10-06 16:20:34,070 - freemocap.core_processes.detecting_things_in_2d_images.mediapipe_stuff.convert_mediapipe_npy_to_csv - INFO - Done saving out `csv` and broken up `npy` files\n",
      "\u001b[96m[2024-10-06T16:20:34.074555] [Δt:0.003900s] [    INFO] [freemocap.core_processes.process_motion_capture_videos.processing_pipeline_functions.data_saving_pipeline_functions] [data_saving_pipeline_functions:save_data():39] [\u001b[38;2;50;255;72mPID:36168:MainProcess\u001b[0m \u001b[38;2;50;255;68mTID:33348:MainThread\u001b[0m ] Saving post-processed data\u001b[0m\n",
      "2024-10-06 16:20:34,074 - freemocap.core_processes.process_motion_capture_videos.processing_pipeline_functions.data_saving_pipeline_functions - INFO - Saving post-processed data\n",
      "\u001b[96m[2024-10-06T16:20:35.060662] [Δt:0.986107s] [    INFO] [freemocap.core_processes.process_motion_capture_videos.processing_pipeline_functions.data_saving_pipeline_functions] [data_saving_pipeline_functions:save_data():46] [\u001b[38;2;50;255;72mPID:36168:MainProcess\u001b[0m \u001b[38;2;50;255;68mTID:33348:MainThread\u001b[0m ] Saving segment center of mass data\u001b[0m\n",
      "2024-10-06 16:20:35,060 - freemocap.core_processes.process_motion_capture_videos.processing_pipeline_functions.data_saving_pipeline_functions - INFO - Saving segment center of mass data\n",
      "\u001b[96m[2024-10-06T16:20:35.191646] [Δt:0.130984s] [    INFO] [freemocap.core_processes.process_motion_capture_videos.processing_pipeline_functions.data_saving_pipeline_functions] [data_saving_pipeline_functions:save_data():53] [\u001b[38;2;50;255;72mPID:36168:MainProcess\u001b[0m \u001b[38;2;50;255;68mTID:33348:MainThread\u001b[0m ] Saving total body center of mass data\u001b[0m\n",
      "2024-10-06 16:20:35,191 - freemocap.core_processes.process_motion_capture_videos.processing_pipeline_functions.data_saving_pipeline_functions - INFO - Saving total body center of mass data\n",
      "\u001b[96m[2024-10-06T16:20:35.308339] [Δt:0.116693s] [    INFO] [freemocap.utilities.save_dictionary_to_json] [save_dictionary_to_json:save_dictionary_to_json():16] [\u001b[38;2;50;255;72mPID:36168:MainProcess\u001b[0m \u001b[38;2;50;255;68mTID:33348:MainThread\u001b[0m ] Saved dictionary mediapipe_names_and_connections_dict.json as json  at: Z:\\Davide_MultimodalLab\\3_DATA_ANALYSIS\\1_MOTION_TRACKING\\1_Video_Segmentation\\video_split\\pilot_04_d2_SUD_1_End_SUD_2_Start\\output_data\\mediapipe_names_and_connections_dict.json\u001b[0m\n",
      "2024-10-06 16:20:35,308 - freemocap.utilities.save_dictionary_to_json - INFO - Saved dictionary mediapipe_names_and_connections_dict.json as json  at: Z:\\Davide_MultimodalLab\\3_DATA_ANALYSIS\\1_MOTION_TRACKING\\1_Video_Segmentation\\video_split\\pilot_04_d2_SUD_1_End_SUD_2_Start\\output_data\\mediapipe_names_and_connections_dict.json\n",
      "\u001b[33m[2024-10-06T16:20:35.410293] [Δt:0.101954s] [ WARNING] [freemocap.system.paths_and_filenames.file_and_folder_names] [path_getters:get_timestamps_directory():252] [\u001b[38;2;50;255;72mPID:36168:MainProcess\u001b[0m \u001b[38;2;50;255;68mTID:33348:MainThread\u001b[0m ] Could not find timestamps directory in Z:\\Davide_MultimodalLab\\3_DATA_ANALYSIS\\1_MOTION_TRACKING\\1_Video_Segmentation\\video_split\\pilot_04_d2_SUD_1_End_SUD_2_Start\\synchronized_videos\u001b[0m\n",
      "2024-10-06 16:20:35,410 - freemocap.system.paths_and_filenames.file_and_folder_names - WARNING - Could not find timestamps directory in Z:\\Davide_MultimodalLab\\3_DATA_ANALYSIS\\1_MOTION_TRACKING\\1_Video_Segmentation\\video_split\\pilot_04_d2_SUD_1_End_SUD_2_Start\\synchronized_videos\n",
      "\u001b[33m[2024-10-06T16:20:35.410293] [Δt:0.000000s] [ WARNING] [freemocap.data_layer.data_saver.data_loader] [data_loader:_load_timestamps():91] [\u001b[38;2;50;255;72mPID:36168:MainProcess\u001b[0m \u001b[38;2;50;255;68mTID:33348:MainThread\u001b[0m ] No timestamps directory found. Skipping timestamps loading.\u001b[0m\n",
      "2024-10-06 16:20:35,410 - freemocap.data_layer.data_saver.data_loader - WARNING - No timestamps directory found. Skipping timestamps loading.\n",
      "\u001b[96m[2024-10-06T16:22:24.019366] [Δt:108.609073s] [    INFO] [freemocap.data_layer.data_saver.data_saver] [data_saver:save_to_json():59] [\u001b[38;2;50;255;72mPID:36168:MainProcess\u001b[0m \u001b[38;2;50;255;68mTID:33348:MainThread\u001b[0m ] Saving recording data to Z:\\Davide_MultimodalLab\\3_DATA_ANALYSIS\\1_MOTION_TRACKING\\1_Video_Segmentation\\video_split\\pilot_04_d2_SUD_1_End_SUD_2_Start\\pilot_04_d2_SUD_1_End_SUD_2_Start_by_frame.json\u001b[0m\n",
      "2024-10-06 16:22:24,019 - freemocap.data_layer.data_saver.data_saver - INFO - Saving recording data to Z:\\Davide_MultimodalLab\\3_DATA_ANALYSIS\\1_MOTION_TRACKING\\1_Video_Segmentation\\video_split\\pilot_04_d2_SUD_1_End_SUD_2_Start\\pilot_04_d2_SUD_1_End_SUD_2_Start_by_frame.json\n",
      "\u001b[96m[2024-10-06T16:24:30.661554] [Δt:126.642188s] [    INFO] [freemocap.data_layer.data_saver.data_saver] [data_saver:save_to_csv():76] [\u001b[38;2;50;255;72mPID:36168:MainProcess\u001b[0m \u001b[38;2;50;255;68mTID:33348:MainThread\u001b[0m ] Saved recording data to Z:\\Davide_MultimodalLab\\3_DATA_ANALYSIS\\1_MOTION_TRACKING\\1_Video_Segmentation\\video_split\\pilot_04_d2_SUD_1_End_SUD_2_Start\\pilot_04_d2_SUD_1_End_SUD_2_Start_by_trajectory.csv\u001b[0m\n",
      "2024-10-06 16:24:30,661 - freemocap.data_layer.data_saver.data_saver - INFO - Saved recording data to Z:\\Davide_MultimodalLab\\3_DATA_ANALYSIS\\1_MOTION_TRACKING\\1_Video_Segmentation\\video_split\\pilot_04_d2_SUD_1_End_SUD_2_Start\\pilot_04_d2_SUD_1_End_SUD_2_Start_by_trajectory.csv\n",
      "\u001b[96m[2024-10-06T16:24:32.699547] [Δt:2.037993s] [    INFO] [freemocap.data_layer.data_saver.data_saver] [data_saver:save_to_npy():82] [\u001b[38;2;50;255;72mPID:36168:MainProcess\u001b[0m \u001b[38;2;50;255;68mTID:33348:MainThread\u001b[0m ] Saved recording data to Z:\\Davide_MultimodalLab\\3_DATA_ANALYSIS\\1_MOTION_TRACKING\\1_Video_Segmentation\\video_split\\pilot_04_d2_SUD_1_End_SUD_2_Start\\pilot_04_d2_SUD_1_End_SUD_2_Start_frame_name_xyz.npy\u001b[0m\n",
      "2024-10-06 16:24:32,699 - freemocap.data_layer.data_saver.data_saver - INFO - Saved recording data to Z:\\Davide_MultimodalLab\\3_DATA_ANALYSIS\\1_MOTION_TRACKING\\1_Video_Segmentation\\video_split\\pilot_04_d2_SUD_1_End_SUD_2_Start\\pilot_04_d2_SUD_1_End_SUD_2_Start_frame_name_xyz.npy\n",
      "\u001b[96m[2024-10-06T16:24:32.928674] [Δt:0.229127s] [    INFO] [freemocap.core_processes.process_motion_capture_videos.process_recording_folder] [process_recording_folder:process_recording_folder():143] [\u001b[38;2;50;255;72mPID:36168:MainProcess\u001b[0m \u001b[38;2;50;255;68mTID:33348:MainThread\u001b[0m ] Done processing Z:\\Davide_MultimodalLab\\3_DATA_ANALYSIS\\1_MOTION_TRACKING\\1_Video_Segmentation\\video_split\\pilot_04_d2_SUD_1_End_SUD_2_Start\u001b[0m\n",
      "2024-10-06 16:24:32,928 - freemocap.core_processes.process_motion_capture_videos.process_recording_folder - INFO - Done processing Z:\\Davide_MultimodalLab\\3_DATA_ANALYSIS\\1_MOTION_TRACKING\\1_Video_Segmentation\\video_split\\pilot_04_d2_SUD_1_End_SUD_2_Start\n",
      "\u001b[33m[2024-10-06T16:24:32.973273] [Δt:0.044598s] [ WARNING] [root] [1048335352:process_recording():48] [\u001b[38;2;50;255;72mPID:36168:MainProcess\u001b[0m \u001b[38;2;50;255;68mTID:33348:MainThread\u001b[0m ] No blender executable provided. Blender file will not be exported.\u001b[0m\n",
      "2024-10-06 16:24:32,973 - root - WARNING - No blender executable provided. Blender file will not be exported.\n",
      "We will now load this vide folder  Z:\\Davide_MultimodalLab\\3_DATA_ANALYSIS\\1_MOTION_TRACKING\\1_Video_Segmentation\\video_split\\pilot_04_d2_SUD_1_End_SUD_2_Start\n",
      "\u001b[96m[2024-10-06T16:24:32.977795] [Δt:0.004522s] [    INFO] [root] [2323846283:<module>():20] [\u001b[38;2;50;255;72mPID:36168:MainProcess\u001b[0m \u001b[38;2;50;255;68mTID:33348:MainThread\u001b[0m ] Processing video folder: Z:\\Davide_MultimodalLab\\3_DATA_ANALYSIS\\1_MOTION_TRACKING\\1_Video_Segmentation\\video_split\\pilot_04_d2_SUD_2_End_SUD_3_Start\u001b[0m\n",
      "2024-10-06 16:24:32,977 - root - INFO - Processing video folder: Z:\\Davide_MultimodalLab\\3_DATA_ANALYSIS\\1_MOTION_TRACKING\\1_Video_Segmentation\\video_split\\pilot_04_d2_SUD_2_End_SUD_3_Start\n",
      "\u001b[96m[2024-10-06T16:24:33.287557] [Δt:0.309763s] [    INFO] [freemocap.utilities.save_dictionary_to_json] [save_dictionary_to_json:save_dictionary_to_json():16] [\u001b[38;2;50;255;72mPID:36168:MainProcess\u001b[0m \u001b[38;2;50;255;68mTID:33348:MainThread\u001b[0m ] Saved dictionary recording_parameters.json as json  at: Z:\\Davide_MultimodalLab\\3_DATA_ANALYSIS\\1_MOTION_TRACKING\\1_Video_Segmentation\\video_split\\pilot_04_d2_SUD_2_End_SUD_3_Start\\output_data\\recording_parameters.json\u001b[0m\n",
      "2024-10-06 16:24:33,287 - freemocap.utilities.save_dictionary_to_json - INFO - Saved dictionary recording_parameters.json as json  at: Z:\\Davide_MultimodalLab\\3_DATA_ANALYSIS\\1_MOTION_TRACKING\\1_Video_Segmentation\\video_split\\pilot_04_d2_SUD_2_End_SUD_3_Start\\output_data\\recording_parameters.json\n",
      "\u001b[96m[2024-10-06T16:24:34.133724] [Δt:0.846167s] [    INFO] [freemocap.data_layer.recording_models.recording_info_model] [recording_info_model:get_number_of_mp4s_in_synched_videos_directory():239] [\u001b[38;2;50;255;72mPID:36168:MainProcess\u001b[0m \u001b[38;2;50;255;68mTID:33348:MainThread\u001b[0m ] Number of `.mp4`'s in Z:\\Davide_MultimodalLab\\3_DATA_ANALYSIS\\1_MOTION_TRACKING\\1_Video_Segmentation\\video_split\\pilot_04_d2_SUD_2_End_SUD_3_Start\\synchronized_videos: 3\u001b[0m\n",
      "2024-10-06 16:24:34,133 - freemocap.data_layer.recording_models.recording_info_model - INFO - Number of `.mp4`'s in Z:\\Davide_MultimodalLab\\3_DATA_ANALYSIS\\1_MOTION_TRACKING\\1_Video_Segmentation\\video_split\\pilot_04_d2_SUD_2_End_SUD_3_Start\\synchronized_videos: 3\n",
      "\u001b[34m[2024-10-06T16:24:34.133724] [Δt:0.000000s] [   DEBUG] [freemocap.data_layer.recording_models.recording_info_model] [recording_info_model:get_number_of_frames_in_videos():253] [\u001b[38;2;50;255;72mPID:36168:MainProcess\u001b[0m \u001b[38;2;50;255;68mTID:33348:MainThread\u001b[0m ] No 'timestamps' directory, finding frame counts from synchronized videos\u001b[0m\n",
      "\u001b[96m[2024-10-06T16:24:34.376418] [Δt:0.242693s] [    INFO] [freemocap.core_processes.process_motion_capture_videos.processing_pipeline_functions.image_tracking_pipeline_functions] [image_tracking_pipeline_functions:run_image_tracking_pipeline():44] [\u001b[38;2;50;255;72mPID:36168:MainProcess\u001b[0m \u001b[38;2;50;255;68mTID:33348:MainThread\u001b[0m ] Detecting 2d skeletons...\u001b[0m\n",
      "2024-10-06 16:24:34,376 - freemocap.core_processes.process_motion_capture_videos.processing_pipeline_functions.image_tracking_pipeline_functions - INFO - Detecting 2d skeletons...\n",
      "\u001b[96m[2024-10-06T16:24:34.376418] [Δt:0.000000s] [    INFO] [freemocap.core_processes.process_motion_capture_videos.processing_pipeline_functions.image_tracking_pipeline_functions] [image_tracking_pipeline_functions:run_image_tracking_pipeline():45] [\u001b[38;2;50;255;72mPID:36168:MainProcess\u001b[0m \u001b[38;2;50;255;68mTID:33348:MainThread\u001b[0m ] Log Progress\u001b[0m\n",
      "2024-10-06 16:24:34,376 - freemocap.core_processes.process_motion_capture_videos.processing_pipeline_functions.image_tracking_pipeline_functions - INFO - Log Progress\n",
      "\u001b[96m[2024-10-06T16:24:34.573294] [Δt:0.196876s] [    INFO] [skellytracker.process_folder_of_videos] [process_folder_of_videos:process_single_video():131] [\u001b[38;2;50;255;72mPID:36168:MainProcess\u001b[0m \u001b[38;2;50;255;68mTID:33348:MainThread\u001b[0m ] Processing video: pilot_04_d2_SUD_2_End_SUD_3_Start_cam1_mediapipe.mp4 with tracker: MediapipeHolisticTracker\u001b[0m\n",
      "2024-10-06 16:24:34,573 - skellytracker.process_folder_of_videos - INFO - Processing video: pilot_04_d2_SUD_2_End_SUD_3_Start_cam1_mediapipe.mp4 with tracker: MediapipeHolisticTracker\n"
     ]
    },
    {
     "name": "stderr",
     "output_type": "stream",
     "text": [
      "processing video: pilot_04_d2_SUD_2_End_SUD_3_Start_cam1.mp4: 100%|\u001b[35m██████████\u001b[0m| 6939/6939 [13:33<00:00,  8.53frames/s]"
     ]
    },
    {
     "name": "stdout",
     "output_type": "stream",
     "text": [
      "\u001b[96m[2024-10-06T16:38:08.184664] [Δt:813.611370s] [    INFO] [skellytracker.trackers.base_tracker.video_handler] [video_handler:close():45] [\u001b[38;2;50;255;72mPID:36168:MainProcess\u001b[0m \u001b[38;2;50;255;68mTID:33348:MainThread\u001b[0m ] video saved to Z:\\Davide_MultimodalLab\\3_DATA_ANALYSIS\\1_MOTION_TRACKING\\1_Video_Segmentation\\video_split\\pilot_04_d2_SUD_2_End_SUD_3_Start\\annotated_videos\\pilot_04_d2_SUD_2_End_SUD_3_Start_cam1_mediapipe.mp4\u001b[0m\n",
      "2024-10-06 16:38:08,184 - skellytracker.trackers.base_tracker.video_handler - INFO - video saved to Z:\\Davide_MultimodalLab\\3_DATA_ANALYSIS\\1_MOTION_TRACKING\\1_Video_Segmentation\\video_split\\pilot_04_d2_SUD_2_End_SUD_3_Start\\annotated_videos\\pilot_04_d2_SUD_2_End_SUD_3_Start_cam1_mediapipe.mp4\n"
     ]
    },
    {
     "name": "stderr",
     "output_type": "stream",
     "text": [
      "\n"
     ]
    },
    {
     "name": "stdout",
     "output_type": "stream",
     "text": [
      "\u001b[96m[2024-10-06T16:38:12.171621] [Δt:3.986958s] [    INFO] [skellytracker.process_folder_of_videos] [process_folder_of_videos:process_single_video():131] [\u001b[38;2;50;255;72mPID:36168:MainProcess\u001b[0m \u001b[38;2;50;255;68mTID:33348:MainThread\u001b[0m ] Processing video: pilot_04_d2_SUD_2_End_SUD_3_Start_cam2_mediapipe.mp4 with tracker: MediapipeHolisticTracker\u001b[0m\n",
      "2024-10-06 16:38:12,171 - skellytracker.process_folder_of_videos - INFO - Processing video: pilot_04_d2_SUD_2_End_SUD_3_Start_cam2_mediapipe.mp4 with tracker: MediapipeHolisticTracker\n"
     ]
    },
    {
     "name": "stderr",
     "output_type": "stream",
     "text": [
      "processing video: pilot_04_d2_SUD_2_End_SUD_3_Start_cam2.mp4: 100%|\u001b[35m██████████\u001b[0m| 6939/6939 [13:11<00:00,  8.76frames/s]"
     ]
    },
    {
     "name": "stdout",
     "output_type": "stream",
     "text": [
      "\u001b[96m[2024-10-06T16:51:24.475804] [Δt:792.304874s] [    INFO] [skellytracker.trackers.base_tracker.video_handler] [video_handler:close():45] [\u001b[38;2;50;255;72mPID:36168:MainProcess\u001b[0m \u001b[38;2;50;255;68mTID:33348:MainThread\u001b[0m ] video saved to Z:\\Davide_MultimodalLab\\3_DATA_ANALYSIS\\1_MOTION_TRACKING\\1_Video_Segmentation\\video_split\\pilot_04_d2_SUD_2_End_SUD_3_Start\\annotated_videos\\pilot_04_d2_SUD_2_End_SUD_3_Start_cam2_mediapipe.mp4\u001b[0m\n",
      "2024-10-06 16:51:24,475 - skellytracker.trackers.base_tracker.video_handler - INFO - video saved to Z:\\Davide_MultimodalLab\\3_DATA_ANALYSIS\\1_MOTION_TRACKING\\1_Video_Segmentation\\video_split\\pilot_04_d2_SUD_2_End_SUD_3_Start\\annotated_videos\\pilot_04_d2_SUD_2_End_SUD_3_Start_cam2_mediapipe.mp4\n"
     ]
    },
    {
     "name": "stderr",
     "output_type": "stream",
     "text": [
      "\n"
     ]
    },
    {
     "name": "stdout",
     "output_type": "stream",
     "text": [
      "\u001b[96m[2024-10-06T16:51:28.516962] [Δt:4.040467s] [    INFO] [skellytracker.process_folder_of_videos] [process_folder_of_videos:process_single_video():131] [\u001b[38;2;50;255;72mPID:36168:MainProcess\u001b[0m \u001b[38;2;50;255;68mTID:33348:MainThread\u001b[0m ] Processing video: pilot_04_d2_SUD_2_End_SUD_3_Start_cam3_mediapipe.mp4 with tracker: MediapipeHolisticTracker\u001b[0m\n",
      "2024-10-06 16:51:28,516 - skellytracker.process_folder_of_videos - INFO - Processing video: pilot_04_d2_SUD_2_End_SUD_3_Start_cam3_mediapipe.mp4 with tracker: MediapipeHolisticTracker\n"
     ]
    },
    {
     "name": "stderr",
     "output_type": "stream",
     "text": [
      "processing video: pilot_04_d2_SUD_2_End_SUD_3_Start_cam3.mp4: 100%|\u001b[35m██████████\u001b[0m| 6939/6939 [13:24<00:00,  8.62frames/s]"
     ]
    },
    {
     "name": "stdout",
     "output_type": "stream",
     "text": [
      "\u001b[96m[2024-10-06T17:04:53.805069] [Δt:805.288107s] [    INFO] [skellytracker.trackers.base_tracker.video_handler] [video_handler:close():45] [\u001b[38;2;50;255;72mPID:36168:MainProcess\u001b[0m \u001b[38;2;50;255;68mTID:33348:MainThread\u001b[0m ] video saved to Z:\\Davide_MultimodalLab\\3_DATA_ANALYSIS\\1_MOTION_TRACKING\\1_Video_Segmentation\\video_split\\pilot_04_d2_SUD_2_End_SUD_3_Start\\annotated_videos\\pilot_04_d2_SUD_2_End_SUD_3_Start_cam3_mediapipe.mp4\u001b[0m\n",
      "2024-10-06 17:04:53,805 - skellytracker.trackers.base_tracker.video_handler - INFO - video saved to Z:\\Davide_MultimodalLab\\3_DATA_ANALYSIS\\1_MOTION_TRACKING\\1_Video_Segmentation\\video_split\\pilot_04_d2_SUD_2_End_SUD_3_Start\\annotated_videos\\pilot_04_d2_SUD_2_End_SUD_3_Start_cam3_mediapipe.mp4\n"
     ]
    },
    {
     "name": "stderr",
     "output_type": "stream",
     "text": [
      "\n"
     ]
    },
    {
     "name": "stdout",
     "output_type": "stream",
     "text": [
      "\u001b[96m[2024-10-06T17:04:57.753679] [Δt:3.948610s] [    INFO] [skellytracker.process_folder_of_videos] [process_folder_of_videos:process_folder_of_videos():105] [\u001b[38;2;50;255;72mPID:36168:MainProcess\u001b[0m \u001b[38;2;50;255;68mTID:33348:MainThread\u001b[0m ] Shape of output array: (3, 6939, 553, 3)\u001b[0m\n",
      "2024-10-06 17:04:57,753 - skellytracker.process_folder_of_videos - INFO - Shape of output array: (3, 6939, 553, 3)\n",
      "\u001b[96m[2024-10-06T17:05:10.654885] [Δt:12.901206s] [    INFO] [freemocap.core_processes.process_motion_capture_videos.processing_pipeline_functions.triangulation_pipeline_functions] [triangulation_pipeline_functions:get_triangulated_data():63] [\u001b[38;2;50;255;72mPID:36168:MainProcess\u001b[0m \u001b[38;2;50;255;68mTID:33348:MainThread\u001b[0m ] Triangulating 3d skeletons...\u001b[0m\n",
      "2024-10-06 17:05:10,654 - freemocap.core_processes.process_motion_capture_videos.processing_pipeline_functions.triangulation_pipeline_functions - INFO - Triangulating 3d skeletons...\n",
      "\u001b[96m[2024-10-06T17:05:10.654885] [Δt:0.000000s] [    INFO] [freemocap.core_processes.process_motion_capture_videos.processing_pipeline_functions.triangulation_pipeline_functions] [triangulation_pipeline_functions:get_triangulated_data():64] [\u001b[38;2;50;255;72mPID:36168:MainProcess\u001b[0m \u001b[38;2;50;255;68mTID:33348:MainThread\u001b[0m ] Log Progress\u001b[0m\n",
      "2024-10-06 17:05:10,654 - freemocap.core_processes.process_motion_capture_videos.processing_pipeline_functions.triangulation_pipeline_functions - INFO - Log Progress\n",
      "\u001b[96m[2024-10-06T17:05:11.150661] [Δt:0.495776s] [    INFO] [freemocap.core_processes.capture_volume_calibration.anipose_camera_calibration.get_anipose_calibration_object] [get_anipose_calibration_object:load_anipose_calibration_toml_from_path():38] [\u001b[38;2;50;255;72mPID:36168:MainProcess\u001b[0m \u001b[38;2;50;255;68mTID:33348:MainThread\u001b[0m ] loading camera calibration file from:Z:\\Davide_MultimodalLab\\3_DATA_ANALYSIS\\1_MOTION_TRACKING\\2_Video_Calibration\\calibration_results\\pilot_04_d2_calibration_charuco_calibration_anipose.toml\u001b[0m\n",
      "2024-10-06 17:05:11,150 - freemocap.core_processes.capture_volume_calibration.anipose_camera_calibration.get_anipose_calibration_object - INFO - loading camera calibration file from:Z:\\Davide_MultimodalLab\\3_DATA_ANALYSIS\\1_MOTION_TRACKING\\2_Video_Calibration\\calibration_results\\pilot_04_d2_calibration_charuco_calibration_anipose.toml\n",
      "\u001b[96m[2024-10-06T17:05:11.190024] [Δt:0.039362s] [    INFO] [freemocap.core_processes.capture_volume_calibration.triangulate_3d_data] [triangulate_3d_data:triangulate_3d_data():35] [\u001b[38;2;50;255;72mPID:36168:MainProcess\u001b[0m \u001b[38;2;50;255;68mTID:33348:MainThread\u001b[0m ] Reconstructing 3d points from 2d points with shape: \n",
      "number_of_cameras: 3,\n",
      "number_of_frames: 6939, \n",
      "number_of_tracked_points: 553,\n",
      "number_of_spatial_dimensions: 2\u001b[0m\n",
      "2024-10-06 17:05:11,190 - freemocap.core_processes.capture_volume_calibration.triangulate_3d_data - INFO - Reconstructing 3d points from 2d points with shape: \n",
      "number_of_cameras: 3,\n",
      "number_of_frames: 6939, \n",
      "number_of_tracked_points: 553,\n",
      "number_of_spatial_dimensions: 2\n",
      "\u001b[96m[2024-10-06T17:05:11.190024] [Δt:0.000000s] [    INFO] [freemocap.core_processes.capture_volume_calibration.triangulate_3d_data] [triangulate_3d_data:triangulate_3d_data():47] [\u001b[38;2;50;255;72mPID:36168:MainProcess\u001b[0m \u001b[38;2;50;255;68mTID:33348:MainThread\u001b[0m ] Using simple `triangulate` method \u001b[0m\n",
      "2024-10-06 17:05:11,190 - freemocap.core_processes.capture_volume_calibration.triangulate_3d_data - INFO - Using simple `triangulate` method \n"
     ]
    },
    {
     "name": "stderr",
     "output_type": "stream",
     "text": [
      "100%|█████████████████████| 3837267/3837267 [08:10<00:00, 7828.16it/s]\n"
     ]
    },
    {
     "name": "stdout",
     "output_type": "stream",
     "text": [
      "\u001b[96m[2024-10-06T17:13:33.999656] [Δt:502.809633s] [    INFO] [freemocap.core_processes.capture_volume_calibration.save_mediapipe_3d_data_to_npy] [save_mediapipe_3d_data_to_npy:save_mediapipe_3d_data_to_npy():50] [\u001b[38;2;50;255;72mPID:36168:MainProcess\u001b[0m \u001b[38;2;50;255;68mTID:33348:MainThread\u001b[0m ] saving: Z:\\Davide_MultimodalLab\\3_DATA_ANALYSIS\\1_MOTION_TRACKING\\1_Video_Segmentation\\video_split\\pilot_04_d2_SUD_2_End_SUD_3_Start\\output_data\\raw_data\\mediapipe3dData_numFrames_numTrackedPoints_spatialXYZ.npy\u001b[0m\n",
      "2024-10-06 17:13:33,999 - freemocap.core_processes.capture_volume_calibration.save_mediapipe_3d_data_to_npy - INFO - saving: Z:\\Davide_MultimodalLab\\3_DATA_ANALYSIS\\1_MOTION_TRACKING\\1_Video_Segmentation\\video_split\\pilot_04_d2_SUD_2_End_SUD_3_Start\\output_data\\raw_data\\mediapipe3dData_numFrames_numTrackedPoints_spatialXYZ.npy\n",
      "\u001b[96m[2024-10-06T17:13:34.949059] [Δt:0.949402s] [    INFO] [freemocap.core_processes.capture_volume_calibration.save_mediapipe_3d_data_to_npy] [save_mediapipe_3d_data_to_npy:save_mediapipe_3d_data_to_npy():55] [\u001b[38;2;50;255;72mPID:36168:MainProcess\u001b[0m \u001b[38;2;50;255;68mTID:33348:MainThread\u001b[0m ] saving: Z:\\Davide_MultimodalLab\\3_DATA_ANALYSIS\\1_MOTION_TRACKING\\1_Video_Segmentation\\video_split\\pilot_04_d2_SUD_2_End_SUD_3_Start\\output_data\\raw_data\\mediapipe3dData_numFrames_numTrackedPoints_reprojectionError.npy\u001b[0m\n",
      "2024-10-06 17:13:34,949 - freemocap.core_processes.capture_volume_calibration.save_mediapipe_3d_data_to_npy - INFO - saving: Z:\\Davide_MultimodalLab\\3_DATA_ANALYSIS\\1_MOTION_TRACKING\\1_Video_Segmentation\\video_split\\pilot_04_d2_SUD_2_End_SUD_3_Start\\output_data\\raw_data\\mediapipe3dData_numFrames_numTrackedPoints_reprojectionError.npy\n",
      "\u001b[96m[2024-10-06T17:13:35.298360] [Δt:0.349804s] [    INFO] [freemocap.core_processes.capture_volume_calibration.save_mediapipe_3d_data_to_npy] [save_mediapipe_3d_data_to_npy:save_mediapipe_3d_data_to_npy():61] [\u001b[38;2;50;255;72mPID:36168:MainProcess\u001b[0m \u001b[38;2;50;255;68mTID:33348:MainThread\u001b[0m ] saving: Z:\\Davide_MultimodalLab\\3_DATA_ANALYSIS\\1_MOTION_TRACKING\\1_Video_Segmentation\\video_split\\pilot_04_d2_SUD_2_End_SUD_3_Start\\output_data\\raw_data\\mediapipe3dData_numCams_numFrames_numTrackedPoints_reprojectionError.npy\u001b[0m\n",
      "2024-10-06 17:13:35,298 - freemocap.core_processes.capture_volume_calibration.save_mediapipe_3d_data_to_npy - INFO - saving: Z:\\Davide_MultimodalLab\\3_DATA_ANALYSIS\\1_MOTION_TRACKING\\1_Video_Segmentation\\video_split\\pilot_04_d2_SUD_2_End_SUD_3_Start\\output_data\\raw_data\\mediapipe3dData_numCams_numFrames_numTrackedPoints_reprojectionError.npy\n",
      "\u001b[96m[2024-10-06T17:13:36.338854] [Δt:1.039992s] [    INFO] [freemocap.core_processes.post_process_skeleton_data.post_process_skeleton] [post_process_skeleton:run_post_processing_worker():79] [\u001b[38;2;50;255;72mPID:36168:MainProcess\u001b[0m \u001b[38;2;50;255;68mTID:33348:MainThread\u001b[0m ] Starting post-processing worker thread\u001b[0m\n",
      "2024-10-06 17:13:36,338 - freemocap.core_processes.post_process_skeleton_data.post_process_skeleton - INFO - Starting post-processing worker thread\n",
      "\u001b[96m[2024-10-06T17:13:36.339891] [Δt:0.001037s] [    INFO] [freemocap.core_processes.post_process_skeleton_data.post_process_skeleton] [post_process_skeleton:run_post_processing_worker():80] [\u001b[38;2;50;255;72mPID:36168:MainProcess\u001b[0m \u001b[38;2;50;255;68mTID:33348:MainThread\u001b[0m ] Log Progress\u001b[0m\n",
      "2024-10-06 17:13:36,339 - freemocap.core_processes.post_process_skeleton_data.post_process_skeleton - INFO - Log Progress\n"
     ]
    },
    {
     "data": {
      "text/html": [
       "<pre style=\"white-space:pre;overflow-x:auto;line-height:normal;font-family:Menlo,'DejaVu Sans Mono',consolas,'Courier New',monospace\">c:\\ProgramData\\Anaconda3\\envs\\freemocap-env\\Lib\\site-packages\\rich\\live.py:231: UserWarning: install \"ipywidgets\" \n",
       "for Jupyter support\n",
       "  warnings.warn('install \"ipywidgets\" for Jupyter support')\n",
       "</pre>\n"
      ],
      "text/plain": [
       "c:\\ProgramData\\Anaconda3\\envs\\freemocap-env\\Lib\\site-packages\\rich\\live.py:231: UserWarning: install \"ipywidgets\" \n",
       "for Jupyter support\n",
       "  warnings.warn('install \"ipywidgets\" for Jupyter support')\n"
      ]
     },
     "metadata": {},
     "output_type": "display_data"
    },
    {
     "data": {
      "text/html": [
       "<pre style=\"white-space:pre;overflow-x:auto;line-height:normal;font-family:Menlo,'DejaVu Sans Mono',consolas,'Courier New',monospace\">c:\\ProgramData\\Anaconda3\\envs\\freemocap-env\\Lib\\site-packages\\rich\\live.py:231: UserWarning: install \"ipywidgets\" \n",
       "for Jupyter support\n",
       "  warnings.warn('install \"ipywidgets\" for Jupyter support')\n",
       "</pre>\n"
      ],
      "text/plain": [
       "c:\\ProgramData\\Anaconda3\\envs\\freemocap-env\\Lib\\site-packages\\rich\\live.py:231: UserWarning: install \"ipywidgets\" \n",
       "for Jupyter support\n",
       "  warnings.warn('install \"ipywidgets\" for Jupyter support')\n"
      ]
     },
     "metadata": {},
     "output_type": "display_data"
    },
    {
     "data": {
      "text/html": [
       "<pre style=\"white-space:pre;overflow-x:auto;line-height:normal;font-family:Menlo,'DejaVu Sans Mono',consolas,'Courier New',monospace\">c:\\ProgramData\\Anaconda3\\envs\\freemocap-env\\Lib\\site-packages\\rich\\live.py:231: UserWarning: install \"ipywidgets\" \n",
       "for Jupyter support\n",
       "  warnings.warn('install \"ipywidgets\" for Jupyter support')\n",
       "</pre>\n"
      ],
      "text/plain": [
       "c:\\ProgramData\\Anaconda3\\envs\\freemocap-env\\Lib\\site-packages\\rich\\live.py:231: UserWarning: install \"ipywidgets\" \n",
       "for Jupyter support\n",
       "  warnings.warn('install \"ipywidgets\" for Jupyter support')\n"
      ]
     },
     "metadata": {},
     "output_type": "display_data"
    },
    {
     "data": {
      "text/html": [
       "<pre style=\"white-space:pre;overflow-x:auto;line-height:normal;font-family:Menlo,'DejaVu Sans Mono',consolas,'Courier New',monospace\">c:\\ProgramData\\Anaconda3\\envs\\freemocap-env\\Lib\\site-packages\\rich\\live.py:231: UserWarning: install \"ipywidgets\" \n",
       "for Jupyter support\n",
       "  warnings.warn('install \"ipywidgets\" for Jupyter support')\n",
       "</pre>\n"
      ],
      "text/plain": [
       "c:\\ProgramData\\Anaconda3\\envs\\freemocap-env\\Lib\\site-packages\\rich\\live.py:231: UserWarning: install \"ipywidgets\" \n",
       "for Jupyter support\n",
       "  warnings.warn('install \"ipywidgets\" for Jupyter support')\n"
      ]
     },
     "metadata": {},
     "output_type": "display_data"
    },
    {
     "data": {
      "text/html": [
       "<pre style=\"white-space:pre;overflow-x:auto;line-height:normal;font-family:Menlo,'DejaVu Sans Mono',consolas,'Courier New',monospace\">c:\\ProgramData\\Anaconda3\\envs\\freemocap-env\\Lib\\site-packages\\rich\\live.py:231: UserWarning: install \"ipywidgets\" \n",
       "for Jupyter support\n",
       "  warnings.warn('install \"ipywidgets\" for Jupyter support')\n",
       "</pre>\n"
      ],
      "text/plain": [
       "c:\\ProgramData\\Anaconda3\\envs\\freemocap-env\\Lib\\site-packages\\rich\\live.py:231: UserWarning: install \"ipywidgets\" \n",
       "for Jupyter support\n",
       "  warnings.warn('install \"ipywidgets\" for Jupyter support')\n"
      ]
     },
     "metadata": {},
     "output_type": "display_data"
    },
    {
     "data": {
      "text/html": [
       "<pre style=\"white-space:pre;overflow-x:auto;line-height:normal;font-family:Menlo,'DejaVu Sans Mono',consolas,'Courier New',monospace\">c:\\ProgramData\\Anaconda3\\envs\\freemocap-env\\Lib\\site-packages\\rich\\live.py:231: UserWarning: install \"ipywidgets\" \n",
       "for Jupyter support\n",
       "  warnings.warn('install \"ipywidgets\" for Jupyter support')\n",
       "</pre>\n"
      ],
      "text/plain": [
       "c:\\ProgramData\\Anaconda3\\envs\\freemocap-env\\Lib\\site-packages\\rich\\live.py:231: UserWarning: install \"ipywidgets\" \n",
       "for Jupyter support\n",
       "  warnings.warn('install \"ipywidgets\" for Jupyter support')\n"
      ]
     },
     "metadata": {},
     "output_type": "display_data"
    },
    {
     "data": {
      "text/html": [
       "<pre style=\"white-space:pre;overflow-x:auto;line-height:normal;font-family:Menlo,'DejaVu Sans Mono',consolas,'Courier New',monospace\"></pre>\n"
      ],
      "text/plain": []
     },
     "metadata": {},
     "output_type": "display_data"
    },
    {
     "data": {
      "text/html": [
       "<pre style=\"white-space:pre;overflow-x:auto;line-height:normal;font-family:Menlo,'DejaVu Sans Mono',consolas,'Courier New',monospace\">\n",
       "</pre>\n"
      ],
      "text/plain": [
       "\n"
      ]
     },
     "metadata": {},
     "output_type": "display_data"
    },
    {
     "data": {
      "text/html": [
       "<pre style=\"white-space:pre;overflow-x:auto;line-height:normal;font-family:Menlo,'DejaVu Sans Mono',consolas,'Courier New',monospace\"></pre>\n"
      ],
      "text/plain": []
     },
     "metadata": {},
     "output_type": "display_data"
    },
    {
     "data": {
      "text/html": [
       "<pre style=\"white-space:pre;overflow-x:auto;line-height:normal;font-family:Menlo,'DejaVu Sans Mono',consolas,'Courier New',monospace\">\n",
       "</pre>\n"
      ],
      "text/plain": [
       "\n"
      ]
     },
     "metadata": {},
     "output_type": "display_data"
    },
    {
     "name": "stdout",
     "output_type": "stream",
     "text": [
      "\u001b[96m[2024-10-06T17:13:37.899180] [Δt:1.559288s] [    INFO] [freemocap.core_processes.post_process_skeleton_data.post_process_skeleton] [post_process_skeleton:run_post_processing_worker():90] [\u001b[38;2;50;255;72mPID:36168:MainProcess\u001b[0m \u001b[38;2;50;255;68mTID:33348:MainThread\u001b[0m ] Done with gap filling, filtering, and aligning\u001b[0m\n",
      "2024-10-06 17:13:37,899 - freemocap.core_processes.post_process_skeleton_data.post_process_skeleton - INFO - Done with gap filling, filtering, and aligning\n",
      "\u001b[96m[2024-10-06T17:13:37.899180] [Δt:0.000000s] [    INFO] [freemocap.core_processes.process_motion_capture_videos.processing_pipeline_functions.anatomical_data_pipeline_functions] [anatomical_data_pipeline_functions:calculate_anatomical_data():26] [\u001b[38;2;50;255;72mPID:36168:MainProcess\u001b[0m \u001b[38;2;50;255;68mTID:33348:MainThread\u001b[0m ] Calculating center of mass...\u001b[0m\n",
      "2024-10-06 17:13:37,899 - freemocap.core_processes.process_motion_capture_videos.processing_pipeline_functions.anatomical_data_pipeline_functions - INFO - Calculating center of mass...\n"
     ]
    },
    {
     "data": {
      "text/html": [
       "<pre style=\"white-space:pre;overflow-x:auto;line-height:normal;font-family:Menlo,'DejaVu Sans Mono',consolas,'Courier New',monospace\">c:\\ProgramData\\Anaconda3\\envs\\freemocap-env\\Lib\\site-packages\\rich\\live.py:231: UserWarning: install \"ipywidgets\" \n",
       "for Jupyter support\n",
       "  warnings.warn('install \"ipywidgets\" for Jupyter support')\n",
       "</pre>\n"
      ],
      "text/plain": [
       "c:\\ProgramData\\Anaconda3\\envs\\freemocap-env\\Lib\\site-packages\\rich\\live.py:231: UserWarning: install \"ipywidgets\" \n",
       "for Jupyter support\n",
       "  warnings.warn('install \"ipywidgets\" for Jupyter support')\n"
      ]
     },
     "metadata": {},
     "output_type": "display_data"
    },
    {
     "data": {
      "text/html": [
       "<pre style=\"white-space:pre;overflow-x:auto;line-height:normal;font-family:Menlo,'DejaVu Sans Mono',consolas,'Courier New',monospace\"></pre>\n"
      ],
      "text/plain": []
     },
     "metadata": {},
     "output_type": "display_data"
    },
    {
     "data": {
      "text/html": [
       "<pre style=\"white-space:pre;overflow-x:auto;line-height:normal;font-family:Menlo,'DejaVu Sans Mono',consolas,'Courier New',monospace\">\n",
       "</pre>\n"
      ],
      "text/plain": [
       "\n"
      ]
     },
     "metadata": {},
     "output_type": "display_data"
    },
    {
     "data": {
      "text/html": [
       "<pre style=\"white-space:pre;overflow-x:auto;line-height:normal;font-family:Menlo,'DejaVu Sans Mono',consolas,'Courier New',monospace\"></pre>\n"
      ],
      "text/plain": []
     },
     "metadata": {},
     "output_type": "display_data"
    },
    {
     "data": {
      "text/html": [
       "<pre style=\"white-space:pre;overflow-x:auto;line-height:normal;font-family:Menlo,'DejaVu Sans Mono',consolas,'Courier New',monospace\">\n",
       "</pre>\n"
      ],
      "text/plain": [
       "\n"
      ]
     },
     "metadata": {},
     "output_type": "display_data"
    },
    {
     "name": "stdout",
     "output_type": "stream",
     "text": [
      "\u001b[96m[2024-10-06T17:13:46.958282] [Δt:9.059102s] [    INFO] [freemocap.core_processes.post_process_skeleton_data.calculate_center_of_mass] [calculate_center_of_mass:calculate_total_body_COM():306] [\u001b[38;2;50;255;72mPID:36168:MainProcess\u001b[0m \u001b[38;2;50;255;68mTID:33348:MainThread\u001b[0m ] Calculating Total Body Center of Mass\u001b[0m\n",
      "2024-10-06 17:13:46,958 - freemocap.core_processes.post_process_skeleton_data.calculate_center_of_mass - INFO - Calculating Total Body Center of Mass\n"
     ]
    },
    {
     "data": {
      "text/html": [
       "<pre style=\"white-space:pre;overflow-x:auto;line-height:normal;font-family:Menlo,'DejaVu Sans Mono',consolas,'Courier New',monospace\"></pre>\n"
      ],
      "text/plain": []
     },
     "metadata": {},
     "output_type": "display_data"
    },
    {
     "data": {
      "text/html": [
       "<pre style=\"white-space:pre;overflow-x:auto;line-height:normal;font-family:Menlo,'DejaVu Sans Mono',consolas,'Courier New',monospace\">\n",
       "</pre>\n"
      ],
      "text/plain": [
       "\n"
      ]
     },
     "metadata": {},
     "output_type": "display_data"
    },
    {
     "name": "stdout",
     "output_type": "stream",
     "text": [
      "\u001b[96m[2024-10-06T17:13:51.621492] [Δt:4.663210s] [    INFO] [freemocap.core_processes.detecting_things_in_2d_images.mediapipe_stuff.convert_mediapipe_npy_to_csv] [convert_mediapipe_npy_to_csv:convert_mediapipe_npy_to_csv():23] [\u001b[38;2;50;255;72mPID:36168:MainProcess\u001b[0m \u001b[38;2;50;255;68mTID:33348:MainThread\u001b[0m ] Converting npy data with shape: (6939, 553, 3) into `csv` and smaller `npy` files\u001b[0m\n",
      "2024-10-06 17:13:51,621 - freemocap.core_processes.detecting_things_in_2d_images.mediapipe_stuff.convert_mediapipe_npy_to_csv - INFO - Converting npy data with shape: (6939, 553, 3) into `csv` and smaller `npy` files\n",
      "\u001b[34m[2024-10-06T17:18:51.167839] [Δt:299.546348s] [   DEBUG] [freemocap.core_processes.detecting_things_in_2d_images.mediapipe_stuff.convert_mediapipe_npy_to_csv] [convert_mediapipe_npy_to_csv:convert_mediapipe_npy_to_csv():239] [\u001b[38;2;50;255;72mPID:36168:MainProcess\u001b[0m \u001b[38;2;50;255;68mTID:33348:MainThread\u001b[0m ] body 3d xyz shape: (6939, 33, 3)\u001b[0m\n",
      "\u001b[34m[2024-10-06T17:18:51.167839] [Δt:0.000000s] [   DEBUG] [freemocap.core_processes.detecting_things_in_2d_images.mediapipe_stuff.convert_mediapipe_npy_to_csv] [convert_mediapipe_npy_to_csv:convert_mediapipe_npy_to_csv():240] [\u001b[38;2;50;255;72mPID:36168:MainProcess\u001b[0m \u001b[38;2;50;255;68mTID:33348:MainThread\u001b[0m ] right hand 3d xyz shape: (6939, 21, 3)\u001b[0m\n",
      "\u001b[34m[2024-10-06T17:18:51.177395] [Δt:0.009556s] [   DEBUG] [freemocap.core_processes.detecting_things_in_2d_images.mediapipe_stuff.convert_mediapipe_npy_to_csv] [convert_mediapipe_npy_to_csv:convert_mediapipe_npy_to_csv():241] [\u001b[38;2;50;255;72mPID:36168:MainProcess\u001b[0m \u001b[38;2;50;255;68mTID:33348:MainThread\u001b[0m ] left hand 3d xyz shape: (6939, 21, 3)\u001b[0m\n",
      "\u001b[34m[2024-10-06T17:18:51.177395] [Δt:0.000000s] [   DEBUG] [freemocap.core_processes.detecting_things_in_2d_images.mediapipe_stuff.convert_mediapipe_npy_to_csv] [convert_mediapipe_npy_to_csv:convert_mediapipe_npy_to_csv():242] [\u001b[38;2;50;255;72mPID:36168:MainProcess\u001b[0m \u001b[38;2;50;255;68mTID:33348:MainThread\u001b[0m ] face 3d xyz shape: (6939, 478, 3)\u001b[0m\n",
      "\u001b[34m[2024-10-06T17:21:58.178782] [Δt:187.001386s] [   DEBUG] [freemocap.core_processes.detecting_things_in_2d_images.mediapipe_stuff.convert_mediapipe_npy_to_csv] [convert_mediapipe_npy_to_csv:convert_mediapipe_npy_to_csv():284] [\u001b[38;2;50;255;72mPID:36168:MainProcess\u001b[0m \u001b[38;2;50;255;68mTID:33348:MainThread\u001b[0m ] length of body 3d xyz `.csv` header: 99, should be: 99\u001b[0m\n",
      "\u001b[34m[2024-10-06T17:21:58.178782] [Δt:0.000000s] [   DEBUG] [freemocap.core_processes.detecting_things_in_2d_images.mediapipe_stuff.convert_mediapipe_npy_to_csv] [convert_mediapipe_npy_to_csv:convert_mediapipe_npy_to_csv():287] [\u001b[38;2;50;255;72mPID:36168:MainProcess\u001b[0m \u001b[38;2;50;255;68mTID:33348:MainThread\u001b[0m ] length of right hand 3d xyz `.csv` header: 63, should be: 63\u001b[0m\n",
      "\u001b[34m[2024-10-06T17:21:58.178782] [Δt:0.000000s] [   DEBUG] [freemocap.core_processes.detecting_things_in_2d_images.mediapipe_stuff.convert_mediapipe_npy_to_csv] [convert_mediapipe_npy_to_csv:convert_mediapipe_npy_to_csv():290] [\u001b[38;2;50;255;72mPID:36168:MainProcess\u001b[0m \u001b[38;2;50;255;68mTID:33348:MainThread\u001b[0m ] length of left hand 3d xyz `.csv` header: 63, should be: 63\u001b[0m\n",
      "\u001b[34m[2024-10-06T17:21:58.178782] [Δt:0.000000s] [   DEBUG] [freemocap.core_processes.detecting_things_in_2d_images.mediapipe_stuff.convert_mediapipe_npy_to_csv] [convert_mediapipe_npy_to_csv:convert_mediapipe_npy_to_csv():293] [\u001b[38;2;50;255;72mPID:36168:MainProcess\u001b[0m \u001b[38;2;50;255;68mTID:33348:MainThread\u001b[0m ] length of face 3d xyz `.csv` header: 1434, should be: 1434\u001b[0m\n",
      "\u001b[96m[2024-10-06T17:23:50.713605] [Δt:112.534824s] [    INFO] [freemocap.core_processes.detecting_things_in_2d_images.mediapipe_stuff.convert_mediapipe_npy_to_csv] [convert_mediapipe_npy_to_csv:convert_mediapipe_npy_to_csv():322] [\u001b[38;2;50;255;72mPID:36168:MainProcess\u001b[0m \u001b[38;2;50;255;68mTID:33348:MainThread\u001b[0m ] Done saving out `csv` and broken up `npy` files\u001b[0m\n",
      "2024-10-06 17:23:50,713 - freemocap.core_processes.detecting_things_in_2d_images.mediapipe_stuff.convert_mediapipe_npy_to_csv - INFO - Done saving out `csv` and broken up `npy` files\n",
      "\u001b[96m[2024-10-06T17:23:50.713605] [Δt:0.000000s] [    INFO] [freemocap.core_processes.process_motion_capture_videos.processing_pipeline_functions.data_saving_pipeline_functions] [data_saving_pipeline_functions:save_data():39] [\u001b[38;2;50;255;72mPID:36168:MainProcess\u001b[0m \u001b[38;2;50;255;68mTID:33348:MainThread\u001b[0m ] Saving post-processed data\u001b[0m\n",
      "2024-10-06 17:23:50,713 - freemocap.core_processes.process_motion_capture_videos.processing_pipeline_functions.data_saving_pipeline_functions - INFO - Saving post-processed data\n",
      "\u001b[96m[2024-10-06T17:23:53.514779] [Δt:2.801173s] [    INFO] [freemocap.core_processes.process_motion_capture_videos.processing_pipeline_functions.data_saving_pipeline_functions] [data_saving_pipeline_functions:save_data():46] [\u001b[38;2;50;255;72mPID:36168:MainProcess\u001b[0m \u001b[38;2;50;255;68mTID:33348:MainThread\u001b[0m ] Saving segment center of mass data\u001b[0m\n",
      "2024-10-06 17:23:53,514 - freemocap.core_processes.process_motion_capture_videos.processing_pipeline_functions.data_saving_pipeline_functions - INFO - Saving segment center of mass data\n",
      "\u001b[96m[2024-10-06T17:23:53.626820] [Δt:0.121742s] [    INFO] [freemocap.core_processes.process_motion_capture_videos.processing_pipeline_functions.data_saving_pipeline_functions] [data_saving_pipeline_functions:save_data():53] [\u001b[38;2;50;255;72mPID:36168:MainProcess\u001b[0m \u001b[38;2;50;255;68mTID:33348:MainThread\u001b[0m ] Saving total body center of mass data\u001b[0m\n",
      "2024-10-06 17:23:53,626 - freemocap.core_processes.process_motion_capture_videos.processing_pipeline_functions.data_saving_pipeline_functions - INFO - Saving total body center of mass data\n",
      "\u001b[96m[2024-10-06T17:23:53.761959] [Δt:0.125439s] [    INFO] [freemocap.utilities.save_dictionary_to_json] [save_dictionary_to_json:save_dictionary_to_json():16] [\u001b[38;2;50;255;72mPID:36168:MainProcess\u001b[0m \u001b[38;2;50;255;68mTID:33348:MainThread\u001b[0m ] Saved dictionary mediapipe_names_and_connections_dict.json as json  at: Z:\\Davide_MultimodalLab\\3_DATA_ANALYSIS\\1_MOTION_TRACKING\\1_Video_Segmentation\\video_split\\pilot_04_d2_SUD_2_End_SUD_3_Start\\output_data\\mediapipe_names_and_connections_dict.json\u001b[0m\n",
      "2024-10-06 17:23:53,761 - freemocap.utilities.save_dictionary_to_json - INFO - Saved dictionary mediapipe_names_and_connections_dict.json as json  at: Z:\\Davide_MultimodalLab\\3_DATA_ANALYSIS\\1_MOTION_TRACKING\\1_Video_Segmentation\\video_split\\pilot_04_d2_SUD_2_End_SUD_3_Start\\output_data\\mediapipe_names_and_connections_dict.json\n",
      "\u001b[33m[2024-10-06T17:23:53.836913] [Δt:0.074954s] [ WARNING] [freemocap.system.paths_and_filenames.file_and_folder_names] [path_getters:get_timestamps_directory():252] [\u001b[38;2;50;255;72mPID:36168:MainProcess\u001b[0m \u001b[38;2;50;255;68mTID:33348:MainThread\u001b[0m ] Could not find timestamps directory in Z:\\Davide_MultimodalLab\\3_DATA_ANALYSIS\\1_MOTION_TRACKING\\1_Video_Segmentation\\video_split\\pilot_04_d2_SUD_2_End_SUD_3_Start\\synchronized_videos\u001b[0m\n",
      "2024-10-06 17:23:53,836 - freemocap.system.paths_and_filenames.file_and_folder_names - WARNING - Could not find timestamps directory in Z:\\Davide_MultimodalLab\\3_DATA_ANALYSIS\\1_MOTION_TRACKING\\1_Video_Segmentation\\video_split\\pilot_04_d2_SUD_2_End_SUD_3_Start\\synchronized_videos\n",
      "\u001b[33m[2024-10-06T17:23:53.836913] [Δt:0.000000s] [ WARNING] [freemocap.data_layer.data_saver.data_loader] [data_loader:_load_timestamps():91] [\u001b[38;2;50;255;72mPID:36168:MainProcess\u001b[0m \u001b[38;2;50;255;68mTID:33348:MainThread\u001b[0m ] No timestamps directory found. Skipping timestamps loading.\u001b[0m\n",
      "2024-10-06 17:23:53,836 - freemocap.data_layer.data_saver.data_loader - WARNING - No timestamps directory found. Skipping timestamps loading.\n",
      "\u001b[96m[2024-10-06T17:25:45.228702] [Δt:111.391788s] [    INFO] [freemocap.data_layer.data_saver.data_saver] [data_saver:save_to_json():59] [\u001b[38;2;50;255;72mPID:36168:MainProcess\u001b[0m \u001b[38;2;50;255;68mTID:33348:MainThread\u001b[0m ] Saving recording data to Z:\\Davide_MultimodalLab\\3_DATA_ANALYSIS\\1_MOTION_TRACKING\\1_Video_Segmentation\\video_split\\pilot_04_d2_SUD_2_End_SUD_3_Start\\pilot_04_d2_SUD_2_End_SUD_3_Start_by_frame.json\u001b[0m\n",
      "2024-10-06 17:25:45,228 - freemocap.data_layer.data_saver.data_saver - INFO - Saving recording data to Z:\\Davide_MultimodalLab\\3_DATA_ANALYSIS\\1_MOTION_TRACKING\\1_Video_Segmentation\\video_split\\pilot_04_d2_SUD_2_End_SUD_3_Start\\pilot_04_d2_SUD_2_End_SUD_3_Start_by_frame.json\n",
      "\u001b[96m[2024-10-06T17:27:57.029351] [Δt:131.800649s] [    INFO] [freemocap.data_layer.data_saver.data_saver] [data_saver:save_to_csv():76] [\u001b[38;2;50;255;72mPID:36168:MainProcess\u001b[0m \u001b[38;2;50;255;68mTID:33348:MainThread\u001b[0m ] Saved recording data to Z:\\Davide_MultimodalLab\\3_DATA_ANALYSIS\\1_MOTION_TRACKING\\1_Video_Segmentation\\video_split\\pilot_04_d2_SUD_2_End_SUD_3_Start\\pilot_04_d2_SUD_2_End_SUD_3_Start_by_trajectory.csv\u001b[0m\n",
      "2024-10-06 17:27:57,029 - freemocap.data_layer.data_saver.data_saver - INFO - Saved recording data to Z:\\Davide_MultimodalLab\\3_DATA_ANALYSIS\\1_MOTION_TRACKING\\1_Video_Segmentation\\video_split\\pilot_04_d2_SUD_2_End_SUD_3_Start\\pilot_04_d2_SUD_2_End_SUD_3_Start_by_trajectory.csv\n",
      "\u001b[96m[2024-10-06T17:27:58.779865] [Δt:1.750514s] [    INFO] [freemocap.data_layer.data_saver.data_saver] [data_saver:save_to_npy():82] [\u001b[38;2;50;255;72mPID:36168:MainProcess\u001b[0m \u001b[38;2;50;255;68mTID:33348:MainThread\u001b[0m ] Saved recording data to Z:\\Davide_MultimodalLab\\3_DATA_ANALYSIS\\1_MOTION_TRACKING\\1_Video_Segmentation\\video_split\\pilot_04_d2_SUD_2_End_SUD_3_Start\\pilot_04_d2_SUD_2_End_SUD_3_Start_frame_name_xyz.npy\u001b[0m\n",
      "2024-10-06 17:27:58,779 - freemocap.data_layer.data_saver.data_saver - INFO - Saved recording data to Z:\\Davide_MultimodalLab\\3_DATA_ANALYSIS\\1_MOTION_TRACKING\\1_Video_Segmentation\\video_split\\pilot_04_d2_SUD_2_End_SUD_3_Start\\pilot_04_d2_SUD_2_End_SUD_3_Start_frame_name_xyz.npy\n",
      "\u001b[96m[2024-10-06T17:27:59.013149] [Δt:0.233285s] [    INFO] [freemocap.core_processes.process_motion_capture_videos.process_recording_folder] [process_recording_folder:process_recording_folder():143] [\u001b[38;2;50;255;72mPID:36168:MainProcess\u001b[0m \u001b[38;2;50;255;68mTID:33348:MainThread\u001b[0m ] Done processing Z:\\Davide_MultimodalLab\\3_DATA_ANALYSIS\\1_MOTION_TRACKING\\1_Video_Segmentation\\video_split\\pilot_04_d2_SUD_2_End_SUD_3_Start\u001b[0m\n",
      "2024-10-06 17:27:59,013 - freemocap.core_processes.process_motion_capture_videos.process_recording_folder - INFO - Done processing Z:\\Davide_MultimodalLab\\3_DATA_ANALYSIS\\1_MOTION_TRACKING\\1_Video_Segmentation\\video_split\\pilot_04_d2_SUD_2_End_SUD_3_Start\n",
      "\u001b[33m[2024-10-06T17:27:59.058955] [Δt:0.046794s] [ WARNING] [root] [1048335352:process_recording():48] [\u001b[38;2;50;255;72mPID:36168:MainProcess\u001b[0m \u001b[38;2;50;255;68mTID:33348:MainThread\u001b[0m ] No blender executable provided. Blender file will not be exported.\u001b[0m\n",
      "2024-10-06 17:27:59,058 - root - WARNING - No blender executable provided. Blender file will not be exported.\n",
      "We will now load this vide folder  Z:\\Davide_MultimodalLab\\3_DATA_ANALYSIS\\1_MOTION_TRACKING\\1_Video_Segmentation\\video_split\\pilot_04_d2_SUD_2_End_SUD_3_Start\n",
      "current pilot_id:  pilot_05_d2\n",
      "\u001b[96m[2024-10-06T17:27:59.059944] [Δt:0.000000s] [    INFO] [root] [2323846283:<module>():7] [\u001b[38;2;50;255;72mPID:36168:MainProcess\u001b[0m \u001b[38;2;50;255;68mTID:33348:MainThread\u001b[0m ] Processing calibration file: Z:\\Davide_MultimodalLab\\3_DATA_ANALYSIS\\1_MOTION_TRACKING\\2_Video_Calibration\\calibration_results\\pilot_05_d2_calibration_charuco_calibration_anipose.toml\u001b[0m\n",
      "2024-10-06 17:27:59,059 - root - INFO - Processing calibration file: Z:\\Davide_MultimodalLab\\3_DATA_ANALYSIS\\1_MOTION_TRACKING\\2_Video_Calibration\\calibration_results\\pilot_05_d2_calibration_charuco_calibration_anipose.toml\n",
      "current calibrtion file:  Z:\\Davide_MultimodalLab\\3_DATA_ANALYSIS\\1_MOTION_TRACKING\\2_Video_Calibration\\calibration_results\\pilot_05_d2_calibration_charuco_calibration_anipose.toml\n",
      "We found these matching folder:  [WindowsPath('Z:/Davide_MultimodalLab/3_DATA_ANALYSIS/1_MOTION_TRACKING/1_Video_Segmentation/video_split/pilot_05_d2_Speech_Start_SUD_1_Start'), WindowsPath('Z:/Davide_MultimodalLab/3_DATA_ANALYSIS/1_MOTION_TRACKING/1_Video_Segmentation/video_split/pilot_05_d2_SUD_1_End_SUD_2_Start'), WindowsPath('Z:/Davide_MultimodalLab/3_DATA_ANALYSIS/1_MOTION_TRACKING/1_Video_Segmentation/video_split/pilot_05_d2_SUD_2_End_SUD_3_Start')]\n",
      "\u001b[96m[2024-10-06T17:27:59.262574] [Δt:0.203188s] [    INFO] [root] [2323846283:<module>():20] [\u001b[38;2;50;255;72mPID:36168:MainProcess\u001b[0m \u001b[38;2;50;255;68mTID:33348:MainThread\u001b[0m ] Processing video folder: Z:\\Davide_MultimodalLab\\3_DATA_ANALYSIS\\1_MOTION_TRACKING\\1_Video_Segmentation\\video_split\\pilot_05_d2_Speech_Start_SUD_1_Start\u001b[0m\n",
      "2024-10-06 17:27:59,262 - root - INFO - Processing video folder: Z:\\Davide_MultimodalLab\\3_DATA_ANALYSIS\\1_MOTION_TRACKING\\1_Video_Segmentation\\video_split\\pilot_05_d2_Speech_Start_SUD_1_Start\n",
      "\u001b[96m[2024-10-06T17:27:59.352293] [Δt:0.089162s] [    INFO] [freemocap.utilities.save_dictionary_to_json] [save_dictionary_to_json:save_dictionary_to_json():16] [\u001b[38;2;50;255;72mPID:36168:MainProcess\u001b[0m \u001b[38;2;50;255;68mTID:33348:MainThread\u001b[0m ] Saved dictionary recording_parameters.json as json  at: Z:\\Davide_MultimodalLab\\3_DATA_ANALYSIS\\1_MOTION_TRACKING\\1_Video_Segmentation\\video_split\\pilot_05_d2_Speech_Start_SUD_1_Start\\output_data\\recording_parameters.json\u001b[0m\n",
      "2024-10-06 17:27:59,352 - freemocap.utilities.save_dictionary_to_json - INFO - Saved dictionary recording_parameters.json as json  at: Z:\\Davide_MultimodalLab\\3_DATA_ANALYSIS\\1_MOTION_TRACKING\\1_Video_Segmentation\\video_split\\pilot_05_d2_Speech_Start_SUD_1_Start\\output_data\\recording_parameters.json\n",
      "\u001b[96m[2024-10-06T17:28:00.107383] [Δt:0.755090s] [    INFO] [freemocap.data_layer.recording_models.recording_info_model] [recording_info_model:get_number_of_mp4s_in_synched_videos_directory():239] [\u001b[38;2;50;255;72mPID:36168:MainProcess\u001b[0m \u001b[38;2;50;255;68mTID:33348:MainThread\u001b[0m ] Number of `.mp4`'s in Z:\\Davide_MultimodalLab\\3_DATA_ANALYSIS\\1_MOTION_TRACKING\\1_Video_Segmentation\\video_split\\pilot_05_d2_Speech_Start_SUD_1_Start\\synchronized_videos: 3\u001b[0m\n",
      "2024-10-06 17:28:00,107 - freemocap.data_layer.recording_models.recording_info_model - INFO - Number of `.mp4`'s in Z:\\Davide_MultimodalLab\\3_DATA_ANALYSIS\\1_MOTION_TRACKING\\1_Video_Segmentation\\video_split\\pilot_05_d2_Speech_Start_SUD_1_Start\\synchronized_videos: 3\n",
      "\u001b[34m[2024-10-06T17:28:00.107383] [Δt:0.000000s] [   DEBUG] [freemocap.data_layer.recording_models.recording_info_model] [recording_info_model:get_number_of_frames_in_videos():253] [\u001b[38;2;50;255;72mPID:36168:MainProcess\u001b[0m \u001b[38;2;50;255;68mTID:33348:MainThread\u001b[0m ] No 'timestamps' directory, finding frame counts from synchronized videos\u001b[0m\n",
      "\u001b[96m[2024-10-06T17:28:00.313339] [Δt:0.205955s] [    INFO] [freemocap.core_processes.process_motion_capture_videos.processing_pipeline_functions.image_tracking_pipeline_functions] [image_tracking_pipeline_functions:run_image_tracking_pipeline():44] [\u001b[38;2;50;255;72mPID:36168:MainProcess\u001b[0m \u001b[38;2;50;255;68mTID:33348:MainThread\u001b[0m ] Detecting 2d skeletons...\u001b[0m\n",
      "2024-10-06 17:28:00,313 - freemocap.core_processes.process_motion_capture_videos.processing_pipeline_functions.image_tracking_pipeline_functions - INFO - Detecting 2d skeletons...\n",
      "\u001b[96m[2024-10-06T17:28:00.313339] [Δt:0.000000s] [    INFO] [freemocap.core_processes.process_motion_capture_videos.processing_pipeline_functions.image_tracking_pipeline_functions] [image_tracking_pipeline_functions:run_image_tracking_pipeline():45] [\u001b[38;2;50;255;72mPID:36168:MainProcess\u001b[0m \u001b[38;2;50;255;68mTID:33348:MainThread\u001b[0m ] Log Progress\u001b[0m\n",
      "2024-10-06 17:28:00,313 - freemocap.core_processes.process_motion_capture_videos.processing_pipeline_functions.image_tracking_pipeline_functions - INFO - Log Progress\n",
      "\u001b[96m[2024-10-06T17:28:00.464217] [Δt:0.150878s] [    INFO] [skellytracker.process_folder_of_videos] [process_folder_of_videos:process_single_video():131] [\u001b[38;2;50;255;72mPID:36168:MainProcess\u001b[0m \u001b[38;2;50;255;68mTID:33348:MainThread\u001b[0m ] Processing video: pilot_05_d2_Speech_Start_SUD_1_Start_cam1_mediapipe.mp4 with tracker: MediapipeHolisticTracker\u001b[0m\n",
      "2024-10-06 17:28:00,464 - skellytracker.process_folder_of_videos - INFO - Processing video: pilot_05_d2_Speech_Start_SUD_1_Start_cam1_mediapipe.mp4 with tracker: MediapipeHolisticTracker\n"
     ]
    },
    {
     "name": "stderr",
     "output_type": "stream",
     "text": [
      "processing video: pilot_05_d2_Speech_Start_SUD_1_Start_cam1.mp4: 100%|\u001b[35m██████████\u001b[0m| 7311/7311 [13:33<00:00,  8.99frames/s]"
     ]
    },
    {
     "name": "stdout",
     "output_type": "stream",
     "text": [
      "\u001b[96m[2024-10-06T17:41:34.089742] [Δt:813.625525s] [    INFO] [skellytracker.trackers.base_tracker.video_handler] [video_handler:close():45] [\u001b[38;2;50;255;72mPID:36168:MainProcess\u001b[0m \u001b[38;2;50;255;68mTID:33348:MainThread\u001b[0m ] video saved to Z:\\Davide_MultimodalLab\\3_DATA_ANALYSIS\\1_MOTION_TRACKING\\1_Video_Segmentation\\video_split\\pilot_05_d2_Speech_Start_SUD_1_Start\\annotated_videos\\pilot_05_d2_Speech_Start_SUD_1_Start_cam1_mediapipe.mp4\u001b[0m\n",
      "2024-10-06 17:41:34,089 - skellytracker.trackers.base_tracker.video_handler - INFO - video saved to Z:\\Davide_MultimodalLab\\3_DATA_ANALYSIS\\1_MOTION_TRACKING\\1_Video_Segmentation\\video_split\\pilot_05_d2_Speech_Start_SUD_1_Start\\annotated_videos\\pilot_05_d2_Speech_Start_SUD_1_Start_cam1_mediapipe.mp4\n"
     ]
    },
    {
     "name": "stderr",
     "output_type": "stream",
     "text": [
      "\n"
     ]
    },
    {
     "name": "stdout",
     "output_type": "stream",
     "text": [
      "\u001b[96m[2024-10-06T17:41:37.541286] [Δt:3.452543s] [    INFO] [skellytracker.process_folder_of_videos] [process_folder_of_videos:process_single_video():131] [\u001b[38;2;50;255;72mPID:36168:MainProcess\u001b[0m \u001b[38;2;50;255;68mTID:33348:MainThread\u001b[0m ] Processing video: pilot_05_d2_Speech_Start_SUD_1_Start_cam2_mediapipe.mp4 with tracker: MediapipeHolisticTracker\u001b[0m\n",
      "2024-10-06 17:41:37,541 - skellytracker.process_folder_of_videos - INFO - Processing video: pilot_05_d2_Speech_Start_SUD_1_Start_cam2_mediapipe.mp4 with tracker: MediapipeHolisticTracker\n"
     ]
    },
    {
     "name": "stderr",
     "output_type": "stream",
     "text": [
      "processing video: pilot_05_d2_Speech_Start_SUD_1_Start_cam2.mp4: 100%|\u001b[35m██████████\u001b[0m| 7311/7311 [13:43<00:00,  8.88frames/s]"
     ]
    },
    {
     "name": "stdout",
     "output_type": "stream",
     "text": [
      "\u001b[96m[2024-10-06T17:55:21.294195] [Δt:823.751911s] [    INFO] [skellytracker.trackers.base_tracker.video_handler] [video_handler:close():45] [\u001b[38;2;50;255;72mPID:36168:MainProcess\u001b[0m \u001b[38;2;50;255;68mTID:33348:MainThread\u001b[0m ] video saved to Z:\\Davide_MultimodalLab\\3_DATA_ANALYSIS\\1_MOTION_TRACKING\\1_Video_Segmentation\\video_split\\pilot_05_d2_Speech_Start_SUD_1_Start\\annotated_videos\\pilot_05_d2_Speech_Start_SUD_1_Start_cam2_mediapipe.mp4\u001b[0m\n",
      "2024-10-06 17:55:21,294 - skellytracker.trackers.base_tracker.video_handler - INFO - video saved to Z:\\Davide_MultimodalLab\\3_DATA_ANALYSIS\\1_MOTION_TRACKING\\1_Video_Segmentation\\video_split\\pilot_05_d2_Speech_Start_SUD_1_Start\\annotated_videos\\pilot_05_d2_Speech_Start_SUD_1_Start_cam2_mediapipe.mp4\n"
     ]
    },
    {
     "name": "stderr",
     "output_type": "stream",
     "text": [
      "\n"
     ]
    },
    {
     "name": "stdout",
     "output_type": "stream",
     "text": [
      "\u001b[96m[2024-10-06T17:55:25.370012] [Δt:4.075817s] [    INFO] [skellytracker.process_folder_of_videos] [process_folder_of_videos:process_single_video():131] [\u001b[38;2;50;255;72mPID:36168:MainProcess\u001b[0m \u001b[38;2;50;255;68mTID:33348:MainThread\u001b[0m ] Processing video: pilot_05_d2_Speech_Start_SUD_1_Start_cam3_mediapipe.mp4 with tracker: MediapipeHolisticTracker\u001b[0m\n",
      "2024-10-06 17:55:25,370 - skellytracker.process_folder_of_videos - INFO - Processing video: pilot_05_d2_Speech_Start_SUD_1_Start_cam3_mediapipe.mp4 with tracker: MediapipeHolisticTracker\n"
     ]
    },
    {
     "name": "stderr",
     "output_type": "stream",
     "text": [
      "processing video: pilot_05_d2_Speech_Start_SUD_1_Start_cam3.mp4: 100%|\u001b[35m██████████\u001b[0m| 7311/7311 [13:30<00:00,  9.02frames/s]"
     ]
    },
    {
     "name": "stdout",
     "output_type": "stream",
     "text": [
      "\u001b[96m[2024-10-06T18:08:55.899628] [Δt:810.529616s] [    INFO] [skellytracker.trackers.base_tracker.video_handler] [video_handler:close():45] [\u001b[38;2;50;255;72mPID:36168:MainProcess\u001b[0m \u001b[38;2;50;255;68mTID:33348:MainThread\u001b[0m ] video saved to Z:\\Davide_MultimodalLab\\3_DATA_ANALYSIS\\1_MOTION_TRACKING\\1_Video_Segmentation\\video_split\\pilot_05_d2_Speech_Start_SUD_1_Start\\annotated_videos\\pilot_05_d2_Speech_Start_SUD_1_Start_cam3_mediapipe.mp4\u001b[0m\n",
      "2024-10-06 18:08:55,899 - skellytracker.trackers.base_tracker.video_handler - INFO - video saved to Z:\\Davide_MultimodalLab\\3_DATA_ANALYSIS\\1_MOTION_TRACKING\\1_Video_Segmentation\\video_split\\pilot_05_d2_Speech_Start_SUD_1_Start\\annotated_videos\\pilot_05_d2_Speech_Start_SUD_1_Start_cam3_mediapipe.mp4\n"
     ]
    },
    {
     "name": "stderr",
     "output_type": "stream",
     "text": [
      "\n"
     ]
    },
    {
     "name": "stdout",
     "output_type": "stream",
     "text": [
      "\u001b[96m[2024-10-06T18:08:59.417924] [Δt:3.518295s] [    INFO] [skellytracker.process_folder_of_videos] [process_folder_of_videos:process_folder_of_videos():105] [\u001b[38;2;50;255;72mPID:36168:MainProcess\u001b[0m \u001b[38;2;50;255;68mTID:33348:MainThread\u001b[0m ] Shape of output array: (3, 7311, 553, 3)\u001b[0m\n",
      "2024-10-06 18:08:59,417 - skellytracker.process_folder_of_videos - INFO - Shape of output array: (3, 7311, 553, 3)\n",
      "\u001b[96m[2024-10-06T18:09:14.331962] [Δt:14.914038s] [    INFO] [freemocap.core_processes.process_motion_capture_videos.processing_pipeline_functions.triangulation_pipeline_functions] [triangulation_pipeline_functions:get_triangulated_data():63] [\u001b[38;2;50;255;72mPID:36168:MainProcess\u001b[0m \u001b[38;2;50;255;68mTID:33348:MainThread\u001b[0m ] Triangulating 3d skeletons...\u001b[0m\n",
      "2024-10-06 18:09:14,331 - freemocap.core_processes.process_motion_capture_videos.processing_pipeline_functions.triangulation_pipeline_functions - INFO - Triangulating 3d skeletons...\n",
      "\u001b[96m[2024-10-06T18:09:14.331962] [Δt:0.000000s] [    INFO] [freemocap.core_processes.process_motion_capture_videos.processing_pipeline_functions.triangulation_pipeline_functions] [triangulation_pipeline_functions:get_triangulated_data():64] [\u001b[38;2;50;255;72mPID:36168:MainProcess\u001b[0m \u001b[38;2;50;255;68mTID:33348:MainThread\u001b[0m ] Log Progress\u001b[0m\n",
      "2024-10-06 18:09:14,331 - freemocap.core_processes.process_motion_capture_videos.processing_pipeline_functions.triangulation_pipeline_functions - INFO - Log Progress\n",
      "\u001b[96m[2024-10-06T18:09:14.822915] [Δt:0.490954s] [    INFO] [freemocap.core_processes.capture_volume_calibration.anipose_camera_calibration.get_anipose_calibration_object] [get_anipose_calibration_object:load_anipose_calibration_toml_from_path():38] [\u001b[38;2;50;255;72mPID:36168:MainProcess\u001b[0m \u001b[38;2;50;255;68mTID:33348:MainThread\u001b[0m ] loading camera calibration file from:Z:\\Davide_MultimodalLab\\3_DATA_ANALYSIS\\1_MOTION_TRACKING\\2_Video_Calibration\\calibration_results\\pilot_05_d2_calibration_charuco_calibration_anipose.toml\u001b[0m\n",
      "2024-10-06 18:09:14,822 - freemocap.core_processes.capture_volume_calibration.anipose_camera_calibration.get_anipose_calibration_object - INFO - loading camera calibration file from:Z:\\Davide_MultimodalLab\\3_DATA_ANALYSIS\\1_MOTION_TRACKING\\2_Video_Calibration\\calibration_results\\pilot_05_d2_calibration_charuco_calibration_anipose.toml\n",
      "\u001b[96m[2024-10-06T18:09:14.923168] [Δt:0.100253s] [    INFO] [freemocap.core_processes.capture_volume_calibration.triangulate_3d_data] [triangulate_3d_data:triangulate_3d_data():35] [\u001b[38;2;50;255;72mPID:36168:MainProcess\u001b[0m \u001b[38;2;50;255;68mTID:33348:MainThread\u001b[0m ] Reconstructing 3d points from 2d points with shape: \n",
      "number_of_cameras: 3,\n",
      "number_of_frames: 7311, \n",
      "number_of_tracked_points: 553,\n",
      "number_of_spatial_dimensions: 2\u001b[0m\n",
      "2024-10-06 18:09:14,923 - freemocap.core_processes.capture_volume_calibration.triangulate_3d_data - INFO - Reconstructing 3d points from 2d points with shape: \n",
      "number_of_cameras: 3,\n",
      "number_of_frames: 7311, \n",
      "number_of_tracked_points: 553,\n",
      "number_of_spatial_dimensions: 2\n",
      "\u001b[96m[2024-10-06T18:09:14.923168] [Δt:0.000000s] [    INFO] [freemocap.core_processes.capture_volume_calibration.triangulate_3d_data] [triangulate_3d_data:triangulate_3d_data():47] [\u001b[38;2;50;255;72mPID:36168:MainProcess\u001b[0m \u001b[38;2;50;255;68mTID:33348:MainThread\u001b[0m ] Using simple `triangulate` method \u001b[0m\n",
      "2024-10-06 18:09:14,923 - freemocap.core_processes.capture_volume_calibration.triangulate_3d_data - INFO - Using simple `triangulate` method \n"
     ]
    },
    {
     "name": "stderr",
     "output_type": "stream",
     "text": [
      "100%|█████████████████████| 4042983/4042983 [06:49<00:00, 9874.51it/s]\n"
     ]
    },
    {
     "name": "stdout",
     "output_type": "stream",
     "text": [
      "\u001b[96m[2024-10-06T18:16:17.571834] [Δt:422.648665s] [    INFO] [freemocap.core_processes.capture_volume_calibration.save_mediapipe_3d_data_to_npy] [save_mediapipe_3d_data_to_npy:save_mediapipe_3d_data_to_npy():50] [\u001b[38;2;50;255;72mPID:36168:MainProcess\u001b[0m \u001b[38;2;50;255;68mTID:33348:MainThread\u001b[0m ] saving: Z:\\Davide_MultimodalLab\\3_DATA_ANALYSIS\\1_MOTION_TRACKING\\1_Video_Segmentation\\video_split\\pilot_05_d2_Speech_Start_SUD_1_Start\\output_data\\raw_data\\mediapipe3dData_numFrames_numTrackedPoints_spatialXYZ.npy\u001b[0m\n",
      "2024-10-06 18:16:17,571 - freemocap.core_processes.capture_volume_calibration.save_mediapipe_3d_data_to_npy - INFO - saving: Z:\\Davide_MultimodalLab\\3_DATA_ANALYSIS\\1_MOTION_TRACKING\\1_Video_Segmentation\\video_split\\pilot_05_d2_Speech_Start_SUD_1_Start\\output_data\\raw_data\\mediapipe3dData_numFrames_numTrackedPoints_spatialXYZ.npy\n",
      "\u001b[96m[2024-10-06T18:16:19.190408] [Δt:1.618575s] [    INFO] [freemocap.core_processes.capture_volume_calibration.save_mediapipe_3d_data_to_npy] [save_mediapipe_3d_data_to_npy:save_mediapipe_3d_data_to_npy():55] [\u001b[38;2;50;255;72mPID:36168:MainProcess\u001b[0m \u001b[38;2;50;255;68mTID:33348:MainThread\u001b[0m ] saving: Z:\\Davide_MultimodalLab\\3_DATA_ANALYSIS\\1_MOTION_TRACKING\\1_Video_Segmentation\\video_split\\pilot_05_d2_Speech_Start_SUD_1_Start\\output_data\\raw_data\\mediapipe3dData_numFrames_numTrackedPoints_reprojectionError.npy\u001b[0m\n",
      "2024-10-06 18:16:19,190 - freemocap.core_processes.capture_volume_calibration.save_mediapipe_3d_data_to_npy - INFO - saving: Z:\\Davide_MultimodalLab\\3_DATA_ANALYSIS\\1_MOTION_TRACKING\\1_Video_Segmentation\\video_split\\pilot_05_d2_Speech_Start_SUD_1_Start\\output_data\\raw_data\\mediapipe3dData_numFrames_numTrackedPoints_reprojectionError.npy\n",
      "\u001b[96m[2024-10-06T18:16:19.738324] [Δt:0.547915s] [    INFO] [freemocap.core_processes.capture_volume_calibration.save_mediapipe_3d_data_to_npy] [save_mediapipe_3d_data_to_npy:save_mediapipe_3d_data_to_npy():61] [\u001b[38;2;50;255;72mPID:36168:MainProcess\u001b[0m \u001b[38;2;50;255;68mTID:33348:MainThread\u001b[0m ] saving: Z:\\Davide_MultimodalLab\\3_DATA_ANALYSIS\\1_MOTION_TRACKING\\1_Video_Segmentation\\video_split\\pilot_05_d2_Speech_Start_SUD_1_Start\\output_data\\raw_data\\mediapipe3dData_numCams_numFrames_numTrackedPoints_reprojectionError.npy\u001b[0m\n",
      "2024-10-06 18:16:19,738 - freemocap.core_processes.capture_volume_calibration.save_mediapipe_3d_data_to_npy - INFO - saving: Z:\\Davide_MultimodalLab\\3_DATA_ANALYSIS\\1_MOTION_TRACKING\\1_Video_Segmentation\\video_split\\pilot_05_d2_Speech_Start_SUD_1_Start\\output_data\\raw_data\\mediapipe3dData_numCams_numFrames_numTrackedPoints_reprojectionError.npy\n",
      "\u001b[96m[2024-10-06T18:16:21.200981] [Δt:1.462658s] [    INFO] [freemocap.core_processes.post_process_skeleton_data.post_process_skeleton] [post_process_skeleton:run_post_processing_worker():79] [\u001b[38;2;50;255;72mPID:36168:MainProcess\u001b[0m \u001b[38;2;50;255;68mTID:33348:MainThread\u001b[0m ] Starting post-processing worker thread\u001b[0m\n",
      "2024-10-06 18:16:21,200 - freemocap.core_processes.post_process_skeleton_data.post_process_skeleton - INFO - Starting post-processing worker thread\n",
      "\u001b[96m[2024-10-06T18:16:21.200981] [Δt:0.000000s] [    INFO] [freemocap.core_processes.post_process_skeleton_data.post_process_skeleton] [post_process_skeleton:run_post_processing_worker():80] [\u001b[38;2;50;255;72mPID:36168:MainProcess\u001b[0m \u001b[38;2;50;255;68mTID:33348:MainThread\u001b[0m ] Log Progress\u001b[0m\n",
      "2024-10-06 18:16:21,200 - freemocap.core_processes.post_process_skeleton_data.post_process_skeleton - INFO - Log Progress\n"
     ]
    },
    {
     "data": {
      "text/html": [
       "<pre style=\"white-space:pre;overflow-x:auto;line-height:normal;font-family:Menlo,'DejaVu Sans Mono',consolas,'Courier New',monospace\">c:\\ProgramData\\Anaconda3\\envs\\freemocap-env\\Lib\\site-packages\\rich\\live.py:231: UserWarning: install \"ipywidgets\" \n",
       "for Jupyter support\n",
       "  warnings.warn('install \"ipywidgets\" for Jupyter support')\n",
       "</pre>\n"
      ],
      "text/plain": [
       "c:\\ProgramData\\Anaconda3\\envs\\freemocap-env\\Lib\\site-packages\\rich\\live.py:231: UserWarning: install \"ipywidgets\" \n",
       "for Jupyter support\n",
       "  warnings.warn('install \"ipywidgets\" for Jupyter support')\n"
      ]
     },
     "metadata": {},
     "output_type": "display_data"
    },
    {
     "data": {
      "text/html": [
       "<pre style=\"white-space:pre;overflow-x:auto;line-height:normal;font-family:Menlo,'DejaVu Sans Mono',consolas,'Courier New',monospace\">c:\\ProgramData\\Anaconda3\\envs\\freemocap-env\\Lib\\site-packages\\rich\\live.py:231: UserWarning: install \"ipywidgets\" \n",
       "for Jupyter support\n",
       "  warnings.warn('install \"ipywidgets\" for Jupyter support')\n",
       "</pre>\n"
      ],
      "text/plain": [
       "c:\\ProgramData\\Anaconda3\\envs\\freemocap-env\\Lib\\site-packages\\rich\\live.py:231: UserWarning: install \"ipywidgets\" \n",
       "for Jupyter support\n",
       "  warnings.warn('install \"ipywidgets\" for Jupyter support')\n"
      ]
     },
     "metadata": {},
     "output_type": "display_data"
    },
    {
     "data": {
      "text/html": [
       "<pre style=\"white-space:pre;overflow-x:auto;line-height:normal;font-family:Menlo,'DejaVu Sans Mono',consolas,'Courier New',monospace\">c:\\ProgramData\\Anaconda3\\envs\\freemocap-env\\Lib\\site-packages\\rich\\live.py:231: UserWarning: install \"ipywidgets\" \n",
       "for Jupyter support\n",
       "  warnings.warn('install \"ipywidgets\" for Jupyter support')\n",
       "</pre>\n"
      ],
      "text/plain": [
       "c:\\ProgramData\\Anaconda3\\envs\\freemocap-env\\Lib\\site-packages\\rich\\live.py:231: UserWarning: install \"ipywidgets\" \n",
       "for Jupyter support\n",
       "  warnings.warn('install \"ipywidgets\" for Jupyter support')\n"
      ]
     },
     "metadata": {},
     "output_type": "display_data"
    },
    {
     "data": {
      "text/html": [
       "<pre style=\"white-space:pre;overflow-x:auto;line-height:normal;font-family:Menlo,'DejaVu Sans Mono',consolas,'Courier New',monospace\">c:\\ProgramData\\Anaconda3\\envs\\freemocap-env\\Lib\\site-packages\\rich\\live.py:231: UserWarning: install \"ipywidgets\" \n",
       "for Jupyter support\n",
       "  warnings.warn('install \"ipywidgets\" for Jupyter support')\n",
       "</pre>\n"
      ],
      "text/plain": [
       "c:\\ProgramData\\Anaconda3\\envs\\freemocap-env\\Lib\\site-packages\\rich\\live.py:231: UserWarning: install \"ipywidgets\" \n",
       "for Jupyter support\n",
       "  warnings.warn('install \"ipywidgets\" for Jupyter support')\n"
      ]
     },
     "metadata": {},
     "output_type": "display_data"
    },
    {
     "data": {
      "text/html": [
       "<pre style=\"white-space:pre;overflow-x:auto;line-height:normal;font-family:Menlo,'DejaVu Sans Mono',consolas,'Courier New',monospace\">c:\\ProgramData\\Anaconda3\\envs\\freemocap-env\\Lib\\site-packages\\rich\\live.py:231: UserWarning: install \"ipywidgets\" \n",
       "for Jupyter support\n",
       "  warnings.warn('install \"ipywidgets\" for Jupyter support')\n",
       "</pre>\n"
      ],
      "text/plain": [
       "c:\\ProgramData\\Anaconda3\\envs\\freemocap-env\\Lib\\site-packages\\rich\\live.py:231: UserWarning: install \"ipywidgets\" \n",
       "for Jupyter support\n",
       "  warnings.warn('install \"ipywidgets\" for Jupyter support')\n"
      ]
     },
     "metadata": {},
     "output_type": "display_data"
    },
    {
     "data": {
      "text/html": [
       "<pre style=\"white-space:pre;overflow-x:auto;line-height:normal;font-family:Menlo,'DejaVu Sans Mono',consolas,'Courier New',monospace\">c:\\ProgramData\\Anaconda3\\envs\\freemocap-env\\Lib\\site-packages\\rich\\live.py:231: UserWarning: install \"ipywidgets\" \n",
       "for Jupyter support\n",
       "  warnings.warn('install \"ipywidgets\" for Jupyter support')\n",
       "</pre>\n"
      ],
      "text/plain": [
       "c:\\ProgramData\\Anaconda3\\envs\\freemocap-env\\Lib\\site-packages\\rich\\live.py:231: UserWarning: install \"ipywidgets\" \n",
       "for Jupyter support\n",
       "  warnings.warn('install \"ipywidgets\" for Jupyter support')\n"
      ]
     },
     "metadata": {},
     "output_type": "display_data"
    },
    {
     "data": {
      "text/html": [
       "<pre style=\"white-space:pre;overflow-x:auto;line-height:normal;font-family:Menlo,'DejaVu Sans Mono',consolas,'Courier New',monospace\">c:\\ProgramData\\Anaconda3\\envs\\freemocap-env\\Lib\\site-packages\\rich\\live.py:231: UserWarning: install \"ipywidgets\" \n",
       "for Jupyter support\n",
       "  warnings.warn('install \"ipywidgets\" for Jupyter support')\n",
       "</pre>\n"
      ],
      "text/plain": [
       "c:\\ProgramData\\Anaconda3\\envs\\freemocap-env\\Lib\\site-packages\\rich\\live.py:231: UserWarning: install \"ipywidgets\" \n",
       "for Jupyter support\n",
       "  warnings.warn('install \"ipywidgets\" for Jupyter support')\n"
      ]
     },
     "metadata": {},
     "output_type": "display_data"
    },
    {
     "data": {
      "text/html": [
       "<pre style=\"white-space:pre;overflow-x:auto;line-height:normal;font-family:Menlo,'DejaVu Sans Mono',consolas,'Courier New',monospace\"></pre>\n"
      ],
      "text/plain": []
     },
     "metadata": {},
     "output_type": "display_data"
    },
    {
     "data": {
      "text/html": [
       "<pre style=\"white-space:pre;overflow-x:auto;line-height:normal;font-family:Menlo,'DejaVu Sans Mono',consolas,'Courier New',monospace\">\n",
       "</pre>\n"
      ],
      "text/plain": [
       "\n"
      ]
     },
     "metadata": {},
     "output_type": "display_data"
    },
    {
     "data": {
      "text/html": [
       "<pre style=\"white-space:pre;overflow-x:auto;line-height:normal;font-family:Menlo,'DejaVu Sans Mono',consolas,'Courier New',monospace\"></pre>\n"
      ],
      "text/plain": []
     },
     "metadata": {},
     "output_type": "display_data"
    },
    {
     "data": {
      "text/html": [
       "<pre style=\"white-space:pre;overflow-x:auto;line-height:normal;font-family:Menlo,'DejaVu Sans Mono',consolas,'Courier New',monospace\">\n",
       "</pre>\n"
      ],
      "text/plain": [
       "\n"
      ]
     },
     "metadata": {},
     "output_type": "display_data"
    },
    {
     "name": "stdout",
     "output_type": "stream",
     "text": [
      "\u001b[96m[2024-10-06T18:16:22.927789] [Δt:1.726808s] [    INFO] [freemocap.core_processes.post_process_skeleton_data.post_process_skeleton] [post_process_skeleton:run_post_processing_worker():90] [\u001b[38;2;50;255;72mPID:36168:MainProcess\u001b[0m \u001b[38;2;50;255;68mTID:33348:MainThread\u001b[0m ] Done with gap filling, filtering, and aligning\u001b[0m\n",
      "2024-10-06 18:16:22,927 - freemocap.core_processes.post_process_skeleton_data.post_process_skeleton - INFO - Done with gap filling, filtering, and aligning\n",
      "\u001b[96m[2024-10-06T18:16:22.929817] [Δt:0.004012s] [    INFO] [freemocap.core_processes.process_motion_capture_videos.processing_pipeline_functions.anatomical_data_pipeline_functions] [anatomical_data_pipeline_functions:calculate_anatomical_data():26] [\u001b[38;2;50;255;72mPID:36168:MainProcess\u001b[0m \u001b[38;2;50;255;68mTID:33348:MainThread\u001b[0m ] Calculating center of mass...\u001b[0m\n",
      "2024-10-06 18:16:22,929 - freemocap.core_processes.process_motion_capture_videos.processing_pipeline_functions.anatomical_data_pipeline_functions - INFO - Calculating center of mass...\n"
     ]
    },
    {
     "data": {
      "text/html": [
       "<pre style=\"white-space:pre;overflow-x:auto;line-height:normal;font-family:Menlo,'DejaVu Sans Mono',consolas,'Courier New',monospace\">c:\\ProgramData\\Anaconda3\\envs\\freemocap-env\\Lib\\site-packages\\rich\\live.py:231: UserWarning: install \"ipywidgets\" \n",
       "for Jupyter support\n",
       "  warnings.warn('install \"ipywidgets\" for Jupyter support')\n",
       "</pre>\n"
      ],
      "text/plain": [
       "c:\\ProgramData\\Anaconda3\\envs\\freemocap-env\\Lib\\site-packages\\rich\\live.py:231: UserWarning: install \"ipywidgets\" \n",
       "for Jupyter support\n",
       "  warnings.warn('install \"ipywidgets\" for Jupyter support')\n"
      ]
     },
     "metadata": {},
     "output_type": "display_data"
    },
    {
     "data": {
      "text/html": [
       "<pre style=\"white-space:pre;overflow-x:auto;line-height:normal;font-family:Menlo,'DejaVu Sans Mono',consolas,'Courier New',monospace\"></pre>\n"
      ],
      "text/plain": []
     },
     "metadata": {},
     "output_type": "display_data"
    },
    {
     "data": {
      "text/html": [
       "<pre style=\"white-space:pre;overflow-x:auto;line-height:normal;font-family:Menlo,'DejaVu Sans Mono',consolas,'Courier New',monospace\">\n",
       "</pre>\n"
      ],
      "text/plain": [
       "\n"
      ]
     },
     "metadata": {},
     "output_type": "display_data"
    },
    {
     "data": {
      "text/html": [
       "<pre style=\"white-space:pre;overflow-x:auto;line-height:normal;font-family:Menlo,'DejaVu Sans Mono',consolas,'Courier New',monospace\"></pre>\n"
      ],
      "text/plain": []
     },
     "metadata": {},
     "output_type": "display_data"
    },
    {
     "data": {
      "text/html": [
       "<pre style=\"white-space:pre;overflow-x:auto;line-height:normal;font-family:Menlo,'DejaVu Sans Mono',consolas,'Courier New',monospace\">\n",
       "</pre>\n"
      ],
      "text/plain": [
       "\n"
      ]
     },
     "metadata": {},
     "output_type": "display_data"
    },
    {
     "name": "stdout",
     "output_type": "stream",
     "text": [
      "\u001b[96m[2024-10-06T18:16:32.257416] [Δt:9.325614s] [    INFO] [freemocap.core_processes.post_process_skeleton_data.calculate_center_of_mass] [calculate_center_of_mass:calculate_total_body_COM():306] [\u001b[38;2;50;255;72mPID:36168:MainProcess\u001b[0m \u001b[38;2;50;255;68mTID:33348:MainThread\u001b[0m ] Calculating Total Body Center of Mass\u001b[0m\n",
      "2024-10-06 18:16:32,257 - freemocap.core_processes.post_process_skeleton_data.calculate_center_of_mass - INFO - Calculating Total Body Center of Mass\n"
     ]
    },
    {
     "data": {
      "text/html": [
       "<pre style=\"white-space:pre;overflow-x:auto;line-height:normal;font-family:Menlo,'DejaVu Sans Mono',consolas,'Courier New',monospace\"></pre>\n"
      ],
      "text/plain": []
     },
     "metadata": {},
     "output_type": "display_data"
    },
    {
     "data": {
      "text/html": [
       "<pre style=\"white-space:pre;overflow-x:auto;line-height:normal;font-family:Menlo,'DejaVu Sans Mono',consolas,'Courier New',monospace\">\n",
       "</pre>\n"
      ],
      "text/plain": [
       "\n"
      ]
     },
     "metadata": {},
     "output_type": "display_data"
    },
    {
     "name": "stdout",
     "output_type": "stream",
     "text": [
      "\u001b[96m[2024-10-06T18:16:37.065828] [Δt:4.808413s] [    INFO] [freemocap.core_processes.detecting_things_in_2d_images.mediapipe_stuff.convert_mediapipe_npy_to_csv] [convert_mediapipe_npy_to_csv:convert_mediapipe_npy_to_csv():23] [\u001b[38;2;50;255;72mPID:36168:MainProcess\u001b[0m \u001b[38;2;50;255;68mTID:33348:MainThread\u001b[0m ] Converting npy data with shape: (7311, 553, 3) into `csv` and smaller `npy` files\u001b[0m\n",
      "2024-10-06 18:16:37,065 - freemocap.core_processes.detecting_things_in_2d_images.mediapipe_stuff.convert_mediapipe_npy_to_csv - INFO - Converting npy data with shape: (7311, 553, 3) into `csv` and smaller `npy` files\n",
      "\u001b[34m[2024-10-06T18:21:51.407655] [Δt:314.341826s] [   DEBUG] [freemocap.core_processes.detecting_things_in_2d_images.mediapipe_stuff.convert_mediapipe_npy_to_csv] [convert_mediapipe_npy_to_csv:convert_mediapipe_npy_to_csv():239] [\u001b[38;2;50;255;72mPID:36168:MainProcess\u001b[0m \u001b[38;2;50;255;68mTID:33348:MainThread\u001b[0m ] body 3d xyz shape: (7311, 33, 3)\u001b[0m\n",
      "\u001b[34m[2024-10-06T18:21:51.407655] [Δt:0.000000s] [   DEBUG] [freemocap.core_processes.detecting_things_in_2d_images.mediapipe_stuff.convert_mediapipe_npy_to_csv] [convert_mediapipe_npy_to_csv:convert_mediapipe_npy_to_csv():240] [\u001b[38;2;50;255;72mPID:36168:MainProcess\u001b[0m \u001b[38;2;50;255;68mTID:33348:MainThread\u001b[0m ] right hand 3d xyz shape: (7311, 21, 3)\u001b[0m\n",
      "\u001b[34m[2024-10-06T18:21:51.407655] [Δt:0.000000s] [   DEBUG] [freemocap.core_processes.detecting_things_in_2d_images.mediapipe_stuff.convert_mediapipe_npy_to_csv] [convert_mediapipe_npy_to_csv:convert_mediapipe_npy_to_csv():241] [\u001b[38;2;50;255;72mPID:36168:MainProcess\u001b[0m \u001b[38;2;50;255;68mTID:33348:MainThread\u001b[0m ] left hand 3d xyz shape: (7311, 21, 3)\u001b[0m\n",
      "\u001b[34m[2024-10-06T18:21:51.407655] [Δt:0.000000s] [   DEBUG] [freemocap.core_processes.detecting_things_in_2d_images.mediapipe_stuff.convert_mediapipe_npy_to_csv] [convert_mediapipe_npy_to_csv:convert_mediapipe_npy_to_csv():242] [\u001b[38;2;50;255;72mPID:36168:MainProcess\u001b[0m \u001b[38;2;50;255;68mTID:33348:MainThread\u001b[0m ] face 3d xyz shape: (7311, 478, 3)\u001b[0m\n",
      "\u001b[34m[2024-10-06T18:25:09.517265] [Δt:198.109611s] [   DEBUG] [freemocap.core_processes.detecting_things_in_2d_images.mediapipe_stuff.convert_mediapipe_npy_to_csv] [convert_mediapipe_npy_to_csv:convert_mediapipe_npy_to_csv():284] [\u001b[38;2;50;255;72mPID:36168:MainProcess\u001b[0m \u001b[38;2;50;255;68mTID:33348:MainThread\u001b[0m ] length of body 3d xyz `.csv` header: 99, should be: 99\u001b[0m\n",
      "\u001b[34m[2024-10-06T18:25:09.517265] [Δt:0.000000s] [   DEBUG] [freemocap.core_processes.detecting_things_in_2d_images.mediapipe_stuff.convert_mediapipe_npy_to_csv] [convert_mediapipe_npy_to_csv:convert_mediapipe_npy_to_csv():287] [\u001b[38;2;50;255;72mPID:36168:MainProcess\u001b[0m \u001b[38;2;50;255;68mTID:33348:MainThread\u001b[0m ] length of right hand 3d xyz `.csv` header: 63, should be: 63\u001b[0m\n",
      "\u001b[34m[2024-10-06T18:25:09.517265] [Δt:0.000000s] [   DEBUG] [freemocap.core_processes.detecting_things_in_2d_images.mediapipe_stuff.convert_mediapipe_npy_to_csv] [convert_mediapipe_npy_to_csv:convert_mediapipe_npy_to_csv():290] [\u001b[38;2;50;255;72mPID:36168:MainProcess\u001b[0m \u001b[38;2;50;255;68mTID:33348:MainThread\u001b[0m ] length of left hand 3d xyz `.csv` header: 63, should be: 63\u001b[0m\n",
      "\u001b[34m[2024-10-06T18:25:09.517265] [Δt:0.000000s] [   DEBUG] [freemocap.core_processes.detecting_things_in_2d_images.mediapipe_stuff.convert_mediapipe_npy_to_csv] [convert_mediapipe_npy_to_csv:convert_mediapipe_npy_to_csv():293] [\u001b[38;2;50;255;72mPID:36168:MainProcess\u001b[0m \u001b[38;2;50;255;68mTID:33348:MainThread\u001b[0m ] length of face 3d xyz `.csv` header: 1434, should be: 1434\u001b[0m\n",
      "\u001b[96m[2024-10-06T18:27:06.080727] [Δt:116.563461s] [    INFO] [freemocap.core_processes.detecting_things_in_2d_images.mediapipe_stuff.convert_mediapipe_npy_to_csv] [convert_mediapipe_npy_to_csv:convert_mediapipe_npy_to_csv():322] [\u001b[38;2;50;255;72mPID:36168:MainProcess\u001b[0m \u001b[38;2;50;255;68mTID:33348:MainThread\u001b[0m ] Done saving out `csv` and broken up `npy` files\u001b[0m\n",
      "2024-10-06 18:27:06,080 - freemocap.core_processes.detecting_things_in_2d_images.mediapipe_stuff.convert_mediapipe_npy_to_csv - INFO - Done saving out `csv` and broken up `npy` files\n",
      "\u001b[96m[2024-10-06T18:27:06.082428] [Δt:0.001701s] [    INFO] [freemocap.core_processes.process_motion_capture_videos.processing_pipeline_functions.data_saving_pipeline_functions] [data_saving_pipeline_functions:save_data():39] [\u001b[38;2;50;255;72mPID:36168:MainProcess\u001b[0m \u001b[38;2;50;255;68mTID:33348:MainThread\u001b[0m ] Saving post-processed data\u001b[0m\n",
      "2024-10-06 18:27:06,082 - freemocap.core_processes.process_motion_capture_videos.processing_pipeline_functions.data_saving_pipeline_functions - INFO - Saving post-processed data\n",
      "\u001b[96m[2024-10-06T18:27:07.558238] [Δt:1.475810s] [    INFO] [freemocap.core_processes.process_motion_capture_videos.processing_pipeline_functions.data_saving_pipeline_functions] [data_saving_pipeline_functions:save_data():46] [\u001b[38;2;50;255;72mPID:36168:MainProcess\u001b[0m \u001b[38;2;50;255;68mTID:33348:MainThread\u001b[0m ] Saving segment center of mass data\u001b[0m\n",
      "2024-10-06 18:27:07,558 - freemocap.core_processes.process_motion_capture_videos.processing_pipeline_functions.data_saving_pipeline_functions - INFO - Saving segment center of mass data\n",
      "\u001b[96m[2024-10-06T18:27:07.683781] [Δt:0.125544s] [    INFO] [freemocap.core_processes.process_motion_capture_videos.processing_pipeline_functions.data_saving_pipeline_functions] [data_saving_pipeline_functions:save_data():53] [\u001b[38;2;50;255;72mPID:36168:MainProcess\u001b[0m \u001b[38;2;50;255;68mTID:33348:MainThread\u001b[0m ] Saving total body center of mass data\u001b[0m\n",
      "2024-10-06 18:27:07,683 - freemocap.core_processes.process_motion_capture_videos.processing_pipeline_functions.data_saving_pipeline_functions - INFO - Saving total body center of mass data\n",
      "\u001b[96m[2024-10-06T18:27:07.790608] [Δt:0.106826s] [    INFO] [freemocap.utilities.save_dictionary_to_json] [save_dictionary_to_json:save_dictionary_to_json():16] [\u001b[38;2;50;255;72mPID:36168:MainProcess\u001b[0m \u001b[38;2;50;255;68mTID:33348:MainThread\u001b[0m ] Saved dictionary mediapipe_names_and_connections_dict.json as json  at: Z:\\Davide_MultimodalLab\\3_DATA_ANALYSIS\\1_MOTION_TRACKING\\1_Video_Segmentation\\video_split\\pilot_05_d2_Speech_Start_SUD_1_Start\\output_data\\mediapipe_names_and_connections_dict.json\u001b[0m\n",
      "2024-10-06 18:27:07,790 - freemocap.utilities.save_dictionary_to_json - INFO - Saved dictionary mediapipe_names_and_connections_dict.json as json  at: Z:\\Davide_MultimodalLab\\3_DATA_ANALYSIS\\1_MOTION_TRACKING\\1_Video_Segmentation\\video_split\\pilot_05_d2_Speech_Start_SUD_1_Start\\output_data\\mediapipe_names_and_connections_dict.json\n",
      "\u001b[33m[2024-10-06T18:27:07.850004] [Δt:0.059397s] [ WARNING] [freemocap.system.paths_and_filenames.file_and_folder_names] [path_getters:get_timestamps_directory():252] [\u001b[38;2;50;255;72mPID:36168:MainProcess\u001b[0m \u001b[38;2;50;255;68mTID:33348:MainThread\u001b[0m ] Could not find timestamps directory in Z:\\Davide_MultimodalLab\\3_DATA_ANALYSIS\\1_MOTION_TRACKING\\1_Video_Segmentation\\video_split\\pilot_05_d2_Speech_Start_SUD_1_Start\\synchronized_videos\u001b[0m\n",
      "2024-10-06 18:27:07,850 - freemocap.system.paths_and_filenames.file_and_folder_names - WARNING - Could not find timestamps directory in Z:\\Davide_MultimodalLab\\3_DATA_ANALYSIS\\1_MOTION_TRACKING\\1_Video_Segmentation\\video_split\\pilot_05_d2_Speech_Start_SUD_1_Start\\synchronized_videos\n",
      "\u001b[33m[2024-10-06T18:27:07.850004] [Δt:0.000000s] [ WARNING] [freemocap.data_layer.data_saver.data_loader] [data_loader:_load_timestamps():91] [\u001b[38;2;50;255;72mPID:36168:MainProcess\u001b[0m \u001b[38;2;50;255;68mTID:33348:MainThread\u001b[0m ] No timestamps directory found. Skipping timestamps loading.\u001b[0m\n",
      "2024-10-06 18:27:07,850 - freemocap.data_layer.data_saver.data_loader - WARNING - No timestamps directory found. Skipping timestamps loading.\n",
      "\u001b[96m[2024-10-06T18:29:04.690729] [Δt:116.840725s] [    INFO] [freemocap.data_layer.data_saver.data_saver] [data_saver:save_to_json():59] [\u001b[38;2;50;255;72mPID:36168:MainProcess\u001b[0m \u001b[38;2;50;255;68mTID:33348:MainThread\u001b[0m ] Saving recording data to Z:\\Davide_MultimodalLab\\3_DATA_ANALYSIS\\1_MOTION_TRACKING\\1_Video_Segmentation\\video_split\\pilot_05_d2_Speech_Start_SUD_1_Start\\pilot_05_d2_Speech_Start_SUD_1_Start_by_frame.json\u001b[0m\n",
      "2024-10-06 18:29:04,690 - freemocap.data_layer.data_saver.data_saver - INFO - Saving recording data to Z:\\Davide_MultimodalLab\\3_DATA_ANALYSIS\\1_MOTION_TRACKING\\1_Video_Segmentation\\video_split\\pilot_05_d2_Speech_Start_SUD_1_Start\\pilot_05_d2_Speech_Start_SUD_1_Start_by_frame.json\n",
      "\u001b[96m[2024-10-06T18:31:20.748023] [Δt:136.057293s] [    INFO] [freemocap.data_layer.data_saver.data_saver] [data_saver:save_to_csv():76] [\u001b[38;2;50;255;72mPID:36168:MainProcess\u001b[0m \u001b[38;2;50;255;68mTID:33348:MainThread\u001b[0m ] Saved recording data to Z:\\Davide_MultimodalLab\\3_DATA_ANALYSIS\\1_MOTION_TRACKING\\1_Video_Segmentation\\video_split\\pilot_05_d2_Speech_Start_SUD_1_Start\\pilot_05_d2_Speech_Start_SUD_1_Start_by_trajectory.csv\u001b[0m\n",
      "2024-10-06 18:31:20,748 - freemocap.data_layer.data_saver.data_saver - INFO - Saved recording data to Z:\\Davide_MultimodalLab\\3_DATA_ANALYSIS\\1_MOTION_TRACKING\\1_Video_Segmentation\\video_split\\pilot_05_d2_Speech_Start_SUD_1_Start\\pilot_05_d2_Speech_Start_SUD_1_Start_by_trajectory.csv\n",
      "\u001b[96m[2024-10-06T18:31:22.787688] [Δt:2.039665s] [    INFO] [freemocap.data_layer.data_saver.data_saver] [data_saver:save_to_npy():82] [\u001b[38;2;50;255;72mPID:36168:MainProcess\u001b[0m \u001b[38;2;50;255;68mTID:33348:MainThread\u001b[0m ] Saved recording data to Z:\\Davide_MultimodalLab\\3_DATA_ANALYSIS\\1_MOTION_TRACKING\\1_Video_Segmentation\\video_split\\pilot_05_d2_Speech_Start_SUD_1_Start\\pilot_05_d2_Speech_Start_SUD_1_Start_frame_name_xyz.npy\u001b[0m\n",
      "2024-10-06 18:31:22,787 - freemocap.data_layer.data_saver.data_saver - INFO - Saved recording data to Z:\\Davide_MultimodalLab\\3_DATA_ANALYSIS\\1_MOTION_TRACKING\\1_Video_Segmentation\\video_split\\pilot_05_d2_Speech_Start_SUD_1_Start\\pilot_05_d2_Speech_Start_SUD_1_Start_frame_name_xyz.npy\n",
      "\u001b[96m[2024-10-06T18:31:23.103874] [Δt:0.316785s] [    INFO] [freemocap.core_processes.process_motion_capture_videos.process_recording_folder] [process_recording_folder:process_recording_folder():143] [\u001b[38;2;50;255;72mPID:36168:MainProcess\u001b[0m \u001b[38;2;50;255;68mTID:33348:MainThread\u001b[0m ] Done processing Z:\\Davide_MultimodalLab\\3_DATA_ANALYSIS\\1_MOTION_TRACKING\\1_Video_Segmentation\\video_split\\pilot_05_d2_Speech_Start_SUD_1_Start\u001b[0m\n",
      "2024-10-06 18:31:23,103 - freemocap.core_processes.process_motion_capture_videos.process_recording_folder - INFO - Done processing Z:\\Davide_MultimodalLab\\3_DATA_ANALYSIS\\1_MOTION_TRACKING\\1_Video_Segmentation\\video_split\\pilot_05_d2_Speech_Start_SUD_1_Start\n",
      "\u001b[33m[2024-10-06T18:31:23.148207] [Δt:0.043734s] [ WARNING] [root] [1048335352:process_recording():48] [\u001b[38;2;50;255;72mPID:36168:MainProcess\u001b[0m \u001b[38;2;50;255;68mTID:33348:MainThread\u001b[0m ] No blender executable provided. Blender file will not be exported.\u001b[0m\n",
      "2024-10-06 18:31:23,148 - root - WARNING - No blender executable provided. Blender file will not be exported.\n",
      "We will now load this vide folder  Z:\\Davide_MultimodalLab\\3_DATA_ANALYSIS\\1_MOTION_TRACKING\\1_Video_Segmentation\\video_split\\pilot_05_d2_Speech_Start_SUD_1_Start\n",
      "\u001b[96m[2024-10-06T18:31:23.148207] [Δt:0.000000s] [    INFO] [root] [2323846283:<module>():20] [\u001b[38;2;50;255;72mPID:36168:MainProcess\u001b[0m \u001b[38;2;50;255;68mTID:33348:MainThread\u001b[0m ] Processing video folder: Z:\\Davide_MultimodalLab\\3_DATA_ANALYSIS\\1_MOTION_TRACKING\\1_Video_Segmentation\\video_split\\pilot_05_d2_SUD_1_End_SUD_2_Start\u001b[0m\n",
      "2024-10-06 18:31:23,148 - root - INFO - Processing video folder: Z:\\Davide_MultimodalLab\\3_DATA_ANALYSIS\\1_MOTION_TRACKING\\1_Video_Segmentation\\video_split\\pilot_05_d2_SUD_1_End_SUD_2_Start\n",
      "\u001b[96m[2024-10-06T18:31:23.261811] [Δt:0.113604s] [    INFO] [freemocap.utilities.save_dictionary_to_json] [save_dictionary_to_json:save_dictionary_to_json():16] [\u001b[38;2;50;255;72mPID:36168:MainProcess\u001b[0m \u001b[38;2;50;255;68mTID:33348:MainThread\u001b[0m ] Saved dictionary recording_parameters.json as json  at: Z:\\Davide_MultimodalLab\\3_DATA_ANALYSIS\\1_MOTION_TRACKING\\1_Video_Segmentation\\video_split\\pilot_05_d2_SUD_1_End_SUD_2_Start\\output_data\\recording_parameters.json\u001b[0m\n",
      "2024-10-06 18:31:23,261 - freemocap.utilities.save_dictionary_to_json - INFO - Saved dictionary recording_parameters.json as json  at: Z:\\Davide_MultimodalLab\\3_DATA_ANALYSIS\\1_MOTION_TRACKING\\1_Video_Segmentation\\video_split\\pilot_05_d2_SUD_1_End_SUD_2_Start\\output_data\\recording_parameters.json\n",
      "\u001b[96m[2024-10-06T18:31:24.014833] [Δt:0.753023s] [    INFO] [freemocap.data_layer.recording_models.recording_info_model] [recording_info_model:get_number_of_mp4s_in_synched_videos_directory():239] [\u001b[38;2;50;255;72mPID:36168:MainProcess\u001b[0m \u001b[38;2;50;255;68mTID:33348:MainThread\u001b[0m ] Number of `.mp4`'s in Z:\\Davide_MultimodalLab\\3_DATA_ANALYSIS\\1_MOTION_TRACKING\\1_Video_Segmentation\\video_split\\pilot_05_d2_SUD_1_End_SUD_2_Start\\synchronized_videos: 3\u001b[0m\n",
      "2024-10-06 18:31:24,014 - freemocap.data_layer.recording_models.recording_info_model - INFO - Number of `.mp4`'s in Z:\\Davide_MultimodalLab\\3_DATA_ANALYSIS\\1_MOTION_TRACKING\\1_Video_Segmentation\\video_split\\pilot_05_d2_SUD_1_End_SUD_2_Start\\synchronized_videos: 3\n",
      "\u001b[34m[2024-10-06T18:31:24.014833] [Δt:0.000000s] [   DEBUG] [freemocap.data_layer.recording_models.recording_info_model] [recording_info_model:get_number_of_frames_in_videos():253] [\u001b[38;2;50;255;72mPID:36168:MainProcess\u001b[0m \u001b[38;2;50;255;68mTID:33348:MainThread\u001b[0m ] No 'timestamps' directory, finding frame counts from synchronized videos\u001b[0m\n",
      "\u001b[96m[2024-10-06T18:31:24.214695] [Δt:0.199861s] [    INFO] [freemocap.core_processes.process_motion_capture_videos.processing_pipeline_functions.image_tracking_pipeline_functions] [image_tracking_pipeline_functions:run_image_tracking_pipeline():44] [\u001b[38;2;50;255;72mPID:36168:MainProcess\u001b[0m \u001b[38;2;50;255;68mTID:33348:MainThread\u001b[0m ] Detecting 2d skeletons...\u001b[0m\n",
      "2024-10-06 18:31:24,214 - freemocap.core_processes.process_motion_capture_videos.processing_pipeline_functions.image_tracking_pipeline_functions - INFO - Detecting 2d skeletons...\n",
      "\u001b[96m[2024-10-06T18:31:24.214695] [Δt:0.000000s] [    INFO] [freemocap.core_processes.process_motion_capture_videos.processing_pipeline_functions.image_tracking_pipeline_functions] [image_tracking_pipeline_functions:run_image_tracking_pipeline():45] [\u001b[38;2;50;255;72mPID:36168:MainProcess\u001b[0m \u001b[38;2;50;255;68mTID:33348:MainThread\u001b[0m ] Log Progress\u001b[0m\n",
      "2024-10-06 18:31:24,214 - freemocap.core_processes.process_motion_capture_videos.processing_pipeline_functions.image_tracking_pipeline_functions - INFO - Log Progress\n",
      "\u001b[96m[2024-10-06T18:31:24.370563] [Δt:0.155868s] [    INFO] [skellytracker.process_folder_of_videos] [process_folder_of_videos:process_single_video():131] [\u001b[38;2;50;255;72mPID:36168:MainProcess\u001b[0m \u001b[38;2;50;255;68mTID:33348:MainThread\u001b[0m ] Processing video: pilot_05_d2_SUD_1_End_SUD_2_Start_cam1_mediapipe.mp4 with tracker: MediapipeHolisticTracker\u001b[0m\n",
      "2024-10-06 18:31:24,370 - skellytracker.process_folder_of_videos - INFO - Processing video: pilot_05_d2_SUD_1_End_SUD_2_Start_cam1_mediapipe.mp4 with tracker: MediapipeHolisticTracker\n"
     ]
    },
    {
     "name": "stderr",
     "output_type": "stream",
     "text": [
      "processing video: pilot_05_d2_SUD_1_End_SUD_2_Start_cam1.mp4: 100%|\u001b[35m██████████\u001b[0m| 6961/6961 [12:46<00:00,  9.08frames/s]"
     ]
    },
    {
     "name": "stdout",
     "output_type": "stream",
     "text": [
      "\u001b[96m[2024-10-06T18:44:11.315254] [Δt:766.944692s] [    INFO] [skellytracker.trackers.base_tracker.video_handler] [video_handler:close():45] [\u001b[38;2;50;255;72mPID:36168:MainProcess\u001b[0m \u001b[38;2;50;255;68mTID:33348:MainThread\u001b[0m ] video saved to Z:\\Davide_MultimodalLab\\3_DATA_ANALYSIS\\1_MOTION_TRACKING\\1_Video_Segmentation\\video_split\\pilot_05_d2_SUD_1_End_SUD_2_Start\\annotated_videos\\pilot_05_d2_SUD_1_End_SUD_2_Start_cam1_mediapipe.mp4\u001b[0m\n",
      "2024-10-06 18:44:11,315 - skellytracker.trackers.base_tracker.video_handler - INFO - video saved to Z:\\Davide_MultimodalLab\\3_DATA_ANALYSIS\\1_MOTION_TRACKING\\1_Video_Segmentation\\video_split\\pilot_05_d2_SUD_1_End_SUD_2_Start\\annotated_videos\\pilot_05_d2_SUD_1_End_SUD_2_Start_cam1_mediapipe.mp4\n"
     ]
    },
    {
     "name": "stderr",
     "output_type": "stream",
     "text": [
      "\n"
     ]
    },
    {
     "name": "stdout",
     "output_type": "stream",
     "text": [
      "\u001b[96m[2024-10-06T18:44:14.419650] [Δt:3.104395s] [    INFO] [skellytracker.process_folder_of_videos] [process_folder_of_videos:process_single_video():131] [\u001b[38;2;50;255;72mPID:36168:MainProcess\u001b[0m \u001b[38;2;50;255;68mTID:33348:MainThread\u001b[0m ] Processing video: pilot_05_d2_SUD_1_End_SUD_2_Start_cam2_mediapipe.mp4 with tracker: MediapipeHolisticTracker\u001b[0m\n",
      "2024-10-06 18:44:14,419 - skellytracker.process_folder_of_videos - INFO - Processing video: pilot_05_d2_SUD_1_End_SUD_2_Start_cam2_mediapipe.mp4 with tracker: MediapipeHolisticTracker\n"
     ]
    },
    {
     "name": "stderr",
     "output_type": "stream",
     "text": [
      "processing video: pilot_05_d2_SUD_1_End_SUD_2_Start_cam2.mp4: 100%|\u001b[35m██████████\u001b[0m| 6961/6961 [13:07<00:00,  8.84frames/s]\n"
     ]
    },
    {
     "name": "stdout",
     "output_type": "stream",
     "text": [
      "\u001b[96m[2024-10-06T18:57:21.772373] [Δt:787.353025s] [    INFO] [skellytracker.trackers.base_tracker.video_handler] [video_handler:close():45] [\u001b[38;2;50;255;72mPID:36168:MainProcess\u001b[0m \u001b[38;2;50;255;68mTID:33348:MainThread\u001b[0m ] video saved to Z:\\Davide_MultimodalLab\\3_DATA_ANALYSIS\\1_MOTION_TRACKING\\1_Video_Segmentation\\video_split\\pilot_05_d2_SUD_1_End_SUD_2_Start\\annotated_videos\\pilot_05_d2_SUD_1_End_SUD_2_Start_cam2_mediapipe.mp4\u001b[0m\n",
      "2024-10-06 18:57:21,772 - skellytracker.trackers.base_tracker.video_handler - INFO - video saved to Z:\\Davide_MultimodalLab\\3_DATA_ANALYSIS\\1_MOTION_TRACKING\\1_Video_Segmentation\\video_split\\pilot_05_d2_SUD_1_End_SUD_2_Start\\annotated_videos\\pilot_05_d2_SUD_1_End_SUD_2_Start_cam2_mediapipe.mp4\n",
      "\u001b[96m[2024-10-06T18:57:25.635701] [Δt:3.863027s] [    INFO] [skellytracker.process_folder_of_videos] [process_folder_of_videos:process_single_video():131] [\u001b[38;2;50;255;72mPID:36168:MainProcess\u001b[0m \u001b[38;2;50;255;68mTID:33348:MainThread\u001b[0m ] Processing video: pilot_05_d2_SUD_1_End_SUD_2_Start_cam3_mediapipe.mp4 with tracker: MediapipeHolisticTracker\u001b[0m\n",
      "2024-10-06 18:57:25,635 - skellytracker.process_folder_of_videos - INFO - Processing video: pilot_05_d2_SUD_1_End_SUD_2_Start_cam3_mediapipe.mp4 with tracker: MediapipeHolisticTracker\n"
     ]
    },
    {
     "name": "stderr",
     "output_type": "stream",
     "text": [
      "processing video: pilot_05_d2_SUD_1_End_SUD_2_Start_cam3.mp4: 100%|\u001b[35m██████████\u001b[0m| 6961/6961 [13:28<00:00,  8.61frames/s]"
     ]
    },
    {
     "name": "stdout",
     "output_type": "stream",
     "text": [
      "\u001b[96m[2024-10-06T19:10:54.491714] [Δt:808.856012s] [    INFO] [skellytracker.trackers.base_tracker.video_handler] [video_handler:close():45] [\u001b[38;2;50;255;72mPID:36168:MainProcess\u001b[0m \u001b[38;2;50;255;68mTID:33348:MainThread\u001b[0m ] video saved to Z:\\Davide_MultimodalLab\\3_DATA_ANALYSIS\\1_MOTION_TRACKING\\1_Video_Segmentation\\video_split\\pilot_05_d2_SUD_1_End_SUD_2_Start\\annotated_videos\\pilot_05_d2_SUD_1_End_SUD_2_Start_cam3_mediapipe.mp4\u001b[0m\n",
      "2024-10-06 19:10:54,491 - skellytracker.trackers.base_tracker.video_handler - INFO - video saved to Z:\\Davide_MultimodalLab\\3_DATA_ANALYSIS\\1_MOTION_TRACKING\\1_Video_Segmentation\\video_split\\pilot_05_d2_SUD_1_End_SUD_2_Start\\annotated_videos\\pilot_05_d2_SUD_1_End_SUD_2_Start_cam3_mediapipe.mp4\n"
     ]
    },
    {
     "name": "stderr",
     "output_type": "stream",
     "text": [
      "\n"
     ]
    },
    {
     "name": "stdout",
     "output_type": "stream",
     "text": [
      "\u001b[96m[2024-10-06T19:10:58.456171] [Δt:3.964457s] [    INFO] [skellytracker.process_folder_of_videos] [process_folder_of_videos:process_folder_of_videos():105] [\u001b[38;2;50;255;72mPID:36168:MainProcess\u001b[0m \u001b[38;2;50;255;68mTID:33348:MainThread\u001b[0m ] Shape of output array: (3, 6961, 553, 3)\u001b[0m\n",
      "2024-10-06 19:10:58,456 - skellytracker.process_folder_of_videos - INFO - Shape of output array: (3, 6961, 553, 3)\n",
      "\u001b[96m[2024-10-06T19:11:26.212512] [Δt:27.756342s] [    INFO] [freemocap.core_processes.process_motion_capture_videos.processing_pipeline_functions.triangulation_pipeline_functions] [triangulation_pipeline_functions:get_triangulated_data():63] [\u001b[38;2;50;255;72mPID:36168:MainProcess\u001b[0m \u001b[38;2;50;255;68mTID:33348:MainThread\u001b[0m ] Triangulating 3d skeletons...\u001b[0m\n",
      "2024-10-06 19:11:26,212 - freemocap.core_processes.process_motion_capture_videos.processing_pipeline_functions.triangulation_pipeline_functions - INFO - Triangulating 3d skeletons...\n",
      "\u001b[96m[2024-10-06T19:11:26.212512] [Δt:0.000000s] [    INFO] [freemocap.core_processes.process_motion_capture_videos.processing_pipeline_functions.triangulation_pipeline_functions] [triangulation_pipeline_functions:get_triangulated_data():64] [\u001b[38;2;50;255;72mPID:36168:MainProcess\u001b[0m \u001b[38;2;50;255;68mTID:33348:MainThread\u001b[0m ] Log Progress\u001b[0m\n",
      "2024-10-06 19:11:26,212 - freemocap.core_processes.process_motion_capture_videos.processing_pipeline_functions.triangulation_pipeline_functions - INFO - Log Progress\n",
      "\u001b[96m[2024-10-06T19:11:26.718922] [Δt:0.506410s] [    INFO] [freemocap.core_processes.capture_volume_calibration.anipose_camera_calibration.get_anipose_calibration_object] [get_anipose_calibration_object:load_anipose_calibration_toml_from_path():38] [\u001b[38;2;50;255;72mPID:36168:MainProcess\u001b[0m \u001b[38;2;50;255;68mTID:33348:MainThread\u001b[0m ] loading camera calibration file from:Z:\\Davide_MultimodalLab\\3_DATA_ANALYSIS\\1_MOTION_TRACKING\\2_Video_Calibration\\calibration_results\\pilot_05_d2_calibration_charuco_calibration_anipose.toml\u001b[0m\n",
      "2024-10-06 19:11:26,718 - freemocap.core_processes.capture_volume_calibration.anipose_camera_calibration.get_anipose_calibration_object - INFO - loading camera calibration file from:Z:\\Davide_MultimodalLab\\3_DATA_ANALYSIS\\1_MOTION_TRACKING\\2_Video_Calibration\\calibration_results\\pilot_05_d2_calibration_charuco_calibration_anipose.toml\n",
      "\u001b[96m[2024-10-06T19:11:26.836161] [Δt:0.117239s] [    INFO] [freemocap.core_processes.capture_volume_calibration.triangulate_3d_data] [triangulate_3d_data:triangulate_3d_data():35] [\u001b[38;2;50;255;72mPID:36168:MainProcess\u001b[0m \u001b[38;2;50;255;68mTID:33348:MainThread\u001b[0m ] Reconstructing 3d points from 2d points with shape: \n",
      "number_of_cameras: 3,\n",
      "number_of_frames: 6961, \n",
      "number_of_tracked_points: 553,\n",
      "number_of_spatial_dimensions: 2\u001b[0m\n",
      "2024-10-06 19:11:26,836 - freemocap.core_processes.capture_volume_calibration.triangulate_3d_data - INFO - Reconstructing 3d points from 2d points with shape: \n",
      "number_of_cameras: 3,\n",
      "number_of_frames: 6961, \n",
      "number_of_tracked_points: 553,\n",
      "number_of_spatial_dimensions: 2\n",
      "\u001b[96m[2024-10-06T19:11:26.836161] [Δt:0.000000s] [    INFO] [freemocap.core_processes.capture_volume_calibration.triangulate_3d_data] [triangulate_3d_data:triangulate_3d_data():47] [\u001b[38;2;50;255;72mPID:36168:MainProcess\u001b[0m \u001b[38;2;50;255;68mTID:33348:MainThread\u001b[0m ] Using simple `triangulate` method \u001b[0m\n",
      "2024-10-06 19:11:26,836 - freemocap.core_processes.capture_volume_calibration.triangulate_3d_data - INFO - Using simple `triangulate` method \n"
     ]
    },
    {
     "name": "stderr",
     "output_type": "stream",
     "text": [
      "100%|█████████████████████| 3849433/3849433 [07:07<00:00, 9014.94it/s]\n"
     ]
    },
    {
     "name": "stdout",
     "output_type": "stream",
     "text": [
      "\u001b[96m[2024-10-06T19:18:46.447667] [Δt:439.611505s] [    INFO] [freemocap.core_processes.capture_volume_calibration.save_mediapipe_3d_data_to_npy] [save_mediapipe_3d_data_to_npy:save_mediapipe_3d_data_to_npy():50] [\u001b[38;2;50;255;72mPID:36168:MainProcess\u001b[0m \u001b[38;2;50;255;68mTID:33348:MainThread\u001b[0m ] saving: Z:\\Davide_MultimodalLab\\3_DATA_ANALYSIS\\1_MOTION_TRACKING\\1_Video_Segmentation\\video_split\\pilot_05_d2_SUD_1_End_SUD_2_Start\\output_data\\raw_data\\mediapipe3dData_numFrames_numTrackedPoints_spatialXYZ.npy\u001b[0m\n",
      "2024-10-06 19:18:46,447 - freemocap.core_processes.capture_volume_calibration.save_mediapipe_3d_data_to_npy - INFO - saving: Z:\\Davide_MultimodalLab\\3_DATA_ANALYSIS\\1_MOTION_TRACKING\\1_Video_Segmentation\\video_split\\pilot_05_d2_SUD_1_End_SUD_2_Start\\output_data\\raw_data\\mediapipe3dData_numFrames_numTrackedPoints_spatialXYZ.npy\n",
      "\u001b[96m[2024-10-06T19:18:47.876055] [Δt:1.428389s] [    INFO] [freemocap.core_processes.capture_volume_calibration.save_mediapipe_3d_data_to_npy] [save_mediapipe_3d_data_to_npy:save_mediapipe_3d_data_to_npy():55] [\u001b[38;2;50;255;72mPID:36168:MainProcess\u001b[0m \u001b[38;2;50;255;68mTID:33348:MainThread\u001b[0m ] saving: Z:\\Davide_MultimodalLab\\3_DATA_ANALYSIS\\1_MOTION_TRACKING\\1_Video_Segmentation\\video_split\\pilot_05_d2_SUD_1_End_SUD_2_Start\\output_data\\raw_data\\mediapipe3dData_numFrames_numTrackedPoints_reprojectionError.npy\u001b[0m\n",
      "2024-10-06 19:18:47,876 - freemocap.core_processes.capture_volume_calibration.save_mediapipe_3d_data_to_npy - INFO - saving: Z:\\Davide_MultimodalLab\\3_DATA_ANALYSIS\\1_MOTION_TRACKING\\1_Video_Segmentation\\video_split\\pilot_05_d2_SUD_1_End_SUD_2_Start\\output_data\\raw_data\\mediapipe3dData_numFrames_numTrackedPoints_reprojectionError.npy\n",
      "\u001b[96m[2024-10-06T19:18:48.300886] [Δt:0.433271s] [    INFO] [freemocap.core_processes.capture_volume_calibration.save_mediapipe_3d_data_to_npy] [save_mediapipe_3d_data_to_npy:save_mediapipe_3d_data_to_npy():61] [\u001b[38;2;50;255;72mPID:36168:MainProcess\u001b[0m \u001b[38;2;50;255;68mTID:33348:MainThread\u001b[0m ] saving: Z:\\Davide_MultimodalLab\\3_DATA_ANALYSIS\\1_MOTION_TRACKING\\1_Video_Segmentation\\video_split\\pilot_05_d2_SUD_1_End_SUD_2_Start\\output_data\\raw_data\\mediapipe3dData_numCams_numFrames_numTrackedPoints_reprojectionError.npy\u001b[0m\n",
      "2024-10-06 19:18:48,300 - freemocap.core_processes.capture_volume_calibration.save_mediapipe_3d_data_to_npy - INFO - saving: Z:\\Davide_MultimodalLab\\3_DATA_ANALYSIS\\1_MOTION_TRACKING\\1_Video_Segmentation\\video_split\\pilot_05_d2_SUD_1_End_SUD_2_Start\\output_data\\raw_data\\mediapipe3dData_numCams_numFrames_numTrackedPoints_reprojectionError.npy\n",
      "\u001b[96m[2024-10-06T19:18:49.492918] [Δt:1.183592s] [    INFO] [freemocap.core_processes.post_process_skeleton_data.post_process_skeleton] [post_process_skeleton:run_post_processing_worker():79] [\u001b[38;2;50;255;72mPID:36168:MainProcess\u001b[0m \u001b[38;2;50;255;68mTID:33348:MainThread\u001b[0m ] Starting post-processing worker thread\u001b[0m\n",
      "2024-10-06 19:18:49,492 - freemocap.core_processes.post_process_skeleton_data.post_process_skeleton - INFO - Starting post-processing worker thread\n",
      "\u001b[96m[2024-10-06T19:18:49.492918] [Δt:0.000000s] [    INFO] [freemocap.core_processes.post_process_skeleton_data.post_process_skeleton] [post_process_skeleton:run_post_processing_worker():80] [\u001b[38;2;50;255;72mPID:36168:MainProcess\u001b[0m \u001b[38;2;50;255;68mTID:33348:MainThread\u001b[0m ] Log Progress\u001b[0m\n",
      "2024-10-06 19:18:49,492 - freemocap.core_processes.post_process_skeleton_data.post_process_skeleton - INFO - Log Progress\n"
     ]
    },
    {
     "data": {
      "text/html": [
       "<pre style=\"white-space:pre;overflow-x:auto;line-height:normal;font-family:Menlo,'DejaVu Sans Mono',consolas,'Courier New',monospace\">c:\\ProgramData\\Anaconda3\\envs\\freemocap-env\\Lib\\site-packages\\rich\\live.py:231: UserWarning: install \"ipywidgets\" \n",
       "for Jupyter support\n",
       "  warnings.warn('install \"ipywidgets\" for Jupyter support')\n",
       "</pre>\n"
      ],
      "text/plain": [
       "c:\\ProgramData\\Anaconda3\\envs\\freemocap-env\\Lib\\site-packages\\rich\\live.py:231: UserWarning: install \"ipywidgets\" \n",
       "for Jupyter support\n",
       "  warnings.warn('install \"ipywidgets\" for Jupyter support')\n"
      ]
     },
     "metadata": {},
     "output_type": "display_data"
    },
    {
     "data": {
      "text/html": [
       "<pre style=\"white-space:pre;overflow-x:auto;line-height:normal;font-family:Menlo,'DejaVu Sans Mono',consolas,'Courier New',monospace\">c:\\ProgramData\\Anaconda3\\envs\\freemocap-env\\Lib\\site-packages\\rich\\live.py:231: UserWarning: install \"ipywidgets\" \n",
       "for Jupyter support\n",
       "  warnings.warn('install \"ipywidgets\" for Jupyter support')\n",
       "</pre>\n"
      ],
      "text/plain": [
       "c:\\ProgramData\\Anaconda3\\envs\\freemocap-env\\Lib\\site-packages\\rich\\live.py:231: UserWarning: install \"ipywidgets\" \n",
       "for Jupyter support\n",
       "  warnings.warn('install \"ipywidgets\" for Jupyter support')\n"
      ]
     },
     "metadata": {},
     "output_type": "display_data"
    },
    {
     "data": {
      "text/html": [
       "<pre style=\"white-space:pre;overflow-x:auto;line-height:normal;font-family:Menlo,'DejaVu Sans Mono',consolas,'Courier New',monospace\">c:\\ProgramData\\Anaconda3\\envs\\freemocap-env\\Lib\\site-packages\\rich\\live.py:231: UserWarning: install \"ipywidgets\" \n",
       "for Jupyter support\n",
       "  warnings.warn('install \"ipywidgets\" for Jupyter support')\n",
       "</pre>\n"
      ],
      "text/plain": [
       "c:\\ProgramData\\Anaconda3\\envs\\freemocap-env\\Lib\\site-packages\\rich\\live.py:231: UserWarning: install \"ipywidgets\" \n",
       "for Jupyter support\n",
       "  warnings.warn('install \"ipywidgets\" for Jupyter support')\n"
      ]
     },
     "metadata": {},
     "output_type": "display_data"
    },
    {
     "data": {
      "text/html": [
       "<pre style=\"white-space:pre;overflow-x:auto;line-height:normal;font-family:Menlo,'DejaVu Sans Mono',consolas,'Courier New',monospace\">c:\\ProgramData\\Anaconda3\\envs\\freemocap-env\\Lib\\site-packages\\rich\\live.py:231: UserWarning: install \"ipywidgets\" \n",
       "for Jupyter support\n",
       "  warnings.warn('install \"ipywidgets\" for Jupyter support')\n",
       "</pre>\n"
      ],
      "text/plain": [
       "c:\\ProgramData\\Anaconda3\\envs\\freemocap-env\\Lib\\site-packages\\rich\\live.py:231: UserWarning: install \"ipywidgets\" \n",
       "for Jupyter support\n",
       "  warnings.warn('install \"ipywidgets\" for Jupyter support')\n"
      ]
     },
     "metadata": {},
     "output_type": "display_data"
    },
    {
     "data": {
      "text/html": [
       "<pre style=\"white-space:pre;overflow-x:auto;line-height:normal;font-family:Menlo,'DejaVu Sans Mono',consolas,'Courier New',monospace\">c:\\ProgramData\\Anaconda3\\envs\\freemocap-env\\Lib\\site-packages\\rich\\live.py:231: UserWarning: install \"ipywidgets\" \n",
       "for Jupyter support\n",
       "  warnings.warn('install \"ipywidgets\" for Jupyter support')\n",
       "</pre>\n"
      ],
      "text/plain": [
       "c:\\ProgramData\\Anaconda3\\envs\\freemocap-env\\Lib\\site-packages\\rich\\live.py:231: UserWarning: install \"ipywidgets\" \n",
       "for Jupyter support\n",
       "  warnings.warn('install \"ipywidgets\" for Jupyter support')\n"
      ]
     },
     "metadata": {},
     "output_type": "display_data"
    },
    {
     "data": {
      "text/html": [
       "<pre style=\"white-space:pre;overflow-x:auto;line-height:normal;font-family:Menlo,'DejaVu Sans Mono',consolas,'Courier New',monospace\">c:\\ProgramData\\Anaconda3\\envs\\freemocap-env\\Lib\\site-packages\\rich\\live.py:231: UserWarning: install \"ipywidgets\" \n",
       "for Jupyter support\n",
       "  warnings.warn('install \"ipywidgets\" for Jupyter support')\n",
       "</pre>\n"
      ],
      "text/plain": [
       "c:\\ProgramData\\Anaconda3\\envs\\freemocap-env\\Lib\\site-packages\\rich\\live.py:231: UserWarning: install \"ipywidgets\" \n",
       "for Jupyter support\n",
       "  warnings.warn('install \"ipywidgets\" for Jupyter support')\n"
      ]
     },
     "metadata": {},
     "output_type": "display_data"
    },
    {
     "data": {
      "text/html": [
       "<pre style=\"white-space:pre;overflow-x:auto;line-height:normal;font-family:Menlo,'DejaVu Sans Mono',consolas,'Courier New',monospace\">c:\\ProgramData\\Anaconda3\\envs\\freemocap-env\\Lib\\site-packages\\rich\\live.py:231: UserWarning: install \"ipywidgets\" \n",
       "for Jupyter support\n",
       "  warnings.warn('install \"ipywidgets\" for Jupyter support')\n",
       "</pre>\n"
      ],
      "text/plain": [
       "c:\\ProgramData\\Anaconda3\\envs\\freemocap-env\\Lib\\site-packages\\rich\\live.py:231: UserWarning: install \"ipywidgets\" \n",
       "for Jupyter support\n",
       "  warnings.warn('install \"ipywidgets\" for Jupyter support')\n"
      ]
     },
     "metadata": {},
     "output_type": "display_data"
    },
    {
     "data": {
      "text/html": [
       "<pre style=\"white-space:pre;overflow-x:auto;line-height:normal;font-family:Menlo,'DejaVu Sans Mono',consolas,'Courier New',monospace\"></pre>\n"
      ],
      "text/plain": []
     },
     "metadata": {},
     "output_type": "display_data"
    },
    {
     "data": {
      "text/html": [
       "<pre style=\"white-space:pre;overflow-x:auto;line-height:normal;font-family:Menlo,'DejaVu Sans Mono',consolas,'Courier New',monospace\">\n",
       "</pre>\n"
      ],
      "text/plain": [
       "\n"
      ]
     },
     "metadata": {},
     "output_type": "display_data"
    },
    {
     "data": {
      "text/html": [
       "<pre style=\"white-space:pre;overflow-x:auto;line-height:normal;font-family:Menlo,'DejaVu Sans Mono',consolas,'Courier New',monospace\"></pre>\n"
      ],
      "text/plain": []
     },
     "metadata": {},
     "output_type": "display_data"
    },
    {
     "data": {
      "text/html": [
       "<pre style=\"white-space:pre;overflow-x:auto;line-height:normal;font-family:Menlo,'DejaVu Sans Mono',consolas,'Courier New',monospace\">\n",
       "</pre>\n"
      ],
      "text/plain": [
       "\n"
      ]
     },
     "metadata": {},
     "output_type": "display_data"
    },
    {
     "name": "stdout",
     "output_type": "stream",
     "text": [
      "\u001b[96m[2024-10-06T19:18:51.183515] [Δt:1.690596s] [    INFO] [freemocap.core_processes.post_process_skeleton_data.post_process_skeleton] [post_process_skeleton:run_post_processing_worker():90] [\u001b[38;2;50;255;72mPID:36168:MainProcess\u001b[0m \u001b[38;2;50;255;68mTID:33348:MainThread\u001b[0m ] Done with gap filling, filtering, and aligning\u001b[0m\n",
      "2024-10-06 19:18:51,183 - freemocap.core_processes.post_process_skeleton_data.post_process_skeleton - INFO - Done with gap filling, filtering, and aligning\n",
      "\u001b[96m[2024-10-06T19:18:51.183515] [Δt:0.000000s] [    INFO] [freemocap.core_processes.process_motion_capture_videos.processing_pipeline_functions.anatomical_data_pipeline_functions] [anatomical_data_pipeline_functions:calculate_anatomical_data():26] [\u001b[38;2;50;255;72mPID:36168:MainProcess\u001b[0m \u001b[38;2;50;255;68mTID:33348:MainThread\u001b[0m ] Calculating center of mass...\u001b[0m\n",
      "2024-10-06 19:18:51,183 - freemocap.core_processes.process_motion_capture_videos.processing_pipeline_functions.anatomical_data_pipeline_functions - INFO - Calculating center of mass...\n"
     ]
    },
    {
     "data": {
      "text/html": [
       "<pre style=\"white-space:pre;overflow-x:auto;line-height:normal;font-family:Menlo,'DejaVu Sans Mono',consolas,'Courier New',monospace\">c:\\ProgramData\\Anaconda3\\envs\\freemocap-env\\Lib\\site-packages\\rich\\live.py:231: UserWarning: install \"ipywidgets\" \n",
       "for Jupyter support\n",
       "  warnings.warn('install \"ipywidgets\" for Jupyter support')\n",
       "</pre>\n"
      ],
      "text/plain": [
       "c:\\ProgramData\\Anaconda3\\envs\\freemocap-env\\Lib\\site-packages\\rich\\live.py:231: UserWarning: install \"ipywidgets\" \n",
       "for Jupyter support\n",
       "  warnings.warn('install \"ipywidgets\" for Jupyter support')\n"
      ]
     },
     "metadata": {},
     "output_type": "display_data"
    },
    {
     "data": {
      "text/html": [
       "<pre style=\"white-space:pre;overflow-x:auto;line-height:normal;font-family:Menlo,'DejaVu Sans Mono',consolas,'Courier New',monospace\"></pre>\n"
      ],
      "text/plain": []
     },
     "metadata": {},
     "output_type": "display_data"
    },
    {
     "data": {
      "text/html": [
       "<pre style=\"white-space:pre;overflow-x:auto;line-height:normal;font-family:Menlo,'DejaVu Sans Mono',consolas,'Courier New',monospace\">\n",
       "</pre>\n"
      ],
      "text/plain": [
       "\n"
      ]
     },
     "metadata": {},
     "output_type": "display_data"
    },
    {
     "data": {
      "text/html": [
       "<pre style=\"white-space:pre;overflow-x:auto;line-height:normal;font-family:Menlo,'DejaVu Sans Mono',consolas,'Courier New',monospace\"></pre>\n"
      ],
      "text/plain": []
     },
     "metadata": {},
     "output_type": "display_data"
    },
    {
     "data": {
      "text/html": [
       "<pre style=\"white-space:pre;overflow-x:auto;line-height:normal;font-family:Menlo,'DejaVu Sans Mono',consolas,'Courier New',monospace\">\n",
       "</pre>\n"
      ],
      "text/plain": [
       "\n"
      ]
     },
     "metadata": {},
     "output_type": "display_data"
    },
    {
     "name": "stdout",
     "output_type": "stream",
     "text": [
      "\u001b[96m[2024-10-06T19:19:00.270874] [Δt:9.087360s] [    INFO] [freemocap.core_processes.post_process_skeleton_data.calculate_center_of_mass] [calculate_center_of_mass:calculate_total_body_COM():306] [\u001b[38;2;50;255;72mPID:36168:MainProcess\u001b[0m \u001b[38;2;50;255;68mTID:33348:MainThread\u001b[0m ] Calculating Total Body Center of Mass\u001b[0m\n",
      "2024-10-06 19:19:00,270 - freemocap.core_processes.post_process_skeleton_data.calculate_center_of_mass - INFO - Calculating Total Body Center of Mass\n"
     ]
    },
    {
     "data": {
      "text/html": [
       "<pre style=\"white-space:pre;overflow-x:auto;line-height:normal;font-family:Menlo,'DejaVu Sans Mono',consolas,'Courier New',monospace\"></pre>\n"
      ],
      "text/plain": []
     },
     "metadata": {},
     "output_type": "display_data"
    },
    {
     "data": {
      "text/html": [
       "<pre style=\"white-space:pre;overflow-x:auto;line-height:normal;font-family:Menlo,'DejaVu Sans Mono',consolas,'Courier New',monospace\">\n",
       "</pre>\n"
      ],
      "text/plain": [
       "\n"
      ]
     },
     "metadata": {},
     "output_type": "display_data"
    },
    {
     "name": "stdout",
     "output_type": "stream",
     "text": [
      "\u001b[96m[2024-10-06T19:19:04.827130] [Δt:4.556256s] [    INFO] [freemocap.core_processes.detecting_things_in_2d_images.mediapipe_stuff.convert_mediapipe_npy_to_csv] [convert_mediapipe_npy_to_csv:convert_mediapipe_npy_to_csv():23] [\u001b[38;2;50;255;72mPID:36168:MainProcess\u001b[0m \u001b[38;2;50;255;68mTID:33348:MainThread\u001b[0m ] Converting npy data with shape: (6961, 553, 3) into `csv` and smaller `npy` files\u001b[0m\n",
      "2024-10-06 19:19:04,827 - freemocap.core_processes.detecting_things_in_2d_images.mediapipe_stuff.convert_mediapipe_npy_to_csv - INFO - Converting npy data with shape: (6961, 553, 3) into `csv` and smaller `npy` files\n",
      "\u001b[34m[2024-10-06T19:24:03.793932] [Δt:298.966801s] [   DEBUG] [freemocap.core_processes.detecting_things_in_2d_images.mediapipe_stuff.convert_mediapipe_npy_to_csv] [convert_mediapipe_npy_to_csv:convert_mediapipe_npy_to_csv():239] [\u001b[38;2;50;255;72mPID:36168:MainProcess\u001b[0m \u001b[38;2;50;255;68mTID:33348:MainThread\u001b[0m ] body 3d xyz shape: (6961, 33, 3)\u001b[0m\n",
      "\u001b[34m[2024-10-06T19:24:03.793932] [Δt:0.000000s] [   DEBUG] [freemocap.core_processes.detecting_things_in_2d_images.mediapipe_stuff.convert_mediapipe_npy_to_csv] [convert_mediapipe_npy_to_csv:convert_mediapipe_npy_to_csv():240] [\u001b[38;2;50;255;72mPID:36168:MainProcess\u001b[0m \u001b[38;2;50;255;68mTID:33348:MainThread\u001b[0m ] right hand 3d xyz shape: (6961, 21, 3)\u001b[0m\n",
      "\u001b[34m[2024-10-06T19:24:03.793932] [Δt:0.000000s] [   DEBUG] [freemocap.core_processes.detecting_things_in_2d_images.mediapipe_stuff.convert_mediapipe_npy_to_csv] [convert_mediapipe_npy_to_csv:convert_mediapipe_npy_to_csv():241] [\u001b[38;2;50;255;72mPID:36168:MainProcess\u001b[0m \u001b[38;2;50;255;68mTID:33348:MainThread\u001b[0m ] left hand 3d xyz shape: (6961, 21, 3)\u001b[0m\n",
      "\u001b[34m[2024-10-06T19:24:03.793932] [Δt:0.000000s] [   DEBUG] [freemocap.core_processes.detecting_things_in_2d_images.mediapipe_stuff.convert_mediapipe_npy_to_csv] [convert_mediapipe_npy_to_csv:convert_mediapipe_npy_to_csv():242] [\u001b[38;2;50;255;72mPID:36168:MainProcess\u001b[0m \u001b[38;2;50;255;68mTID:33348:MainThread\u001b[0m ] face 3d xyz shape: (6961, 478, 3)\u001b[0m\n",
      "\u001b[34m[2024-10-06T19:27:10.354929] [Δt:186.560997s] [   DEBUG] [freemocap.core_processes.detecting_things_in_2d_images.mediapipe_stuff.convert_mediapipe_npy_to_csv] [convert_mediapipe_npy_to_csv:convert_mediapipe_npy_to_csv():284] [\u001b[38;2;50;255;72mPID:36168:MainProcess\u001b[0m \u001b[38;2;50;255;68mTID:33348:MainThread\u001b[0m ] length of body 3d xyz `.csv` header: 99, should be: 99\u001b[0m\n",
      "\u001b[34m[2024-10-06T19:27:10.354929] [Δt:0.000000s] [   DEBUG] [freemocap.core_processes.detecting_things_in_2d_images.mediapipe_stuff.convert_mediapipe_npy_to_csv] [convert_mediapipe_npy_to_csv:convert_mediapipe_npy_to_csv():287] [\u001b[38;2;50;255;72mPID:36168:MainProcess\u001b[0m \u001b[38;2;50;255;68mTID:33348:MainThread\u001b[0m ] length of right hand 3d xyz `.csv` header: 63, should be: 63\u001b[0m\n",
      "\u001b[34m[2024-10-06T19:27:10.354929] [Δt:0.000000s] [   DEBUG] [freemocap.core_processes.detecting_things_in_2d_images.mediapipe_stuff.convert_mediapipe_npy_to_csv] [convert_mediapipe_npy_to_csv:convert_mediapipe_npy_to_csv():290] [\u001b[38;2;50;255;72mPID:36168:MainProcess\u001b[0m \u001b[38;2;50;255;68mTID:33348:MainThread\u001b[0m ] length of left hand 3d xyz `.csv` header: 63, should be: 63\u001b[0m\n",
      "\u001b[34m[2024-10-06T19:27:10.354929] [Δt:0.000000s] [   DEBUG] [freemocap.core_processes.detecting_things_in_2d_images.mediapipe_stuff.convert_mediapipe_npy_to_csv] [convert_mediapipe_npy_to_csv:convert_mediapipe_npy_to_csv():293] [\u001b[38;2;50;255;72mPID:36168:MainProcess\u001b[0m \u001b[38;2;50;255;68mTID:33348:MainThread\u001b[0m ] length of face 3d xyz `.csv` header: 1434, should be: 1434\u001b[0m\n",
      "\u001b[96m[2024-10-06T19:29:01.395298] [Δt:111.040370s] [    INFO] [freemocap.core_processes.detecting_things_in_2d_images.mediapipe_stuff.convert_mediapipe_npy_to_csv] [convert_mediapipe_npy_to_csv:convert_mediapipe_npy_to_csv():322] [\u001b[38;2;50;255;72mPID:36168:MainProcess\u001b[0m \u001b[38;2;50;255;68mTID:33348:MainThread\u001b[0m ] Done saving out `csv` and broken up `npy` files\u001b[0m\n",
      "2024-10-06 19:29:01,395 - freemocap.core_processes.detecting_things_in_2d_images.mediapipe_stuff.convert_mediapipe_npy_to_csv - INFO - Done saving out `csv` and broken up `npy` files\n",
      "\u001b[96m[2024-10-06T19:29:01.403301] [Δt:0.008003s] [    INFO] [freemocap.core_processes.process_motion_capture_videos.processing_pipeline_functions.data_saving_pipeline_functions] [data_saving_pipeline_functions:save_data():39] [\u001b[38;2;50;255;72mPID:36168:MainProcess\u001b[0m \u001b[38;2;50;255;68mTID:33348:MainThread\u001b[0m ] Saving post-processed data\u001b[0m\n",
      "2024-10-06 19:29:01,403 - freemocap.core_processes.process_motion_capture_videos.processing_pipeline_functions.data_saving_pipeline_functions - INFO - Saving post-processed data\n",
      "\u001b[96m[2024-10-06T19:29:02.726469] [Δt:1.333168s] [    INFO] [freemocap.core_processes.process_motion_capture_videos.processing_pipeline_functions.data_saving_pipeline_functions] [data_saving_pipeline_functions:save_data():46] [\u001b[38;2;50;255;72mPID:36168:MainProcess\u001b[0m \u001b[38;2;50;255;68mTID:33348:MainThread\u001b[0m ] Saving segment center of mass data\u001b[0m\n",
      "2024-10-06 19:29:02,726 - freemocap.core_processes.process_motion_capture_videos.processing_pipeline_functions.data_saving_pipeline_functions - INFO - Saving segment center of mass data\n",
      "\u001b[96m[2024-10-06T19:29:02.894089] [Δt:0.157620s] [    INFO] [freemocap.core_processes.process_motion_capture_videos.processing_pipeline_functions.data_saving_pipeline_functions] [data_saving_pipeline_functions:save_data():53] [\u001b[38;2;50;255;72mPID:36168:MainProcess\u001b[0m \u001b[38;2;50;255;68mTID:33348:MainThread\u001b[0m ] Saving total body center of mass data\u001b[0m\n",
      "2024-10-06 19:29:02,894 - freemocap.core_processes.process_motion_capture_videos.processing_pipeline_functions.data_saving_pipeline_functions - INFO - Saving total body center of mass data\n",
      "\u001b[96m[2024-10-06T19:29:03.077396] [Δt:0.183307s] [    INFO] [freemocap.utilities.save_dictionary_to_json] [save_dictionary_to_json:save_dictionary_to_json():16] [\u001b[38;2;50;255;72mPID:36168:MainProcess\u001b[0m \u001b[38;2;50;255;68mTID:33348:MainThread\u001b[0m ] Saved dictionary mediapipe_names_and_connections_dict.json as json  at: Z:\\Davide_MultimodalLab\\3_DATA_ANALYSIS\\1_MOTION_TRACKING\\1_Video_Segmentation\\video_split\\pilot_05_d2_SUD_1_End_SUD_2_Start\\output_data\\mediapipe_names_and_connections_dict.json\u001b[0m\n",
      "2024-10-06 19:29:03,077 - freemocap.utilities.save_dictionary_to_json - INFO - Saved dictionary mediapipe_names_and_connections_dict.json as json  at: Z:\\Davide_MultimodalLab\\3_DATA_ANALYSIS\\1_MOTION_TRACKING\\1_Video_Segmentation\\video_split\\pilot_05_d2_SUD_1_End_SUD_2_Start\\output_data\\mediapipe_names_and_connections_dict.json\n",
      "\u001b[33m[2024-10-06T19:29:03.131766] [Δt:0.054370s] [ WARNING] [freemocap.system.paths_and_filenames.file_and_folder_names] [path_getters:get_timestamps_directory():252] [\u001b[38;2;50;255;72mPID:36168:MainProcess\u001b[0m \u001b[38;2;50;255;68mTID:33348:MainThread\u001b[0m ] Could not find timestamps directory in Z:\\Davide_MultimodalLab\\3_DATA_ANALYSIS\\1_MOTION_TRACKING\\1_Video_Segmentation\\video_split\\pilot_05_d2_SUD_1_End_SUD_2_Start\\synchronized_videos\u001b[0m\n",
      "2024-10-06 19:29:03,131 - freemocap.system.paths_and_filenames.file_and_folder_names - WARNING - Could not find timestamps directory in Z:\\Davide_MultimodalLab\\3_DATA_ANALYSIS\\1_MOTION_TRACKING\\1_Video_Segmentation\\video_split\\pilot_05_d2_SUD_1_End_SUD_2_Start\\synchronized_videos\n",
      "\u001b[33m[2024-10-06T19:29:03.132465] [Δt:0.000698s] [ WARNING] [freemocap.data_layer.data_saver.data_loader] [data_loader:_load_timestamps():91] [\u001b[38;2;50;255;72mPID:36168:MainProcess\u001b[0m \u001b[38;2;50;255;68mTID:33348:MainThread\u001b[0m ] No timestamps directory found. Skipping timestamps loading.\u001b[0m\n",
      "2024-10-06 19:29:03,132 - freemocap.data_layer.data_saver.data_loader - WARNING - No timestamps directory found. Skipping timestamps loading.\n",
      "\u001b[96m[2024-10-06T19:30:59.052098] [Δt:115.919759s] [    INFO] [freemocap.data_layer.data_saver.data_saver] [data_saver:save_to_json():59] [\u001b[38;2;50;255;72mPID:36168:MainProcess\u001b[0m \u001b[38;2;50;255;68mTID:33348:MainThread\u001b[0m ] Saving recording data to Z:\\Davide_MultimodalLab\\3_DATA_ANALYSIS\\1_MOTION_TRACKING\\1_Video_Segmentation\\video_split\\pilot_05_d2_SUD_1_End_SUD_2_Start\\pilot_05_d2_SUD_1_End_SUD_2_Start_by_frame.json\u001b[0m\n",
      "2024-10-06 19:30:59,052 - freemocap.data_layer.data_saver.data_saver - INFO - Saving recording data to Z:\\Davide_MultimodalLab\\3_DATA_ANALYSIS\\1_MOTION_TRACKING\\1_Video_Segmentation\\video_split\\pilot_05_d2_SUD_1_End_SUD_2_Start\\pilot_05_d2_SUD_1_End_SUD_2_Start_by_frame.json\n",
      "\u001b[96m[2024-10-06T19:33:02.981202] [Δt:123.928979s] [    INFO] [freemocap.data_layer.data_saver.data_saver] [data_saver:save_to_csv():76] [\u001b[38;2;50;255;72mPID:36168:MainProcess\u001b[0m \u001b[38;2;50;255;68mTID:33348:MainThread\u001b[0m ] Saved recording data to Z:\\Davide_MultimodalLab\\3_DATA_ANALYSIS\\1_MOTION_TRACKING\\1_Video_Segmentation\\video_split\\pilot_05_d2_SUD_1_End_SUD_2_Start\\pilot_05_d2_SUD_1_End_SUD_2_Start_by_trajectory.csv\u001b[0m\n",
      "2024-10-06 19:33:02,981 - freemocap.data_layer.data_saver.data_saver - INFO - Saved recording data to Z:\\Davide_MultimodalLab\\3_DATA_ANALYSIS\\1_MOTION_TRACKING\\1_Video_Segmentation\\video_split\\pilot_05_d2_SUD_1_End_SUD_2_Start\\pilot_05_d2_SUD_1_End_SUD_2_Start_by_trajectory.csv\n",
      "\u001b[96m[2024-10-06T19:33:04.749293] [Δt:1.768091s] [    INFO] [freemocap.data_layer.data_saver.data_saver] [data_saver:save_to_npy():82] [\u001b[38;2;50;255;72mPID:36168:MainProcess\u001b[0m \u001b[38;2;50;255;68mTID:33348:MainThread\u001b[0m ] Saved recording data to Z:\\Davide_MultimodalLab\\3_DATA_ANALYSIS\\1_MOTION_TRACKING\\1_Video_Segmentation\\video_split\\pilot_05_d2_SUD_1_End_SUD_2_Start\\pilot_05_d2_SUD_1_End_SUD_2_Start_frame_name_xyz.npy\u001b[0m\n",
      "2024-10-06 19:33:04,749 - freemocap.data_layer.data_saver.data_saver - INFO - Saved recording data to Z:\\Davide_MultimodalLab\\3_DATA_ANALYSIS\\1_MOTION_TRACKING\\1_Video_Segmentation\\video_split\\pilot_05_d2_SUD_1_End_SUD_2_Start\\pilot_05_d2_SUD_1_End_SUD_2_Start_frame_name_xyz.npy\n",
      "\u001b[96m[2024-10-06T19:33:05.013420] [Δt:0.264126s] [    INFO] [freemocap.core_processes.process_motion_capture_videos.process_recording_folder] [process_recording_folder:process_recording_folder():143] [\u001b[38;2;50;255;72mPID:36168:MainProcess\u001b[0m \u001b[38;2;50;255;68mTID:33348:MainThread\u001b[0m ] Done processing Z:\\Davide_MultimodalLab\\3_DATA_ANALYSIS\\1_MOTION_TRACKING\\1_Video_Segmentation\\video_split\\pilot_05_d2_SUD_1_End_SUD_2_Start\u001b[0m\n",
      "2024-10-06 19:33:05,013 - freemocap.core_processes.process_motion_capture_videos.process_recording_folder - INFO - Done processing Z:\\Davide_MultimodalLab\\3_DATA_ANALYSIS\\1_MOTION_TRACKING\\1_Video_Segmentation\\video_split\\pilot_05_d2_SUD_1_End_SUD_2_Start\n",
      "\u001b[33m[2024-10-06T19:33:05.052000] [Δt:0.038580s] [ WARNING] [root] [1048335352:process_recording():48] [\u001b[38;2;50;255;72mPID:36168:MainProcess\u001b[0m \u001b[38;2;50;255;68mTID:33348:MainThread\u001b[0m ] No blender executable provided. Blender file will not be exported.\u001b[0m\n",
      "2024-10-06 19:33:05,052 - root - WARNING - No blender executable provided. Blender file will not be exported.\n",
      "We will now load this vide folder  Z:\\Davide_MultimodalLab\\3_DATA_ANALYSIS\\1_MOTION_TRACKING\\1_Video_Segmentation\\video_split\\pilot_05_d2_SUD_1_End_SUD_2_Start\n",
      "\u001b[96m[2024-10-06T19:33:05.055905] [Δt:0.003905s] [    INFO] [root] [2323846283:<module>():20] [\u001b[38;2;50;255;72mPID:36168:MainProcess\u001b[0m \u001b[38;2;50;255;68mTID:33348:MainThread\u001b[0m ] Processing video folder: Z:\\Davide_MultimodalLab\\3_DATA_ANALYSIS\\1_MOTION_TRACKING\\1_Video_Segmentation\\video_split\\pilot_05_d2_SUD_2_End_SUD_3_Start\u001b[0m\n",
      "2024-10-06 19:33:05,055 - root - INFO - Processing video folder: Z:\\Davide_MultimodalLab\\3_DATA_ANALYSIS\\1_MOTION_TRACKING\\1_Video_Segmentation\\video_split\\pilot_05_d2_SUD_2_End_SUD_3_Start\n",
      "\u001b[96m[2024-10-06T19:33:05.164269] [Δt:0.108364s] [    INFO] [freemocap.utilities.save_dictionary_to_json] [save_dictionary_to_json:save_dictionary_to_json():16] [\u001b[38;2;50;255;72mPID:36168:MainProcess\u001b[0m \u001b[38;2;50;255;68mTID:33348:MainThread\u001b[0m ] Saved dictionary recording_parameters.json as json  at: Z:\\Davide_MultimodalLab\\3_DATA_ANALYSIS\\1_MOTION_TRACKING\\1_Video_Segmentation\\video_split\\pilot_05_d2_SUD_2_End_SUD_3_Start\\output_data\\recording_parameters.json\u001b[0m\n",
      "2024-10-06 19:33:05,164 - freemocap.utilities.save_dictionary_to_json - INFO - Saved dictionary recording_parameters.json as json  at: Z:\\Davide_MultimodalLab\\3_DATA_ANALYSIS\\1_MOTION_TRACKING\\1_Video_Segmentation\\video_split\\pilot_05_d2_SUD_2_End_SUD_3_Start\\output_data\\recording_parameters.json\n",
      "\u001b[96m[2024-10-06T19:33:05.889853] [Δt:0.725585s] [    INFO] [freemocap.data_layer.recording_models.recording_info_model] [recording_info_model:get_number_of_mp4s_in_synched_videos_directory():239] [\u001b[38;2;50;255;72mPID:36168:MainProcess\u001b[0m \u001b[38;2;50;255;68mTID:33348:MainThread\u001b[0m ] Number of `.mp4`'s in Z:\\Davide_MultimodalLab\\3_DATA_ANALYSIS\\1_MOTION_TRACKING\\1_Video_Segmentation\\video_split\\pilot_05_d2_SUD_2_End_SUD_3_Start\\synchronized_videos: 3\u001b[0m\n",
      "2024-10-06 19:33:05,889 - freemocap.data_layer.recording_models.recording_info_model - INFO - Number of `.mp4`'s in Z:\\Davide_MultimodalLab\\3_DATA_ANALYSIS\\1_MOTION_TRACKING\\1_Video_Segmentation\\video_split\\pilot_05_d2_SUD_2_End_SUD_3_Start\\synchronized_videos: 3\n",
      "\u001b[34m[2024-10-06T19:33:05.896656] [Δt:0.006802s] [   DEBUG] [freemocap.data_layer.recording_models.recording_info_model] [recording_info_model:get_number_of_frames_in_videos():253] [\u001b[38;2;50;255;72mPID:36168:MainProcess\u001b[0m \u001b[38;2;50;255;68mTID:33348:MainThread\u001b[0m ] No 'timestamps' directory, finding frame counts from synchronized videos\u001b[0m\n",
      "\u001b[96m[2024-10-06T19:33:06.089940] [Δt:0.193285s] [    INFO] [freemocap.core_processes.process_motion_capture_videos.processing_pipeline_functions.image_tracking_pipeline_functions] [image_tracking_pipeline_functions:run_image_tracking_pipeline():44] [\u001b[38;2;50;255;72mPID:36168:MainProcess\u001b[0m \u001b[38;2;50;255;68mTID:33348:MainThread\u001b[0m ] Detecting 2d skeletons...\u001b[0m\n",
      "2024-10-06 19:33:06,089 - freemocap.core_processes.process_motion_capture_videos.processing_pipeline_functions.image_tracking_pipeline_functions - INFO - Detecting 2d skeletons...\n",
      "\u001b[96m[2024-10-06T19:33:06.097099] [Δt:0.007158s] [    INFO] [freemocap.core_processes.process_motion_capture_videos.processing_pipeline_functions.image_tracking_pipeline_functions] [image_tracking_pipeline_functions:run_image_tracking_pipeline():45] [\u001b[38;2;50;255;72mPID:36168:MainProcess\u001b[0m \u001b[38;2;50;255;68mTID:33348:MainThread\u001b[0m ] Log Progress\u001b[0m\n",
      "2024-10-06 19:33:06,097 - freemocap.core_processes.process_motion_capture_videos.processing_pipeline_functions.image_tracking_pipeline_functions - INFO - Log Progress\n",
      "\u001b[96m[2024-10-06T19:33:06.273189] [Δt:0.176090s] [    INFO] [skellytracker.process_folder_of_videos] [process_folder_of_videos:process_single_video():131] [\u001b[38;2;50;255;72mPID:36168:MainProcess\u001b[0m \u001b[38;2;50;255;68mTID:33348:MainThread\u001b[0m ] Processing video: pilot_05_d2_SUD_2_End_SUD_3_Start_cam1_mediapipe.mp4 with tracker: MediapipeHolisticTracker\u001b[0m\n",
      "2024-10-06 19:33:06,273 - skellytracker.process_folder_of_videos - INFO - Processing video: pilot_05_d2_SUD_2_End_SUD_3_Start_cam1_mediapipe.mp4 with tracker: MediapipeHolisticTracker\n"
     ]
    },
    {
     "name": "stderr",
     "output_type": "stream",
     "text": [
      "processing video: pilot_05_d2_SUD_2_End_SUD_3_Start_cam1.mp4: 100%|\u001b[35m██████████\u001b[0m| 6934/6934 [13:42<00:00,  8.43frames/s]"
     ]
    },
    {
     "name": "stdout",
     "output_type": "stream",
     "text": [
      "\u001b[96m[2024-10-06T19:46:48.904447] [Δt:822.639406s] [    INFO] [skellytracker.trackers.base_tracker.video_handler] [video_handler:close():45] [\u001b[38;2;50;255;72mPID:36168:MainProcess\u001b[0m \u001b[38;2;50;255;68mTID:33348:MainThread\u001b[0m ] video saved to Z:\\Davide_MultimodalLab\\3_DATA_ANALYSIS\\1_MOTION_TRACKING\\1_Video_Segmentation\\video_split\\pilot_05_d2_SUD_2_End_SUD_3_Start\\annotated_videos\\pilot_05_d2_SUD_2_End_SUD_3_Start_cam1_mediapipe.mp4\u001b[0m\n",
      "2024-10-06 19:46:48,904 - skellytracker.trackers.base_tracker.video_handler - INFO - video saved to Z:\\Davide_MultimodalLab\\3_DATA_ANALYSIS\\1_MOTION_TRACKING\\1_Video_Segmentation\\video_split\\pilot_05_d2_SUD_2_End_SUD_3_Start\\annotated_videos\\pilot_05_d2_SUD_2_End_SUD_3_Start_cam1_mediapipe.mp4\n"
     ]
    },
    {
     "name": "stderr",
     "output_type": "stream",
     "text": [
      "\n"
     ]
    },
    {
     "name": "stdout",
     "output_type": "stream",
     "text": [
      "\u001b[96m[2024-10-06T19:46:52.459250] [Δt:3.554634s] [    INFO] [skellytracker.process_folder_of_videos] [process_folder_of_videos:process_single_video():131] [\u001b[38;2;50;255;72mPID:36168:MainProcess\u001b[0m \u001b[38;2;50;255;68mTID:33348:MainThread\u001b[0m ] Processing video: pilot_05_d2_SUD_2_End_SUD_3_Start_cam2_mediapipe.mp4 with tracker: MediapipeHolisticTracker\u001b[0m\n",
      "2024-10-06 19:46:52,459 - skellytracker.process_folder_of_videos - INFO - Processing video: pilot_05_d2_SUD_2_End_SUD_3_Start_cam2_mediapipe.mp4 with tracker: MediapipeHolisticTracker\n"
     ]
    },
    {
     "name": "stderr",
     "output_type": "stream",
     "text": [
      "processing video: pilot_05_d2_SUD_2_End_SUD_3_Start_cam2.mp4: 100%|\u001b[35m██████████\u001b[0m| 6934/6934 [13:52<00:00,  8.33frames/s]"
     ]
    },
    {
     "name": "stdout",
     "output_type": "stream",
     "text": [
      "\u001b[96m[2024-10-06T20:00:45.134873] [Δt:832.667644s] [    INFO] [skellytracker.trackers.base_tracker.video_handler] [video_handler:close():45] [\u001b[38;2;50;255;72mPID:36168:MainProcess\u001b[0m \u001b[38;2;50;255;68mTID:33348:MainThread\u001b[0m ] video saved to Z:\\Davide_MultimodalLab\\3_DATA_ANALYSIS\\1_MOTION_TRACKING\\1_Video_Segmentation\\video_split\\pilot_05_d2_SUD_2_End_SUD_3_Start\\annotated_videos\\pilot_05_d2_SUD_2_End_SUD_3_Start_cam2_mediapipe.mp4\u001b[0m\n",
      "2024-10-06 20:00:45,134 - skellytracker.trackers.base_tracker.video_handler - INFO - video saved to Z:\\Davide_MultimodalLab\\3_DATA_ANALYSIS\\1_MOTION_TRACKING\\1_Video_Segmentation\\video_split\\pilot_05_d2_SUD_2_End_SUD_3_Start\\annotated_videos\\pilot_05_d2_SUD_2_End_SUD_3_Start_cam2_mediapipe.mp4\n"
     ]
    },
    {
     "name": "stderr",
     "output_type": "stream",
     "text": [
      "\n"
     ]
    },
    {
     "name": "stdout",
     "output_type": "stream",
     "text": [
      "\u001b[96m[2024-10-06T20:00:49.274638] [Δt:4.139766s] [    INFO] [skellytracker.process_folder_of_videos] [process_folder_of_videos:process_single_video():131] [\u001b[38;2;50;255;72mPID:36168:MainProcess\u001b[0m \u001b[38;2;50;255;68mTID:33348:MainThread\u001b[0m ] Processing video: pilot_05_d2_SUD_2_End_SUD_3_Start_cam3_mediapipe.mp4 with tracker: MediapipeHolisticTracker\u001b[0m\n",
      "2024-10-06 20:00:49,274 - skellytracker.process_folder_of_videos - INFO - Processing video: pilot_05_d2_SUD_2_End_SUD_3_Start_cam3_mediapipe.mp4 with tracker: MediapipeHolisticTracker\n"
     ]
    },
    {
     "name": "stderr",
     "output_type": "stream",
     "text": [
      "processing video: pilot_05_d2_SUD_2_End_SUD_3_Start_cam3.mp4: 100%|\u001b[35m██████████\u001b[0m| 6934/6934 [14:08<00:00,  8.17frames/s]"
     ]
    },
    {
     "name": "stdout",
     "output_type": "stream",
     "text": [
      "\u001b[96m[2024-10-06T20:14:57.890597] [Δt:848.615959s] [    INFO] [skellytracker.trackers.base_tracker.video_handler] [video_handler:close():45] [\u001b[38;2;50;255;72mPID:36168:MainProcess\u001b[0m \u001b[38;2;50;255;68mTID:33348:MainThread\u001b[0m ] video saved to Z:\\Davide_MultimodalLab\\3_DATA_ANALYSIS\\1_MOTION_TRACKING\\1_Video_Segmentation\\video_split\\pilot_05_d2_SUD_2_End_SUD_3_Start\\annotated_videos\\pilot_05_d2_SUD_2_End_SUD_3_Start_cam3_mediapipe.mp4\u001b[0m\n",
      "2024-10-06 20:14:57,890 - skellytracker.trackers.base_tracker.video_handler - INFO - video saved to Z:\\Davide_MultimodalLab\\3_DATA_ANALYSIS\\1_MOTION_TRACKING\\1_Video_Segmentation\\video_split\\pilot_05_d2_SUD_2_End_SUD_3_Start\\annotated_videos\\pilot_05_d2_SUD_2_End_SUD_3_Start_cam3_mediapipe.mp4\n"
     ]
    },
    {
     "name": "stderr",
     "output_type": "stream",
     "text": [
      "\n"
     ]
    },
    {
     "name": "stdout",
     "output_type": "stream",
     "text": [
      "\u001b[96m[2024-10-06T20:15:02.019458] [Δt:4.128860s] [    INFO] [skellytracker.process_folder_of_videos] [process_folder_of_videos:process_folder_of_videos():105] [\u001b[38;2;50;255;72mPID:36168:MainProcess\u001b[0m \u001b[38;2;50;255;68mTID:33348:MainThread\u001b[0m ] Shape of output array: (3, 6934, 553, 3)\u001b[0m\n",
      "2024-10-06 20:15:02,019 - skellytracker.process_folder_of_videos - INFO - Shape of output array: (3, 6934, 553, 3)\n",
      "\u001b[96m[2024-10-06T20:15:26.563219] [Δt:24.543762s] [    INFO] [freemocap.core_processes.process_motion_capture_videos.processing_pipeline_functions.triangulation_pipeline_functions] [triangulation_pipeline_functions:get_triangulated_data():63] [\u001b[38;2;50;255;72mPID:36168:MainProcess\u001b[0m \u001b[38;2;50;255;68mTID:33348:MainThread\u001b[0m ] Triangulating 3d skeletons...\u001b[0m\n",
      "2024-10-06 20:15:26,563 - freemocap.core_processes.process_motion_capture_videos.processing_pipeline_functions.triangulation_pipeline_functions - INFO - Triangulating 3d skeletons...\n",
      "\u001b[96m[2024-10-06T20:15:26.563219] [Δt:0.000000s] [    INFO] [freemocap.core_processes.process_motion_capture_videos.processing_pipeline_functions.triangulation_pipeline_functions] [triangulation_pipeline_functions:get_triangulated_data():64] [\u001b[38;2;50;255;72mPID:36168:MainProcess\u001b[0m \u001b[38;2;50;255;68mTID:33348:MainThread\u001b[0m ] Log Progress\u001b[0m\n",
      "2024-10-06 20:15:26,563 - freemocap.core_processes.process_motion_capture_videos.processing_pipeline_functions.triangulation_pipeline_functions - INFO - Log Progress\n",
      "\u001b[96m[2024-10-06T20:15:27.043402] [Δt:0.480183s] [    INFO] [freemocap.core_processes.capture_volume_calibration.anipose_camera_calibration.get_anipose_calibration_object] [get_anipose_calibration_object:load_anipose_calibration_toml_from_path():38] [\u001b[38;2;50;255;72mPID:36168:MainProcess\u001b[0m \u001b[38;2;50;255;68mTID:33348:MainThread\u001b[0m ] loading camera calibration file from:Z:\\Davide_MultimodalLab\\3_DATA_ANALYSIS\\1_MOTION_TRACKING\\2_Video_Calibration\\calibration_results\\pilot_05_d2_calibration_charuco_calibration_anipose.toml\u001b[0m\n",
      "2024-10-06 20:15:27,043 - freemocap.core_processes.capture_volume_calibration.anipose_camera_calibration.get_anipose_calibration_object - INFO - loading camera calibration file from:Z:\\Davide_MultimodalLab\\3_DATA_ANALYSIS\\1_MOTION_TRACKING\\2_Video_Calibration\\calibration_results\\pilot_05_d2_calibration_charuco_calibration_anipose.toml\n",
      "\u001b[96m[2024-10-06T20:15:27.129902] [Δt:0.086499s] [    INFO] [freemocap.core_processes.capture_volume_calibration.triangulate_3d_data] [triangulate_3d_data:triangulate_3d_data():35] [\u001b[38;2;50;255;72mPID:36168:MainProcess\u001b[0m \u001b[38;2;50;255;68mTID:33348:MainThread\u001b[0m ] Reconstructing 3d points from 2d points with shape: \n",
      "number_of_cameras: 3,\n",
      "number_of_frames: 6934, \n",
      "number_of_tracked_points: 553,\n",
      "number_of_spatial_dimensions: 2\u001b[0m\n",
      "2024-10-06 20:15:27,129 - freemocap.core_processes.capture_volume_calibration.triangulate_3d_data - INFO - Reconstructing 3d points from 2d points with shape: \n",
      "number_of_cameras: 3,\n",
      "number_of_frames: 6934, \n",
      "number_of_tracked_points: 553,\n",
      "number_of_spatial_dimensions: 2\n",
      "\u001b[96m[2024-10-06T20:15:27.137933] [Δt:0.008031s] [    INFO] [freemocap.core_processes.capture_volume_calibration.triangulate_3d_data] [triangulate_3d_data:triangulate_3d_data():47] [\u001b[38;2;50;255;72mPID:36168:MainProcess\u001b[0m \u001b[38;2;50;255;68mTID:33348:MainThread\u001b[0m ] Using simple `triangulate` method \u001b[0m\n",
      "2024-10-06 20:15:27,137 - freemocap.core_processes.capture_volume_calibration.triangulate_3d_data - INFO - Using simple `triangulate` method \n"
     ]
    },
    {
     "name": "stderr",
     "output_type": "stream",
     "text": [
      "100%|█████████████████████| 3834502/3834502 [08:00<00:00, 7987.78it/s]\n"
     ]
    },
    {
     "name": "stdout",
     "output_type": "stream",
     "text": [
      "\u001b[96m[2024-10-06T20:23:40.799809] [Δt:493.661877s] [    INFO] [freemocap.core_processes.capture_volume_calibration.save_mediapipe_3d_data_to_npy] [save_mediapipe_3d_data_to_npy:save_mediapipe_3d_data_to_npy():50] [\u001b[38;2;50;255;72mPID:36168:MainProcess\u001b[0m \u001b[38;2;50;255;68mTID:33348:MainThread\u001b[0m ] saving: Z:\\Davide_MultimodalLab\\3_DATA_ANALYSIS\\1_MOTION_TRACKING\\1_Video_Segmentation\\video_split\\pilot_05_d2_SUD_2_End_SUD_3_Start\\output_data\\raw_data\\mediapipe3dData_numFrames_numTrackedPoints_spatialXYZ.npy\u001b[0m\n",
      "2024-10-06 20:23:40,799 - freemocap.core_processes.capture_volume_calibration.save_mediapipe_3d_data_to_npy - INFO - saving: Z:\\Davide_MultimodalLab\\3_DATA_ANALYSIS\\1_MOTION_TRACKING\\1_Video_Segmentation\\video_split\\pilot_05_d2_SUD_2_End_SUD_3_Start\\output_data\\raw_data\\mediapipe3dData_numFrames_numTrackedPoints_spatialXYZ.npy\n",
      "\u001b[96m[2024-10-06T20:23:41.767114] [Δt:0.967305s] [    INFO] [freemocap.core_processes.capture_volume_calibration.save_mediapipe_3d_data_to_npy] [save_mediapipe_3d_data_to_npy:save_mediapipe_3d_data_to_npy():55] [\u001b[38;2;50;255;72mPID:36168:MainProcess\u001b[0m \u001b[38;2;50;255;68mTID:33348:MainThread\u001b[0m ] saving: Z:\\Davide_MultimodalLab\\3_DATA_ANALYSIS\\1_MOTION_TRACKING\\1_Video_Segmentation\\video_split\\pilot_05_d2_SUD_2_End_SUD_3_Start\\output_data\\raw_data\\mediapipe3dData_numFrames_numTrackedPoints_reprojectionError.npy\u001b[0m\n",
      "2024-10-06 20:23:41,767 - freemocap.core_processes.capture_volume_calibration.save_mediapipe_3d_data_to_npy - INFO - saving: Z:\\Davide_MultimodalLab\\3_DATA_ANALYSIS\\1_MOTION_TRACKING\\1_Video_Segmentation\\video_split\\pilot_05_d2_SUD_2_End_SUD_3_Start\\output_data\\raw_data\\mediapipe3dData_numFrames_numTrackedPoints_reprojectionError.npy\n",
      "\u001b[96m[2024-10-06T20:23:42.154373] [Δt:0.387258s] [    INFO] [freemocap.core_processes.capture_volume_calibration.save_mediapipe_3d_data_to_npy] [save_mediapipe_3d_data_to_npy:save_mediapipe_3d_data_to_npy():61] [\u001b[38;2;50;255;72mPID:36168:MainProcess\u001b[0m \u001b[38;2;50;255;68mTID:33348:MainThread\u001b[0m ] saving: Z:\\Davide_MultimodalLab\\3_DATA_ANALYSIS\\1_MOTION_TRACKING\\1_Video_Segmentation\\video_split\\pilot_05_d2_SUD_2_End_SUD_3_Start\\output_data\\raw_data\\mediapipe3dData_numCams_numFrames_numTrackedPoints_reprojectionError.npy\u001b[0m\n",
      "2024-10-06 20:23:42,154 - freemocap.core_processes.capture_volume_calibration.save_mediapipe_3d_data_to_npy - INFO - saving: Z:\\Davide_MultimodalLab\\3_DATA_ANALYSIS\\1_MOTION_TRACKING\\1_Video_Segmentation\\video_split\\pilot_05_d2_SUD_2_End_SUD_3_Start\\output_data\\raw_data\\mediapipe3dData_numCams_numFrames_numTrackedPoints_reprojectionError.npy\n",
      "\u001b[96m[2024-10-06T20:23:43.174194] [Δt:1.019821s] [    INFO] [freemocap.core_processes.post_process_skeleton_data.post_process_skeleton] [post_process_skeleton:run_post_processing_worker():79] [\u001b[38;2;50;255;72mPID:36168:MainProcess\u001b[0m \u001b[38;2;50;255;68mTID:33348:MainThread\u001b[0m ] Starting post-processing worker thread\u001b[0m\n",
      "2024-10-06 20:23:43,174 - freemocap.core_processes.post_process_skeleton_data.post_process_skeleton - INFO - Starting post-processing worker thread\n",
      "\u001b[96m[2024-10-06T20:23:43.174194] [Δt:0.000000s] [    INFO] [freemocap.core_processes.post_process_skeleton_data.post_process_skeleton] [post_process_skeleton:run_post_processing_worker():80] [\u001b[38;2;50;255;72mPID:36168:MainProcess\u001b[0m \u001b[38;2;50;255;68mTID:33348:MainThread\u001b[0m ] Log Progress\u001b[0m\n",
      "2024-10-06 20:23:43,174 - freemocap.core_processes.post_process_skeleton_data.post_process_skeleton - INFO - Log Progress\n"
     ]
    },
    {
     "data": {
      "text/html": [
       "<pre style=\"white-space:pre;overflow-x:auto;line-height:normal;font-family:Menlo,'DejaVu Sans Mono',consolas,'Courier New',monospace\">c:\\ProgramData\\Anaconda3\\envs\\freemocap-env\\Lib\\site-packages\\rich\\live.py:231: UserWarning: install \"ipywidgets\" \n",
       "for Jupyter support\n",
       "  warnings.warn('install \"ipywidgets\" for Jupyter support')\n",
       "</pre>\n"
      ],
      "text/plain": [
       "c:\\ProgramData\\Anaconda3\\envs\\freemocap-env\\Lib\\site-packages\\rich\\live.py:231: UserWarning: install \"ipywidgets\" \n",
       "for Jupyter support\n",
       "  warnings.warn('install \"ipywidgets\" for Jupyter support')\n"
      ]
     },
     "metadata": {},
     "output_type": "display_data"
    },
    {
     "data": {
      "text/html": [
       "<pre style=\"white-space:pre;overflow-x:auto;line-height:normal;font-family:Menlo,'DejaVu Sans Mono',consolas,'Courier New',monospace\">c:\\ProgramData\\Anaconda3\\envs\\freemocap-env\\Lib\\site-packages\\rich\\live.py:231: UserWarning: install \"ipywidgets\" \n",
       "for Jupyter support\n",
       "  warnings.warn('install \"ipywidgets\" for Jupyter support')\n",
       "</pre>\n"
      ],
      "text/plain": [
       "c:\\ProgramData\\Anaconda3\\envs\\freemocap-env\\Lib\\site-packages\\rich\\live.py:231: UserWarning: install \"ipywidgets\" \n",
       "for Jupyter support\n",
       "  warnings.warn('install \"ipywidgets\" for Jupyter support')\n"
      ]
     },
     "metadata": {},
     "output_type": "display_data"
    },
    {
     "data": {
      "text/html": [
       "<pre style=\"white-space:pre;overflow-x:auto;line-height:normal;font-family:Menlo,'DejaVu Sans Mono',consolas,'Courier New',monospace\">c:\\ProgramData\\Anaconda3\\envs\\freemocap-env\\Lib\\site-packages\\rich\\live.py:231: UserWarning: install \"ipywidgets\" \n",
       "for Jupyter support\n",
       "  warnings.warn('install \"ipywidgets\" for Jupyter support')\n",
       "</pre>\n"
      ],
      "text/plain": [
       "c:\\ProgramData\\Anaconda3\\envs\\freemocap-env\\Lib\\site-packages\\rich\\live.py:231: UserWarning: install \"ipywidgets\" \n",
       "for Jupyter support\n",
       "  warnings.warn('install \"ipywidgets\" for Jupyter support')\n"
      ]
     },
     "metadata": {},
     "output_type": "display_data"
    },
    {
     "data": {
      "text/html": [
       "<pre style=\"white-space:pre;overflow-x:auto;line-height:normal;font-family:Menlo,'DejaVu Sans Mono',consolas,'Courier New',monospace\">c:\\ProgramData\\Anaconda3\\envs\\freemocap-env\\Lib\\site-packages\\rich\\live.py:231: UserWarning: install \"ipywidgets\" \n",
       "for Jupyter support\n",
       "  warnings.warn('install \"ipywidgets\" for Jupyter support')\n",
       "</pre>\n"
      ],
      "text/plain": [
       "c:\\ProgramData\\Anaconda3\\envs\\freemocap-env\\Lib\\site-packages\\rich\\live.py:231: UserWarning: install \"ipywidgets\" \n",
       "for Jupyter support\n",
       "  warnings.warn('install \"ipywidgets\" for Jupyter support')\n"
      ]
     },
     "metadata": {},
     "output_type": "display_data"
    },
    {
     "data": {
      "text/html": [
       "<pre style=\"white-space:pre;overflow-x:auto;line-height:normal;font-family:Menlo,'DejaVu Sans Mono',consolas,'Courier New',monospace\">c:\\ProgramData\\Anaconda3\\envs\\freemocap-env\\Lib\\site-packages\\rich\\live.py:231: UserWarning: install \"ipywidgets\" \n",
       "for Jupyter support\n",
       "  warnings.warn('install \"ipywidgets\" for Jupyter support')\n",
       "</pre>\n"
      ],
      "text/plain": [
       "c:\\ProgramData\\Anaconda3\\envs\\freemocap-env\\Lib\\site-packages\\rich\\live.py:231: UserWarning: install \"ipywidgets\" \n",
       "for Jupyter support\n",
       "  warnings.warn('install \"ipywidgets\" for Jupyter support')\n"
      ]
     },
     "metadata": {},
     "output_type": "display_data"
    },
    {
     "data": {
      "text/html": [
       "<pre style=\"white-space:pre;overflow-x:auto;line-height:normal;font-family:Menlo,'DejaVu Sans Mono',consolas,'Courier New',monospace\">c:\\ProgramData\\Anaconda3\\envs\\freemocap-env\\Lib\\site-packages\\rich\\live.py:231: UserWarning: install \"ipywidgets\" \n",
       "for Jupyter support\n",
       "  warnings.warn('install \"ipywidgets\" for Jupyter support')\n",
       "</pre>\n"
      ],
      "text/plain": [
       "c:\\ProgramData\\Anaconda3\\envs\\freemocap-env\\Lib\\site-packages\\rich\\live.py:231: UserWarning: install \"ipywidgets\" \n",
       "for Jupyter support\n",
       "  warnings.warn('install \"ipywidgets\" for Jupyter support')\n"
      ]
     },
     "metadata": {},
     "output_type": "display_data"
    },
    {
     "data": {
      "text/html": [
       "<pre style=\"white-space:pre;overflow-x:auto;line-height:normal;font-family:Menlo,'DejaVu Sans Mono',consolas,'Courier New',monospace\"></pre>\n"
      ],
      "text/plain": []
     },
     "metadata": {},
     "output_type": "display_data"
    },
    {
     "data": {
      "text/html": [
       "<pre style=\"white-space:pre;overflow-x:auto;line-height:normal;font-family:Menlo,'DejaVu Sans Mono',consolas,'Courier New',monospace\">\n",
       "</pre>\n"
      ],
      "text/plain": [
       "\n"
      ]
     },
     "metadata": {},
     "output_type": "display_data"
    },
    {
     "data": {
      "text/html": [
       "<pre style=\"white-space:pre;overflow-x:auto;line-height:normal;font-family:Menlo,'DejaVu Sans Mono',consolas,'Courier New',monospace\"></pre>\n"
      ],
      "text/plain": []
     },
     "metadata": {},
     "output_type": "display_data"
    },
    {
     "data": {
      "text/html": [
       "<pre style=\"white-space:pre;overflow-x:auto;line-height:normal;font-family:Menlo,'DejaVu Sans Mono',consolas,'Courier New',monospace\">\n",
       "</pre>\n"
      ],
      "text/plain": [
       "\n"
      ]
     },
     "metadata": {},
     "output_type": "display_data"
    },
    {
     "name": "stdout",
     "output_type": "stream",
     "text": [
      "\u001b[96m[2024-10-06T20:23:44.790982] [Δt:1.616788s] [    INFO] [freemocap.core_processes.post_process_skeleton_data.post_process_skeleton] [post_process_skeleton:run_post_processing_worker():90] [\u001b[38;2;50;255;72mPID:36168:MainProcess\u001b[0m \u001b[38;2;50;255;68mTID:33348:MainThread\u001b[0m ] Done with gap filling, filtering, and aligning\u001b[0m\n",
      "2024-10-06 20:23:44,790 - freemocap.core_processes.post_process_skeleton_data.post_process_skeleton - INFO - Done with gap filling, filtering, and aligning\n",
      "\u001b[96m[2024-10-06T20:23:44.790982] [Δt:0.000000s] [    INFO] [freemocap.core_processes.process_motion_capture_videos.processing_pipeline_functions.anatomical_data_pipeline_functions] [anatomical_data_pipeline_functions:calculate_anatomical_data():26] [\u001b[38;2;50;255;72mPID:36168:MainProcess\u001b[0m \u001b[38;2;50;255;68mTID:33348:MainThread\u001b[0m ] Calculating center of mass...\u001b[0m\n",
      "2024-10-06 20:23:44,790 - freemocap.core_processes.process_motion_capture_videos.processing_pipeline_functions.anatomical_data_pipeline_functions - INFO - Calculating center of mass...\n"
     ]
    },
    {
     "data": {
      "text/html": [
       "<pre style=\"white-space:pre;overflow-x:auto;line-height:normal;font-family:Menlo,'DejaVu Sans Mono',consolas,'Courier New',monospace\">c:\\ProgramData\\Anaconda3\\envs\\freemocap-env\\Lib\\site-packages\\rich\\live.py:231: UserWarning: install \"ipywidgets\" \n",
       "for Jupyter support\n",
       "  warnings.warn('install \"ipywidgets\" for Jupyter support')\n",
       "</pre>\n"
      ],
      "text/plain": [
       "c:\\ProgramData\\Anaconda3\\envs\\freemocap-env\\Lib\\site-packages\\rich\\live.py:231: UserWarning: install \"ipywidgets\" \n",
       "for Jupyter support\n",
       "  warnings.warn('install \"ipywidgets\" for Jupyter support')\n"
      ]
     },
     "metadata": {},
     "output_type": "display_data"
    },
    {
     "data": {
      "text/html": [
       "<pre style=\"white-space:pre;overflow-x:auto;line-height:normal;font-family:Menlo,'DejaVu Sans Mono',consolas,'Courier New',monospace\"></pre>\n"
      ],
      "text/plain": []
     },
     "metadata": {},
     "output_type": "display_data"
    },
    {
     "data": {
      "text/html": [
       "<pre style=\"white-space:pre;overflow-x:auto;line-height:normal;font-family:Menlo,'DejaVu Sans Mono',consolas,'Courier New',monospace\">\n",
       "</pre>\n"
      ],
      "text/plain": [
       "\n"
      ]
     },
     "metadata": {},
     "output_type": "display_data"
    },
    {
     "data": {
      "text/html": [
       "<pre style=\"white-space:pre;overflow-x:auto;line-height:normal;font-family:Menlo,'DejaVu Sans Mono',consolas,'Courier New',monospace\"></pre>\n"
      ],
      "text/plain": []
     },
     "metadata": {},
     "output_type": "display_data"
    },
    {
     "data": {
      "text/html": [
       "<pre style=\"white-space:pre;overflow-x:auto;line-height:normal;font-family:Menlo,'DejaVu Sans Mono',consolas,'Courier New',monospace\">\n",
       "</pre>\n"
      ],
      "text/plain": [
       "\n"
      ]
     },
     "metadata": {},
     "output_type": "display_data"
    },
    {
     "name": "stdout",
     "output_type": "stream",
     "text": [
      "\u001b[96m[2024-10-06T20:23:54.007370] [Δt:9.216389s] [    INFO] [freemocap.core_processes.post_process_skeleton_data.calculate_center_of_mass] [calculate_center_of_mass:calculate_total_body_COM():306] [\u001b[38;2;50;255;72mPID:36168:MainProcess\u001b[0m \u001b[38;2;50;255;68mTID:33348:MainThread\u001b[0m ] Calculating Total Body Center of Mass\u001b[0m\n",
      "2024-10-06 20:23:54,007 - freemocap.core_processes.post_process_skeleton_data.calculate_center_of_mass - INFO - Calculating Total Body Center of Mass\n"
     ]
    },
    {
     "data": {
      "text/html": [
       "<pre style=\"white-space:pre;overflow-x:auto;line-height:normal;font-family:Menlo,'DejaVu Sans Mono',consolas,'Courier New',monospace\"></pre>\n"
      ],
      "text/plain": []
     },
     "metadata": {},
     "output_type": "display_data"
    },
    {
     "data": {
      "text/html": [
       "<pre style=\"white-space:pre;overflow-x:auto;line-height:normal;font-family:Menlo,'DejaVu Sans Mono',consolas,'Courier New',monospace\">\n",
       "</pre>\n"
      ],
      "text/plain": [
       "\n"
      ]
     },
     "metadata": {},
     "output_type": "display_data"
    },
    {
     "name": "stdout",
     "output_type": "stream",
     "text": [
      "\u001b[96m[2024-10-06T20:23:58.714741] [Δt:4.707371s] [    INFO] [freemocap.core_processes.detecting_things_in_2d_images.mediapipe_stuff.convert_mediapipe_npy_to_csv] [convert_mediapipe_npy_to_csv:convert_mediapipe_npy_to_csv():23] [\u001b[38;2;50;255;72mPID:36168:MainProcess\u001b[0m \u001b[38;2;50;255;68mTID:33348:MainThread\u001b[0m ] Converting npy data with shape: (6934, 553, 3) into `csv` and smaller `npy` files\u001b[0m\n",
      "2024-10-06 20:23:58,714 - freemocap.core_processes.detecting_things_in_2d_images.mediapipe_stuff.convert_mediapipe_npy_to_csv - INFO - Converting npy data with shape: (6934, 553, 3) into `csv` and smaller `npy` files\n",
      "\u001b[34m[2024-10-06T20:28:37.116015] [Δt:278.401274s] [   DEBUG] [freemocap.core_processes.detecting_things_in_2d_images.mediapipe_stuff.convert_mediapipe_npy_to_csv] [convert_mediapipe_npy_to_csv:convert_mediapipe_npy_to_csv():239] [\u001b[38;2;50;255;72mPID:36168:MainProcess\u001b[0m \u001b[38;2;50;255;68mTID:33348:MainThread\u001b[0m ] body 3d xyz shape: (6934, 33, 3)\u001b[0m\n",
      "\u001b[34m[2024-10-06T20:28:37.116015] [Δt:0.001045s] [   DEBUG] [freemocap.core_processes.detecting_things_in_2d_images.mediapipe_stuff.convert_mediapipe_npy_to_csv] [convert_mediapipe_npy_to_csv:convert_mediapipe_npy_to_csv():240] [\u001b[38;2;50;255;72mPID:36168:MainProcess\u001b[0m \u001b[38;2;50;255;68mTID:33348:MainThread\u001b[0m ] right hand 3d xyz shape: (6934, 21, 3)\u001b[0m\n",
      "\u001b[34m[2024-10-06T20:28:37.117060] [Δt:0.000156s] [   DEBUG] [freemocap.core_processes.detecting_things_in_2d_images.mediapipe_stuff.convert_mediapipe_npy_to_csv] [convert_mediapipe_npy_to_csv:convert_mediapipe_npy_to_csv():241] [\u001b[38;2;50;255;72mPID:36168:MainProcess\u001b[0m \u001b[38;2;50;255;68mTID:33348:MainThread\u001b[0m ] left hand 3d xyz shape: (6934, 21, 3)\u001b[0m\n",
      "\u001b[34m[2024-10-06T20:28:37.117217] [Δt:0.000000s] [   DEBUG] [freemocap.core_processes.detecting_things_in_2d_images.mediapipe_stuff.convert_mediapipe_npy_to_csv] [convert_mediapipe_npy_to_csv:convert_mediapipe_npy_to_csv():242] [\u001b[38;2;50;255;72mPID:36168:MainProcess\u001b[0m \u001b[38;2;50;255;68mTID:33348:MainThread\u001b[0m ] face 3d xyz shape: (6934, 478, 3)\u001b[0m\n",
      "\u001b[34m[2024-10-06T20:31:34.522622] [Δt:177.406433s] [   DEBUG] [freemocap.core_processes.detecting_things_in_2d_images.mediapipe_stuff.convert_mediapipe_npy_to_csv] [convert_mediapipe_npy_to_csv:convert_mediapipe_npy_to_csv():284] [\u001b[38;2;50;255;72mPID:36168:MainProcess\u001b[0m \u001b[38;2;50;255;68mTID:33348:MainThread\u001b[0m ] length of body 3d xyz `.csv` header: 99, should be: 99\u001b[0m\n",
      "\u001b[34m[2024-10-06T20:31:34.523649] [Δt:0.000000s] [   DEBUG] [freemocap.core_processes.detecting_things_in_2d_images.mediapipe_stuff.convert_mediapipe_npy_to_csv] [convert_mediapipe_npy_to_csv:convert_mediapipe_npy_to_csv():287] [\u001b[38;2;50;255;72mPID:36168:MainProcess\u001b[0m \u001b[38;2;50;255;68mTID:33348:MainThread\u001b[0m ] length of right hand 3d xyz `.csv` header: 63, should be: 63\u001b[0m\n",
      "\u001b[34m[2024-10-06T20:31:34.523649] [Δt:0.000000s] [   DEBUG] [freemocap.core_processes.detecting_things_in_2d_images.mediapipe_stuff.convert_mediapipe_npy_to_csv] [convert_mediapipe_npy_to_csv:convert_mediapipe_npy_to_csv():290] [\u001b[38;2;50;255;72mPID:36168:MainProcess\u001b[0m \u001b[38;2;50;255;68mTID:33348:MainThread\u001b[0m ] length of left hand 3d xyz `.csv` header: 63, should be: 63\u001b[0m\n",
      "\u001b[34m[2024-10-06T20:31:34.523649] [Δt:0.000000s] [   DEBUG] [freemocap.core_processes.detecting_things_in_2d_images.mediapipe_stuff.convert_mediapipe_npy_to_csv] [convert_mediapipe_npy_to_csv:convert_mediapipe_npy_to_csv():293] [\u001b[38;2;50;255;72mPID:36168:MainProcess\u001b[0m \u001b[38;2;50;255;68mTID:33348:MainThread\u001b[0m ] length of face 3d xyz `.csv` header: 1434, should be: 1434\u001b[0m\n",
      "\u001b[96m[2024-10-06T20:33:16.287600] [Δt:101.763950s] [    INFO] [freemocap.core_processes.detecting_things_in_2d_images.mediapipe_stuff.convert_mediapipe_npy_to_csv] [convert_mediapipe_npy_to_csv:convert_mediapipe_npy_to_csv():322] [\u001b[38;2;50;255;72mPID:36168:MainProcess\u001b[0m \u001b[38;2;50;255;68mTID:33348:MainThread\u001b[0m ] Done saving out `csv` and broken up `npy` files\u001b[0m\n",
      "2024-10-06 20:33:16,287 - freemocap.core_processes.detecting_things_in_2d_images.mediapipe_stuff.convert_mediapipe_npy_to_csv - INFO - Done saving out `csv` and broken up `npy` files\n",
      "\u001b[96m[2024-10-06T20:33:16.288833] [Δt:0.001233s] [    INFO] [freemocap.core_processes.process_motion_capture_videos.processing_pipeline_functions.data_saving_pipeline_functions] [data_saving_pipeline_functions:save_data():39] [\u001b[38;2;50;255;72mPID:36168:MainProcess\u001b[0m \u001b[38;2;50;255;68mTID:33348:MainThread\u001b[0m ] Saving post-processed data\u001b[0m\n",
      "2024-10-06 20:33:16,288 - freemocap.core_processes.process_motion_capture_videos.processing_pipeline_functions.data_saving_pipeline_functions - INFO - Saving post-processed data\n",
      "\u001b[96m[2024-10-06T20:33:17.600151] [Δt:1.311318s] [    INFO] [freemocap.core_processes.process_motion_capture_videos.processing_pipeline_functions.data_saving_pipeline_functions] [data_saving_pipeline_functions:save_data():46] [\u001b[38;2;50;255;72mPID:36168:MainProcess\u001b[0m \u001b[38;2;50;255;68mTID:33348:MainThread\u001b[0m ] Saving segment center of mass data\u001b[0m\n",
      "2024-10-06 20:33:17,600 - freemocap.core_processes.process_motion_capture_videos.processing_pipeline_functions.data_saving_pipeline_functions - INFO - Saving segment center of mass data\n",
      "\u001b[96m[2024-10-06T20:33:17.731756] [Δt:0.131605s] [    INFO] [freemocap.core_processes.process_motion_capture_videos.processing_pipeline_functions.data_saving_pipeline_functions] [data_saving_pipeline_functions:save_data():53] [\u001b[38;2;50;255;72mPID:36168:MainProcess\u001b[0m \u001b[38;2;50;255;68mTID:33348:MainThread\u001b[0m ] Saving total body center of mass data\u001b[0m\n",
      "2024-10-06 20:33:17,731 - freemocap.core_processes.process_motion_capture_videos.processing_pipeline_functions.data_saving_pipeline_functions - INFO - Saving total body center of mass data\n",
      "\u001b[96m[2024-10-06T20:33:17.849489] [Δt:0.117800s] [    INFO] [freemocap.utilities.save_dictionary_to_json] [save_dictionary_to_json:save_dictionary_to_json():16] [\u001b[38;2;50;255;72mPID:36168:MainProcess\u001b[0m \u001b[38;2;50;255;68mTID:33348:MainThread\u001b[0m ] Saved dictionary mediapipe_names_and_connections_dict.json as json  at: Z:\\Davide_MultimodalLab\\3_DATA_ANALYSIS\\1_MOTION_TRACKING\\1_Video_Segmentation\\video_split\\pilot_05_d2_SUD_2_End_SUD_3_Start\\output_data\\mediapipe_names_and_connections_dict.json\u001b[0m\n",
      "2024-10-06 20:33:17,849 - freemocap.utilities.save_dictionary_to_json - INFO - Saved dictionary mediapipe_names_and_connections_dict.json as json  at: Z:\\Davide_MultimodalLab\\3_DATA_ANALYSIS\\1_MOTION_TRACKING\\1_Video_Segmentation\\video_split\\pilot_05_d2_SUD_2_End_SUD_3_Start\\output_data\\mediapipe_names_and_connections_dict.json\n",
      "\u001b[33m[2024-10-06T20:33:17.902248] [Δt:0.052693s] [ WARNING] [freemocap.system.paths_and_filenames.file_and_folder_names] [path_getters:get_timestamps_directory():252] [\u001b[38;2;50;255;72mPID:36168:MainProcess\u001b[0m \u001b[38;2;50;255;68mTID:33348:MainThread\u001b[0m ] Could not find timestamps directory in Z:\\Davide_MultimodalLab\\3_DATA_ANALYSIS\\1_MOTION_TRACKING\\1_Video_Segmentation\\video_split\\pilot_05_d2_SUD_2_End_SUD_3_Start\\synchronized_videos\u001b[0m\n",
      "2024-10-06 20:33:17,902 - freemocap.system.paths_and_filenames.file_and_folder_names - WARNING - Could not find timestamps directory in Z:\\Davide_MultimodalLab\\3_DATA_ANALYSIS\\1_MOTION_TRACKING\\1_Video_Segmentation\\video_split\\pilot_05_d2_SUD_2_End_SUD_3_Start\\synchronized_videos\n",
      "\u001b[33m[2024-10-06T20:33:17.902248] [Δt:0.000000s] [ WARNING] [freemocap.data_layer.data_saver.data_loader] [data_loader:_load_timestamps():91] [\u001b[38;2;50;255;72mPID:36168:MainProcess\u001b[0m \u001b[38;2;50;255;68mTID:33348:MainThread\u001b[0m ] No timestamps directory found. Skipping timestamps loading.\u001b[0m\n",
      "2024-10-06 20:33:17,902 - freemocap.data_layer.data_saver.data_loader - WARNING - No timestamps directory found. Skipping timestamps loading.\n",
      "\u001b[96m[2024-10-06T20:35:15.386687] [Δt:117.484439s] [    INFO] [freemocap.data_layer.data_saver.data_saver] [data_saver:save_to_json():59] [\u001b[38;2;50;255;72mPID:36168:MainProcess\u001b[0m \u001b[38;2;50;255;68mTID:33348:MainThread\u001b[0m ] Saving recording data to Z:\\Davide_MultimodalLab\\3_DATA_ANALYSIS\\1_MOTION_TRACKING\\1_Video_Segmentation\\video_split\\pilot_05_d2_SUD_2_End_SUD_3_Start\\pilot_05_d2_SUD_2_End_SUD_3_Start_by_frame.json\u001b[0m\n",
      "2024-10-06 20:35:15,386 - freemocap.data_layer.data_saver.data_saver - INFO - Saving recording data to Z:\\Davide_MultimodalLab\\3_DATA_ANALYSIS\\1_MOTION_TRACKING\\1_Video_Segmentation\\video_split\\pilot_05_d2_SUD_2_End_SUD_3_Start\\pilot_05_d2_SUD_2_End_SUD_3_Start_by_frame.json\n",
      "\u001b[96m[2024-10-06T20:37:21.858842] [Δt:126.472155s] [    INFO] [freemocap.data_layer.data_saver.data_saver] [data_saver:save_to_csv():76] [\u001b[38;2;50;255;72mPID:36168:MainProcess\u001b[0m \u001b[38;2;50;255;68mTID:33348:MainThread\u001b[0m ] Saved recording data to Z:\\Davide_MultimodalLab\\3_DATA_ANALYSIS\\1_MOTION_TRACKING\\1_Video_Segmentation\\video_split\\pilot_05_d2_SUD_2_End_SUD_3_Start\\pilot_05_d2_SUD_2_End_SUD_3_Start_by_trajectory.csv\u001b[0m\n",
      "2024-10-06 20:37:21,858 - freemocap.data_layer.data_saver.data_saver - INFO - Saved recording data to Z:\\Davide_MultimodalLab\\3_DATA_ANALYSIS\\1_MOTION_TRACKING\\1_Video_Segmentation\\video_split\\pilot_05_d2_SUD_2_End_SUD_3_Start\\pilot_05_d2_SUD_2_End_SUD_3_Start_by_trajectory.csv\n",
      "\u001b[96m[2024-10-06T20:37:23.677384] [Δt:1.818541s] [    INFO] [freemocap.data_layer.data_saver.data_saver] [data_saver:save_to_npy():82] [\u001b[38;2;50;255;72mPID:36168:MainProcess\u001b[0m \u001b[38;2;50;255;68mTID:33348:MainThread\u001b[0m ] Saved recording data to Z:\\Davide_MultimodalLab\\3_DATA_ANALYSIS\\1_MOTION_TRACKING\\1_Video_Segmentation\\video_split\\pilot_05_d2_SUD_2_End_SUD_3_Start\\pilot_05_d2_SUD_2_End_SUD_3_Start_frame_name_xyz.npy\u001b[0m\n",
      "2024-10-06 20:37:23,677 - freemocap.data_layer.data_saver.data_saver - INFO - Saved recording data to Z:\\Davide_MultimodalLab\\3_DATA_ANALYSIS\\1_MOTION_TRACKING\\1_Video_Segmentation\\video_split\\pilot_05_d2_SUD_2_End_SUD_3_Start\\pilot_05_d2_SUD_2_End_SUD_3_Start_frame_name_xyz.npy\n",
      "\u001b[96m[2024-10-06T20:37:23.958411] [Δt:0.281028s] [    INFO] [freemocap.core_processes.process_motion_capture_videos.process_recording_folder] [process_recording_folder:process_recording_folder():143] [\u001b[38;2;50;255;72mPID:36168:MainProcess\u001b[0m \u001b[38;2;50;255;68mTID:33348:MainThread\u001b[0m ] Done processing Z:\\Davide_MultimodalLab\\3_DATA_ANALYSIS\\1_MOTION_TRACKING\\1_Video_Segmentation\\video_split\\pilot_05_d2_SUD_2_End_SUD_3_Start\u001b[0m\n",
      "2024-10-06 20:37:23,958 - freemocap.core_processes.process_motion_capture_videos.process_recording_folder - INFO - Done processing Z:\\Davide_MultimodalLab\\3_DATA_ANALYSIS\\1_MOTION_TRACKING\\1_Video_Segmentation\\video_split\\pilot_05_d2_SUD_2_End_SUD_3_Start\n",
      "\u001b[33m[2024-10-06T20:37:24.006159] [Δt:0.047748s] [ WARNING] [root] [1048335352:process_recording():48] [\u001b[38;2;50;255;72mPID:36168:MainProcess\u001b[0m \u001b[38;2;50;255;68mTID:33348:MainThread\u001b[0m ] No blender executable provided. Blender file will not be exported.\u001b[0m\n",
      "2024-10-06 20:37:24,006 - root - WARNING - No blender executable provided. Blender file will not be exported.\n",
      "We will now load this vide folder  Z:\\Davide_MultimodalLab\\3_DATA_ANALYSIS\\1_MOTION_TRACKING\\1_Video_Segmentation\\video_split\\pilot_05_d2_SUD_2_End_SUD_3_Start\n",
      "current pilot_id:  pilot_06_d2\n",
      "\u001b[96m[2024-10-06T20:37:24.006159] [Δt:0.007998s] [    INFO] [root] [2323846283:<module>():7] [\u001b[38;2;50;255;72mPID:36168:MainProcess\u001b[0m \u001b[38;2;50;255;68mTID:33348:MainThread\u001b[0m ] Processing calibration file: Z:\\Davide_MultimodalLab\\3_DATA_ANALYSIS\\1_MOTION_TRACKING\\2_Video_Calibration\\calibration_results\\pilot_06_d2_calibration_charuco_calibration_anipose.toml\u001b[0m\n",
      "2024-10-06 20:37:24,006 - root - INFO - Processing calibration file: Z:\\Davide_MultimodalLab\\3_DATA_ANALYSIS\\1_MOTION_TRACKING\\2_Video_Calibration\\calibration_results\\pilot_06_d2_calibration_charuco_calibration_anipose.toml\n",
      "current calibrtion file:  Z:\\Davide_MultimodalLab\\3_DATA_ANALYSIS\\1_MOTION_TRACKING\\2_Video_Calibration\\calibration_results\\pilot_06_d2_calibration_charuco_calibration_anipose.toml\n",
      "We found these matching folder:  [WindowsPath('Z:/Davide_MultimodalLab/3_DATA_ANALYSIS/1_MOTION_TRACKING/1_Video_Segmentation/video_split/pilot_06_d2_Speech_Start_SUD_1_Start'), WindowsPath('Z:/Davide_MultimodalLab/3_DATA_ANALYSIS/1_MOTION_TRACKING/1_Video_Segmentation/video_split/pilot_06_d2_SUD_1_End_SUD_2_Start'), WindowsPath('Z:/Davide_MultimodalLab/3_DATA_ANALYSIS/1_MOTION_TRACKING/1_Video_Segmentation/video_split/pilot_06_d2_SUD_2_End_SUD_3_Start')]\n",
      "\u001b[96m[2024-10-06T20:37:24.102572] [Δt:0.088415s] [    INFO] [root] [2323846283:<module>():20] [\u001b[38;2;50;255;72mPID:36168:MainProcess\u001b[0m \u001b[38;2;50;255;68mTID:33348:MainThread\u001b[0m ] Processing video folder: Z:\\Davide_MultimodalLab\\3_DATA_ANALYSIS\\1_MOTION_TRACKING\\1_Video_Segmentation\\video_split\\pilot_06_d2_Speech_Start_SUD_1_Start\u001b[0m\n",
      "2024-10-06 20:37:24,102 - root - INFO - Processing video folder: Z:\\Davide_MultimodalLab\\3_DATA_ANALYSIS\\1_MOTION_TRACKING\\1_Video_Segmentation\\video_split\\pilot_06_d2_Speech_Start_SUD_1_Start\n",
      "\u001b[96m[2024-10-06T20:37:24.227877] [Δt:0.125305s] [    INFO] [freemocap.utilities.save_dictionary_to_json] [save_dictionary_to_json:save_dictionary_to_json():16] [\u001b[38;2;50;255;72mPID:36168:MainProcess\u001b[0m \u001b[38;2;50;255;68mTID:33348:MainThread\u001b[0m ] Saved dictionary recording_parameters.json as json  at: Z:\\Davide_MultimodalLab\\3_DATA_ANALYSIS\\1_MOTION_TRACKING\\1_Video_Segmentation\\video_split\\pilot_06_d2_Speech_Start_SUD_1_Start\\output_data\\recording_parameters.json\u001b[0m\n",
      "2024-10-06 20:37:24,227 - freemocap.utilities.save_dictionary_to_json - INFO - Saved dictionary recording_parameters.json as json  at: Z:\\Davide_MultimodalLab\\3_DATA_ANALYSIS\\1_MOTION_TRACKING\\1_Video_Segmentation\\video_split\\pilot_06_d2_Speech_Start_SUD_1_Start\\output_data\\recording_parameters.json\n",
      "\u001b[96m[2024-10-06T20:37:24.936111] [Δt:0.708234s] [    INFO] [freemocap.data_layer.recording_models.recording_info_model] [recording_info_model:get_number_of_mp4s_in_synched_videos_directory():239] [\u001b[38;2;50;255;72mPID:36168:MainProcess\u001b[0m \u001b[38;2;50;255;68mTID:33348:MainThread\u001b[0m ] Number of `.mp4`'s in Z:\\Davide_MultimodalLab\\3_DATA_ANALYSIS\\1_MOTION_TRACKING\\1_Video_Segmentation\\video_split\\pilot_06_d2_Speech_Start_SUD_1_Start\\synchronized_videos: 3\u001b[0m\n",
      "2024-10-06 20:37:24,936 - freemocap.data_layer.recording_models.recording_info_model - INFO - Number of `.mp4`'s in Z:\\Davide_MultimodalLab\\3_DATA_ANALYSIS\\1_MOTION_TRACKING\\1_Video_Segmentation\\video_split\\pilot_06_d2_Speech_Start_SUD_1_Start\\synchronized_videos: 3\n",
      "\u001b[34m[2024-10-06T20:37:24.942244] [Δt:0.006133s] [   DEBUG] [freemocap.data_layer.recording_models.recording_info_model] [recording_info_model:get_number_of_frames_in_videos():253] [\u001b[38;2;50;255;72mPID:36168:MainProcess\u001b[0m \u001b[38;2;50;255;68mTID:33348:MainThread\u001b[0m ] No 'timestamps' directory, finding frame counts from synchronized videos\u001b[0m\n",
      "\u001b[96m[2024-10-06T20:37:25.122742] [Δt:0.180497s] [    INFO] [freemocap.core_processes.process_motion_capture_videos.processing_pipeline_functions.image_tracking_pipeline_functions] [image_tracking_pipeline_functions:run_image_tracking_pipeline():44] [\u001b[38;2;50;255;72mPID:36168:MainProcess\u001b[0m \u001b[38;2;50;255;68mTID:33348:MainThread\u001b[0m ] Detecting 2d skeletons...\u001b[0m\n",
      "2024-10-06 20:37:25,122 - freemocap.core_processes.process_motion_capture_videos.processing_pipeline_functions.image_tracking_pipeline_functions - INFO - Detecting 2d skeletons...\n",
      "\u001b[96m[2024-10-06T20:37:25.132752] [Δt:0.010010s] [    INFO] [freemocap.core_processes.process_motion_capture_videos.processing_pipeline_functions.image_tracking_pipeline_functions] [image_tracking_pipeline_functions:run_image_tracking_pipeline():45] [\u001b[38;2;50;255;72mPID:36168:MainProcess\u001b[0m \u001b[38;2;50;255;68mTID:33348:MainThread\u001b[0m ] Log Progress\u001b[0m\n",
      "2024-10-06 20:37:25,132 - freemocap.core_processes.process_motion_capture_videos.processing_pipeline_functions.image_tracking_pipeline_functions - INFO - Log Progress\n",
      "\u001b[96m[2024-10-06T20:37:25.293954] [Δt:0.161203s] [    INFO] [skellytracker.process_folder_of_videos] [process_folder_of_videos:process_single_video():131] [\u001b[38;2;50;255;72mPID:36168:MainProcess\u001b[0m \u001b[38;2;50;255;68mTID:33348:MainThread\u001b[0m ] Processing video: pilot_06_d2_Speech_Start_SUD_1_Start_cam1_mediapipe.mp4 with tracker: MediapipeHolisticTracker\u001b[0m\n",
      "2024-10-06 20:37:25,293 - skellytracker.process_folder_of_videos - INFO - Processing video: pilot_06_d2_Speech_Start_SUD_1_Start_cam1_mediapipe.mp4 with tracker: MediapipeHolisticTracker\n"
     ]
    },
    {
     "name": "stderr",
     "output_type": "stream",
     "text": [
      "processing video: pilot_06_d2_Speech_Start_SUD_1_Start_cam1.mp4: 100%|\u001b[35m██████████\u001b[0m| 7546/7546 [15:33<00:00,  8.08frames/s]"
     ]
    },
    {
     "name": "stdout",
     "output_type": "stream",
     "text": [
      "\u001b[96m[2024-10-06T20:52:59.274934] [Δt:933.980979s] [    INFO] [skellytracker.trackers.base_tracker.video_handler] [video_handler:close():45] [\u001b[38;2;50;255;72mPID:36168:MainProcess\u001b[0m \u001b[38;2;50;255;68mTID:33348:MainThread\u001b[0m ] video saved to Z:\\Davide_MultimodalLab\\3_DATA_ANALYSIS\\1_MOTION_TRACKING\\1_Video_Segmentation\\video_split\\pilot_06_d2_Speech_Start_SUD_1_Start\\annotated_videos\\pilot_06_d2_Speech_Start_SUD_1_Start_cam1_mediapipe.mp4\u001b[0m\n",
      "2024-10-06 20:52:59,274 - skellytracker.trackers.base_tracker.video_handler - INFO - video saved to Z:\\Davide_MultimodalLab\\3_DATA_ANALYSIS\\1_MOTION_TRACKING\\1_Video_Segmentation\\video_split\\pilot_06_d2_Speech_Start_SUD_1_Start\\annotated_videos\\pilot_06_d2_Speech_Start_SUD_1_Start_cam1_mediapipe.mp4\n"
     ]
    },
    {
     "name": "stderr",
     "output_type": "stream",
     "text": [
      "\n"
     ]
    },
    {
     "name": "stdout",
     "output_type": "stream",
     "text": [
      "\u001b[96m[2024-10-06T20:53:03.600821] [Δt:4.325888s] [    INFO] [skellytracker.process_folder_of_videos] [process_folder_of_videos:process_single_video():131] [\u001b[38;2;50;255;72mPID:36168:MainProcess\u001b[0m \u001b[38;2;50;255;68mTID:33348:MainThread\u001b[0m ] Processing video: pilot_06_d2_Speech_Start_SUD_1_Start_cam2_mediapipe.mp4 with tracker: MediapipeHolisticTracker\u001b[0m\n",
      "2024-10-06 20:53:03,600 - skellytracker.process_folder_of_videos - INFO - Processing video: pilot_06_d2_Speech_Start_SUD_1_Start_cam2_mediapipe.mp4 with tracker: MediapipeHolisticTracker\n"
     ]
    },
    {
     "name": "stderr",
     "output_type": "stream",
     "text": [
      "processing video: pilot_06_d2_Speech_Start_SUD_1_Start_cam2.mp4: 100%|\u001b[35m██████████\u001b[0m| 7546/7546 [15:01<00:00,  8.38frames/s]\n"
     ]
    },
    {
     "name": "stdout",
     "output_type": "stream",
     "text": [
      "\u001b[96m[2024-10-06T21:08:05.226764] [Δt:901.625943s] [    INFO] [skellytracker.trackers.base_tracker.video_handler] [video_handler:close():45] [\u001b[38;2;50;255;72mPID:36168:MainProcess\u001b[0m \u001b[38;2;50;255;68mTID:33348:MainThread\u001b[0m ] video saved to Z:\\Davide_MultimodalLab\\3_DATA_ANALYSIS\\1_MOTION_TRACKING\\1_Video_Segmentation\\video_split\\pilot_06_d2_Speech_Start_SUD_1_Start\\annotated_videos\\pilot_06_d2_Speech_Start_SUD_1_Start_cam2_mediapipe.mp4\u001b[0m\n",
      "2024-10-06 21:08:05,226 - skellytracker.trackers.base_tracker.video_handler - INFO - video saved to Z:\\Davide_MultimodalLab\\3_DATA_ANALYSIS\\1_MOTION_TRACKING\\1_Video_Segmentation\\video_split\\pilot_06_d2_Speech_Start_SUD_1_Start\\annotated_videos\\pilot_06_d2_Speech_Start_SUD_1_Start_cam2_mediapipe.mp4\n",
      "\u001b[96m[2024-10-06T21:08:09.819213] [Δt:4.592448s] [    INFO] [skellytracker.process_folder_of_videos] [process_folder_of_videos:process_single_video():131] [\u001b[38;2;50;255;72mPID:36168:MainProcess\u001b[0m \u001b[38;2;50;255;68mTID:33348:MainThread\u001b[0m ] Processing video: pilot_06_d2_Speech_Start_SUD_1_Start_cam3_mediapipe.mp4 with tracker: MediapipeHolisticTracker\u001b[0m\n",
      "2024-10-06 21:08:09,819 - skellytracker.process_folder_of_videos - INFO - Processing video: pilot_06_d2_Speech_Start_SUD_1_Start_cam3_mediapipe.mp4 with tracker: MediapipeHolisticTracker\n"
     ]
    },
    {
     "name": "stderr",
     "output_type": "stream",
     "text": [
      "processing video: pilot_06_d2_Speech_Start_SUD_1_Start_cam3.mp4: 100%|\u001b[35m██████████\u001b[0m| 7546/7546 [15:40<00:00,  8.03frames/s]\n"
     ]
    },
    {
     "name": "stdout",
     "output_type": "stream",
     "text": [
      "\u001b[96m[2024-10-06T21:23:50.515853] [Δt:940.696640s] [    INFO] [skellytracker.trackers.base_tracker.video_handler] [video_handler:close():45] [\u001b[38;2;50;255;72mPID:36168:MainProcess\u001b[0m \u001b[38;2;50;255;68mTID:33348:MainThread\u001b[0m ] video saved to Z:\\Davide_MultimodalLab\\3_DATA_ANALYSIS\\1_MOTION_TRACKING\\1_Video_Segmentation\\video_split\\pilot_06_d2_Speech_Start_SUD_1_Start\\annotated_videos\\pilot_06_d2_Speech_Start_SUD_1_Start_cam3_mediapipe.mp4\u001b[0m\n",
      "2024-10-06 21:23:50,515 - skellytracker.trackers.base_tracker.video_handler - INFO - video saved to Z:\\Davide_MultimodalLab\\3_DATA_ANALYSIS\\1_MOTION_TRACKING\\1_Video_Segmentation\\video_split\\pilot_06_d2_Speech_Start_SUD_1_Start\\annotated_videos\\pilot_06_d2_Speech_Start_SUD_1_Start_cam3_mediapipe.mp4\n",
      "\u001b[96m[2024-10-06T21:23:55.095297] [Δt:4.579444s] [    INFO] [skellytracker.process_folder_of_videos] [process_folder_of_videos:process_folder_of_videos():105] [\u001b[38;2;50;255;72mPID:36168:MainProcess\u001b[0m \u001b[38;2;50;255;68mTID:33348:MainThread\u001b[0m ] Shape of output array: (3, 7546, 553, 3)\u001b[0m\n",
      "2024-10-06 21:23:55,095 - skellytracker.process_folder_of_videos - INFO - Shape of output array: (3, 7546, 553, 3)\n",
      "\u001b[96m[2024-10-06T21:24:23.044269] [Δt:27.948972s] [    INFO] [freemocap.core_processes.process_motion_capture_videos.processing_pipeline_functions.triangulation_pipeline_functions] [triangulation_pipeline_functions:get_triangulated_data():63] [\u001b[38;2;50;255;72mPID:36168:MainProcess\u001b[0m \u001b[38;2;50;255;68mTID:33348:MainThread\u001b[0m ] Triangulating 3d skeletons...\u001b[0m\n",
      "2024-10-06 21:24:23,044 - freemocap.core_processes.process_motion_capture_videos.processing_pipeline_functions.triangulation_pipeline_functions - INFO - Triangulating 3d skeletons...\n",
      "\u001b[96m[2024-10-06T21:24:23.044269] [Δt:0.000000s] [    INFO] [freemocap.core_processes.process_motion_capture_videos.processing_pipeline_functions.triangulation_pipeline_functions] [triangulation_pipeline_functions:get_triangulated_data():64] [\u001b[38;2;50;255;72mPID:36168:MainProcess\u001b[0m \u001b[38;2;50;255;68mTID:33348:MainThread\u001b[0m ] Log Progress\u001b[0m\n",
      "2024-10-06 21:24:23,044 - freemocap.core_processes.process_motion_capture_videos.processing_pipeline_functions.triangulation_pipeline_functions - INFO - Log Progress\n",
      "\u001b[96m[2024-10-06T21:24:23.535016] [Δt:0.491757s] [    INFO] [freemocap.core_processes.capture_volume_calibration.anipose_camera_calibration.get_anipose_calibration_object] [get_anipose_calibration_object:load_anipose_calibration_toml_from_path():38] [\u001b[38;2;50;255;72mPID:36168:MainProcess\u001b[0m \u001b[38;2;50;255;68mTID:33348:MainThread\u001b[0m ] loading camera calibration file from:Z:\\Davide_MultimodalLab\\3_DATA_ANALYSIS\\1_MOTION_TRACKING\\2_Video_Calibration\\calibration_results\\pilot_06_d2_calibration_charuco_calibration_anipose.toml\u001b[0m\n",
      "2024-10-06 21:24:23,535 - freemocap.core_processes.capture_volume_calibration.anipose_camera_calibration.get_anipose_calibration_object - INFO - loading camera calibration file from:Z:\\Davide_MultimodalLab\\3_DATA_ANALYSIS\\1_MOTION_TRACKING\\2_Video_Calibration\\calibration_results\\pilot_06_d2_calibration_charuco_calibration_anipose.toml\n",
      "\u001b[96m[2024-10-06T21:24:23.589199] [Δt:0.053174s] [    INFO] [freemocap.core_processes.capture_volume_calibration.triangulate_3d_data] [triangulate_3d_data:triangulate_3d_data():35] [\u001b[38;2;50;255;72mPID:36168:MainProcess\u001b[0m \u001b[38;2;50;255;68mTID:33348:MainThread\u001b[0m ] Reconstructing 3d points from 2d points with shape: \n",
      "number_of_cameras: 3,\n",
      "number_of_frames: 7546, \n",
      "number_of_tracked_points: 553,\n",
      "number_of_spatial_dimensions: 2\u001b[0m\n",
      "2024-10-06 21:24:23,589 - freemocap.core_processes.capture_volume_calibration.triangulate_3d_data - INFO - Reconstructing 3d points from 2d points with shape: \n",
      "number_of_cameras: 3,\n",
      "number_of_frames: 7546, \n",
      "number_of_tracked_points: 553,\n",
      "number_of_spatial_dimensions: 2\n",
      "\u001b[96m[2024-10-06T21:24:23.590546] [Δt:0.001346s] [    INFO] [freemocap.core_processes.capture_volume_calibration.triangulate_3d_data] [triangulate_3d_data:triangulate_3d_data():47] [\u001b[38;2;50;255;72mPID:36168:MainProcess\u001b[0m \u001b[38;2;50;255;68mTID:33348:MainThread\u001b[0m ] Using simple `triangulate` method \u001b[0m\n",
      "2024-10-06 21:24:23,590 - freemocap.core_processes.capture_volume_calibration.triangulate_3d_data - INFO - Using simple `triangulate` method \n"
     ]
    },
    {
     "name": "stderr",
     "output_type": "stream",
     "text": [
      "100%|█████████████████████| 4172938/4172938 [09:16<00:00, 7500.18it/s]\n"
     ]
    },
    {
     "name": "stdout",
     "output_type": "stream",
     "text": [
      "\u001b[96m[2024-10-06T21:33:54.226384] [Δt:570.635839s] [    INFO] [freemocap.core_processes.capture_volume_calibration.save_mediapipe_3d_data_to_npy] [save_mediapipe_3d_data_to_npy:save_mediapipe_3d_data_to_npy():50] [\u001b[38;2;50;255;72mPID:36168:MainProcess\u001b[0m \u001b[38;2;50;255;68mTID:33348:MainThread\u001b[0m ] saving: Z:\\Davide_MultimodalLab\\3_DATA_ANALYSIS\\1_MOTION_TRACKING\\1_Video_Segmentation\\video_split\\pilot_06_d2_Speech_Start_SUD_1_Start\\output_data\\raw_data\\mediapipe3dData_numFrames_numTrackedPoints_spatialXYZ.npy\u001b[0m\n",
      "2024-10-06 21:33:54,226 - freemocap.core_processes.capture_volume_calibration.save_mediapipe_3d_data_to_npy - INFO - saving: Z:\\Davide_MultimodalLab\\3_DATA_ANALYSIS\\1_MOTION_TRACKING\\1_Video_Segmentation\\video_split\\pilot_06_d2_Speech_Start_SUD_1_Start\\output_data\\raw_data\\mediapipe3dData_numFrames_numTrackedPoints_spatialXYZ.npy\n",
      "\u001b[96m[2024-10-06T21:33:55.705595] [Δt:1.479210s] [    INFO] [freemocap.core_processes.capture_volume_calibration.save_mediapipe_3d_data_to_npy] [save_mediapipe_3d_data_to_npy:save_mediapipe_3d_data_to_npy():55] [\u001b[38;2;50;255;72mPID:36168:MainProcess\u001b[0m \u001b[38;2;50;255;68mTID:33348:MainThread\u001b[0m ] saving: Z:\\Davide_MultimodalLab\\3_DATA_ANALYSIS\\1_MOTION_TRACKING\\1_Video_Segmentation\\video_split\\pilot_06_d2_Speech_Start_SUD_1_Start\\output_data\\raw_data\\mediapipe3dData_numFrames_numTrackedPoints_reprojectionError.npy\u001b[0m\n",
      "2024-10-06 21:33:55,705 - freemocap.core_processes.capture_volume_calibration.save_mediapipe_3d_data_to_npy - INFO - saving: Z:\\Davide_MultimodalLab\\3_DATA_ANALYSIS\\1_MOTION_TRACKING\\1_Video_Segmentation\\video_split\\pilot_06_d2_Speech_Start_SUD_1_Start\\output_data\\raw_data\\mediapipe3dData_numFrames_numTrackedPoints_reprojectionError.npy\n",
      "\u001b[96m[2024-10-06T21:33:56.071480] [Δt:0.366413s] [    INFO] [freemocap.core_processes.capture_volume_calibration.save_mediapipe_3d_data_to_npy] [save_mediapipe_3d_data_to_npy:save_mediapipe_3d_data_to_npy():61] [\u001b[38;2;50;255;72mPID:36168:MainProcess\u001b[0m \u001b[38;2;50;255;68mTID:33348:MainThread\u001b[0m ] saving: Z:\\Davide_MultimodalLab\\3_DATA_ANALYSIS\\1_MOTION_TRACKING\\1_Video_Segmentation\\video_split\\pilot_06_d2_Speech_Start_SUD_1_Start\\output_data\\raw_data\\mediapipe3dData_numCams_numFrames_numTrackedPoints_reprojectionError.npy\u001b[0m\n",
      "2024-10-06 21:33:56,071 - freemocap.core_processes.capture_volume_calibration.save_mediapipe_3d_data_to_npy - INFO - saving: Z:\\Davide_MultimodalLab\\3_DATA_ANALYSIS\\1_MOTION_TRACKING\\1_Video_Segmentation\\video_split\\pilot_06_d2_Speech_Start_SUD_1_Start\\output_data\\raw_data\\mediapipe3dData_numCams_numFrames_numTrackedPoints_reprojectionError.npy\n",
      "\u001b[96m[2024-10-06T21:33:57.238431] [Δt:1.166423s] [    INFO] [freemocap.core_processes.post_process_skeleton_data.post_process_skeleton] [post_process_skeleton:run_post_processing_worker():79] [\u001b[38;2;50;255;72mPID:36168:MainProcess\u001b[0m \u001b[38;2;50;255;68mTID:33348:MainThread\u001b[0m ] Starting post-processing worker thread\u001b[0m\n",
      "2024-10-06 21:33:57,238 - freemocap.core_processes.post_process_skeleton_data.post_process_skeleton - INFO - Starting post-processing worker thread\n",
      "\u001b[96m[2024-10-06T21:33:57.238431] [Δt:0.000000s] [    INFO] [freemocap.core_processes.post_process_skeleton_data.post_process_skeleton] [post_process_skeleton:run_post_processing_worker():80] [\u001b[38;2;50;255;72mPID:36168:MainProcess\u001b[0m \u001b[38;2;50;255;68mTID:33348:MainThread\u001b[0m ] Log Progress\u001b[0m\n",
      "2024-10-06 21:33:57,238 - freemocap.core_processes.post_process_skeleton_data.post_process_skeleton - INFO - Log Progress\n"
     ]
    },
    {
     "data": {
      "text/html": [
       "<pre style=\"white-space:pre;overflow-x:auto;line-height:normal;font-family:Menlo,'DejaVu Sans Mono',consolas,'Courier New',monospace\">c:\\ProgramData\\Anaconda3\\envs\\freemocap-env\\Lib\\site-packages\\rich\\live.py:231: UserWarning: install \"ipywidgets\" \n",
       "for Jupyter support\n",
       "  warnings.warn('install \"ipywidgets\" for Jupyter support')\n",
       "</pre>\n"
      ],
      "text/plain": [
       "c:\\ProgramData\\Anaconda3\\envs\\freemocap-env\\Lib\\site-packages\\rich\\live.py:231: UserWarning: install \"ipywidgets\" \n",
       "for Jupyter support\n",
       "  warnings.warn('install \"ipywidgets\" for Jupyter support')\n"
      ]
     },
     "metadata": {},
     "output_type": "display_data"
    },
    {
     "data": {
      "text/html": [
       "<pre style=\"white-space:pre;overflow-x:auto;line-height:normal;font-family:Menlo,'DejaVu Sans Mono',consolas,'Courier New',monospace\">c:\\ProgramData\\Anaconda3\\envs\\freemocap-env\\Lib\\site-packages\\rich\\live.py:231: UserWarning: install \"ipywidgets\" \n",
       "for Jupyter support\n",
       "  warnings.warn('install \"ipywidgets\" for Jupyter support')\n",
       "</pre>\n"
      ],
      "text/plain": [
       "c:\\ProgramData\\Anaconda3\\envs\\freemocap-env\\Lib\\site-packages\\rich\\live.py:231: UserWarning: install \"ipywidgets\" \n",
       "for Jupyter support\n",
       "  warnings.warn('install \"ipywidgets\" for Jupyter support')\n"
      ]
     },
     "metadata": {},
     "output_type": "display_data"
    },
    {
     "data": {
      "text/html": [
       "<pre style=\"white-space:pre;overflow-x:auto;line-height:normal;font-family:Menlo,'DejaVu Sans Mono',consolas,'Courier New',monospace\">c:\\ProgramData\\Anaconda3\\envs\\freemocap-env\\Lib\\site-packages\\rich\\live.py:231: UserWarning: install \"ipywidgets\" \n",
       "for Jupyter support\n",
       "  warnings.warn('install \"ipywidgets\" for Jupyter support')\n",
       "</pre>\n"
      ],
      "text/plain": [
       "c:\\ProgramData\\Anaconda3\\envs\\freemocap-env\\Lib\\site-packages\\rich\\live.py:231: UserWarning: install \"ipywidgets\" \n",
       "for Jupyter support\n",
       "  warnings.warn('install \"ipywidgets\" for Jupyter support')\n"
      ]
     },
     "metadata": {},
     "output_type": "display_data"
    },
    {
     "data": {
      "text/html": [
       "<pre style=\"white-space:pre;overflow-x:auto;line-height:normal;font-family:Menlo,'DejaVu Sans Mono',consolas,'Courier New',monospace\">c:\\ProgramData\\Anaconda3\\envs\\freemocap-env\\Lib\\site-packages\\rich\\live.py:231: UserWarning: install \"ipywidgets\" \n",
       "for Jupyter support\n",
       "  warnings.warn('install \"ipywidgets\" for Jupyter support')\n",
       "</pre>\n"
      ],
      "text/plain": [
       "c:\\ProgramData\\Anaconda3\\envs\\freemocap-env\\Lib\\site-packages\\rich\\live.py:231: UserWarning: install \"ipywidgets\" \n",
       "for Jupyter support\n",
       "  warnings.warn('install \"ipywidgets\" for Jupyter support')\n"
      ]
     },
     "metadata": {},
     "output_type": "display_data"
    },
    {
     "data": {
      "text/html": [
       "<pre style=\"white-space:pre;overflow-x:auto;line-height:normal;font-family:Menlo,'DejaVu Sans Mono',consolas,'Courier New',monospace\">c:\\ProgramData\\Anaconda3\\envs\\freemocap-env\\Lib\\site-packages\\rich\\live.py:231: UserWarning: install \"ipywidgets\" \n",
       "for Jupyter support\n",
       "  warnings.warn('install \"ipywidgets\" for Jupyter support')\n",
       "</pre>\n"
      ],
      "text/plain": [
       "c:\\ProgramData\\Anaconda3\\envs\\freemocap-env\\Lib\\site-packages\\rich\\live.py:231: UserWarning: install \"ipywidgets\" \n",
       "for Jupyter support\n",
       "  warnings.warn('install \"ipywidgets\" for Jupyter support')\n"
      ]
     },
     "metadata": {},
     "output_type": "display_data"
    },
    {
     "data": {
      "text/html": [
       "<pre style=\"white-space:pre;overflow-x:auto;line-height:normal;font-family:Menlo,'DejaVu Sans Mono',consolas,'Courier New',monospace\">c:\\ProgramData\\Anaconda3\\envs\\freemocap-env\\Lib\\site-packages\\rich\\live.py:231: UserWarning: install \"ipywidgets\" \n",
       "for Jupyter support\n",
       "  warnings.warn('install \"ipywidgets\" for Jupyter support')\n",
       "</pre>\n"
      ],
      "text/plain": [
       "c:\\ProgramData\\Anaconda3\\envs\\freemocap-env\\Lib\\site-packages\\rich\\live.py:231: UserWarning: install \"ipywidgets\" \n",
       "for Jupyter support\n",
       "  warnings.warn('install \"ipywidgets\" for Jupyter support')\n"
      ]
     },
     "metadata": {},
     "output_type": "display_data"
    },
    {
     "data": {
      "text/html": [
       "<pre style=\"white-space:pre;overflow-x:auto;line-height:normal;font-family:Menlo,'DejaVu Sans Mono',consolas,'Courier New',monospace\"></pre>\n"
      ],
      "text/plain": []
     },
     "metadata": {},
     "output_type": "display_data"
    },
    {
     "data": {
      "text/html": [
       "<pre style=\"white-space:pre;overflow-x:auto;line-height:normal;font-family:Menlo,'DejaVu Sans Mono',consolas,'Courier New',monospace\">\n",
       "</pre>\n"
      ],
      "text/plain": [
       "\n"
      ]
     },
     "metadata": {},
     "output_type": "display_data"
    },
    {
     "data": {
      "text/html": [
       "<pre style=\"white-space:pre;overflow-x:auto;line-height:normal;font-family:Menlo,'DejaVu Sans Mono',consolas,'Courier New',monospace\"></pre>\n"
      ],
      "text/plain": []
     },
     "metadata": {},
     "output_type": "display_data"
    },
    {
     "data": {
      "text/html": [
       "<pre style=\"white-space:pre;overflow-x:auto;line-height:normal;font-family:Menlo,'DejaVu Sans Mono',consolas,'Courier New',monospace\">\n",
       "</pre>\n"
      ],
      "text/plain": [
       "\n"
      ]
     },
     "metadata": {},
     "output_type": "display_data"
    },
    {
     "name": "stdout",
     "output_type": "stream",
     "text": [
      "\u001b[96m[2024-10-06T21:33:58.861638] [Δt:1.623208s] [    INFO] [freemocap.core_processes.post_process_skeleton_data.post_process_skeleton] [post_process_skeleton:run_post_processing_worker():90] [\u001b[38;2;50;255;72mPID:36168:MainProcess\u001b[0m \u001b[38;2;50;255;68mTID:33348:MainThread\u001b[0m ] Done with gap filling, filtering, and aligning\u001b[0m\n",
      "2024-10-06 21:33:58,861 - freemocap.core_processes.post_process_skeleton_data.post_process_skeleton - INFO - Done with gap filling, filtering, and aligning\n",
      "\u001b[96m[2024-10-06T21:33:58.861638] [Δt:0.000000s] [    INFO] [freemocap.core_processes.process_motion_capture_videos.processing_pipeline_functions.anatomical_data_pipeline_functions] [anatomical_data_pipeline_functions:calculate_anatomical_data():26] [\u001b[38;2;50;255;72mPID:36168:MainProcess\u001b[0m \u001b[38;2;50;255;68mTID:33348:MainThread\u001b[0m ] Calculating center of mass...\u001b[0m\n",
      "2024-10-06 21:33:58,861 - freemocap.core_processes.process_motion_capture_videos.processing_pipeline_functions.anatomical_data_pipeline_functions - INFO - Calculating center of mass...\n"
     ]
    },
    {
     "data": {
      "text/html": [
       "<pre style=\"white-space:pre;overflow-x:auto;line-height:normal;font-family:Menlo,'DejaVu Sans Mono',consolas,'Courier New',monospace\">c:\\ProgramData\\Anaconda3\\envs\\freemocap-env\\Lib\\site-packages\\rich\\live.py:231: UserWarning: install \"ipywidgets\" \n",
       "for Jupyter support\n",
       "  warnings.warn('install \"ipywidgets\" for Jupyter support')\n",
       "</pre>\n"
      ],
      "text/plain": [
       "c:\\ProgramData\\Anaconda3\\envs\\freemocap-env\\Lib\\site-packages\\rich\\live.py:231: UserWarning: install \"ipywidgets\" \n",
       "for Jupyter support\n",
       "  warnings.warn('install \"ipywidgets\" for Jupyter support')\n"
      ]
     },
     "metadata": {},
     "output_type": "display_data"
    },
    {
     "data": {
      "text/html": [
       "<pre style=\"white-space:pre;overflow-x:auto;line-height:normal;font-family:Menlo,'DejaVu Sans Mono',consolas,'Courier New',monospace\"></pre>\n"
      ],
      "text/plain": []
     },
     "metadata": {},
     "output_type": "display_data"
    },
    {
     "data": {
      "text/html": [
       "<pre style=\"white-space:pre;overflow-x:auto;line-height:normal;font-family:Menlo,'DejaVu Sans Mono',consolas,'Courier New',monospace\">\n",
       "</pre>\n"
      ],
      "text/plain": [
       "\n"
      ]
     },
     "metadata": {},
     "output_type": "display_data"
    },
    {
     "data": {
      "text/html": [
       "<pre style=\"white-space:pre;overflow-x:auto;line-height:normal;font-family:Menlo,'DejaVu Sans Mono',consolas,'Courier New',monospace\"></pre>\n"
      ],
      "text/plain": []
     },
     "metadata": {},
     "output_type": "display_data"
    },
    {
     "data": {
      "text/html": [
       "<pre style=\"white-space:pre;overflow-x:auto;line-height:normal;font-family:Menlo,'DejaVu Sans Mono',consolas,'Courier New',monospace\">\n",
       "</pre>\n"
      ],
      "text/plain": [
       "\n"
      ]
     },
     "metadata": {},
     "output_type": "display_data"
    },
    {
     "name": "stdout",
     "output_type": "stream",
     "text": [
      "\u001b[96m[2024-10-06T21:34:08.501284] [Δt:9.639645s] [    INFO] [freemocap.core_processes.post_process_skeleton_data.calculate_center_of_mass] [calculate_center_of_mass:calculate_total_body_COM():306] [\u001b[38;2;50;255;72mPID:36168:MainProcess\u001b[0m \u001b[38;2;50;255;68mTID:33348:MainThread\u001b[0m ] Calculating Total Body Center of Mass\u001b[0m\n",
      "2024-10-06 21:34:08,501 - freemocap.core_processes.post_process_skeleton_data.calculate_center_of_mass - INFO - Calculating Total Body Center of Mass\n"
     ]
    },
    {
     "data": {
      "text/html": [
       "<pre style=\"white-space:pre;overflow-x:auto;line-height:normal;font-family:Menlo,'DejaVu Sans Mono',consolas,'Courier New',monospace\"></pre>\n"
      ],
      "text/plain": []
     },
     "metadata": {},
     "output_type": "display_data"
    },
    {
     "data": {
      "text/html": [
       "<pre style=\"white-space:pre;overflow-x:auto;line-height:normal;font-family:Menlo,'DejaVu Sans Mono',consolas,'Courier New',monospace\">\n",
       "</pre>\n"
      ],
      "text/plain": [
       "\n"
      ]
     },
     "metadata": {},
     "output_type": "display_data"
    },
    {
     "name": "stdout",
     "output_type": "stream",
     "text": [
      "\u001b[96m[2024-10-06T21:34:13.498238] [Δt:4.996954s] [    INFO] [freemocap.core_processes.detecting_things_in_2d_images.mediapipe_stuff.convert_mediapipe_npy_to_csv] [convert_mediapipe_npy_to_csv:convert_mediapipe_npy_to_csv():23] [\u001b[38;2;50;255;72mPID:36168:MainProcess\u001b[0m \u001b[38;2;50;255;68mTID:33348:MainThread\u001b[0m ] Converting npy data with shape: (7546, 553, 3) into `csv` and smaller `npy` files\u001b[0m\n",
      "2024-10-06 21:34:13,498 - freemocap.core_processes.detecting_things_in_2d_images.mediapipe_stuff.convert_mediapipe_npy_to_csv - INFO - Converting npy data with shape: (7546, 553, 3) into `csv` and smaller `npy` files\n",
      "\u001b[34m[2024-10-06T21:39:17.082676] [Δt:303.584439s] [   DEBUG] [freemocap.core_processes.detecting_things_in_2d_images.mediapipe_stuff.convert_mediapipe_npy_to_csv] [convert_mediapipe_npy_to_csv:convert_mediapipe_npy_to_csv():239] [\u001b[38;2;50;255;72mPID:36168:MainProcess\u001b[0m \u001b[38;2;50;255;68mTID:33348:MainThread\u001b[0m ] body 3d xyz shape: (7546, 33, 3)\u001b[0m\n",
      "\u001b[34m[2024-10-06T21:39:17.082676] [Δt:0.000992s] [   DEBUG] [freemocap.core_processes.detecting_things_in_2d_images.mediapipe_stuff.convert_mediapipe_npy_to_csv] [convert_mediapipe_npy_to_csv:convert_mediapipe_npy_to_csv():240] [\u001b[38;2;50;255;72mPID:36168:MainProcess\u001b[0m \u001b[38;2;50;255;68mTID:33348:MainThread\u001b[0m ] right hand 3d xyz shape: (7546, 21, 3)\u001b[0m\n",
      "\u001b[34m[2024-10-06T21:39:17.083668] [Δt:0.000000s] [   DEBUG] [freemocap.core_processes.detecting_things_in_2d_images.mediapipe_stuff.convert_mediapipe_npy_to_csv] [convert_mediapipe_npy_to_csv:convert_mediapipe_npy_to_csv():241] [\u001b[38;2;50;255;72mPID:36168:MainProcess\u001b[0m \u001b[38;2;50;255;68mTID:33348:MainThread\u001b[0m ] left hand 3d xyz shape: (7546, 21, 3)\u001b[0m\n",
      "\u001b[34m[2024-10-06T21:39:17.083668] [Δt:0.000000s] [   DEBUG] [freemocap.core_processes.detecting_things_in_2d_images.mediapipe_stuff.convert_mediapipe_npy_to_csv] [convert_mediapipe_npy_to_csv:convert_mediapipe_npy_to_csv():242] [\u001b[38;2;50;255;72mPID:36168:MainProcess\u001b[0m \u001b[38;2;50;255;68mTID:33348:MainThread\u001b[0m ] face 3d xyz shape: (7546, 478, 3)\u001b[0m\n",
      "\u001b[34m[2024-10-06T21:42:33.677035] [Δt:196.593367s] [   DEBUG] [freemocap.core_processes.detecting_things_in_2d_images.mediapipe_stuff.convert_mediapipe_npy_to_csv] [convert_mediapipe_npy_to_csv:convert_mediapipe_npy_to_csv():284] [\u001b[38;2;50;255;72mPID:36168:MainProcess\u001b[0m \u001b[38;2;50;255;68mTID:33348:MainThread\u001b[0m ] length of body 3d xyz `.csv` header: 99, should be: 99\u001b[0m\n",
      "\u001b[34m[2024-10-06T21:42:33.677035] [Δt:0.000000s] [   DEBUG] [freemocap.core_processes.detecting_things_in_2d_images.mediapipe_stuff.convert_mediapipe_npy_to_csv] [convert_mediapipe_npy_to_csv:convert_mediapipe_npy_to_csv():287] [\u001b[38;2;50;255;72mPID:36168:MainProcess\u001b[0m \u001b[38;2;50;255;68mTID:33348:MainThread\u001b[0m ] length of right hand 3d xyz `.csv` header: 63, should be: 63\u001b[0m\n",
      "\u001b[34m[2024-10-06T21:42:33.677035] [Δt:0.000000s] [   DEBUG] [freemocap.core_processes.detecting_things_in_2d_images.mediapipe_stuff.convert_mediapipe_npy_to_csv] [convert_mediapipe_npy_to_csv:convert_mediapipe_npy_to_csv():290] [\u001b[38;2;50;255;72mPID:36168:MainProcess\u001b[0m \u001b[38;2;50;255;68mTID:33348:MainThread\u001b[0m ] length of left hand 3d xyz `.csv` header: 63, should be: 63\u001b[0m\n",
      "\u001b[34m[2024-10-06T21:42:33.677035] [Δt:0.000000s] [   DEBUG] [freemocap.core_processes.detecting_things_in_2d_images.mediapipe_stuff.convert_mediapipe_npy_to_csv] [convert_mediapipe_npy_to_csv:convert_mediapipe_npy_to_csv():293] [\u001b[38;2;50;255;72mPID:36168:MainProcess\u001b[0m \u001b[38;2;50;255;68mTID:33348:MainThread\u001b[0m ] length of face 3d xyz `.csv` header: 1434, should be: 1434\u001b[0m\n",
      "\u001b[96m[2024-10-06T21:44:24.564447] [Δt:110.887412s] [    INFO] [freemocap.core_processes.detecting_things_in_2d_images.mediapipe_stuff.convert_mediapipe_npy_to_csv] [convert_mediapipe_npy_to_csv:convert_mediapipe_npy_to_csv():322] [\u001b[38;2;50;255;72mPID:36168:MainProcess\u001b[0m \u001b[38;2;50;255;68mTID:33348:MainThread\u001b[0m ] Done saving out `csv` and broken up `npy` files\u001b[0m\n",
      "2024-10-06 21:44:24,564 - freemocap.core_processes.detecting_things_in_2d_images.mediapipe_stuff.convert_mediapipe_npy_to_csv - INFO - Done saving out `csv` and broken up `npy` files\n",
      "\u001b[96m[2024-10-06T21:44:24.565445] [Δt:0.000997s] [    INFO] [freemocap.core_processes.process_motion_capture_videos.processing_pipeline_functions.data_saving_pipeline_functions] [data_saving_pipeline_functions:save_data():39] [\u001b[38;2;50;255;72mPID:36168:MainProcess\u001b[0m \u001b[38;2;50;255;68mTID:33348:MainThread\u001b[0m ] Saving post-processed data\u001b[0m\n",
      "2024-10-06 21:44:24,565 - freemocap.core_processes.process_motion_capture_videos.processing_pipeline_functions.data_saving_pipeline_functions - INFO - Saving post-processed data\n",
      "\u001b[96m[2024-10-06T21:44:25.612531] [Δt:1.048084s] [    INFO] [freemocap.core_processes.process_motion_capture_videos.processing_pipeline_functions.data_saving_pipeline_functions] [data_saving_pipeline_functions:save_data():46] [\u001b[38;2;50;255;72mPID:36168:MainProcess\u001b[0m \u001b[38;2;50;255;68mTID:33348:MainThread\u001b[0m ] Saving segment center of mass data\u001b[0m\n",
      "2024-10-06 21:44:25,612 - freemocap.core_processes.process_motion_capture_videos.processing_pipeline_functions.data_saving_pipeline_functions - INFO - Saving segment center of mass data\n",
      "\u001b[96m[2024-10-06T21:44:25.743107] [Δt:0.129579s] [    INFO] [freemocap.core_processes.process_motion_capture_videos.processing_pipeline_functions.data_saving_pipeline_functions] [data_saving_pipeline_functions:save_data():53] [\u001b[38;2;50;255;72mPID:36168:MainProcess\u001b[0m \u001b[38;2;50;255;68mTID:33348:MainThread\u001b[0m ] Saving total body center of mass data\u001b[0m\n",
      "2024-10-06 21:44:25,743 - freemocap.core_processes.process_motion_capture_videos.processing_pipeline_functions.data_saving_pipeline_functions - INFO - Saving total body center of mass data\n",
      "\u001b[96m[2024-10-06T21:44:25.851287] [Δt:0.108180s] [    INFO] [freemocap.utilities.save_dictionary_to_json] [save_dictionary_to_json:save_dictionary_to_json():16] [\u001b[38;2;50;255;72mPID:36168:MainProcess\u001b[0m \u001b[38;2;50;255;68mTID:33348:MainThread\u001b[0m ] Saved dictionary mediapipe_names_and_connections_dict.json as json  at: Z:\\Davide_MultimodalLab\\3_DATA_ANALYSIS\\1_MOTION_TRACKING\\1_Video_Segmentation\\video_split\\pilot_06_d2_Speech_Start_SUD_1_Start\\output_data\\mediapipe_names_and_connections_dict.json\u001b[0m\n",
      "2024-10-06 21:44:25,851 - freemocap.utilities.save_dictionary_to_json - INFO - Saved dictionary mediapipe_names_and_connections_dict.json as json  at: Z:\\Davide_MultimodalLab\\3_DATA_ANALYSIS\\1_MOTION_TRACKING\\1_Video_Segmentation\\video_split\\pilot_06_d2_Speech_Start_SUD_1_Start\\output_data\\mediapipe_names_and_connections_dict.json\n",
      "\u001b[33m[2024-10-06T21:44:25.914575] [Δt:0.063288s] [ WARNING] [freemocap.system.paths_and_filenames.file_and_folder_names] [path_getters:get_timestamps_directory():252] [\u001b[38;2;50;255;72mPID:36168:MainProcess\u001b[0m \u001b[38;2;50;255;68mTID:33348:MainThread\u001b[0m ] Could not find timestamps directory in Z:\\Davide_MultimodalLab\\3_DATA_ANALYSIS\\1_MOTION_TRACKING\\1_Video_Segmentation\\video_split\\pilot_06_d2_Speech_Start_SUD_1_Start\\synchronized_videos\u001b[0m\n",
      "2024-10-06 21:44:25,914 - freemocap.system.paths_and_filenames.file_and_folder_names - WARNING - Could not find timestamps directory in Z:\\Davide_MultimodalLab\\3_DATA_ANALYSIS\\1_MOTION_TRACKING\\1_Video_Segmentation\\video_split\\pilot_06_d2_Speech_Start_SUD_1_Start\\synchronized_videos\n",
      "\u001b[33m[2024-10-06T21:44:25.914575] [Δt:0.000000s] [ WARNING] [freemocap.data_layer.data_saver.data_loader] [data_loader:_load_timestamps():91] [\u001b[38;2;50;255;72mPID:36168:MainProcess\u001b[0m \u001b[38;2;50;255;68mTID:33348:MainThread\u001b[0m ] No timestamps directory found. Skipping timestamps loading.\u001b[0m\n",
      "2024-10-06 21:44:25,914 - freemocap.data_layer.data_saver.data_loader - WARNING - No timestamps directory found. Skipping timestamps loading.\n",
      "\u001b[96m[2024-10-06T21:46:25.754761] [Δt:119.840186s] [    INFO] [freemocap.data_layer.data_saver.data_saver] [data_saver:save_to_json():59] [\u001b[38;2;50;255;72mPID:36168:MainProcess\u001b[0m \u001b[38;2;50;255;68mTID:33348:MainThread\u001b[0m ] Saving recording data to Z:\\Davide_MultimodalLab\\3_DATA_ANALYSIS\\1_MOTION_TRACKING\\1_Video_Segmentation\\video_split\\pilot_06_d2_Speech_Start_SUD_1_Start\\pilot_06_d2_Speech_Start_SUD_1_Start_by_frame.json\u001b[0m\n",
      "2024-10-06 21:46:25,754 - freemocap.data_layer.data_saver.data_saver - INFO - Saving recording data to Z:\\Davide_MultimodalLab\\3_DATA_ANALYSIS\\1_MOTION_TRACKING\\1_Video_Segmentation\\video_split\\pilot_06_d2_Speech_Start_SUD_1_Start\\pilot_06_d2_Speech_Start_SUD_1_Start_by_frame.json\n",
      "\u001b[96m[2024-10-06T21:48:37.369712] [Δt:131.614950s] [    INFO] [freemocap.data_layer.data_saver.data_saver] [data_saver:save_to_csv():76] [\u001b[38;2;50;255;72mPID:36168:MainProcess\u001b[0m \u001b[38;2;50;255;68mTID:33348:MainThread\u001b[0m ] Saved recording data to Z:\\Davide_MultimodalLab\\3_DATA_ANALYSIS\\1_MOTION_TRACKING\\1_Video_Segmentation\\video_split\\pilot_06_d2_Speech_Start_SUD_1_Start\\pilot_06_d2_Speech_Start_SUD_1_Start_by_trajectory.csv\u001b[0m\n",
      "2024-10-06 21:48:37,369 - freemocap.data_layer.data_saver.data_saver - INFO - Saved recording data to Z:\\Davide_MultimodalLab\\3_DATA_ANALYSIS\\1_MOTION_TRACKING\\1_Video_Segmentation\\video_split\\pilot_06_d2_Speech_Start_SUD_1_Start\\pilot_06_d2_Speech_Start_SUD_1_Start_by_trajectory.csv\n",
      "\u001b[96m[2024-10-06T21:48:39.322757] [Δt:1.953045s] [    INFO] [freemocap.data_layer.data_saver.data_saver] [data_saver:save_to_npy():82] [\u001b[38;2;50;255;72mPID:36168:MainProcess\u001b[0m \u001b[38;2;50;255;68mTID:33348:MainThread\u001b[0m ] Saved recording data to Z:\\Davide_MultimodalLab\\3_DATA_ANALYSIS\\1_MOTION_TRACKING\\1_Video_Segmentation\\video_split\\pilot_06_d2_Speech_Start_SUD_1_Start\\pilot_06_d2_Speech_Start_SUD_1_Start_frame_name_xyz.npy\u001b[0m\n",
      "2024-10-06 21:48:39,322 - freemocap.data_layer.data_saver.data_saver - INFO - Saved recording data to Z:\\Davide_MultimodalLab\\3_DATA_ANALYSIS\\1_MOTION_TRACKING\\1_Video_Segmentation\\video_split\\pilot_06_d2_Speech_Start_SUD_1_Start\\pilot_06_d2_Speech_Start_SUD_1_Start_frame_name_xyz.npy\n",
      "\u001b[96m[2024-10-06T21:48:39.646213] [Δt:0.323457s] [    INFO] [freemocap.core_processes.process_motion_capture_videos.process_recording_folder] [process_recording_folder:process_recording_folder():143] [\u001b[38;2;50;255;72mPID:36168:MainProcess\u001b[0m \u001b[38;2;50;255;68mTID:33348:MainThread\u001b[0m ] Done processing Z:\\Davide_MultimodalLab\\3_DATA_ANALYSIS\\1_MOTION_TRACKING\\1_Video_Segmentation\\video_split\\pilot_06_d2_Speech_Start_SUD_1_Start\u001b[0m\n",
      "2024-10-06 21:48:39,646 - freemocap.core_processes.process_motion_capture_videos.process_recording_folder - INFO - Done processing Z:\\Davide_MultimodalLab\\3_DATA_ANALYSIS\\1_MOTION_TRACKING\\1_Video_Segmentation\\video_split\\pilot_06_d2_Speech_Start_SUD_1_Start\n",
      "\u001b[33m[2024-10-06T21:48:39.699232] [Δt:0.054019s] [ WARNING] [root] [1048335352:process_recording():48] [\u001b[38;2;50;255;72mPID:36168:MainProcess\u001b[0m \u001b[38;2;50;255;68mTID:33348:MainThread\u001b[0m ] No blender executable provided. Blender file will not be exported.\u001b[0m\n",
      "2024-10-06 21:48:39,699 - root - WARNING - No blender executable provided. Blender file will not be exported.\n",
      "We will now load this vide folder  Z:\\Davide_MultimodalLab\\3_DATA_ANALYSIS\\1_MOTION_TRACKING\\1_Video_Segmentation\\video_split\\pilot_06_d2_Speech_Start_SUD_1_Start\n",
      "\u001b[96m[2024-10-06T21:48:39.701227] [Δt:0.000995s] [    INFO] [root] [2323846283:<module>():20] [\u001b[38;2;50;255;72mPID:36168:MainProcess\u001b[0m \u001b[38;2;50;255;68mTID:33348:MainThread\u001b[0m ] Processing video folder: Z:\\Davide_MultimodalLab\\3_DATA_ANALYSIS\\1_MOTION_TRACKING\\1_Video_Segmentation\\video_split\\pilot_06_d2_SUD_1_End_SUD_2_Start\u001b[0m\n",
      "2024-10-06 21:48:39,701 - root - INFO - Processing video folder: Z:\\Davide_MultimodalLab\\3_DATA_ANALYSIS\\1_MOTION_TRACKING\\1_Video_Segmentation\\video_split\\pilot_06_d2_SUD_1_End_SUD_2_Start\n",
      "\u001b[96m[2024-10-06T21:48:39.844972] [Δt:0.143745s] [    INFO] [freemocap.utilities.save_dictionary_to_json] [save_dictionary_to_json:save_dictionary_to_json():16] [\u001b[38;2;50;255;72mPID:36168:MainProcess\u001b[0m \u001b[38;2;50;255;68mTID:33348:MainThread\u001b[0m ] Saved dictionary recording_parameters.json as json  at: Z:\\Davide_MultimodalLab\\3_DATA_ANALYSIS\\1_MOTION_TRACKING\\1_Video_Segmentation\\video_split\\pilot_06_d2_SUD_1_End_SUD_2_Start\\output_data\\recording_parameters.json\u001b[0m\n",
      "2024-10-06 21:48:39,844 - freemocap.utilities.save_dictionary_to_json - INFO - Saved dictionary recording_parameters.json as json  at: Z:\\Davide_MultimodalLab\\3_DATA_ANALYSIS\\1_MOTION_TRACKING\\1_Video_Segmentation\\video_split\\pilot_06_d2_SUD_1_End_SUD_2_Start\\output_data\\recording_parameters.json\n",
      "\u001b[96m[2024-10-06T21:48:40.625159] [Δt:0.780187s] [    INFO] [freemocap.data_layer.recording_models.recording_info_model] [recording_info_model:get_number_of_mp4s_in_synched_videos_directory():239] [\u001b[38;2;50;255;72mPID:36168:MainProcess\u001b[0m \u001b[38;2;50;255;68mTID:33348:MainThread\u001b[0m ] Number of `.mp4`'s in Z:\\Davide_MultimodalLab\\3_DATA_ANALYSIS\\1_MOTION_TRACKING\\1_Video_Segmentation\\video_split\\pilot_06_d2_SUD_1_End_SUD_2_Start\\synchronized_videos: 3\u001b[0m\n",
      "2024-10-06 21:48:40,625 - freemocap.data_layer.recording_models.recording_info_model - INFO - Number of `.mp4`'s in Z:\\Davide_MultimodalLab\\3_DATA_ANALYSIS\\1_MOTION_TRACKING\\1_Video_Segmentation\\video_split\\pilot_06_d2_SUD_1_End_SUD_2_Start\\synchronized_videos: 3\n",
      "\u001b[34m[2024-10-06T21:48:40.633135] [Δt:0.007976s] [   DEBUG] [freemocap.data_layer.recording_models.recording_info_model] [recording_info_model:get_number_of_frames_in_videos():253] [\u001b[38;2;50;255;72mPID:36168:MainProcess\u001b[0m \u001b[38;2;50;255;68mTID:33348:MainThread\u001b[0m ] No 'timestamps' directory, finding frame counts from synchronized videos\u001b[0m\n",
      "\u001b[96m[2024-10-06T21:48:40.818086] [Δt:0.184951s] [    INFO] [freemocap.core_processes.process_motion_capture_videos.processing_pipeline_functions.image_tracking_pipeline_functions] [image_tracking_pipeline_functions:run_image_tracking_pipeline():44] [\u001b[38;2;50;255;72mPID:36168:MainProcess\u001b[0m \u001b[38;2;50;255;68mTID:33348:MainThread\u001b[0m ] Detecting 2d skeletons...\u001b[0m\n",
      "2024-10-06 21:48:40,818 - freemocap.core_processes.process_motion_capture_videos.processing_pipeline_functions.image_tracking_pipeline_functions - INFO - Detecting 2d skeletons...\n",
      "\u001b[96m[2024-10-06T21:48:40.826113] [Δt:0.008027s] [    INFO] [freemocap.core_processes.process_motion_capture_videos.processing_pipeline_functions.image_tracking_pipeline_functions] [image_tracking_pipeline_functions:run_image_tracking_pipeline():45] [\u001b[38;2;50;255;72mPID:36168:MainProcess\u001b[0m \u001b[38;2;50;255;68mTID:33348:MainThread\u001b[0m ] Log Progress\u001b[0m\n",
      "2024-10-06 21:48:40,826 - freemocap.core_processes.process_motion_capture_videos.processing_pipeline_functions.image_tracking_pipeline_functions - INFO - Log Progress\n",
      "\u001b[96m[2024-10-06T21:48:41.076195] [Δt:0.251045s] [    INFO] [skellytracker.process_folder_of_videos] [process_folder_of_videos:process_single_video():131] [\u001b[38;2;50;255;72mPID:36168:MainProcess\u001b[0m \u001b[38;2;50;255;68mTID:33348:MainThread\u001b[0m ] Processing video: pilot_06_d2_SUD_1_End_SUD_2_Start_cam1_mediapipe.mp4 with tracker: MediapipeHolisticTracker\u001b[0m\n",
      "2024-10-06 21:48:41,076 - skellytracker.process_folder_of_videos - INFO - Processing video: pilot_06_d2_SUD_1_End_SUD_2_Start_cam1_mediapipe.mp4 with tracker: MediapipeHolisticTracker\n"
     ]
    },
    {
     "name": "stderr",
     "output_type": "stream",
     "text": [
      "processing video: pilot_06_d2_SUD_1_End_SUD_2_Start_cam1.mp4: 100%|\u001b[35m██████████\u001b[0m| 6904/6904 [13:33<00:00,  8.49frames/s]"
     ]
    },
    {
     "name": "stdout",
     "output_type": "stream",
     "text": [
      "\u001b[96m[2024-10-06T22:02:14.886742] [Δt:813.809584s] [    INFO] [skellytracker.trackers.base_tracker.video_handler] [video_handler:close():45] [\u001b[38;2;50;255;72mPID:36168:MainProcess\u001b[0m \u001b[38;2;50;255;68mTID:33348:MainThread\u001b[0m ] video saved to Z:\\Davide_MultimodalLab\\3_DATA_ANALYSIS\\1_MOTION_TRACKING\\1_Video_Segmentation\\video_split\\pilot_06_d2_SUD_1_End_SUD_2_Start\\annotated_videos\\pilot_06_d2_SUD_1_End_SUD_2_Start_cam1_mediapipe.mp4\u001b[0m\n",
      "2024-10-06 22:02:14,886 - skellytracker.trackers.base_tracker.video_handler - INFO - video saved to Z:\\Davide_MultimodalLab\\3_DATA_ANALYSIS\\1_MOTION_TRACKING\\1_Video_Segmentation\\video_split\\pilot_06_d2_SUD_1_End_SUD_2_Start\\annotated_videos\\pilot_06_d2_SUD_1_End_SUD_2_Start_cam1_mediapipe.mp4\n"
     ]
    },
    {
     "name": "stderr",
     "output_type": "stream",
     "text": [
      "\n"
     ]
    },
    {
     "name": "stdout",
     "output_type": "stream",
     "text": [
      "\u001b[96m[2024-10-06T22:02:18.607132] [Δt:3.720390s] [    INFO] [skellytracker.process_folder_of_videos] [process_folder_of_videos:process_single_video():131] [\u001b[38;2;50;255;72mPID:36168:MainProcess\u001b[0m \u001b[38;2;50;255;68mTID:33348:MainThread\u001b[0m ] Processing video: pilot_06_d2_SUD_1_End_SUD_2_Start_cam2_mediapipe.mp4 with tracker: MediapipeHolisticTracker\u001b[0m\n",
      "2024-10-06 22:02:18,607 - skellytracker.process_folder_of_videos - INFO - Processing video: pilot_06_d2_SUD_1_End_SUD_2_Start_cam2_mediapipe.mp4 with tracker: MediapipeHolisticTracker\n"
     ]
    },
    {
     "name": "stderr",
     "output_type": "stream",
     "text": [
      "processing video: pilot_06_d2_SUD_1_End_SUD_2_Start_cam2.mp4: 100%|\u001b[35m██████████\u001b[0m| 6904/6904 [13:47<00:00,  8.34frames/s]"
     ]
    },
    {
     "name": "stdout",
     "output_type": "stream",
     "text": [
      "\u001b[96m[2024-10-06T22:16:06.935579] [Δt:828.328447s] [    INFO] [skellytracker.trackers.base_tracker.video_handler] [video_handler:close():45] [\u001b[38;2;50;255;72mPID:36168:MainProcess\u001b[0m \u001b[38;2;50;255;68mTID:33348:MainThread\u001b[0m ] video saved to Z:\\Davide_MultimodalLab\\3_DATA_ANALYSIS\\1_MOTION_TRACKING\\1_Video_Segmentation\\video_split\\pilot_06_d2_SUD_1_End_SUD_2_Start\\annotated_videos\\pilot_06_d2_SUD_1_End_SUD_2_Start_cam2_mediapipe.mp4\u001b[0m\n",
      "2024-10-06 22:16:06,935 - skellytracker.trackers.base_tracker.video_handler - INFO - video saved to Z:\\Davide_MultimodalLab\\3_DATA_ANALYSIS\\1_MOTION_TRACKING\\1_Video_Segmentation\\video_split\\pilot_06_d2_SUD_1_End_SUD_2_Start\\annotated_videos\\pilot_06_d2_SUD_1_End_SUD_2_Start_cam2_mediapipe.mp4\n"
     ]
    },
    {
     "name": "stderr",
     "output_type": "stream",
     "text": [
      "\n"
     ]
    },
    {
     "name": "stdout",
     "output_type": "stream",
     "text": [
      "\u001b[96m[2024-10-06T22:16:11.080959] [Δt:4.145379s] [    INFO] [skellytracker.process_folder_of_videos] [process_folder_of_videos:process_single_video():131] [\u001b[38;2;50;255;72mPID:36168:MainProcess\u001b[0m \u001b[38;2;50;255;68mTID:33348:MainThread\u001b[0m ] Processing video: pilot_06_d2_SUD_1_End_SUD_2_Start_cam3_mediapipe.mp4 with tracker: MediapipeHolisticTracker\u001b[0m\n",
      "2024-10-06 22:16:11,080 - skellytracker.process_folder_of_videos - INFO - Processing video: pilot_06_d2_SUD_1_End_SUD_2_Start_cam3_mediapipe.mp4 with tracker: MediapipeHolisticTracker\n"
     ]
    },
    {
     "name": "stderr",
     "output_type": "stream",
     "text": [
      "processing video: pilot_06_d2_SUD_1_End_SUD_2_Start_cam3.mp4: 100%|\u001b[35m██████████\u001b[0m| 6904/6904 [14:14<00:00,  8.08frames/s]"
     ]
    },
    {
     "name": "stdout",
     "output_type": "stream",
     "text": [
      "\u001b[96m[2024-10-06T22:30:26.471623] [Δt:855.390665s] [    INFO] [skellytracker.trackers.base_tracker.video_handler] [video_handler:close():45] [\u001b[38;2;50;255;72mPID:36168:MainProcess\u001b[0m \u001b[38;2;50;255;68mTID:33348:MainThread\u001b[0m ] video saved to Z:\\Davide_MultimodalLab\\3_DATA_ANALYSIS\\1_MOTION_TRACKING\\1_Video_Segmentation\\video_split\\pilot_06_d2_SUD_1_End_SUD_2_Start\\annotated_videos\\pilot_06_d2_SUD_1_End_SUD_2_Start_cam3_mediapipe.mp4\u001b[0m\n",
      "2024-10-06 22:30:26,471 - skellytracker.trackers.base_tracker.video_handler - INFO - video saved to Z:\\Davide_MultimodalLab\\3_DATA_ANALYSIS\\1_MOTION_TRACKING\\1_Video_Segmentation\\video_split\\pilot_06_d2_SUD_1_End_SUD_2_Start\\annotated_videos\\pilot_06_d2_SUD_1_End_SUD_2_Start_cam3_mediapipe.mp4\n"
     ]
    },
    {
     "name": "stderr",
     "output_type": "stream",
     "text": [
      "\n"
     ]
    },
    {
     "name": "stdout",
     "output_type": "stream",
     "text": [
      "\u001b[96m[2024-10-06T22:30:30.710063] [Δt:4.238440s] [    INFO] [skellytracker.process_folder_of_videos] [process_folder_of_videos:process_folder_of_videos():105] [\u001b[38;2;50;255;72mPID:36168:MainProcess\u001b[0m \u001b[38;2;50;255;68mTID:33348:MainThread\u001b[0m ] Shape of output array: (3, 6904, 553, 3)\u001b[0m\n",
      "2024-10-06 22:30:30,710 - skellytracker.process_folder_of_videos - INFO - Shape of output array: (3, 6904, 553, 3)\n",
      "\u001b[96m[2024-10-06T22:30:53.850265] [Δt:23.140201s] [    INFO] [freemocap.core_processes.process_motion_capture_videos.processing_pipeline_functions.triangulation_pipeline_functions] [triangulation_pipeline_functions:get_triangulated_data():63] [\u001b[38;2;50;255;72mPID:36168:MainProcess\u001b[0m \u001b[38;2;50;255;68mTID:33348:MainThread\u001b[0m ] Triangulating 3d skeletons...\u001b[0m\n",
      "2024-10-06 22:30:53,850 - freemocap.core_processes.process_motion_capture_videos.processing_pipeline_functions.triangulation_pipeline_functions - INFO - Triangulating 3d skeletons...\n",
      "\u001b[96m[2024-10-06T22:30:53.850265] [Δt:0.000000s] [    INFO] [freemocap.core_processes.process_motion_capture_videos.processing_pipeline_functions.triangulation_pipeline_functions] [triangulation_pipeline_functions:get_triangulated_data():64] [\u001b[38;2;50;255;72mPID:36168:MainProcess\u001b[0m \u001b[38;2;50;255;68mTID:33348:MainThread\u001b[0m ] Log Progress\u001b[0m\n",
      "2024-10-06 22:30:53,850 - freemocap.core_processes.process_motion_capture_videos.processing_pipeline_functions.triangulation_pipeline_functions - INFO - Log Progress\n",
      "\u001b[96m[2024-10-06T22:30:54.333953] [Δt:0.483689s] [    INFO] [freemocap.core_processes.capture_volume_calibration.anipose_camera_calibration.get_anipose_calibration_object] [get_anipose_calibration_object:load_anipose_calibration_toml_from_path():38] [\u001b[38;2;50;255;72mPID:36168:MainProcess\u001b[0m \u001b[38;2;50;255;68mTID:33348:MainThread\u001b[0m ] loading camera calibration file from:Z:\\Davide_MultimodalLab\\3_DATA_ANALYSIS\\1_MOTION_TRACKING\\2_Video_Calibration\\calibration_results\\pilot_06_d2_calibration_charuco_calibration_anipose.toml\u001b[0m\n",
      "2024-10-06 22:30:54,333 - freemocap.core_processes.capture_volume_calibration.anipose_camera_calibration.get_anipose_calibration_object - INFO - loading camera calibration file from:Z:\\Davide_MultimodalLab\\3_DATA_ANALYSIS\\1_MOTION_TRACKING\\2_Video_Calibration\\calibration_results\\pilot_06_d2_calibration_charuco_calibration_anipose.toml\n",
      "\u001b[96m[2024-10-06T22:30:54.378871] [Δt:0.044918s] [    INFO] [freemocap.core_processes.capture_volume_calibration.triangulate_3d_data] [triangulate_3d_data:triangulate_3d_data():35] [\u001b[38;2;50;255;72mPID:36168:MainProcess\u001b[0m \u001b[38;2;50;255;68mTID:33348:MainThread\u001b[0m ] Reconstructing 3d points from 2d points with shape: \n",
      "number_of_cameras: 3,\n",
      "number_of_frames: 6904, \n",
      "number_of_tracked_points: 553,\n",
      "number_of_spatial_dimensions: 2\u001b[0m\n",
      "2024-10-06 22:30:54,378 - freemocap.core_processes.capture_volume_calibration.triangulate_3d_data - INFO - Reconstructing 3d points from 2d points with shape: \n",
      "number_of_cameras: 3,\n",
      "number_of_frames: 6904, \n",
      "number_of_tracked_points: 553,\n",
      "number_of_spatial_dimensions: 2\n",
      "\u001b[96m[2024-10-06T22:30:54.378871] [Δt:0.000993s] [    INFO] [freemocap.core_processes.capture_volume_calibration.triangulate_3d_data] [triangulate_3d_data:triangulate_3d_data():47] [\u001b[38;2;50;255;72mPID:36168:MainProcess\u001b[0m \u001b[38;2;50;255;68mTID:33348:MainThread\u001b[0m ] Using simple `triangulate` method \u001b[0m\n",
      "2024-10-06 22:30:54,378 - freemocap.core_processes.capture_volume_calibration.triangulate_3d_data - INFO - Using simple `triangulate` method \n"
     ]
    },
    {
     "name": "stderr",
     "output_type": "stream",
     "text": [
      "100%|█████████████████████| 3817912/3817912 [08:19<00:00, 7642.03it/s]\n"
     ]
    },
    {
     "name": "stdout",
     "output_type": "stream",
     "text": [
      "\u001b[96m[2024-10-06T22:39:27.685637] [Δt:513.305773s] [    INFO] [freemocap.core_processes.capture_volume_calibration.save_mediapipe_3d_data_to_npy] [save_mediapipe_3d_data_to_npy:save_mediapipe_3d_data_to_npy():50] [\u001b[38;2;50;255;72mPID:36168:MainProcess\u001b[0m \u001b[38;2;50;255;68mTID:33348:MainThread\u001b[0m ] saving: Z:\\Davide_MultimodalLab\\3_DATA_ANALYSIS\\1_MOTION_TRACKING\\1_Video_Segmentation\\video_split\\pilot_06_d2_SUD_1_End_SUD_2_Start\\output_data\\raw_data\\mediapipe3dData_numFrames_numTrackedPoints_spatialXYZ.npy\u001b[0m\n",
      "2024-10-06 22:39:27,685 - freemocap.core_processes.capture_volume_calibration.save_mediapipe_3d_data_to_npy - INFO - saving: Z:\\Davide_MultimodalLab\\3_DATA_ANALYSIS\\1_MOTION_TRACKING\\1_Video_Segmentation\\video_split\\pilot_06_d2_SUD_1_End_SUD_2_Start\\output_data\\raw_data\\mediapipe3dData_numFrames_numTrackedPoints_spatialXYZ.npy\n",
      "\u001b[96m[2024-10-06T22:39:28.712973] [Δt:1.027336s] [    INFO] [freemocap.core_processes.capture_volume_calibration.save_mediapipe_3d_data_to_npy] [save_mediapipe_3d_data_to_npy:save_mediapipe_3d_data_to_npy():55] [\u001b[38;2;50;255;72mPID:36168:MainProcess\u001b[0m \u001b[38;2;50;255;68mTID:33348:MainThread\u001b[0m ] saving: Z:\\Davide_MultimodalLab\\3_DATA_ANALYSIS\\1_MOTION_TRACKING\\1_Video_Segmentation\\video_split\\pilot_06_d2_SUD_1_End_SUD_2_Start\\output_data\\raw_data\\mediapipe3dData_numFrames_numTrackedPoints_reprojectionError.npy\u001b[0m\n",
      "2024-10-06 22:39:28,712 - freemocap.core_processes.capture_volume_calibration.save_mediapipe_3d_data_to_npy - INFO - saving: Z:\\Davide_MultimodalLab\\3_DATA_ANALYSIS\\1_MOTION_TRACKING\\1_Video_Segmentation\\video_split\\pilot_06_d2_SUD_1_End_SUD_2_Start\\output_data\\raw_data\\mediapipe3dData_numFrames_numTrackedPoints_reprojectionError.npy\n",
      "\u001b[96m[2024-10-06T22:39:29.051737] [Δt:0.602026s] [    INFO] [freemocap.core_processes.capture_volume_calibration.save_mediapipe_3d_data_to_npy] [save_mediapipe_3d_data_to_npy:save_mediapipe_3d_data_to_npy():61] [\u001b[38;2;50;255;72mPID:36168:MainProcess\u001b[0m \u001b[38;2;50;255;68mTID:33348:MainThread\u001b[0m ] saving: Z:\\Davide_MultimodalLab\\3_DATA_ANALYSIS\\1_MOTION_TRACKING\\1_Video_Segmentation\\video_split\\pilot_06_d2_SUD_1_End_SUD_2_Start\\output_data\\raw_data\\mediapipe3dData_numCams_numFrames_numTrackedPoints_reprojectionError.npy\u001b[0m\n",
      "2024-10-06 22:39:29,051 - freemocap.core_processes.capture_volume_calibration.save_mediapipe_3d_data_to_npy - INFO - saving: Z:\\Davide_MultimodalLab\\3_DATA_ANALYSIS\\1_MOTION_TRACKING\\1_Video_Segmentation\\video_split\\pilot_06_d2_SUD_1_End_SUD_2_Start\\output_data\\raw_data\\mediapipe3dData_numCams_numFrames_numTrackedPoints_reprojectionError.npy\n",
      "\u001b[96m[2024-10-06T22:39:30.476234] [Δt:1.161235s] [    INFO] [freemocap.core_processes.post_process_skeleton_data.post_process_skeleton] [post_process_skeleton:run_post_processing_worker():79] [\u001b[38;2;50;255;72mPID:36168:MainProcess\u001b[0m \u001b[38;2;50;255;68mTID:33348:MainThread\u001b[0m ] Starting post-processing worker thread\u001b[0m\n",
      "2024-10-06 22:39:30,476 - freemocap.core_processes.post_process_skeleton_data.post_process_skeleton - INFO - Starting post-processing worker thread\n",
      "\u001b[96m[2024-10-06T22:39:30.476234] [Δt:0.000000s] [    INFO] [freemocap.core_processes.post_process_skeleton_data.post_process_skeleton] [post_process_skeleton:run_post_processing_worker():80] [\u001b[38;2;50;255;72mPID:36168:MainProcess\u001b[0m \u001b[38;2;50;255;68mTID:33348:MainThread\u001b[0m ] Log Progress\u001b[0m\n",
      "2024-10-06 22:39:30,476 - freemocap.core_processes.post_process_skeleton_data.post_process_skeleton - INFO - Log Progress\n"
     ]
    },
    {
     "data": {
      "text/html": [
       "<pre style=\"white-space:pre;overflow-x:auto;line-height:normal;font-family:Menlo,'DejaVu Sans Mono',consolas,'Courier New',monospace\">c:\\ProgramData\\Anaconda3\\envs\\freemocap-env\\Lib\\site-packages\\rich\\live.py:231: UserWarning: install \"ipywidgets\" \n",
       "for Jupyter support\n",
       "  warnings.warn('install \"ipywidgets\" for Jupyter support')\n",
       "</pre>\n"
      ],
      "text/plain": [
       "c:\\ProgramData\\Anaconda3\\envs\\freemocap-env\\Lib\\site-packages\\rich\\live.py:231: UserWarning: install \"ipywidgets\" \n",
       "for Jupyter support\n",
       "  warnings.warn('install \"ipywidgets\" for Jupyter support')\n"
      ]
     },
     "metadata": {},
     "output_type": "display_data"
    },
    {
     "data": {
      "text/html": [
       "<pre style=\"white-space:pre;overflow-x:auto;line-height:normal;font-family:Menlo,'DejaVu Sans Mono',consolas,'Courier New',monospace\">c:\\ProgramData\\Anaconda3\\envs\\freemocap-env\\Lib\\site-packages\\rich\\live.py:231: UserWarning: install \"ipywidgets\" \n",
       "for Jupyter support\n",
       "  warnings.warn('install \"ipywidgets\" for Jupyter support')\n",
       "</pre>\n"
      ],
      "text/plain": [
       "c:\\ProgramData\\Anaconda3\\envs\\freemocap-env\\Lib\\site-packages\\rich\\live.py:231: UserWarning: install \"ipywidgets\" \n",
       "for Jupyter support\n",
       "  warnings.warn('install \"ipywidgets\" for Jupyter support')\n"
      ]
     },
     "metadata": {},
     "output_type": "display_data"
    },
    {
     "data": {
      "text/html": [
       "<pre style=\"white-space:pre;overflow-x:auto;line-height:normal;font-family:Menlo,'DejaVu Sans Mono',consolas,'Courier New',monospace\">c:\\ProgramData\\Anaconda3\\envs\\freemocap-env\\Lib\\site-packages\\rich\\live.py:231: UserWarning: install \"ipywidgets\" \n",
       "for Jupyter support\n",
       "  warnings.warn('install \"ipywidgets\" for Jupyter support')\n",
       "</pre>\n"
      ],
      "text/plain": [
       "c:\\ProgramData\\Anaconda3\\envs\\freemocap-env\\Lib\\site-packages\\rich\\live.py:231: UserWarning: install \"ipywidgets\" \n",
       "for Jupyter support\n",
       "  warnings.warn('install \"ipywidgets\" for Jupyter support')\n"
      ]
     },
     "metadata": {},
     "output_type": "display_data"
    },
    {
     "data": {
      "text/html": [
       "<pre style=\"white-space:pre;overflow-x:auto;line-height:normal;font-family:Menlo,'DejaVu Sans Mono',consolas,'Courier New',monospace\">c:\\ProgramData\\Anaconda3\\envs\\freemocap-env\\Lib\\site-packages\\rich\\live.py:231: UserWarning: install \"ipywidgets\" \n",
       "for Jupyter support\n",
       "  warnings.warn('install \"ipywidgets\" for Jupyter support')\n",
       "</pre>\n"
      ],
      "text/plain": [
       "c:\\ProgramData\\Anaconda3\\envs\\freemocap-env\\Lib\\site-packages\\rich\\live.py:231: UserWarning: install \"ipywidgets\" \n",
       "for Jupyter support\n",
       "  warnings.warn('install \"ipywidgets\" for Jupyter support')\n"
      ]
     },
     "metadata": {},
     "output_type": "display_data"
    },
    {
     "data": {
      "text/html": [
       "<pre style=\"white-space:pre;overflow-x:auto;line-height:normal;font-family:Menlo,'DejaVu Sans Mono',consolas,'Courier New',monospace\">c:\\ProgramData\\Anaconda3\\envs\\freemocap-env\\Lib\\site-packages\\rich\\live.py:231: UserWarning: install \"ipywidgets\" \n",
       "for Jupyter support\n",
       "  warnings.warn('install \"ipywidgets\" for Jupyter support')\n",
       "</pre>\n"
      ],
      "text/plain": [
       "c:\\ProgramData\\Anaconda3\\envs\\freemocap-env\\Lib\\site-packages\\rich\\live.py:231: UserWarning: install \"ipywidgets\" \n",
       "for Jupyter support\n",
       "  warnings.warn('install \"ipywidgets\" for Jupyter support')\n"
      ]
     },
     "metadata": {},
     "output_type": "display_data"
    },
    {
     "data": {
      "text/html": [
       "<pre style=\"white-space:pre;overflow-x:auto;line-height:normal;font-family:Menlo,'DejaVu Sans Mono',consolas,'Courier New',monospace\">c:\\ProgramData\\Anaconda3\\envs\\freemocap-env\\Lib\\site-packages\\rich\\live.py:231: UserWarning: install \"ipywidgets\" \n",
       "for Jupyter support\n",
       "  warnings.warn('install \"ipywidgets\" for Jupyter support')\n",
       "</pre>\n"
      ],
      "text/plain": [
       "c:\\ProgramData\\Anaconda3\\envs\\freemocap-env\\Lib\\site-packages\\rich\\live.py:231: UserWarning: install \"ipywidgets\" \n",
       "for Jupyter support\n",
       "  warnings.warn('install \"ipywidgets\" for Jupyter support')\n"
      ]
     },
     "metadata": {},
     "output_type": "display_data"
    },
    {
     "data": {
      "text/html": [
       "<pre style=\"white-space:pre;overflow-x:auto;line-height:normal;font-family:Menlo,'DejaVu Sans Mono',consolas,'Courier New',monospace\"></pre>\n"
      ],
      "text/plain": []
     },
     "metadata": {},
     "output_type": "display_data"
    },
    {
     "data": {
      "text/html": [
       "<pre style=\"white-space:pre;overflow-x:auto;line-height:normal;font-family:Menlo,'DejaVu Sans Mono',consolas,'Courier New',monospace\">\n",
       "</pre>\n"
      ],
      "text/plain": [
       "\n"
      ]
     },
     "metadata": {},
     "output_type": "display_data"
    },
    {
     "data": {
      "text/html": [
       "<pre style=\"white-space:pre;overflow-x:auto;line-height:normal;font-family:Menlo,'DejaVu Sans Mono',consolas,'Courier New',monospace\"></pre>\n"
      ],
      "text/plain": []
     },
     "metadata": {},
     "output_type": "display_data"
    },
    {
     "data": {
      "text/html": [
       "<pre style=\"white-space:pre;overflow-x:auto;line-height:normal;font-family:Menlo,'DejaVu Sans Mono',consolas,'Courier New',monospace\">\n",
       "</pre>\n"
      ],
      "text/plain": [
       "\n"
      ]
     },
     "metadata": {},
     "output_type": "display_data"
    },
    {
     "name": "stdout",
     "output_type": "stream",
     "text": [
      "\u001b[96m[2024-10-06T22:39:32.111612] [Δt:1.635377s] [    INFO] [freemocap.core_processes.post_process_skeleton_data.post_process_skeleton] [post_process_skeleton:run_post_processing_worker():90] [\u001b[38;2;50;255;72mPID:36168:MainProcess\u001b[0m \u001b[38;2;50;255;68mTID:33348:MainThread\u001b[0m ] Done with gap filling, filtering, and aligning\u001b[0m\n",
      "2024-10-06 22:39:32,111 - freemocap.core_processes.post_process_skeleton_data.post_process_skeleton - INFO - Done with gap filling, filtering, and aligning\n",
      "\u001b[96m[2024-10-06T22:39:32.111612] [Δt:0.000000s] [    INFO] [freemocap.core_processes.process_motion_capture_videos.processing_pipeline_functions.anatomical_data_pipeline_functions] [anatomical_data_pipeline_functions:calculate_anatomical_data():26] [\u001b[38;2;50;255;72mPID:36168:MainProcess\u001b[0m \u001b[38;2;50;255;68mTID:33348:MainThread\u001b[0m ] Calculating center of mass...\u001b[0m\n",
      "2024-10-06 22:39:32,111 - freemocap.core_processes.process_motion_capture_videos.processing_pipeline_functions.anatomical_data_pipeline_functions - INFO - Calculating center of mass...\n"
     ]
    },
    {
     "data": {
      "text/html": [
       "<pre style=\"white-space:pre;overflow-x:auto;line-height:normal;font-family:Menlo,'DejaVu Sans Mono',consolas,'Courier New',monospace\">c:\\ProgramData\\Anaconda3\\envs\\freemocap-env\\Lib\\site-packages\\rich\\live.py:231: UserWarning: install \"ipywidgets\" \n",
       "for Jupyter support\n",
       "  warnings.warn('install \"ipywidgets\" for Jupyter support')\n",
       "</pre>\n"
      ],
      "text/plain": [
       "c:\\ProgramData\\Anaconda3\\envs\\freemocap-env\\Lib\\site-packages\\rich\\live.py:231: UserWarning: install \"ipywidgets\" \n",
       "for Jupyter support\n",
       "  warnings.warn('install \"ipywidgets\" for Jupyter support')\n"
      ]
     },
     "metadata": {},
     "output_type": "display_data"
    },
    {
     "data": {
      "text/html": [
       "<pre style=\"white-space:pre;overflow-x:auto;line-height:normal;font-family:Menlo,'DejaVu Sans Mono',consolas,'Courier New',monospace\"></pre>\n"
      ],
      "text/plain": []
     },
     "metadata": {},
     "output_type": "display_data"
    },
    {
     "data": {
      "text/html": [
       "<pre style=\"white-space:pre;overflow-x:auto;line-height:normal;font-family:Menlo,'DejaVu Sans Mono',consolas,'Courier New',monospace\">\n",
       "</pre>\n"
      ],
      "text/plain": [
       "\n"
      ]
     },
     "metadata": {},
     "output_type": "display_data"
    },
    {
     "data": {
      "text/html": [
       "<pre style=\"white-space:pre;overflow-x:auto;line-height:normal;font-family:Menlo,'DejaVu Sans Mono',consolas,'Courier New',monospace\"></pre>\n"
      ],
      "text/plain": []
     },
     "metadata": {},
     "output_type": "display_data"
    },
    {
     "data": {
      "text/html": [
       "<pre style=\"white-space:pre;overflow-x:auto;line-height:normal;font-family:Menlo,'DejaVu Sans Mono',consolas,'Courier New',monospace\">\n",
       "</pre>\n"
      ],
      "text/plain": [
       "\n"
      ]
     },
     "metadata": {},
     "output_type": "display_data"
    },
    {
     "name": "stdout",
     "output_type": "stream",
     "text": [
      "\u001b[96m[2024-10-06T22:39:41.012828] [Δt:8.901216s] [    INFO] [freemocap.core_processes.post_process_skeleton_data.calculate_center_of_mass] [calculate_center_of_mass:calculate_total_body_COM():306] [\u001b[38;2;50;255;72mPID:36168:MainProcess\u001b[0m \u001b[38;2;50;255;68mTID:33348:MainThread\u001b[0m ] Calculating Total Body Center of Mass\u001b[0m\n",
      "2024-10-06 22:39:41,012 - freemocap.core_processes.post_process_skeleton_data.calculate_center_of_mass - INFO - Calculating Total Body Center of Mass\n"
     ]
    },
    {
     "data": {
      "text/html": [
       "<pre style=\"white-space:pre;overflow-x:auto;line-height:normal;font-family:Menlo,'DejaVu Sans Mono',consolas,'Courier New',monospace\"></pre>\n"
      ],
      "text/plain": []
     },
     "metadata": {},
     "output_type": "display_data"
    },
    {
     "data": {
      "text/html": [
       "<pre style=\"white-space:pre;overflow-x:auto;line-height:normal;font-family:Menlo,'DejaVu Sans Mono',consolas,'Courier New',monospace\">\n",
       "</pre>\n"
      ],
      "text/plain": [
       "\n"
      ]
     },
     "metadata": {},
     "output_type": "display_data"
    },
    {
     "name": "stdout",
     "output_type": "stream",
     "text": [
      "\u001b[96m[2024-10-06T22:39:45.595037] [Δt:4.582210s] [    INFO] [freemocap.core_processes.detecting_things_in_2d_images.mediapipe_stuff.convert_mediapipe_npy_to_csv] [convert_mediapipe_npy_to_csv:convert_mediapipe_npy_to_csv():23] [\u001b[38;2;50;255;72mPID:36168:MainProcess\u001b[0m \u001b[38;2;50;255;68mTID:33348:MainThread\u001b[0m ] Converting npy data with shape: (6904, 553, 3) into `csv` and smaller `npy` files\u001b[0m\n",
      "2024-10-06 22:39:45,595 - freemocap.core_processes.detecting_things_in_2d_images.mediapipe_stuff.convert_mediapipe_npy_to_csv - INFO - Converting npy data with shape: (6904, 553, 3) into `csv` and smaller `npy` files\n",
      "\u001b[34m[2024-10-06T22:44:22.956889] [Δt:277.361852s] [   DEBUG] [freemocap.core_processes.detecting_things_in_2d_images.mediapipe_stuff.convert_mediapipe_npy_to_csv] [convert_mediapipe_npy_to_csv:convert_mediapipe_npy_to_csv():239] [\u001b[38;2;50;255;72mPID:36168:MainProcess\u001b[0m \u001b[38;2;50;255;68mTID:33348:MainThread\u001b[0m ] body 3d xyz shape: (6904, 33, 3)\u001b[0m\n",
      "\u001b[34m[2024-10-06T22:44:22.956889] [Δt:0.000000s] [   DEBUG] [freemocap.core_processes.detecting_things_in_2d_images.mediapipe_stuff.convert_mediapipe_npy_to_csv] [convert_mediapipe_npy_to_csv:convert_mediapipe_npy_to_csv():240] [\u001b[38;2;50;255;72mPID:36168:MainProcess\u001b[0m \u001b[38;2;50;255;68mTID:33348:MainThread\u001b[0m ] right hand 3d xyz shape: (6904, 21, 3)\u001b[0m\n",
      "\u001b[34m[2024-10-06T22:44:22.956889] [Δt:0.000000s] [   DEBUG] [freemocap.core_processes.detecting_things_in_2d_images.mediapipe_stuff.convert_mediapipe_npy_to_csv] [convert_mediapipe_npy_to_csv:convert_mediapipe_npy_to_csv():241] [\u001b[38;2;50;255;72mPID:36168:MainProcess\u001b[0m \u001b[38;2;50;255;68mTID:33348:MainThread\u001b[0m ] left hand 3d xyz shape: (6904, 21, 3)\u001b[0m\n",
      "\u001b[34m[2024-10-06T22:44:22.956889] [Δt:0.000000s] [   DEBUG] [freemocap.core_processes.detecting_things_in_2d_images.mediapipe_stuff.convert_mediapipe_npy_to_csv] [convert_mediapipe_npy_to_csv:convert_mediapipe_npy_to_csv():242] [\u001b[38;2;50;255;72mPID:36168:MainProcess\u001b[0m \u001b[38;2;50;255;68mTID:33348:MainThread\u001b[0m ] face 3d xyz shape: (6904, 478, 3)\u001b[0m\n",
      "\u001b[34m[2024-10-06T22:47:20.264646] [Δt:177.307757s] [   DEBUG] [freemocap.core_processes.detecting_things_in_2d_images.mediapipe_stuff.convert_mediapipe_npy_to_csv] [convert_mediapipe_npy_to_csv:convert_mediapipe_npy_to_csv():284] [\u001b[38;2;50;255;72mPID:36168:MainProcess\u001b[0m \u001b[38;2;50;255;68mTID:33348:MainThread\u001b[0m ] length of body 3d xyz `.csv` header: 99, should be: 99\u001b[0m\n",
      "\u001b[34m[2024-10-06T22:47:20.264646] [Δt:0.000000s] [   DEBUG] [freemocap.core_processes.detecting_things_in_2d_images.mediapipe_stuff.convert_mediapipe_npy_to_csv] [convert_mediapipe_npy_to_csv:convert_mediapipe_npy_to_csv():287] [\u001b[38;2;50;255;72mPID:36168:MainProcess\u001b[0m \u001b[38;2;50;255;68mTID:33348:MainThread\u001b[0m ] length of right hand 3d xyz `.csv` header: 63, should be: 63\u001b[0m\n",
      "\u001b[34m[2024-10-06T22:47:20.264646] [Δt:0.000000s] [   DEBUG] [freemocap.core_processes.detecting_things_in_2d_images.mediapipe_stuff.convert_mediapipe_npy_to_csv] [convert_mediapipe_npy_to_csv:convert_mediapipe_npy_to_csv():290] [\u001b[38;2;50;255;72mPID:36168:MainProcess\u001b[0m \u001b[38;2;50;255;68mTID:33348:MainThread\u001b[0m ] length of left hand 3d xyz `.csv` header: 63, should be: 63\u001b[0m\n",
      "\u001b[34m[2024-10-06T22:47:20.264646] [Δt:0.000000s] [   DEBUG] [freemocap.core_processes.detecting_things_in_2d_images.mediapipe_stuff.convert_mediapipe_npy_to_csv] [convert_mediapipe_npy_to_csv:convert_mediapipe_npy_to_csv():293] [\u001b[38;2;50;255;72mPID:36168:MainProcess\u001b[0m \u001b[38;2;50;255;68mTID:33348:MainThread\u001b[0m ] length of face 3d xyz `.csv` header: 1434, should be: 1434\u001b[0m\n",
      "\u001b[96m[2024-10-06T22:49:00.516392] [Δt:100.251745s] [    INFO] [freemocap.core_processes.detecting_things_in_2d_images.mediapipe_stuff.convert_mediapipe_npy_to_csv] [convert_mediapipe_npy_to_csv:convert_mediapipe_npy_to_csv():322] [\u001b[38;2;50;255;72mPID:36168:MainProcess\u001b[0m \u001b[38;2;50;255;68mTID:33348:MainThread\u001b[0m ] Done saving out `csv` and broken up `npy` files\u001b[0m\n",
      "2024-10-06 22:49:00,516 - freemocap.core_processes.detecting_things_in_2d_images.mediapipe_stuff.convert_mediapipe_npy_to_csv - INFO - Done saving out `csv` and broken up `npy` files\n",
      "\u001b[96m[2024-10-06T22:49:00.516392] [Δt:0.000000s] [    INFO] [freemocap.core_processes.process_motion_capture_videos.processing_pipeline_functions.data_saving_pipeline_functions] [data_saving_pipeline_functions:save_data():39] [\u001b[38;2;50;255;72mPID:36168:MainProcess\u001b[0m \u001b[38;2;50;255;68mTID:33348:MainThread\u001b[0m ] Saving post-processed data\u001b[0m\n",
      "2024-10-06 22:49:00,516 - freemocap.core_processes.process_motion_capture_videos.processing_pipeline_functions.data_saving_pipeline_functions - INFO - Saving post-processed data\n",
      "\u001b[96m[2024-10-06T22:49:01.527918] [Δt:1.011526s] [    INFO] [freemocap.core_processes.process_motion_capture_videos.processing_pipeline_functions.data_saving_pipeline_functions] [data_saving_pipeline_functions:save_data():46] [\u001b[38;2;50;255;72mPID:36168:MainProcess\u001b[0m \u001b[38;2;50;255;68mTID:33348:MainThread\u001b[0m ] Saving segment center of mass data\u001b[0m\n",
      "2024-10-06 22:49:01,527 - freemocap.core_processes.process_motion_capture_videos.processing_pipeline_functions.data_saving_pipeline_functions - INFO - Saving segment center of mass data\n",
      "\u001b[96m[2024-10-06T22:49:01.685522] [Δt:0.157604s] [    INFO] [freemocap.core_processes.process_motion_capture_videos.processing_pipeline_functions.data_saving_pipeline_functions] [data_saving_pipeline_functions:save_data():53] [\u001b[38;2;50;255;72mPID:36168:MainProcess\u001b[0m \u001b[38;2;50;255;68mTID:33348:MainThread\u001b[0m ] Saving total body center of mass data\u001b[0m\n",
      "2024-10-06 22:49:01,685 - freemocap.core_processes.process_motion_capture_videos.processing_pipeline_functions.data_saving_pipeline_functions - INFO - Saving total body center of mass data\n",
      "\u001b[96m[2024-10-06T22:49:01.794528] [Δt:0.109006s] [    INFO] [freemocap.utilities.save_dictionary_to_json] [save_dictionary_to_json:save_dictionary_to_json():16] [\u001b[38;2;50;255;72mPID:36168:MainProcess\u001b[0m \u001b[38;2;50;255;68mTID:33348:MainThread\u001b[0m ] Saved dictionary mediapipe_names_and_connections_dict.json as json  at: Z:\\Davide_MultimodalLab\\3_DATA_ANALYSIS\\1_MOTION_TRACKING\\1_Video_Segmentation\\video_split\\pilot_06_d2_SUD_1_End_SUD_2_Start\\output_data\\mediapipe_names_and_connections_dict.json\u001b[0m\n",
      "2024-10-06 22:49:01,794 - freemocap.utilities.save_dictionary_to_json - INFO - Saved dictionary mediapipe_names_and_connections_dict.json as json  at: Z:\\Davide_MultimodalLab\\3_DATA_ANALYSIS\\1_MOTION_TRACKING\\1_Video_Segmentation\\video_split\\pilot_06_d2_SUD_1_End_SUD_2_Start\\output_data\\mediapipe_names_and_connections_dict.json\n",
      "\u001b[33m[2024-10-06T22:49:01.852473] [Δt:0.057946s] [ WARNING] [freemocap.system.paths_and_filenames.file_and_folder_names] [path_getters:get_timestamps_directory():252] [\u001b[38;2;50;255;72mPID:36168:MainProcess\u001b[0m \u001b[38;2;50;255;68mTID:33348:MainThread\u001b[0m ] Could not find timestamps directory in Z:\\Davide_MultimodalLab\\3_DATA_ANALYSIS\\1_MOTION_TRACKING\\1_Video_Segmentation\\video_split\\pilot_06_d2_SUD_1_End_SUD_2_Start\\synchronized_videos\u001b[0m\n",
      "2024-10-06 22:49:01,852 - freemocap.system.paths_and_filenames.file_and_folder_names - WARNING - Could not find timestamps directory in Z:\\Davide_MultimodalLab\\3_DATA_ANALYSIS\\1_MOTION_TRACKING\\1_Video_Segmentation\\video_split\\pilot_06_d2_SUD_1_End_SUD_2_Start\\synchronized_videos\n",
      "\u001b[33m[2024-10-06T22:49:01.852473] [Δt:0.000000s] [ WARNING] [freemocap.data_layer.data_saver.data_loader] [data_loader:_load_timestamps():91] [\u001b[38;2;50;255;72mPID:36168:MainProcess\u001b[0m \u001b[38;2;50;255;68mTID:33348:MainThread\u001b[0m ] No timestamps directory found. Skipping timestamps loading.\u001b[0m\n",
      "2024-10-06 22:49:01,852 - freemocap.data_layer.data_saver.data_loader - WARNING - No timestamps directory found. Skipping timestamps loading.\n",
      "\u001b[96m[2024-10-06T22:50:54.578811] [Δt:112.726338s] [    INFO] [freemocap.data_layer.data_saver.data_saver] [data_saver:save_to_json():59] [\u001b[38;2;50;255;72mPID:36168:MainProcess\u001b[0m \u001b[38;2;50;255;68mTID:33348:MainThread\u001b[0m ] Saving recording data to Z:\\Davide_MultimodalLab\\3_DATA_ANALYSIS\\1_MOTION_TRACKING\\1_Video_Segmentation\\video_split\\pilot_06_d2_SUD_1_End_SUD_2_Start\\pilot_06_d2_SUD_1_End_SUD_2_Start_by_frame.json\u001b[0m\n",
      "2024-10-06 22:50:54,578 - freemocap.data_layer.data_saver.data_saver - INFO - Saving recording data to Z:\\Davide_MultimodalLab\\3_DATA_ANALYSIS\\1_MOTION_TRACKING\\1_Video_Segmentation\\video_split\\pilot_06_d2_SUD_1_End_SUD_2_Start\\pilot_06_d2_SUD_1_End_SUD_2_Start_by_frame.json\n",
      "\u001b[96m[2024-10-06T22:52:54.562220] [Δt:119.983409s] [    INFO] [freemocap.data_layer.data_saver.data_saver] [data_saver:save_to_csv():76] [\u001b[38;2;50;255;72mPID:36168:MainProcess\u001b[0m \u001b[38;2;50;255;68mTID:33348:MainThread\u001b[0m ] Saved recording data to Z:\\Davide_MultimodalLab\\3_DATA_ANALYSIS\\1_MOTION_TRACKING\\1_Video_Segmentation\\video_split\\pilot_06_d2_SUD_1_End_SUD_2_Start\\pilot_06_d2_SUD_1_End_SUD_2_Start_by_trajectory.csv\u001b[0m\n",
      "2024-10-06 22:52:54,562 - freemocap.data_layer.data_saver.data_saver - INFO - Saved recording data to Z:\\Davide_MultimodalLab\\3_DATA_ANALYSIS\\1_MOTION_TRACKING\\1_Video_Segmentation\\video_split\\pilot_06_d2_SUD_1_End_SUD_2_Start\\pilot_06_d2_SUD_1_End_SUD_2_Start_by_trajectory.csv\n",
      "\u001b[96m[2024-10-06T22:52:58.423899] [Δt:3.861678s] [    INFO] [freemocap.data_layer.data_saver.data_saver] [data_saver:save_to_npy():82] [\u001b[38;2;50;255;72mPID:36168:MainProcess\u001b[0m \u001b[38;2;50;255;68mTID:33348:MainThread\u001b[0m ] Saved recording data to Z:\\Davide_MultimodalLab\\3_DATA_ANALYSIS\\1_MOTION_TRACKING\\1_Video_Segmentation\\video_split\\pilot_06_d2_SUD_1_End_SUD_2_Start\\pilot_06_d2_SUD_1_End_SUD_2_Start_frame_name_xyz.npy\u001b[0m\n",
      "2024-10-06 22:52:58,423 - freemocap.data_layer.data_saver.data_saver - INFO - Saved recording data to Z:\\Davide_MultimodalLab\\3_DATA_ANALYSIS\\1_MOTION_TRACKING\\1_Video_Segmentation\\video_split\\pilot_06_d2_SUD_1_End_SUD_2_Start\\pilot_06_d2_SUD_1_End_SUD_2_Start_frame_name_xyz.npy\n",
      "\u001b[96m[2024-10-06T22:52:58.717153] [Δt:0.293254s] [    INFO] [freemocap.core_processes.process_motion_capture_videos.process_recording_folder] [process_recording_folder:process_recording_folder():143] [\u001b[38;2;50;255;72mPID:36168:MainProcess\u001b[0m \u001b[38;2;50;255;68mTID:33348:MainThread\u001b[0m ] Done processing Z:\\Davide_MultimodalLab\\3_DATA_ANALYSIS\\1_MOTION_TRACKING\\1_Video_Segmentation\\video_split\\pilot_06_d2_SUD_1_End_SUD_2_Start\u001b[0m\n",
      "2024-10-06 22:52:58,717 - freemocap.core_processes.process_motion_capture_videos.process_recording_folder - INFO - Done processing Z:\\Davide_MultimodalLab\\3_DATA_ANALYSIS\\1_MOTION_TRACKING\\1_Video_Segmentation\\video_split\\pilot_06_d2_SUD_1_End_SUD_2_Start\n",
      "\u001b[33m[2024-10-06T22:52:58.764800] [Δt:0.047648s] [ WARNING] [root] [1048335352:process_recording():48] [\u001b[38;2;50;255;72mPID:36168:MainProcess\u001b[0m \u001b[38;2;50;255;68mTID:33348:MainThread\u001b[0m ] No blender executable provided. Blender file will not be exported.\u001b[0m\n",
      "2024-10-06 22:52:58,764 - root - WARNING - No blender executable provided. Blender file will not be exported.\n",
      "We will now load this vide folder  Z:\\Davide_MultimodalLab\\3_DATA_ANALYSIS\\1_MOTION_TRACKING\\1_Video_Segmentation\\video_split\\pilot_06_d2_SUD_1_End_SUD_2_Start\n",
      "\u001b[96m[2024-10-06T22:52:58.764800] [Δt:0.000000s] [    INFO] [root] [2323846283:<module>():20] [\u001b[38;2;50;255;72mPID:36168:MainProcess\u001b[0m \u001b[38;2;50;255;68mTID:33348:MainThread\u001b[0m ] Processing video folder: Z:\\Davide_MultimodalLab\\3_DATA_ANALYSIS\\1_MOTION_TRACKING\\1_Video_Segmentation\\video_split\\pilot_06_d2_SUD_2_End_SUD_3_Start\u001b[0m\n",
      "2024-10-06 22:52:58,764 - root - INFO - Processing video folder: Z:\\Davide_MultimodalLab\\3_DATA_ANALYSIS\\1_MOTION_TRACKING\\1_Video_Segmentation\\video_split\\pilot_06_d2_SUD_2_End_SUD_3_Start\n",
      "\u001b[96m[2024-10-06T22:52:58.919710] [Δt:0.154909s] [    INFO] [freemocap.utilities.save_dictionary_to_json] [save_dictionary_to_json:save_dictionary_to_json():16] [\u001b[38;2;50;255;72mPID:36168:MainProcess\u001b[0m \u001b[38;2;50;255;68mTID:33348:MainThread\u001b[0m ] Saved dictionary recording_parameters.json as json  at: Z:\\Davide_MultimodalLab\\3_DATA_ANALYSIS\\1_MOTION_TRACKING\\1_Video_Segmentation\\video_split\\pilot_06_d2_SUD_2_End_SUD_3_Start\\output_data\\recording_parameters.json\u001b[0m\n",
      "2024-10-06 22:52:58,919 - freemocap.utilities.save_dictionary_to_json - INFO - Saved dictionary recording_parameters.json as json  at: Z:\\Davide_MultimodalLab\\3_DATA_ANALYSIS\\1_MOTION_TRACKING\\1_Video_Segmentation\\video_split\\pilot_06_d2_SUD_2_End_SUD_3_Start\\output_data\\recording_parameters.json\n",
      "\u001b[96m[2024-10-06T22:52:59.706597] [Δt:0.786888s] [    INFO] [freemocap.data_layer.recording_models.recording_info_model] [recording_info_model:get_number_of_mp4s_in_synched_videos_directory():239] [\u001b[38;2;50;255;72mPID:36168:MainProcess\u001b[0m \u001b[38;2;50;255;68mTID:33348:MainThread\u001b[0m ] Number of `.mp4`'s in Z:\\Davide_MultimodalLab\\3_DATA_ANALYSIS\\1_MOTION_TRACKING\\1_Video_Segmentation\\video_split\\pilot_06_d2_SUD_2_End_SUD_3_Start\\synchronized_videos: 3\u001b[0m\n",
      "2024-10-06 22:52:59,706 - freemocap.data_layer.recording_models.recording_info_model - INFO - Number of `.mp4`'s in Z:\\Davide_MultimodalLab\\3_DATA_ANALYSIS\\1_MOTION_TRACKING\\1_Video_Segmentation\\video_split\\pilot_06_d2_SUD_2_End_SUD_3_Start\\synchronized_videos: 3\n",
      "\u001b[34m[2024-10-06T22:52:59.706597] [Δt:0.000000s] [   DEBUG] [freemocap.data_layer.recording_models.recording_info_model] [recording_info_model:get_number_of_frames_in_videos():253] [\u001b[38;2;50;255;72mPID:36168:MainProcess\u001b[0m \u001b[38;2;50;255;68mTID:33348:MainThread\u001b[0m ] No 'timestamps' directory, finding frame counts from synchronized videos\u001b[0m\n",
      "\u001b[96m[2024-10-06T22:52:59.898249] [Δt:0.191652s] [    INFO] [freemocap.core_processes.process_motion_capture_videos.processing_pipeline_functions.image_tracking_pipeline_functions] [image_tracking_pipeline_functions:run_image_tracking_pipeline():44] [\u001b[38;2;50;255;72mPID:36168:MainProcess\u001b[0m \u001b[38;2;50;255;68mTID:33348:MainThread\u001b[0m ] Detecting 2d skeletons...\u001b[0m\n",
      "2024-10-06 22:52:59,898 - freemocap.core_processes.process_motion_capture_videos.processing_pipeline_functions.image_tracking_pipeline_functions - INFO - Detecting 2d skeletons...\n",
      "\u001b[96m[2024-10-06T22:52:59.898249] [Δt:0.000000s] [    INFO] [freemocap.core_processes.process_motion_capture_videos.processing_pipeline_functions.image_tracking_pipeline_functions] [image_tracking_pipeline_functions:run_image_tracking_pipeline():45] [\u001b[38;2;50;255;72mPID:36168:MainProcess\u001b[0m \u001b[38;2;50;255;68mTID:33348:MainThread\u001b[0m ] Log Progress\u001b[0m\n",
      "2024-10-06 22:52:59,898 - freemocap.core_processes.process_motion_capture_videos.processing_pipeline_functions.image_tracking_pipeline_functions - INFO - Log Progress\n",
      "\u001b[96m[2024-10-06T22:53:00.122967] [Δt:0.224718s] [    INFO] [skellytracker.process_folder_of_videos] [process_folder_of_videos:process_single_video():131] [\u001b[38;2;50;255;72mPID:36168:MainProcess\u001b[0m \u001b[38;2;50;255;68mTID:33348:MainThread\u001b[0m ] Processing video: pilot_06_d2_SUD_2_End_SUD_3_Start_cam1_mediapipe.mp4 with tracker: MediapipeHolisticTracker\u001b[0m\n",
      "2024-10-06 22:53:00,122 - skellytracker.process_folder_of_videos - INFO - Processing video: pilot_06_d2_SUD_2_End_SUD_3_Start_cam1_mediapipe.mp4 with tracker: MediapipeHolisticTracker\n"
     ]
    },
    {
     "name": "stderr",
     "output_type": "stream",
     "text": [
      "processing video: pilot_06_d2_SUD_2_End_SUD_3_Start_cam1.mp4: 100%|\u001b[35m██████████\u001b[0m| 6890/6890 [13:55<00:00,  8.24frames/s]"
     ]
    },
    {
     "name": "stdout",
     "output_type": "stream",
     "text": [
      "\u001b[96m[2024-10-06T23:06:56.125301] [Δt:836.003332s] [    INFO] [skellytracker.trackers.base_tracker.video_handler] [video_handler:close():45] [\u001b[38;2;50;255;72mPID:36168:MainProcess\u001b[0m \u001b[38;2;50;255;68mTID:33348:MainThread\u001b[0m ] video saved to Z:\\Davide_MultimodalLab\\3_DATA_ANALYSIS\\1_MOTION_TRACKING\\1_Video_Segmentation\\video_split\\pilot_06_d2_SUD_2_End_SUD_3_Start\\annotated_videos\\pilot_06_d2_SUD_2_End_SUD_3_Start_cam1_mediapipe.mp4\u001b[0m\n",
      "2024-10-06 23:06:56,125 - skellytracker.trackers.base_tracker.video_handler - INFO - video saved to Z:\\Davide_MultimodalLab\\3_DATA_ANALYSIS\\1_MOTION_TRACKING\\1_Video_Segmentation\\video_split\\pilot_06_d2_SUD_2_End_SUD_3_Start\\annotated_videos\\pilot_06_d2_SUD_2_End_SUD_3_Start_cam1_mediapipe.mp4\n"
     ]
    },
    {
     "name": "stderr",
     "output_type": "stream",
     "text": [
      "\n"
     ]
    },
    {
     "name": "stdout",
     "output_type": "stream",
     "text": [
      "\u001b[96m[2024-10-06T23:06:59.989592] [Δt:3.863293s] [    INFO] [skellytracker.process_folder_of_videos] [process_folder_of_videos:process_single_video():131] [\u001b[38;2;50;255;72mPID:36168:MainProcess\u001b[0m \u001b[38;2;50;255;68mTID:33348:MainThread\u001b[0m ] Processing video: pilot_06_d2_SUD_2_End_SUD_3_Start_cam2_mediapipe.mp4 with tracker: MediapipeHolisticTracker\u001b[0m\n",
      "2024-10-06 23:06:59,989 - skellytracker.process_folder_of_videos - INFO - Processing video: pilot_06_d2_SUD_2_End_SUD_3_Start_cam2_mediapipe.mp4 with tracker: MediapipeHolisticTracker\n"
     ]
    },
    {
     "name": "stderr",
     "output_type": "stream",
     "text": [
      "processing video: pilot_06_d2_SUD_2_End_SUD_3_Start_cam2.mp4: 100%|\u001b[35m██████████\u001b[0m| 6890/6890 [13:51<00:00,  8.28frames/s]"
     ]
    },
    {
     "name": "stdout",
     "output_type": "stream",
     "text": [
      "\u001b[96m[2024-10-06T23:20:52.258077] [Δt:832.268485s] [    INFO] [skellytracker.trackers.base_tracker.video_handler] [video_handler:close():45] [\u001b[38;2;50;255;72mPID:36168:MainProcess\u001b[0m \u001b[38;2;50;255;68mTID:33348:MainThread\u001b[0m ] video saved to Z:\\Davide_MultimodalLab\\3_DATA_ANALYSIS\\1_MOTION_TRACKING\\1_Video_Segmentation\\video_split\\pilot_06_d2_SUD_2_End_SUD_3_Start\\annotated_videos\\pilot_06_d2_SUD_2_End_SUD_3_Start_cam2_mediapipe.mp4\u001b[0m\n",
      "2024-10-06 23:20:52,258 - skellytracker.trackers.base_tracker.video_handler - INFO - video saved to Z:\\Davide_MultimodalLab\\3_DATA_ANALYSIS\\1_MOTION_TRACKING\\1_Video_Segmentation\\video_split\\pilot_06_d2_SUD_2_End_SUD_3_Start\\annotated_videos\\pilot_06_d2_SUD_2_End_SUD_3_Start_cam2_mediapipe.mp4\n"
     ]
    },
    {
     "name": "stderr",
     "output_type": "stream",
     "text": [
      "\n"
     ]
    },
    {
     "name": "stdout",
     "output_type": "stream",
     "text": [
      "\u001b[96m[2024-10-06T23:20:56.434939] [Δt:4.176861s] [    INFO] [skellytracker.process_folder_of_videos] [process_folder_of_videos:process_single_video():131] [\u001b[38;2;50;255;72mPID:36168:MainProcess\u001b[0m \u001b[38;2;50;255;68mTID:33348:MainThread\u001b[0m ] Processing video: pilot_06_d2_SUD_2_End_SUD_3_Start_cam3_mediapipe.mp4 with tracker: MediapipeHolisticTracker\u001b[0m\n",
      "2024-10-06 23:20:56,434 - skellytracker.process_folder_of_videos - INFO - Processing video: pilot_06_d2_SUD_2_End_SUD_3_Start_cam3_mediapipe.mp4 with tracker: MediapipeHolisticTracker\n"
     ]
    },
    {
     "name": "stderr",
     "output_type": "stream",
     "text": [
      "processing video: pilot_06_d2_SUD_2_End_SUD_3_Start_cam3.mp4: 100%|\u001b[35m██████████\u001b[0m| 6890/6890 [13:59<00:00,  8.21frames/s]"
     ]
    },
    {
     "name": "stdout",
     "output_type": "stream",
     "text": [
      "\u001b[96m[2024-10-06T23:34:55.927603] [Δt:839.492665s] [    INFO] [skellytracker.trackers.base_tracker.video_handler] [video_handler:close():45] [\u001b[38;2;50;255;72mPID:36168:MainProcess\u001b[0m \u001b[38;2;50;255;68mTID:33348:MainThread\u001b[0m ] video saved to Z:\\Davide_MultimodalLab\\3_DATA_ANALYSIS\\1_MOTION_TRACKING\\1_Video_Segmentation\\video_split\\pilot_06_d2_SUD_2_End_SUD_3_Start\\annotated_videos\\pilot_06_d2_SUD_2_End_SUD_3_Start_cam3_mediapipe.mp4\u001b[0m\n",
      "2024-10-06 23:34:55,927 - skellytracker.trackers.base_tracker.video_handler - INFO - video saved to Z:\\Davide_MultimodalLab\\3_DATA_ANALYSIS\\1_MOTION_TRACKING\\1_Video_Segmentation\\video_split\\pilot_06_d2_SUD_2_End_SUD_3_Start\\annotated_videos\\pilot_06_d2_SUD_2_End_SUD_3_Start_cam3_mediapipe.mp4\n"
     ]
    },
    {
     "name": "stderr",
     "output_type": "stream",
     "text": [
      "\n"
     ]
    },
    {
     "name": "stdout",
     "output_type": "stream",
     "text": [
      "\u001b[96m[2024-10-06T23:35:00.009380] [Δt:4.082222s] [    INFO] [skellytracker.process_folder_of_videos] [process_folder_of_videos:process_folder_of_videos():105] [\u001b[38;2;50;255;72mPID:36168:MainProcess\u001b[0m \u001b[38;2;50;255;68mTID:33348:MainThread\u001b[0m ] Shape of output array: (3, 6890, 553, 3)\u001b[0m\n",
      "2024-10-06 23:35:00,009 - skellytracker.process_folder_of_videos - INFO - Shape of output array: (3, 6890, 553, 3)\n",
      "\u001b[96m[2024-10-06T23:35:27.280132] [Δt:27.270306s] [    INFO] [freemocap.core_processes.process_motion_capture_videos.processing_pipeline_functions.triangulation_pipeline_functions] [triangulation_pipeline_functions:get_triangulated_data():63] [\u001b[38;2;50;255;72mPID:36168:MainProcess\u001b[0m \u001b[38;2;50;255;68mTID:33348:MainThread\u001b[0m ] Triangulating 3d skeletons...\u001b[0m\n",
      "2024-10-06 23:35:27,280 - freemocap.core_processes.process_motion_capture_videos.processing_pipeline_functions.triangulation_pipeline_functions - INFO - Triangulating 3d skeletons...\n",
      "\u001b[96m[2024-10-06T23:35:27.280132] [Δt:0.000000s] [    INFO] [freemocap.core_processes.process_motion_capture_videos.processing_pipeline_functions.triangulation_pipeline_functions] [triangulation_pipeline_functions:get_triangulated_data():64] [\u001b[38;2;50;255;72mPID:36168:MainProcess\u001b[0m \u001b[38;2;50;255;68mTID:33348:MainThread\u001b[0m ] Log Progress\u001b[0m\n",
      "2024-10-06 23:35:27,280 - freemocap.core_processes.process_motion_capture_videos.processing_pipeline_functions.triangulation_pipeline_functions - INFO - Log Progress\n",
      "\u001b[96m[2024-10-06T23:35:27.738476] [Δt:0.458345s] [    INFO] [freemocap.core_processes.capture_volume_calibration.anipose_camera_calibration.get_anipose_calibration_object] [get_anipose_calibration_object:load_anipose_calibration_toml_from_path():38] [\u001b[38;2;50;255;72mPID:36168:MainProcess\u001b[0m \u001b[38;2;50;255;68mTID:33348:MainThread\u001b[0m ] loading camera calibration file from:Z:\\Davide_MultimodalLab\\3_DATA_ANALYSIS\\1_MOTION_TRACKING\\2_Video_Calibration\\calibration_results\\pilot_06_d2_calibration_charuco_calibration_anipose.toml\u001b[0m\n",
      "2024-10-06 23:35:27,738 - freemocap.core_processes.capture_volume_calibration.anipose_camera_calibration.get_anipose_calibration_object - INFO - loading camera calibration file from:Z:\\Davide_MultimodalLab\\3_DATA_ANALYSIS\\1_MOTION_TRACKING\\2_Video_Calibration\\calibration_results\\pilot_06_d2_calibration_charuco_calibration_anipose.toml\n",
      "\u001b[96m[2024-10-06T23:35:27.800600] [Δt:0.062123s] [    INFO] [freemocap.core_processes.capture_volume_calibration.triangulate_3d_data] [triangulate_3d_data:triangulate_3d_data():35] [\u001b[38;2;50;255;72mPID:36168:MainProcess\u001b[0m \u001b[38;2;50;255;68mTID:33348:MainThread\u001b[0m ] Reconstructing 3d points from 2d points with shape: \n",
      "number_of_cameras: 3,\n",
      "number_of_frames: 6890, \n",
      "number_of_tracked_points: 553,\n",
      "number_of_spatial_dimensions: 2\u001b[0m\n",
      "2024-10-06 23:35:27,800 - freemocap.core_processes.capture_volume_calibration.triangulate_3d_data - INFO - Reconstructing 3d points from 2d points with shape: \n",
      "number_of_cameras: 3,\n",
      "number_of_frames: 6890, \n",
      "number_of_tracked_points: 553,\n",
      "number_of_spatial_dimensions: 2\n",
      "\u001b[96m[2024-10-06T23:35:27.800600] [Δt:0.000000s] [    INFO] [freemocap.core_processes.capture_volume_calibration.triangulate_3d_data] [triangulate_3d_data:triangulate_3d_data():47] [\u001b[38;2;50;255;72mPID:36168:MainProcess\u001b[0m \u001b[38;2;50;255;68mTID:33348:MainThread\u001b[0m ] Using simple `triangulate` method \u001b[0m\n",
      "2024-10-06 23:35:27,800 - freemocap.core_processes.capture_volume_calibration.triangulate_3d_data - INFO - Using simple `triangulate` method \n"
     ]
    },
    {
     "name": "stderr",
     "output_type": "stream",
     "text": [
      "100%|█████████████████████| 3810170/3810170 [08:18<00:00, 7638.00it/s]\n"
     ]
    },
    {
     "name": "stdout",
     "output_type": "stream",
     "text": [
      "\u001b[96m[2024-10-06T23:44:00.212470] [Δt:512.411871s] [    INFO] [freemocap.core_processes.capture_volume_calibration.save_mediapipe_3d_data_to_npy] [save_mediapipe_3d_data_to_npy:save_mediapipe_3d_data_to_npy():50] [\u001b[38;2;50;255;72mPID:36168:MainProcess\u001b[0m \u001b[38;2;50;255;68mTID:33348:MainThread\u001b[0m ] saving: Z:\\Davide_MultimodalLab\\3_DATA_ANALYSIS\\1_MOTION_TRACKING\\1_Video_Segmentation\\video_split\\pilot_06_d2_SUD_2_End_SUD_3_Start\\output_data\\raw_data\\mediapipe3dData_numFrames_numTrackedPoints_spatialXYZ.npy\u001b[0m\n",
      "2024-10-06 23:44:00,212 - freemocap.core_processes.capture_volume_calibration.save_mediapipe_3d_data_to_npy - INFO - saving: Z:\\Davide_MultimodalLab\\3_DATA_ANALYSIS\\1_MOTION_TRACKING\\1_Video_Segmentation\\video_split\\pilot_06_d2_SUD_2_End_SUD_3_Start\\output_data\\raw_data\\mediapipe3dData_numFrames_numTrackedPoints_spatialXYZ.npy\n",
      "\u001b[96m[2024-10-06T23:44:01.193269] [Δt:0.980798s] [    INFO] [freemocap.core_processes.capture_volume_calibration.save_mediapipe_3d_data_to_npy] [save_mediapipe_3d_data_to_npy:save_mediapipe_3d_data_to_npy():55] [\u001b[38;2;50;255;72mPID:36168:MainProcess\u001b[0m \u001b[38;2;50;255;68mTID:33348:MainThread\u001b[0m ] saving: Z:\\Davide_MultimodalLab\\3_DATA_ANALYSIS\\1_MOTION_TRACKING\\1_Video_Segmentation\\video_split\\pilot_06_d2_SUD_2_End_SUD_3_Start\\output_data\\raw_data\\mediapipe3dData_numFrames_numTrackedPoints_reprojectionError.npy\u001b[0m\n",
      "2024-10-06 23:44:01,193 - freemocap.core_processes.capture_volume_calibration.save_mediapipe_3d_data_to_npy - INFO - saving: Z:\\Davide_MultimodalLab\\3_DATA_ANALYSIS\\1_MOTION_TRACKING\\1_Video_Segmentation\\video_split\\pilot_06_d2_SUD_2_End_SUD_3_Start\\output_data\\raw_data\\mediapipe3dData_numFrames_numTrackedPoints_reprojectionError.npy\n",
      "\u001b[96m[2024-10-06T23:44:01.537140] [Δt:0.343872s] [    INFO] [freemocap.core_processes.capture_volume_calibration.save_mediapipe_3d_data_to_npy] [save_mediapipe_3d_data_to_npy:save_mediapipe_3d_data_to_npy():61] [\u001b[38;2;50;255;72mPID:36168:MainProcess\u001b[0m \u001b[38;2;50;255;68mTID:33348:MainThread\u001b[0m ] saving: Z:\\Davide_MultimodalLab\\3_DATA_ANALYSIS\\1_MOTION_TRACKING\\1_Video_Segmentation\\video_split\\pilot_06_d2_SUD_2_End_SUD_3_Start\\output_data\\raw_data\\mediapipe3dData_numCams_numFrames_numTrackedPoints_reprojectionError.npy\u001b[0m\n",
      "2024-10-06 23:44:01,537 - freemocap.core_processes.capture_volume_calibration.save_mediapipe_3d_data_to_npy - INFO - saving: Z:\\Davide_MultimodalLab\\3_DATA_ANALYSIS\\1_MOTION_TRACKING\\1_Video_Segmentation\\video_split\\pilot_06_d2_SUD_2_End_SUD_3_Start\\output_data\\raw_data\\mediapipe3dData_numCams_numFrames_numTrackedPoints_reprojectionError.npy\n",
      "\u001b[96m[2024-10-06T23:44:02.817843] [Δt:1.280703s] [    INFO] [freemocap.core_processes.post_process_skeleton_data.post_process_skeleton] [post_process_skeleton:run_post_processing_worker():79] [\u001b[38;2;50;255;72mPID:36168:MainProcess\u001b[0m \u001b[38;2;50;255;68mTID:33348:MainThread\u001b[0m ] Starting post-processing worker thread\u001b[0m\n",
      "2024-10-06 23:44:02,817 - freemocap.core_processes.post_process_skeleton_data.post_process_skeleton - INFO - Starting post-processing worker thread\n",
      "\u001b[96m[2024-10-06T23:44:02.817843] [Δt:0.000000s] [    INFO] [freemocap.core_processes.post_process_skeleton_data.post_process_skeleton] [post_process_skeleton:run_post_processing_worker():80] [\u001b[38;2;50;255;72mPID:36168:MainProcess\u001b[0m \u001b[38;2;50;255;68mTID:33348:MainThread\u001b[0m ] Log Progress\u001b[0m\n",
      "2024-10-06 23:44:02,817 - freemocap.core_processes.post_process_skeleton_data.post_process_skeleton - INFO - Log Progress\n"
     ]
    },
    {
     "data": {
      "text/html": [
       "<pre style=\"white-space:pre;overflow-x:auto;line-height:normal;font-family:Menlo,'DejaVu Sans Mono',consolas,'Courier New',monospace\">c:\\ProgramData\\Anaconda3\\envs\\freemocap-env\\Lib\\site-packages\\rich\\live.py:231: UserWarning: install \"ipywidgets\" \n",
       "for Jupyter support\n",
       "  warnings.warn('install \"ipywidgets\" for Jupyter support')\n",
       "</pre>\n"
      ],
      "text/plain": [
       "c:\\ProgramData\\Anaconda3\\envs\\freemocap-env\\Lib\\site-packages\\rich\\live.py:231: UserWarning: install \"ipywidgets\" \n",
       "for Jupyter support\n",
       "  warnings.warn('install \"ipywidgets\" for Jupyter support')\n"
      ]
     },
     "metadata": {},
     "output_type": "display_data"
    },
    {
     "data": {
      "text/html": [
       "<pre style=\"white-space:pre;overflow-x:auto;line-height:normal;font-family:Menlo,'DejaVu Sans Mono',consolas,'Courier New',monospace\">c:\\ProgramData\\Anaconda3\\envs\\freemocap-env\\Lib\\site-packages\\rich\\live.py:231: UserWarning: install \"ipywidgets\" \n",
       "for Jupyter support\n",
       "  warnings.warn('install \"ipywidgets\" for Jupyter support')\n",
       "</pre>\n"
      ],
      "text/plain": [
       "c:\\ProgramData\\Anaconda3\\envs\\freemocap-env\\Lib\\site-packages\\rich\\live.py:231: UserWarning: install \"ipywidgets\" \n",
       "for Jupyter support\n",
       "  warnings.warn('install \"ipywidgets\" for Jupyter support')\n"
      ]
     },
     "metadata": {},
     "output_type": "display_data"
    },
    {
     "data": {
      "text/html": [
       "<pre style=\"white-space:pre;overflow-x:auto;line-height:normal;font-family:Menlo,'DejaVu Sans Mono',consolas,'Courier New',monospace\">c:\\ProgramData\\Anaconda3\\envs\\freemocap-env\\Lib\\site-packages\\rich\\live.py:231: UserWarning: install \"ipywidgets\" \n",
       "for Jupyter support\n",
       "  warnings.warn('install \"ipywidgets\" for Jupyter support')\n",
       "</pre>\n"
      ],
      "text/plain": [
       "c:\\ProgramData\\Anaconda3\\envs\\freemocap-env\\Lib\\site-packages\\rich\\live.py:231: UserWarning: install \"ipywidgets\" \n",
       "for Jupyter support\n",
       "  warnings.warn('install \"ipywidgets\" for Jupyter support')\n"
      ]
     },
     "metadata": {},
     "output_type": "display_data"
    },
    {
     "data": {
      "text/html": [
       "<pre style=\"white-space:pre;overflow-x:auto;line-height:normal;font-family:Menlo,'DejaVu Sans Mono',consolas,'Courier New',monospace\">c:\\ProgramData\\Anaconda3\\envs\\freemocap-env\\Lib\\site-packages\\rich\\live.py:231: UserWarning: install \"ipywidgets\" \n",
       "for Jupyter support\n",
       "  warnings.warn('install \"ipywidgets\" for Jupyter support')\n",
       "</pre>\n"
      ],
      "text/plain": [
       "c:\\ProgramData\\Anaconda3\\envs\\freemocap-env\\Lib\\site-packages\\rich\\live.py:231: UserWarning: install \"ipywidgets\" \n",
       "for Jupyter support\n",
       "  warnings.warn('install \"ipywidgets\" for Jupyter support')\n"
      ]
     },
     "metadata": {},
     "output_type": "display_data"
    },
    {
     "data": {
      "text/html": [
       "<pre style=\"white-space:pre;overflow-x:auto;line-height:normal;font-family:Menlo,'DejaVu Sans Mono',consolas,'Courier New',monospace\">c:\\ProgramData\\Anaconda3\\envs\\freemocap-env\\Lib\\site-packages\\rich\\live.py:231: UserWarning: install \"ipywidgets\" \n",
       "for Jupyter support\n",
       "  warnings.warn('install \"ipywidgets\" for Jupyter support')\n",
       "</pre>\n"
      ],
      "text/plain": [
       "c:\\ProgramData\\Anaconda3\\envs\\freemocap-env\\Lib\\site-packages\\rich\\live.py:231: UserWarning: install \"ipywidgets\" \n",
       "for Jupyter support\n",
       "  warnings.warn('install \"ipywidgets\" for Jupyter support')\n"
      ]
     },
     "metadata": {},
     "output_type": "display_data"
    },
    {
     "data": {
      "text/html": [
       "<pre style=\"white-space:pre;overflow-x:auto;line-height:normal;font-family:Menlo,'DejaVu Sans Mono',consolas,'Courier New',monospace\">c:\\ProgramData\\Anaconda3\\envs\\freemocap-env\\Lib\\site-packages\\rich\\live.py:231: UserWarning: install \"ipywidgets\" \n",
       "for Jupyter support\n",
       "  warnings.warn('install \"ipywidgets\" for Jupyter support')\n",
       "</pre>\n"
      ],
      "text/plain": [
       "c:\\ProgramData\\Anaconda3\\envs\\freemocap-env\\Lib\\site-packages\\rich\\live.py:231: UserWarning: install \"ipywidgets\" \n",
       "for Jupyter support\n",
       "  warnings.warn('install \"ipywidgets\" for Jupyter support')\n"
      ]
     },
     "metadata": {},
     "output_type": "display_data"
    },
    {
     "data": {
      "text/html": [
       "<pre style=\"white-space:pre;overflow-x:auto;line-height:normal;font-family:Menlo,'DejaVu Sans Mono',consolas,'Courier New',monospace\"></pre>\n"
      ],
      "text/plain": []
     },
     "metadata": {},
     "output_type": "display_data"
    },
    {
     "data": {
      "text/html": [
       "<pre style=\"white-space:pre;overflow-x:auto;line-height:normal;font-family:Menlo,'DejaVu Sans Mono',consolas,'Courier New',monospace\">\n",
       "</pre>\n"
      ],
      "text/plain": [
       "\n"
      ]
     },
     "metadata": {},
     "output_type": "display_data"
    },
    {
     "data": {
      "text/html": [
       "<pre style=\"white-space:pre;overflow-x:auto;line-height:normal;font-family:Menlo,'DejaVu Sans Mono',consolas,'Courier New',monospace\"></pre>\n"
      ],
      "text/plain": []
     },
     "metadata": {},
     "output_type": "display_data"
    },
    {
     "data": {
      "text/html": [
       "<pre style=\"white-space:pre;overflow-x:auto;line-height:normal;font-family:Menlo,'DejaVu Sans Mono',consolas,'Courier New',monospace\">\n",
       "</pre>\n"
      ],
      "text/plain": [
       "\n"
      ]
     },
     "metadata": {},
     "output_type": "display_data"
    },
    {
     "name": "stdout",
     "output_type": "stream",
     "text": [
      "\u001b[96m[2024-10-06T23:44:04.429399] [Δt:1.611555s] [    INFO] [freemocap.core_processes.post_process_skeleton_data.post_process_skeleton] [post_process_skeleton:run_post_processing_worker():90] [\u001b[38;2;50;255;72mPID:36168:MainProcess\u001b[0m \u001b[38;2;50;255;68mTID:33348:MainThread\u001b[0m ] Done with gap filling, filtering, and aligning\u001b[0m\n",
      "2024-10-06 23:44:04,429 - freemocap.core_processes.post_process_skeleton_data.post_process_skeleton - INFO - Done with gap filling, filtering, and aligning\n",
      "\u001b[96m[2024-10-06T23:44:04.429399] [Δt:0.000000s] [    INFO] [freemocap.core_processes.process_motion_capture_videos.processing_pipeline_functions.anatomical_data_pipeline_functions] [anatomical_data_pipeline_functions:calculate_anatomical_data():26] [\u001b[38;2;50;255;72mPID:36168:MainProcess\u001b[0m \u001b[38;2;50;255;68mTID:33348:MainThread\u001b[0m ] Calculating center of mass...\u001b[0m\n",
      "2024-10-06 23:44:04,429 - freemocap.core_processes.process_motion_capture_videos.processing_pipeline_functions.anatomical_data_pipeline_functions - INFO - Calculating center of mass...\n"
     ]
    },
    {
     "data": {
      "text/html": [
       "<pre style=\"white-space:pre;overflow-x:auto;line-height:normal;font-family:Menlo,'DejaVu Sans Mono',consolas,'Courier New',monospace\">c:\\ProgramData\\Anaconda3\\envs\\freemocap-env\\Lib\\site-packages\\rich\\live.py:231: UserWarning: install \"ipywidgets\" \n",
       "for Jupyter support\n",
       "  warnings.warn('install \"ipywidgets\" for Jupyter support')\n",
       "</pre>\n"
      ],
      "text/plain": [
       "c:\\ProgramData\\Anaconda3\\envs\\freemocap-env\\Lib\\site-packages\\rich\\live.py:231: UserWarning: install \"ipywidgets\" \n",
       "for Jupyter support\n",
       "  warnings.warn('install \"ipywidgets\" for Jupyter support')\n"
      ]
     },
     "metadata": {},
     "output_type": "display_data"
    },
    {
     "data": {
      "text/html": [
       "<pre style=\"white-space:pre;overflow-x:auto;line-height:normal;font-family:Menlo,'DejaVu Sans Mono',consolas,'Courier New',monospace\"></pre>\n"
      ],
      "text/plain": []
     },
     "metadata": {},
     "output_type": "display_data"
    },
    {
     "data": {
      "text/html": [
       "<pre style=\"white-space:pre;overflow-x:auto;line-height:normal;font-family:Menlo,'DejaVu Sans Mono',consolas,'Courier New',monospace\">\n",
       "</pre>\n"
      ],
      "text/plain": [
       "\n"
      ]
     },
     "metadata": {},
     "output_type": "display_data"
    },
    {
     "data": {
      "text/html": [
       "<pre style=\"white-space:pre;overflow-x:auto;line-height:normal;font-family:Menlo,'DejaVu Sans Mono',consolas,'Courier New',monospace\"></pre>\n"
      ],
      "text/plain": []
     },
     "metadata": {},
     "output_type": "display_data"
    },
    {
     "data": {
      "text/html": [
       "<pre style=\"white-space:pre;overflow-x:auto;line-height:normal;font-family:Menlo,'DejaVu Sans Mono',consolas,'Courier New',monospace\">\n",
       "</pre>\n"
      ],
      "text/plain": [
       "\n"
      ]
     },
     "metadata": {},
     "output_type": "display_data"
    },
    {
     "name": "stdout",
     "output_type": "stream",
     "text": [
      "\u001b[96m[2024-10-06T23:44:13.396131] [Δt:8.966733s] [    INFO] [freemocap.core_processes.post_process_skeleton_data.calculate_center_of_mass] [calculate_center_of_mass:calculate_total_body_COM():306] [\u001b[38;2;50;255;72mPID:36168:MainProcess\u001b[0m \u001b[38;2;50;255;68mTID:33348:MainThread\u001b[0m ] Calculating Total Body Center of Mass\u001b[0m\n",
      "2024-10-06 23:44:13,396 - freemocap.core_processes.post_process_skeleton_data.calculate_center_of_mass - INFO - Calculating Total Body Center of Mass\n"
     ]
    },
    {
     "data": {
      "text/html": [
       "<pre style=\"white-space:pre;overflow-x:auto;line-height:normal;font-family:Menlo,'DejaVu Sans Mono',consolas,'Courier New',monospace\"></pre>\n"
      ],
      "text/plain": []
     },
     "metadata": {},
     "output_type": "display_data"
    },
    {
     "data": {
      "text/html": [
       "<pre style=\"white-space:pre;overflow-x:auto;line-height:normal;font-family:Menlo,'DejaVu Sans Mono',consolas,'Courier New',monospace\">\n",
       "</pre>\n"
      ],
      "text/plain": [
       "\n"
      ]
     },
     "metadata": {},
     "output_type": "display_data"
    },
    {
     "name": "stdout",
     "output_type": "stream",
     "text": [
      "\u001b[96m[2024-10-06T23:44:17.970683] [Δt:4.574552s] [    INFO] [freemocap.core_processes.detecting_things_in_2d_images.mediapipe_stuff.convert_mediapipe_npy_to_csv] [convert_mediapipe_npy_to_csv:convert_mediapipe_npy_to_csv():23] [\u001b[38;2;50;255;72mPID:36168:MainProcess\u001b[0m \u001b[38;2;50;255;68mTID:33348:MainThread\u001b[0m ] Converting npy data with shape: (6890, 553, 3) into `csv` and smaller `npy` files\u001b[0m\n",
      "2024-10-06 23:44:17,970 - freemocap.core_processes.detecting_things_in_2d_images.mediapipe_stuff.convert_mediapipe_npy_to_csv - INFO - Converting npy data with shape: (6890, 553, 3) into `csv` and smaller `npy` files\n",
      "\u001b[34m[2024-10-06T23:49:01.443005] [Δt:283.473298s] [   DEBUG] [freemocap.core_processes.detecting_things_in_2d_images.mediapipe_stuff.convert_mediapipe_npy_to_csv] [convert_mediapipe_npy_to_csv:convert_mediapipe_npy_to_csv():239] [\u001b[38;2;50;255;72mPID:36168:MainProcess\u001b[0m \u001b[38;2;50;255;68mTID:33348:MainThread\u001b[0m ] body 3d xyz shape: (6890, 33, 3)\u001b[0m\n",
      "\u001b[34m[2024-10-06T23:49:01.443982] [Δt:0.000000s] [   DEBUG] [freemocap.core_processes.detecting_things_in_2d_images.mediapipe_stuff.convert_mediapipe_npy_to_csv] [convert_mediapipe_npy_to_csv:convert_mediapipe_npy_to_csv():240] [\u001b[38;2;50;255;72mPID:36168:MainProcess\u001b[0m \u001b[38;2;50;255;68mTID:33348:MainThread\u001b[0m ] right hand 3d xyz shape: (6890, 21, 3)\u001b[0m\n",
      "\u001b[34m[2024-10-06T23:49:01.443982] [Δt:0.000000s] [   DEBUG] [freemocap.core_processes.detecting_things_in_2d_images.mediapipe_stuff.convert_mediapipe_npy_to_csv] [convert_mediapipe_npy_to_csv:convert_mediapipe_npy_to_csv():241] [\u001b[38;2;50;255;72mPID:36168:MainProcess\u001b[0m \u001b[38;2;50;255;68mTID:33348:MainThread\u001b[0m ] left hand 3d xyz shape: (6890, 21, 3)\u001b[0m\n",
      "\u001b[34m[2024-10-06T23:49:01.443982] [Δt:0.000000s] [   DEBUG] [freemocap.core_processes.detecting_things_in_2d_images.mediapipe_stuff.convert_mediapipe_npy_to_csv] [convert_mediapipe_npy_to_csv:convert_mediapipe_npy_to_csv():242] [\u001b[38;2;50;255;72mPID:36168:MainProcess\u001b[0m \u001b[38;2;50;255;68mTID:33348:MainThread\u001b[0m ] face 3d xyz shape: (6890, 478, 3)\u001b[0m\n",
      "\u001b[34m[2024-10-06T23:52:05.176408] [Δt:183.732427s] [   DEBUG] [freemocap.core_processes.detecting_things_in_2d_images.mediapipe_stuff.convert_mediapipe_npy_to_csv] [convert_mediapipe_npy_to_csv:convert_mediapipe_npy_to_csv():284] [\u001b[38;2;50;255;72mPID:36168:MainProcess\u001b[0m \u001b[38;2;50;255;68mTID:33348:MainThread\u001b[0m ] length of body 3d xyz `.csv` header: 99, should be: 99\u001b[0m\n",
      "\u001b[34m[2024-10-06T23:52:05.176408] [Δt:0.000000s] [   DEBUG] [freemocap.core_processes.detecting_things_in_2d_images.mediapipe_stuff.convert_mediapipe_npy_to_csv] [convert_mediapipe_npy_to_csv:convert_mediapipe_npy_to_csv():287] [\u001b[38;2;50;255;72mPID:36168:MainProcess\u001b[0m \u001b[38;2;50;255;68mTID:33348:MainThread\u001b[0m ] length of right hand 3d xyz `.csv` header: 63, should be: 63\u001b[0m\n",
      "\u001b[34m[2024-10-06T23:52:05.176408] [Δt:0.000000s] [   DEBUG] [freemocap.core_processes.detecting_things_in_2d_images.mediapipe_stuff.convert_mediapipe_npy_to_csv] [convert_mediapipe_npy_to_csv:convert_mediapipe_npy_to_csv():290] [\u001b[38;2;50;255;72mPID:36168:MainProcess\u001b[0m \u001b[38;2;50;255;68mTID:33348:MainThread\u001b[0m ] length of left hand 3d xyz `.csv` header: 63, should be: 63\u001b[0m\n",
      "\u001b[34m[2024-10-06T23:52:05.176408] [Δt:0.000000s] [   DEBUG] [freemocap.core_processes.detecting_things_in_2d_images.mediapipe_stuff.convert_mediapipe_npy_to_csv] [convert_mediapipe_npy_to_csv:convert_mediapipe_npy_to_csv():293] [\u001b[38;2;50;255;72mPID:36168:MainProcess\u001b[0m \u001b[38;2;50;255;68mTID:33348:MainThread\u001b[0m ] length of face 3d xyz `.csv` header: 1434, should be: 1434\u001b[0m\n",
      "\u001b[96m[2024-10-06T23:53:45.664866] [Δt:100.488457s] [    INFO] [freemocap.core_processes.detecting_things_in_2d_images.mediapipe_stuff.convert_mediapipe_npy_to_csv] [convert_mediapipe_npy_to_csv:convert_mediapipe_npy_to_csv():322] [\u001b[38;2;50;255;72mPID:36168:MainProcess\u001b[0m \u001b[38;2;50;255;68mTID:33348:MainThread\u001b[0m ] Done saving out `csv` and broken up `npy` files\u001b[0m\n",
      "2024-10-06 23:53:45,664 - freemocap.core_processes.detecting_things_in_2d_images.mediapipe_stuff.convert_mediapipe_npy_to_csv - INFO - Done saving out `csv` and broken up `npy` files\n",
      "\u001b[96m[2024-10-06T23:53:45.665246] [Δt:0.001065s] [    INFO] [freemocap.core_processes.process_motion_capture_videos.processing_pipeline_functions.data_saving_pipeline_functions] [data_saving_pipeline_functions:save_data():39] [\u001b[38;2;50;255;72mPID:36168:MainProcess\u001b[0m \u001b[38;2;50;255;68mTID:33348:MainThread\u001b[0m ] Saving post-processed data\u001b[0m\n",
      "2024-10-06 23:53:45,665 - freemocap.core_processes.process_motion_capture_videos.processing_pipeline_functions.data_saving_pipeline_functions - INFO - Saving post-processed data\n",
      "\u001b[96m[2024-10-06T23:53:48.348303] [Δt:2.682373s] [    INFO] [freemocap.core_processes.process_motion_capture_videos.processing_pipeline_functions.data_saving_pipeline_functions] [data_saving_pipeline_functions:save_data():46] [\u001b[38;2;50;255;72mPID:36168:MainProcess\u001b[0m \u001b[38;2;50;255;68mTID:33348:MainThread\u001b[0m ] Saving segment center of mass data\u001b[0m\n",
      "2024-10-06 23:53:48,348 - freemocap.core_processes.process_motion_capture_videos.processing_pipeline_functions.data_saving_pipeline_functions - INFO - Saving segment center of mass data\n",
      "\u001b[96m[2024-10-06T23:53:48.480706] [Δt:0.132403s] [    INFO] [freemocap.core_processes.process_motion_capture_videos.processing_pipeline_functions.data_saving_pipeline_functions] [data_saving_pipeline_functions:save_data():53] [\u001b[38;2;50;255;72mPID:36168:MainProcess\u001b[0m \u001b[38;2;50;255;68mTID:33348:MainThread\u001b[0m ] Saving total body center of mass data\u001b[0m\n",
      "2024-10-06 23:53:48,480 - freemocap.core_processes.process_motion_capture_videos.processing_pipeline_functions.data_saving_pipeline_functions - INFO - Saving total body center of mass data\n",
      "\u001b[96m[2024-10-06T23:53:48.592552] [Δt:0.111846s] [    INFO] [freemocap.utilities.save_dictionary_to_json] [save_dictionary_to_json:save_dictionary_to_json():16] [\u001b[38;2;50;255;72mPID:36168:MainProcess\u001b[0m \u001b[38;2;50;255;68mTID:33348:MainThread\u001b[0m ] Saved dictionary mediapipe_names_and_connections_dict.json as json  at: Z:\\Davide_MultimodalLab\\3_DATA_ANALYSIS\\1_MOTION_TRACKING\\1_Video_Segmentation\\video_split\\pilot_06_d2_SUD_2_End_SUD_3_Start\\output_data\\mediapipe_names_and_connections_dict.json\u001b[0m\n",
      "2024-10-06 23:53:48,592 - freemocap.utilities.save_dictionary_to_json - INFO - Saved dictionary mediapipe_names_and_connections_dict.json as json  at: Z:\\Davide_MultimodalLab\\3_DATA_ANALYSIS\\1_MOTION_TRACKING\\1_Video_Segmentation\\video_split\\pilot_06_d2_SUD_2_End_SUD_3_Start\\output_data\\mediapipe_names_and_connections_dict.json\n",
      "\u001b[33m[2024-10-06T23:53:48.646132] [Δt:0.053580s] [ WARNING] [freemocap.system.paths_and_filenames.file_and_folder_names] [path_getters:get_timestamps_directory():252] [\u001b[38;2;50;255;72mPID:36168:MainProcess\u001b[0m \u001b[38;2;50;255;68mTID:33348:MainThread\u001b[0m ] Could not find timestamps directory in Z:\\Davide_MultimodalLab\\3_DATA_ANALYSIS\\1_MOTION_TRACKING\\1_Video_Segmentation\\video_split\\pilot_06_d2_SUD_2_End_SUD_3_Start\\synchronized_videos\u001b[0m\n",
      "2024-10-06 23:53:48,646 - freemocap.system.paths_and_filenames.file_and_folder_names - WARNING - Could not find timestamps directory in Z:\\Davide_MultimodalLab\\3_DATA_ANALYSIS\\1_MOTION_TRACKING\\1_Video_Segmentation\\video_split\\pilot_06_d2_SUD_2_End_SUD_3_Start\\synchronized_videos\n",
      "\u001b[33m[2024-10-06T23:53:48.646132] [Δt:0.000000s] [ WARNING] [freemocap.data_layer.data_saver.data_loader] [data_loader:_load_timestamps():91] [\u001b[38;2;50;255;72mPID:36168:MainProcess\u001b[0m \u001b[38;2;50;255;68mTID:33348:MainThread\u001b[0m ] No timestamps directory found. Skipping timestamps loading.\u001b[0m\n",
      "2024-10-06 23:53:48,646 - freemocap.data_layer.data_saver.data_loader - WARNING - No timestamps directory found. Skipping timestamps loading.\n",
      "\u001b[96m[2024-10-06T23:55:42.715226] [Δt:114.069093s] [    INFO] [freemocap.data_layer.data_saver.data_saver] [data_saver:save_to_json():59] [\u001b[38;2;50;255;72mPID:36168:MainProcess\u001b[0m \u001b[38;2;50;255;68mTID:33348:MainThread\u001b[0m ] Saving recording data to Z:\\Davide_MultimodalLab\\3_DATA_ANALYSIS\\1_MOTION_TRACKING\\1_Video_Segmentation\\video_split\\pilot_06_d2_SUD_2_End_SUD_3_Start\\pilot_06_d2_SUD_2_End_SUD_3_Start_by_frame.json\u001b[0m\n",
      "2024-10-06 23:55:42,715 - freemocap.data_layer.data_saver.data_saver - INFO - Saving recording data to Z:\\Davide_MultimodalLab\\3_DATA_ANALYSIS\\1_MOTION_TRACKING\\1_Video_Segmentation\\video_split\\pilot_06_d2_SUD_2_End_SUD_3_Start\\pilot_06_d2_SUD_2_End_SUD_3_Start_by_frame.json\n",
      "\u001b[96m[2024-10-06T23:57:49.578544] [Δt:126.863319s] [    INFO] [freemocap.data_layer.data_saver.data_saver] [data_saver:save_to_csv():76] [\u001b[38;2;50;255;72mPID:36168:MainProcess\u001b[0m \u001b[38;2;50;255;68mTID:33348:MainThread\u001b[0m ] Saved recording data to Z:\\Davide_MultimodalLab\\3_DATA_ANALYSIS\\1_MOTION_TRACKING\\1_Video_Segmentation\\video_split\\pilot_06_d2_SUD_2_End_SUD_3_Start\\pilot_06_d2_SUD_2_End_SUD_3_Start_by_trajectory.csv\u001b[0m\n",
      "2024-10-06 23:57:49,578 - freemocap.data_layer.data_saver.data_saver - INFO - Saved recording data to Z:\\Davide_MultimodalLab\\3_DATA_ANALYSIS\\1_MOTION_TRACKING\\1_Video_Segmentation\\video_split\\pilot_06_d2_SUD_2_End_SUD_3_Start\\pilot_06_d2_SUD_2_End_SUD_3_Start_by_trajectory.csv\n",
      "\u001b[96m[2024-10-06T23:57:52.264911] [Δt:2.686367s] [    INFO] [freemocap.data_layer.data_saver.data_saver] [data_saver:save_to_npy():82] [\u001b[38;2;50;255;72mPID:36168:MainProcess\u001b[0m \u001b[38;2;50;255;68mTID:33348:MainThread\u001b[0m ] Saved recording data to Z:\\Davide_MultimodalLab\\3_DATA_ANALYSIS\\1_MOTION_TRACKING\\1_Video_Segmentation\\video_split\\pilot_06_d2_SUD_2_End_SUD_3_Start\\pilot_06_d2_SUD_2_End_SUD_3_Start_frame_name_xyz.npy\u001b[0m\n",
      "2024-10-06 23:57:52,264 - freemocap.data_layer.data_saver.data_saver - INFO - Saved recording data to Z:\\Davide_MultimodalLab\\3_DATA_ANALYSIS\\1_MOTION_TRACKING\\1_Video_Segmentation\\video_split\\pilot_06_d2_SUD_2_End_SUD_3_Start\\pilot_06_d2_SUD_2_End_SUD_3_Start_frame_name_xyz.npy\n",
      "\u001b[96m[2024-10-06T23:57:52.568636] [Δt:0.303724s] [    INFO] [freemocap.core_processes.process_motion_capture_videos.process_recording_folder] [process_recording_folder:process_recording_folder():143] [\u001b[38;2;50;255;72mPID:36168:MainProcess\u001b[0m \u001b[38;2;50;255;68mTID:33348:MainThread\u001b[0m ] Done processing Z:\\Davide_MultimodalLab\\3_DATA_ANALYSIS\\1_MOTION_TRACKING\\1_Video_Segmentation\\video_split\\pilot_06_d2_SUD_2_End_SUD_3_Start\u001b[0m\n",
      "2024-10-06 23:57:52,568 - freemocap.core_processes.process_motion_capture_videos.process_recording_folder - INFO - Done processing Z:\\Davide_MultimodalLab\\3_DATA_ANALYSIS\\1_MOTION_TRACKING\\1_Video_Segmentation\\video_split\\pilot_06_d2_SUD_2_End_SUD_3_Start\n",
      "\u001b[33m[2024-10-06T23:57:52.612242] [Δt:0.043606s] [ WARNING] [root] [1048335352:process_recording():48] [\u001b[38;2;50;255;72mPID:36168:MainProcess\u001b[0m \u001b[38;2;50;255;68mTID:33348:MainThread\u001b[0m ] No blender executable provided. Blender file will not be exported.\u001b[0m\n",
      "2024-10-06 23:57:52,612 - root - WARNING - No blender executable provided. Blender file will not be exported.\n",
      "We will now load this vide folder  Z:\\Davide_MultimodalLab\\3_DATA_ANALYSIS\\1_MOTION_TRACKING\\1_Video_Segmentation\\video_split\\pilot_06_d2_SUD_2_End_SUD_3_Start\n",
      "\u001b[96m[2024-10-06T23:57:52.612242] [Δt:0.000000s] [    INFO] [root] [2323846283:<module>():29] [\u001b[38;2;50;255;72mPID:36168:MainProcess\u001b[0m \u001b[38;2;50;255;68mTID:33348:MainThread\u001b[0m ] All recordings processed!\u001b[0m\n",
      "2024-10-06 23:57:52,612 - root - INFO - All recordings processed!\n"
     ]
    }
   ],
   "source": [
    "# Cell 3: Working with loops\n",
    "calibration_files = list(input_calibration_files.glob(\"*.toml\"))\n",
    "\n",
    "for calibration_file in calibration_files:\n",
    "    pilot_id = \"_\".join(calibration_file.stem.split(\"_\")[:3])  # Extract pilot_xx_dx from the filename\n",
    "    print('current pilot_id: ', pilot_id)\n",
    "    logging.info(f\"Processing calibration file: {calibration_file}\")\n",
    "    \n",
    "    print('current calibrtion file: ', calibration_file)\n",
    "\n",
    "    # Find all matching video folders\n",
    "    matching_folders = [\n",
    "        folder for folder in input_video_folders.iterdir()\n",
    "        if folder.is_dir() and pilot_id in folder.name\n",
    "    ]\n",
    "    \n",
    "    print('We found these matching folder: ', matching_folders)\n",
    "\n",
    "    for video_folder in matching_folders:\n",
    "        logging.info(f\"Processing video folder: {video_folder}\")\n",
    "        process_recording(\n",
    "            calibration_file=calibration_file,\n",
    "            video_folder=video_folder,\n",
    "            #blender_executable=blender_executable_path\n",
    "        )\n",
    "        \n",
    "        print('We will now load this vide folder ',video_folder)\n",
    "\n",
    "logging.info(\"All recordings processed!\")"
   ]
  }
 ],
 "metadata": {
  "kernelspec": {
   "display_name": "Python 3",
   "language": "python",
   "name": "python3"
  },
  "language_info": {
   "codemirror_mode": {
    "name": "ipython",
    "version": 3
   },
   "file_extension": ".py",
   "mimetype": "text/x-python",
   "name": "python",
   "nbconvert_exporter": "python",
   "pygments_lexer": "ipython3",
   "version": "3.11.9"
  }
 },
 "nbformat": 4,
 "nbformat_minor": 2
}
