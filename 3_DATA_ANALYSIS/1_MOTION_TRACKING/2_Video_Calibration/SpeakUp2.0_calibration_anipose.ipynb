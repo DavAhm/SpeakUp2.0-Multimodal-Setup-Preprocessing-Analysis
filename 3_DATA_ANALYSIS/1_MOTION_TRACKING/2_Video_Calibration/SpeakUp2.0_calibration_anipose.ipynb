{
 "cells": [
  {
   "cell_type": "markdown",
   "id": "0c6fd9b6-281a-4449-8618-30bd2380169d",
   "metadata": {},
   "source": [
    "# SpeakUp2.0: Calibration with Anipose\n",
    "\n",
    "\n",
    "### Info Documents \n",
    "location repository: \n",
    "anipose documentation: https://anipose.readthedocs.io/en/latest/aniposelib-tutorial.html\n",
    "\n",
    "\n",
    "### Requirements\n",
    "Please install the necessary packages in requirements.txt using pip install -r requirements.txt\n",
    "\n",
    "\n",
    "### CODE OVERVIEW\n",
    "This script allows you to to calibrate your cameras, producing a toml file with the results of the cameras intrinsics and extrinsics angles that are needed to then further triangulate your 2D tracking. The script process multiple video files from different session, outputting the calibration results for each session. \n",
    "\n",
    "0. **Packages**\n",
    "     The script imports essential Python libraries for file handling, video processing, and camera calibration.\n",
    "     See requirements.txt for all necessary packages (pip install -r requirements.txt)\n",
    "\n",
    "1. **Key Variables**\n",
    "     Users defines the input and output directories for the calibration videos and results.\n",
    "     - **Videos**  When inputing the videos, the script checks for the following requirements.\n",
    "         - video_extension (e.g., \"avi\", \"mp4\", etc.)\n",
    "         - number of videos in each folder (all processed together to calculate intrinsic and extrinsic angles). For Triangulation in 3D tracking, at least 3 videos are needed\n",
    "         - board_type (e.g., \"charuco\", \"checker\"). This string must appear in the file name of the videos. Change or remove accordingly.\n",
    "\n",
    "    - **Cameras**  camera_names, i.e., name for each camera that is consitent with the file name for each video (after Video Segmentation)\n",
    "      \n",
    "    - **Board** The script supports the use of different calibration boards, such as ChArUco or Checkerboard, to extract calibration data.\n",
    "        Board Dimensions:\n",
    "        - X and Y represent the number of squares in the vertical and horizontal directions on the board.\n",
    "        - square_length: The side length of each square on the board, typically measured in millimeters (e.g., 25 mm). \n",
    "        - marker_length: The side length of each marker within the squares, usually smaller than the square length (e.g., 18.75 mm).\n",
    "        - marker_bits: Describes the dimension of the markers, usually represented by 4x4 bits (default setting).\n",
    "        - dict_size: Specifies the number of different markers in the dictionary (e.g., 50 types defaylt setting).\n",
    "        !! **These parameters should be adjusted according to the specific calibration board you are using to ensure accurate camera calibration**.\n",
    "\n",
    "2. **Calibration (with Loop)**\n",
    "The script processes videos from multiple sessions to calibrate cameras and generate a .toml file containing the intrinsic and extrinsic parameters needed for 3D triangulation.\n",
    "- The script iterates through subdirectories in the input folder, identifying sets of videos based on specified criteria (e.g., file extension, number of videos, and board type).\n",
    "- Only directories with the correct number of videos (e.g., 3 for triangulation) and matching the specified criteria are processed.\n",
    "\n",
    "- aniposelib to perform calibration, leveraging the ChArUco or Checkerboard configurations set by the user.\n",
    "  - The CameraGroup object is created to treat all identified cameras as a unit for calibration.\n",
    "  - Calibration data is calculated based on the detected board markers across multiple camera angles.\n",
    " \n",
    "After calibration, the script automatically generates a filename for the results based on the input video characteristics.\n",
    "The calibration results, including camera intrinsics and extrinsics, are saved as a .toml file in the specified output folder.\n",
    "The saved file is structured for easy retrieval and further processing, ensuring that the calibration data is ready for use in subsequent 2D or 3D tracking tasks."
   ]
  },
  {
   "cell_type": "markdown",
   "id": "1fba8b6b-9f93-4dab-adbe-a784ea751525",
   "metadata": {},
   "source": [
    "## 0. Importing Necessary Packages "
   ]
  },
  {
   "cell_type": "code",
   "execution_count": 1,
   "id": "1807dfd0-e50b-4f9c-a024-b33b11546402",
   "metadata": {},
   "outputs": [
    {
     "name": "stdout",
     "output_type": "stream",
     "text": [
      "Everything was imported succesfully\n"
     ]
    }
   ],
   "source": [
    "import os                                # Importing the os module which provides functions for interacting with the operating system\n",
    "import glob                              # Importing glob module for finding files and directories matching a specified pattern\n",
    "import cv2                               # Importing OpenCV library for computer vision tasks like image and video processing\n",
    "import aniposelib                        # Importing aniposelib for multi-camera calibration and 3D reconstruction tasks\n",
    "from aniposelib.boards import CharucoBoard, Checkerboard  # Importing specific board types for camera calibration from aniposelib\n",
    "from aniposelib.cameras import Camera, CameraGroup        # Importing Camera and CameraGroup classes for handling multiple camera setups in aniposelib\n",
    "from aniposelib.utils import load_pose2d_fnames           # Importing utility function for loading 2D pose filenames from aniposelib\n",
    "# import table                             # Importing the table module, likely used for handling data in tabular format (usage context-dependent)\n",
    "\n",
    "\n",
    "print(\"Everything was imported succesfully\") #as terminal\n",
    "\n",
    "\n",
    "## Check whether python 3.9 is necessary or the most recent version is also fine"
   ]
  },
  {
   "attachments": {
    "df76522f-3e16-45df-8628-fd1d9ce60c64.png": {
     "image/png": "[encoded data removed]"
    }
   },
   "cell_type": "markdown",
   "id": "5664b9e7-a4ca-4d5c-89fe-b9a8dee88d82",
   "metadata": {},
   "source": [
    "We use the following charucoboard, which when printed on a A1, gives the below dimensions you need to set for your anipose settings.\n",
    "![Charuco_7x5.png](attachment:df76522f-3e16-45df-8628-fd1d9ce60c64.png)\n"
   ]
  },
  {
   "cell_type": "code",
   "execution_count": 12,
   "id": "90f55a8b-0e9b-450f-8326-849d4c8999d0",
   "metadata": {},
   "outputs": [
    {
     "data": {
      "text/html": [
       "<video src=\"C:\\Users\\ahmar\\OneDrive\\Documents\\GitHub\\Mobile-Multimodal-Lab\\2_PREPROCESSING\\2_MOTION_TRACKING\\2_Video Calibration\\calibration_videos\\charuco_calibration_oneover250s_high_quality_2024-04-23_output_compr - Trim_cam1.avi\" controls  >\n",
       "      Your browser does not support the <code>video</code> element.\n",
       "    </video>"
      ],
      "text/plain": [
       "<IPython.core.display.Video object>"
      ]
     },
     "execution_count": 12,
     "metadata": {},
     "output_type": "execute_result"
    }
   ],
   "source": [
    "## Here is an example of the videos used for calibration\n",
    "from IPython.display import Video\n",
    "video_path = r\"C:\\Users\\ahmar\\OneDrive\\Documents\\GitHub\\Mobile-Multimodal-Lab\\2_PREPROCESSING\\2_MOTION_TRACKING\\2_Video Calibration\\calibration_videos\\charuco_calibration_oneover250s_high_quality_2024-04-23_output_compr - Trim_cam1.avi\"\n",
    "# Display the video\n",
    "Video(video_path)"
   ]
  },
  {
   "cell_type": "markdown",
   "id": "2901217b-1cf9-42e3-bef7-8151258fd51e",
   "metadata": {},
   "source": [
    "## 1. Defyining relevant Directories, Variables & Functions"
   ]
  },
  {
   "cell_type": "code",
   "execution_count": 2,
   "id": "efc4d42a-1bd6-4653-ad02-490d97a25ef1",
   "metadata": {},
   "outputs": [
    {
     "name": "stdout",
     "output_type": "stream",
     "text": [
      "Input folder = Z:\\Davide_MultimodalLab\\3_DATA_ANALYSIS\\1_MOTION_TRACKING\\2_Video_Calibration\\calibration_charuco_split\n",
      "Output folder = Z:\\Davide_MultimodalLab\\3_DATA_ANALYSIS\\1_MOTION_TRACKING\\2_Video_Calibration\\calibration_results\n"
     ]
    }
   ],
   "source": [
    "# ---------- DIRECTORIES --------------------------\n",
    "input_folder  = r'Z:\\Davide_MultimodalLab\\3_DATA_ANALYSIS\\1_MOTION_TRACKING\\2_Video_Calibration\\calibration_charuco_split'    # input folder with the raw video files to calibrate (relative path) \n",
    "output_folder = r'Z:\\Davide_MultimodalLab\\3_DATA_ANALYSIS\\1_MOTION_TRACKING\\2_Video_Calibration\\calibration_results'   # output folder to store the TOML results (relative path) \n",
    "\n",
    "print(\"Input folder =\", os.path.abspath(input_folder))\n",
    "print(\"Output folder =\", os.path.abspath(output_folder))\n",
    "\n",
    "\n",
    "# ---------- VARIABLES -------------------------\n",
    "# Videos Requirements\n",
    "video_extension = '.mp4'      # Video format extension avi. Change as needed (e.g., .mp4)\n",
    "num_videos      = 3           # We are working with 3 complementary videos (1 original video split in 3 from the 3 camera angles) \n",
    "board_type      = \"charuco\"   # Change accordingly (e.g., to Checker)\n",
    "\n",
    "keyword = 'calibration_charuco'             # keyword to filter the video files in the input folder (e.g., 'split' for the split videos\n",
    "\n",
    "#Cameras\n",
    "camera_names   = ['cam1', 'cam2', 'cam3']   # name of each camera view, consistent with video file names!!\n",
    "\n",
    "#Board. IMPORTANT TO HAVE THE RIGHT SETTINGS - OTHERWISE THE CALIBRATION WILL NOT WORK\n",
    "board = CharucoBoard(7, 5,                   #  because we had 7 squares in the vertical direction and 5 squares in the borizontal direction.\n",
    "                     square_length=108,      #  dimensions of each square on the board is 108 mm\n",
    "                     marker_length=85,       #  dimensions of each marker within each square is 85 mm\n",
    "                     marker_bits=4,          #  each marker consists of 4x4 bits (default)   !!! WRITE IN INSTRUCTIONS. \n",
    "                     dict_size=50)           #  50 types of markers in the marker dictionary (default).\n"
   ]
  },
  {
   "cell_type": "markdown",
   "id": "f6831b3f-8243-4220-98ae-5218e9d4addc",
   "metadata": {},
   "source": [
    "## 2. Calibrating Videos using Anipose (in Loop)"
   ]
  },
  {
   "cell_type": "code",
   "execution_count": 4,
   "id": "a44f8d23",
   "metadata": {},
   "outputs": [
    {
     "name": "stdout",
     "output_type": "stream",
     "text": [
      "Processing videos from folder: Z:\\Davide_MultimodalLab\\3_DATA_ANALYSIS\\1_MOTION_TRACKING\\2_Video_Calibration\\calibration_charuco_split\\pilot_01_d2_calibration_charuco\n",
      "I have identified the following video files that will be the input for ANIPOSE: [['Z:\\\\Davide_MultimodalLab\\\\3_DATA_ANALYSIS\\\\1_MOTION_TRACKING\\\\2_Video_Calibration\\\\calibration_charuco_split\\\\pilot_01_d2_calibration_charuco\\\\pilot_01_d2_calibration_charuco_cam1.mp4'], ['Z:\\\\Davide_MultimodalLab\\\\3_DATA_ANALYSIS\\\\1_MOTION_TRACKING\\\\2_Video_Calibration\\\\calibration_charuco_split\\\\pilot_01_d2_calibration_charuco\\\\pilot_01_d2_calibration_charuco_cam2.mp4'], ['Z:\\\\Davide_MultimodalLab\\\\3_DATA_ANALYSIS\\\\1_MOTION_TRACKING\\\\2_Video_Calibration\\\\calibration_charuco_split\\\\pilot_01_d2_calibration_charuco\\\\pilot_01_d2_calibration_charuco_cam3.mp4']]\n",
      "Next step: Calibration\n",
      "Z:\\Davide_MultimodalLab\\3_DATA_ANALYSIS\\1_MOTION_TRACKING\\2_Video_Calibration\\calibration_charuco_split\\pilot_01_d2_calibration_charuco\\pilot_01_d2_calibration_charuco_cam1.mp4\n"
     ]
    },
    {
     "name": "stderr",
     "output_type": "stream",
     "text": [
      "100%|█████████████████████████████| 1537/1537 [00:39<00:00, 39.15it/s]\n"
     ]
    },
    {
     "name": "stdout",
     "output_type": "stream",
     "text": [
      "1536 boards detected\n",
      "Z:\\Davide_MultimodalLab\\3_DATA_ANALYSIS\\1_MOTION_TRACKING\\2_Video_Calibration\\calibration_charuco_split\\pilot_01_d2_calibration_charuco\\pilot_01_d2_calibration_charuco_cam2.mp4\n"
     ]
    },
    {
     "name": "stderr",
     "output_type": "stream",
     "text": [
      "100%|█████████████████████████████| 1537/1537 [00:27<00:00, 55.57it/s]\n"
     ]
    },
    {
     "name": "stdout",
     "output_type": "stream",
     "text": [
      "1537 boards detected\n",
      "Z:\\Davide_MultimodalLab\\3_DATA_ANALYSIS\\1_MOTION_TRACKING\\2_Video_Calibration\\calibration_charuco_split\\pilot_01_d2_calibration_charuco\\pilot_01_d2_calibration_charuco_cam3.mp4\n"
     ]
    },
    {
     "name": "stderr",
     "output_type": "stream",
     "text": [
      "100%|█████████████████████████████| 1537/1537 [00:35<00:00, 42.97it/s]\n"
     ]
    },
    {
     "name": "stdout",
     "output_type": "stream",
     "text": [
      "1537 boards detected\n",
      "[{'name': 'cam1', 'size': [540, 960], 'matrix': [[655.1529593333228, 0.0, 269.5], [0.0, 655.1529593333228, 479.5], [0.0, 0.0, 1.0]], 'distortions': [0.0, 0.0, 0.0, 0.0, 0.0], 'rotation': [0.0, 0.0, 0.0], 'translation': [0.0, 0.0, 0.0]}, {'name': 'cam2', 'size': [540, 960], 'matrix': [[671.5799799150789, 0.0, 269.5], [0.0, 671.5799799150789, 479.5], [0.0, 0.0, 1.0]], 'distortions': [0.0, 0.0, 0.0, 0.0, 0.0], 'rotation': [0.0, 0.0, 0.0], 'translation': [0.0, 0.0, 0.0]}, {'name': 'cam3', 'size': [540, 960], 'matrix': [[665.2554416426664, 0.0, 269.5], [0.0, 665.2554416426664, 479.5], [0.0, 0.0, 1.0]], 'distortions': [0.0, 0.0, 0.0, 0.0, 0.0], 'rotation': [0.0, 0.0, 0.0], 'translation': [0.0, 0.0, 0.0]}]\n",
      "defaultdict(<class 'int'>,\n",
      "            {('cam1', 'cam2'): 1520,\n",
      "             ('cam1', 'cam3'): 1520,\n",
      "             ('cam2', 'cam1'): 1520,\n",
      "             ('cam2', 'cam3'): 1537,\n",
      "             ('cam3', 'cam1'): 1520,\n",
      "             ('cam3', 'cam2'): 1537})\n",
      "error:  0.43128486238328073\n",
      "n_samples: 200\n",
      "{(0, 1): (2893, array([0.22298792, 0.57873754])),\n",
      " (0, 2): (2893, array([0.1958932, 0.7573218])),\n",
      " (1, 2): (2893, array([0.23472178, 0.65554266]))}\n",
      "error: 0.44, mu: 0.8, ratio: 0.830\n",
      "   Iteration     Total nfev        Cost      Cost reduction    Step norm     Optimality   \n",
      "       0              1         2.4257e+03                                    4.38e+04    \n",
      "       1              2         9.3134e+01      2.33e+03       3.09e+03       4.02e+04    \n",
      "       2              3         7.2878e+01      2.03e+01       1.19e+02       1.21e+02    \n",
      "       3              4         7.2868e+01      9.42e-03       5.40e+00       3.18e+00    \n",
      "       4              5         7.2868e+01      9.16e-05       2.85e+00       6.01e+00    \n",
      "`ftol` termination condition is satisfied.\n",
      "Function evaluations 5, initial cost 2.4257e+03, final cost 7.2868e+01, first-order optimality 6.01e+00.\n",
      "{(0, 1): (2913, array([0.12111637, 0.33276157])),\n",
      " (0, 2): (2913, array([0.10279931, 0.3096215 ])),\n",
      " (1, 2): (2913, array([0.11993896, 0.35009729]))}\n",
      "   Iteration     Total nfev        Cost      Cost reduction    Step norm     Optimality   \n",
      "       0              1         2.6355e+04                                    2.92e+04    \n",
      "       1              2         5.3449e+02      2.58e+04       7.35e+03       2.16e+03    \n",
      "       2              3         3.8365e+02      1.51e+02       8.41e+02       4.19e+01    \n",
      "       3              4         3.8341e+02      2.37e-01       3.15e+01       2.11e+00    \n",
      "       4              5         3.8341e+02      1.04e-03       6.54e+00       1.99e+01    \n",
      "`ftol` termination condition is satisfied.\n",
      "Function evaluations 5, initial cost 2.6355e+04, final cost 3.8341e+02, first-order optimality 1.99e+01.\n",
      "{(0, 1): (2913, array([0.12080894, 0.33009418])),\n",
      " (0, 2): (2913, array([0.1032271, 0.30232  ])),\n",
      " (1, 2): (2913, array([0.11933703, 0.34456054]))}\n",
      "error:  0.22336089741490486\n",
      "Saving 3vid_pilot_01_d2_calibration_charuco_calibration_anipose.toml\n",
      "Calibration complete for folder: Z:\\Davide_MultimodalLab\\3_DATA_ANALYSIS\\1_MOTION_TRACKING\\2_Video_Calibration\\calibration_charuco_split\\pilot_01_d2_calibration_charuco\n",
      "\n",
      "Processing videos from folder: Z:\\Davide_MultimodalLab\\3_DATA_ANALYSIS\\1_MOTION_TRACKING\\2_Video_Calibration\\calibration_charuco_split\\pilot_01_d3_calibration_charuco\n",
      "I have identified the following video files that will be the input for ANIPOSE: [['Z:\\\\Davide_MultimodalLab\\\\3_DATA_ANALYSIS\\\\1_MOTION_TRACKING\\\\2_Video_Calibration\\\\calibration_charuco_split\\\\pilot_01_d3_calibration_charuco\\\\pilot_01_d3_calibration_charuco_cam1.mp4'], ['Z:\\\\Davide_MultimodalLab\\\\3_DATA_ANALYSIS\\\\1_MOTION_TRACKING\\\\2_Video_Calibration\\\\calibration_charuco_split\\\\pilot_01_d3_calibration_charuco\\\\pilot_01_d3_calibration_charuco_cam2.mp4'], ['Z:\\\\Davide_MultimodalLab\\\\3_DATA_ANALYSIS\\\\1_MOTION_TRACKING\\\\2_Video_Calibration\\\\calibration_charuco_split\\\\pilot_01_d3_calibration_charuco\\\\pilot_01_d3_calibration_charuco_cam3.mp4']]\n",
      "Next step: Calibration\n",
      "Z:\\Davide_MultimodalLab\\3_DATA_ANALYSIS\\1_MOTION_TRACKING\\2_Video_Calibration\\calibration_charuco_split\\pilot_01_d3_calibration_charuco\\pilot_01_d3_calibration_charuco_cam1.mp4\n"
     ]
    },
    {
     "name": "stderr",
     "output_type": "stream",
     "text": [
      "100%|███████████████████████████████| 741/741 [00:19<00:00, 38.61it/s]\n"
     ]
    },
    {
     "name": "stdout",
     "output_type": "stream",
     "text": [
      "739 boards detected\n",
      "Z:\\Davide_MultimodalLab\\3_DATA_ANALYSIS\\1_MOTION_TRACKING\\2_Video_Calibration\\calibration_charuco_split\\pilot_01_d3_calibration_charuco\\pilot_01_d3_calibration_charuco_cam2.mp4\n"
     ]
    },
    {
     "name": "stderr",
     "output_type": "stream",
     "text": [
      "100%|███████████████████████████████| 741/741 [00:13<00:00, 56.00it/s]\n"
     ]
    },
    {
     "name": "stdout",
     "output_type": "stream",
     "text": [
      "741 boards detected\n",
      "Z:\\Davide_MultimodalLab\\3_DATA_ANALYSIS\\1_MOTION_TRACKING\\2_Video_Calibration\\calibration_charuco_split\\pilot_01_d3_calibration_charuco\\pilot_01_d3_calibration_charuco_cam3.mp4\n"
     ]
    },
    {
     "name": "stderr",
     "output_type": "stream",
     "text": [
      "100%|███████████████████████████████| 741/741 [00:18<00:00, 40.61it/s]\n"
     ]
    },
    {
     "name": "stdout",
     "output_type": "stream",
     "text": [
      "741 boards detected\n",
      "[{'name': 'cam1', 'size': [540, 960], 'matrix': [[660.2367315941405, 0.0, 269.5], [0.0, 660.2367315941405, 479.5], [0.0, 0.0, 1.0]], 'distortions': [0.0, 0.0, 0.0, 0.0, 0.0], 'rotation': [0.0, 0.0, 0.0], 'translation': [0.0, 0.0, 0.0]}, {'name': 'cam2', 'size': [540, 960], 'matrix': [[673.2487429452929, 0.0, 269.5], [0.0, 673.2487429452929, 479.5], [0.0, 0.0, 1.0]], 'distortions': [0.0, 0.0, 0.0, 0.0, 0.0], 'rotation': [0.0, 0.0, 0.0], 'translation': [0.0, 0.0, 0.0]}, {'name': 'cam3', 'size': [540, 960], 'matrix': [[660.2064619724749, 0.0, 269.5], [0.0, 660.2064619724749, 479.5], [0.0, 0.0, 1.0]], 'distortions': [0.0, 0.0, 0.0, 0.0, 0.0], 'rotation': [0.0, 0.0, 0.0], 'translation': [0.0, 0.0, 0.0]}]\n",
      "defaultdict(<class 'int'>,\n",
      "            {('cam1', 'cam2'): 731,\n",
      "             ('cam1', 'cam3'): 731,\n",
      "             ('cam2', 'cam1'): 731,\n",
      "             ('cam2', 'cam3'): 741,\n",
      "             ('cam3', 'cam1'): 731,\n",
      "             ('cam3', 'cam2'): 741})\n",
      "error:  0.4102407042591835\n",
      "n_samples: 200\n",
      "{(0, 1): (2809, array([0.20517425, 0.54165231])),\n",
      " (0, 2): (2809, array([0.17840825, 0.69029677])),\n",
      " (1, 2): (2809, array([0.21496024, 0.63603746]))}\n",
      "error: 0.42, mu: 0.7, ratio: 0.812\n",
      "   Iteration     Total nfev        Cost      Cost reduction    Step norm     Optimality   \n",
      "       0              1         2.3524e+03                                    8.90e+04    \n",
      "       1              2         6.6196e+01      2.29e+03       2.86e+03       4.13e+04    \n",
      "       2              3         5.0523e+01      1.57e+01       8.80e+01       2.95e+02    \n",
      "       3              4         5.0519e+01      3.41e-03       3.25e+00       3.53e+01    \n",
      "`ftol` termination condition is satisfied.\n",
      "Function evaluations 4, initial cost 2.3524e+03, final cost 5.0519e+01, first-order optimality 3.53e+01.\n",
      "{(0, 1): (2830, array([0.11207046, 0.31229812])),\n",
      " (0, 2): (2830, array([0.09499317, 0.27936551])),\n",
      " (1, 2): (2830, array([0.1142653 , 0.30877535]))}\n",
      "   Iteration     Total nfev        Cost      Cost reduction    Step norm     Optimality   \n",
      "       0              1         2.5539e+04                                    3.05e+04    \n",
      "       1              2         3.4719e+02      2.52e+04       5.80e+03       1.85e+03    \n",
      "       2              3         3.3469e+02      1.25e+01       1.89e+02       6.95e+00    \n",
      "       3              4         3.3466e+02      2.86e-02       1.14e+01       2.92e+00    \n",
      "`ftol` termination condition is satisfied.\n",
      "Function evaluations 4, initial cost 2.5539e+04, final cost 3.3466e+02, first-order optimality 2.92e+00.\n",
      "{(0, 1): (2830, array([0.11029935, 0.31265789])),\n",
      " (0, 2): (2830, array([0.09560227, 0.27483992])),\n",
      " (1, 2): (2830, array([0.11456466, 0.30856491]))}\n",
      "error:  0.20532306681776424\n",
      "Saving 3vid_pilot_01_d3_calibration_charuco_calibration_anipose.toml\n",
      "Calibration complete for folder: Z:\\Davide_MultimodalLab\\3_DATA_ANALYSIS\\1_MOTION_TRACKING\\2_Video_Calibration\\calibration_charuco_split\\pilot_01_d3_calibration_charuco\n",
      "\n",
      "Processing videos from folder: Z:\\Davide_MultimodalLab\\3_DATA_ANALYSIS\\1_MOTION_TRACKING\\2_Video_Calibration\\calibration_charuco_split\\pilot_02_d2_calibration_charuco\n",
      "I have identified the following video files that will be the input for ANIPOSE: [['Z:\\\\Davide_MultimodalLab\\\\3_DATA_ANALYSIS\\\\1_MOTION_TRACKING\\\\2_Video_Calibration\\\\calibration_charuco_split\\\\pilot_02_d2_calibration_charuco\\\\pilot_02_d2_calibration_charuco_cam1.mp4'], ['Z:\\\\Davide_MultimodalLab\\\\3_DATA_ANALYSIS\\\\1_MOTION_TRACKING\\\\2_Video_Calibration\\\\calibration_charuco_split\\\\pilot_02_d2_calibration_charuco\\\\pilot_02_d2_calibration_charuco_cam2.mp4'], ['Z:\\\\Davide_MultimodalLab\\\\3_DATA_ANALYSIS\\\\1_MOTION_TRACKING\\\\2_Video_Calibration\\\\calibration_charuco_split\\\\pilot_02_d2_calibration_charuco\\\\pilot_02_d2_calibration_charuco_cam3.mp4']]\n",
      "Next step: Calibration\n",
      "Z:\\Davide_MultimodalLab\\3_DATA_ANALYSIS\\1_MOTION_TRACKING\\2_Video_Calibration\\calibration_charuco_split\\pilot_02_d2_calibration_charuco\\pilot_02_d2_calibration_charuco_cam1.mp4\n"
     ]
    },
    {
     "name": "stderr",
     "output_type": "stream",
     "text": [
      "100%|█████████████████████████████| 1377/1377 [00:35<00:00, 38.75it/s]\n"
     ]
    },
    {
     "name": "stdout",
     "output_type": "stream",
     "text": [
      "1319 boards detected\n",
      "Z:\\Davide_MultimodalLab\\3_DATA_ANALYSIS\\1_MOTION_TRACKING\\2_Video_Calibration\\calibration_charuco_split\\pilot_02_d2_calibration_charuco\\pilot_02_d2_calibration_charuco_cam2.mp4\n"
     ]
    },
    {
     "name": "stderr",
     "output_type": "stream",
     "text": [
      "100%|█████████████████████████████| 1377/1377 [00:24<00:00, 55.33it/s]\n"
     ]
    },
    {
     "name": "stdout",
     "output_type": "stream",
     "text": [
      "1377 boards detected\n",
      "Z:\\Davide_MultimodalLab\\3_DATA_ANALYSIS\\1_MOTION_TRACKING\\2_Video_Calibration\\calibration_charuco_split\\pilot_02_d2_calibration_charuco\\pilot_02_d2_calibration_charuco_cam3.mp4\n"
     ]
    },
    {
     "name": "stderr",
     "output_type": "stream",
     "text": [
      "100%|█████████████████████████████| 1377/1377 [00:37<00:00, 36.92it/s]\n"
     ]
    },
    {
     "name": "stdout",
     "output_type": "stream",
     "text": [
      "1376 boards detected\n",
      "[{'name': 'cam1', 'size': [540, 960], 'matrix': [[561.3307687086574, 0.0, 269.5], [0.0, 561.3307687086574, 479.5], [0.0, 0.0, 1.0]], 'distortions': [0.0, 0.0, 0.0, 0.0, 0.0], 'rotation': [0.0, 0.0, 0.0], 'translation': [0.0, 0.0, 0.0]}, {'name': 'cam2', 'size': [540, 960], 'matrix': [[553.6346287362716, 0.0, 269.5], [0.0, 553.6346287362716, 479.5], [0.0, 0.0, 1.0]], 'distortions': [0.0, 0.0, 0.0, 0.0, 0.0], 'rotation': [0.0, 0.0, 0.0], 'translation': [0.0, 0.0, 0.0]}, {'name': 'cam3', 'size': [540, 960], 'matrix': [[608.9307920686141, 0.0, 269.5], [0.0, 608.9307920686141, 479.5], [0.0, 0.0, 1.0]], 'distortions': [0.0, 0.0, 0.0, 0.0, 0.0], 'rotation': [0.0, 0.0, 0.0], 'translation': [0.0, 0.0, 0.0]}]\n",
      "defaultdict(<class 'int'>,\n",
      "            {('cam1', 'cam2'): 1296,\n",
      "             ('cam1', 'cam3'): 1291,\n",
      "             ('cam2', 'cam1'): 1296,\n",
      "             ('cam2', 'cam3'): 1372,\n",
      "             ('cam3', 'cam1'): 1291,\n",
      "             ('cam3', 'cam2'): 1372})\n",
      "error:  0.6236996838285905\n",
      "n_samples: 200\n",
      "{(0, 1): (2902, array([0.36391468, 0.88001932])),\n",
      " (0, 2): (2902, array([0.29657331, 0.70061835])),\n",
      " (1, 2): (2902, array([0.37445843, 0.93523887]))}\n",
      "error: 0.62, mu: 0.9, ratio: 0.830\n",
      "   Iteration     Total nfev        Cost      Cost reduction    Step norm     Optimality   \n",
      "       0              1         2.6284e+03                                    5.30e+04    \n",
      "       1              2         1.0268e+02      2.53e+03       3.07e+03       1.78e+04    \n",
      "       2              3         9.3635e+01      9.05e+00       1.79e+02       5.08e+02    \n",
      "       3              4         9.3584e+01      5.09e-02       6.80e+00       2.88e+00    \n",
      "       4              5         9.3584e+01      7.57e-05       2.14e+00       2.97e+00    \n",
      "`ftol` termination condition is satisfied.\n",
      "Function evaluations 5, initial cost 2.6284e+03, final cost 9.3584e+01, first-order optimality 2.97e+00.\n",
      "{(0, 1): (2891, array([0.14198555, 0.42251643])),\n",
      " (0, 2): (2891, array([0.11472146, 0.3073293 ])),\n",
      " (1, 2): (2891, array([0.13991883, 0.41942377]))}\n",
      "   Iteration     Total nfev        Cost      Cost reduction    Step norm     Optimality   \n",
      "       0              1         2.9144e+04                                    1.31e+05    \n",
      "       1              2         8.9977e+02      2.82e+04       7.20e+03       1.96e+03    \n",
      "       2              3         5.1440e+02      3.85e+02       1.09e+03       4.38e+01    \n",
      "       3              4         5.0980e+02      4.59e+00       1.34e+02       1.38e+00    \n",
      "       4              5         5.0980e+02      6.59e-03       4.74e+00       1.68e+00    \n",
      "`ftol` termination condition is satisfied.\n",
      "Function evaluations 5, initial cost 2.9144e+04, final cost 5.0980e+02, first-order optimality 1.68e+00.\n",
      "{(0, 1): (2891, array([0.14329221, 0.40635003])),\n",
      " (0, 2): (2891, array([0.11159501, 0.30203674])),\n",
      " (1, 2): (2891, array([0.13430186, 0.39774555]))}\n",
      "error:  0.255166447491575\n",
      "Saving 3vid_pilot_02_d2_calibration_charuco_calibration_anipose.toml\n",
      "Calibration complete for folder: Z:\\Davide_MultimodalLab\\3_DATA_ANALYSIS\\1_MOTION_TRACKING\\2_Video_Calibration\\calibration_charuco_split\\pilot_02_d2_calibration_charuco\n",
      "\n",
      "Processing videos from folder: Z:\\Davide_MultimodalLab\\3_DATA_ANALYSIS\\1_MOTION_TRACKING\\2_Video_Calibration\\calibration_charuco_split\\pilot_02_d3_calibration_charuco\n",
      "I have identified the following video files that will be the input for ANIPOSE: [['Z:\\\\Davide_MultimodalLab\\\\3_DATA_ANALYSIS\\\\1_MOTION_TRACKING\\\\2_Video_Calibration\\\\calibration_charuco_split\\\\pilot_02_d3_calibration_charuco\\\\pilot_02_d3_calibration_charuco_cam1.mp4'], ['Z:\\\\Davide_MultimodalLab\\\\3_DATA_ANALYSIS\\\\1_MOTION_TRACKING\\\\2_Video_Calibration\\\\calibration_charuco_split\\\\pilot_02_d3_calibration_charuco\\\\pilot_02_d3_calibration_charuco_cam2.mp4'], ['Z:\\\\Davide_MultimodalLab\\\\3_DATA_ANALYSIS\\\\1_MOTION_TRACKING\\\\2_Video_Calibration\\\\calibration_charuco_split\\\\pilot_02_d3_calibration_charuco\\\\pilot_02_d3_calibration_charuco_cam3.mp4']]\n",
      "Next step: Calibration\n",
      "Z:\\Davide_MultimodalLab\\3_DATA_ANALYSIS\\1_MOTION_TRACKING\\2_Video_Calibration\\calibration_charuco_split\\pilot_02_d3_calibration_charuco\\pilot_02_d3_calibration_charuco_cam1.mp4\n"
     ]
    },
    {
     "name": "stderr",
     "output_type": "stream",
     "text": [
      "100%|█████████████████████████████| 1300/1300 [00:27<00:00, 47.59it/s]\n"
     ]
    },
    {
     "name": "stdout",
     "output_type": "stream",
     "text": [
      "1236 boards detected\n",
      "Z:\\Davide_MultimodalLab\\3_DATA_ANALYSIS\\1_MOTION_TRACKING\\2_Video_Calibration\\calibration_charuco_split\\pilot_02_d3_calibration_charuco\\pilot_02_d3_calibration_charuco_cam2.mp4\n"
     ]
    },
    {
     "name": "stderr",
     "output_type": "stream",
     "text": [
      "100%|█████████████████████████████| 1300/1300 [00:23<00:00, 55.43it/s]\n"
     ]
    },
    {
     "name": "stdout",
     "output_type": "stream",
     "text": [
      "1300 boards detected\n",
      "Z:\\Davide_MultimodalLab\\3_DATA_ANALYSIS\\1_MOTION_TRACKING\\2_Video_Calibration\\calibration_charuco_split\\pilot_02_d3_calibration_charuco\\pilot_02_d3_calibration_charuco_cam3.mp4\n"
     ]
    },
    {
     "name": "stderr",
     "output_type": "stream",
     "text": [
      "100%|█████████████████████████████| 1300/1300 [00:36<00:00, 35.31it/s]\n"
     ]
    },
    {
     "name": "stdout",
     "output_type": "stream",
     "text": [
      "1300 boards detected\n",
      "[{'name': 'cam1', 'size': [540, 960], 'matrix': [[665.357551998032, 0.0, 269.5], [0.0, 665.357551998032, 479.5], [0.0, 0.0, 1.0]], 'distortions': [0.0, 0.0, 0.0, 0.0, 0.0], 'rotation': [0.0, 0.0, 0.0], 'translation': [0.0, 0.0, 0.0]}, {'name': 'cam2', 'size': [540, 960], 'matrix': [[672.6915964163461, 0.0, 269.5], [0.0, 672.6915964163461, 479.5], [0.0, 0.0, 1.0]], 'distortions': [0.0, 0.0, 0.0, 0.0, 0.0], 'rotation': [0.0, 0.0, 0.0], 'translation': [0.0, 0.0, 0.0]}, {'name': 'cam3', 'size': [540, 960], 'matrix': [[678.6124134744721, 0.0, 269.5], [0.0, 678.6124134744721, 479.5], [0.0, 0.0, 1.0]], 'distortions': [0.0, 0.0, 0.0, 0.0, 0.0], 'rotation': [0.0, 0.0, 0.0], 'translation': [0.0, 0.0, 0.0]}]\n",
      "defaultdict(<class 'int'>,\n",
      "            {('cam1', 'cam2'): 1058,\n",
      "             ('cam1', 'cam3'): 1042,\n",
      "             ('cam2', 'cam1'): 1058,\n",
      "             ('cam2', 'cam3'): 1284,\n",
      "             ('cam3', 'cam1'): 1042,\n",
      "             ('cam3', 'cam2'): 1284})\n",
      "error:  0.8455826373646573\n",
      "n_samples: 200\n",
      "{(0, 1): (2834, array([0.44141847, 1.46467457])),\n",
      " (0, 2): (2834, array([0.36207785, 1.33142424])),\n",
      " (1, 2): (2834, array([0.41484657, 1.09699186]))}\n",
      "error: 0.84, mu: 1.5, ratio: 0.831\n",
      "   Iteration     Total nfev        Cost      Cost reduction    Step norm     Optimality   \n",
      "       0              1         2.8270e+03                                    5.91e+04    \n",
      "       1              2         5.4530e+02      2.28e+03       2.89e+03       5.99e+03    \n",
      "       2              3         5.2382e+02      2.15e+01       1.84e+02       1.57e+02    \n",
      "       3              4         5.2373e+02      8.42e-02       2.35e+01       3.91e+01    \n",
      "       4              5         5.2373e+02      2.09e-03       2.44e+01       4.08e+01    \n",
      "`ftol` termination condition is satisfied.\n",
      "Function evaluations 5, initial cost 2.8270e+03, final cost 5.2373e+02, first-order optimality 4.08e+01.\n",
      "{(0, 1): (2841, array([0.40845465, 1.34679388])),\n",
      " (0, 2): (2841, array([0.31433165, 1.18394189])),\n",
      " (1, 2): (2841, array([0.32556179, 0.98376618]))}\n",
      "error: 0.72, mu: 1.3, ratio: 0.818\n",
      "   Iteration     Total nfev        Cost      Cost reduction    Step norm     Optimality   \n",
      "       0              1         4.0999e+03                                    4.57e+04    \n",
      "       1              2         7.2864e+02      3.37e+03       2.83e+03       2.15e+03    \n",
      "       2              3         4.8020e+02      2.48e+02       8.68e+02       7.49e+01    \n",
      "       3              4         4.7755e+02      2.65e+00       1.03e+02       4.34e+00    \n",
      "       4              5         4.7755e+02      3.05e-03       1.61e+01       4.78e+01    \n",
      "`ftol` termination condition is satisfied.\n",
      "Function evaluations 5, initial cost 4.0999e+03, final cost 4.7755e+02, first-order optimality 4.78e+01.\n",
      "{(0, 1): (2861, array([0.38068275, 1.33873177])),\n",
      " (0, 2): (2861, array([0.29050001, 1.14208486])),\n",
      " (1, 2): (2861, array([0.31293719, 0.94772187]))}\n",
      "error: 0.71, mu: 1.3, ratio: 0.827\n",
      "   Iteration     Total nfev        Cost      Cost reduction    Step norm     Optimality   \n",
      "       0              1         3.2424e+03                                    7.88e+03    \n",
      "       1              2         5.1156e+02      2.73e+03       2.69e+03       1.94e+03    \n",
      "       2              3         4.4099e+02      7.06e+01       4.38e+02       6.77e+00    \n",
      "       3              4         4.4036e+02      6.30e-01       5.01e+01       1.16e+00    \n",
      "       4              5         4.4036e+02      1.41e-03       1.19e+01       4.33e+00    \n",
      "`ftol` termination condition is satisfied.\n",
      "Function evaluations 5, initial cost 3.2424e+03, final cost 4.4036e+02, first-order optimality 4.33e+00.\n",
      "{(0, 1): (2854, array([0.39338214, 1.40467225])),\n",
      " (0, 2): (2854, array([0.301881  , 1.20158514])),\n",
      " (1, 2): (2854, array([0.313848  , 1.00443473]))}\n",
      "error: 0.71, mu: 1.4, ratio: 0.827\n",
      "   Iteration     Total nfev        Cost      Cost reduction    Step norm     Optimality   \n",
      "       0              1         3.0873e+03                                    2.97e+04    \n",
      "       1              2         6.5688e+02      2.43e+03       2.67e+03       5.75e+03    \n",
      "       2              3         5.1810e+02      1.39e+02       5.97e+02       4.79e+01    \n",
      "       3              4         5.1609e+02      2.01e+00       9.09e+01       1.50e+00    \n",
      "       4              5         5.1609e+02      1.96e-03       1.24e+01       2.16e+01    \n",
      "`ftol` termination condition is satisfied.\n",
      "Function evaluations 5, initial cost 3.0873e+03, final cost 5.1609e+02, first-order optimality 2.16e+01.\n",
      "{(0, 1): (2862, array([0.39110092, 1.35250079])),\n",
      " (0, 2): (2862, array([0.2962841 , 1.16253507])),\n",
      " (1, 2): (2862, array([0.31694877, 0.97058213]))}\n",
      "error: 0.72, mu: 1.4, ratio: 0.820\n",
      "   Iteration     Total nfev        Cost      Cost reduction    Step norm     Optimality   \n",
      "       0              1         3.3290e+03                                    3.22e+04    \n",
      "       1              2         5.6714e+02      2.76e+03       2.80e+03       3.78e+03    \n",
      "       2              3         4.5152e+02      1.16e+02       5.24e+02       2.81e+01    \n",
      "       3              4         4.5022e+02      1.30e+00       7.00e+01       4.96e+00    \n",
      "       4              5         4.5022e+02      2.46e-03       1.33e+01       4.17e+01    \n",
      "`ftol` termination condition is satisfied.\n",
      "Function evaluations 5, initial cost 3.3290e+03, final cost 4.5022e+02, first-order optimality 4.17e+01.\n",
      "{(0, 1): (2864, array([0.3906652 , 1.34986042])),\n",
      " (0, 2): (2864, array([0.29460976, 1.16321292])),\n",
      " (1, 2): (2864, array([0.30859959, 0.98706557]))}\n",
      "error: 0.71, mu: 1.0, ratio: 0.674\n",
      "   Iteration     Total nfev        Cost      Cost reduction    Step norm     Optimality   \n",
      "       0              1         2.6035e+03                                    1.05e+04    \n",
      "       1              2         3.2096e+02      2.28e+03       2.65e+03       1.51e+03    \n",
      "       2              3         3.0235e+02      1.86e+01       1.89e+02       6.45e+00    \n",
      "       3              4         3.0221e+02      1.40e-01       2.40e+01       1.23e+01    \n",
      "       4              5         3.0221e+02      3.00e-04       3.83e+00       4.24e+01    \n",
      "`ftol` termination condition is satisfied.\n",
      "Function evaluations 5, initial cost 2.6035e+03, final cost 3.0221e+02, first-order optimality 4.24e+01.\n",
      "{(0, 1): (2862, array([0.38237376, 1.3271808 ])),\n",
      " (0, 2): (2862, array([0.30022208, 1.13115374])),\n",
      " (1, 2): (2862, array([0.30934097, 0.95743722]))}\n",
      "   Iteration     Total nfev        Cost      Cost reduction    Step norm     Optimality   \n",
      "       0              1         1.4196e+04                                    7.66e+04    \n",
      "       1              2         1.9764e+03      1.22e+04       4.56e+03       3.19e+03    \n",
      "       2              3         1.9236e+03      5.28e+01       3.50e+02       1.93e+01    \n",
      "       3              4         1.9227e+03      8.56e-01       5.87e+01       3.42e+00    \n",
      "       4              5         1.9227e+03      5.96e-03       2.93e+01       6.99e+01    \n",
      "`ftol` termination condition is satisfied.\n",
      "Function evaluations 5, initial cost 1.4196e+04, final cost 1.9227e+03, first-order optimality 6.99e+01.\n",
      "{(0, 1): (2862, array([0.39014219, 1.30810292])),\n",
      " (0, 2): (2862, array([0.30041619, 1.11053525])),\n",
      " (1, 2): (2862, array([0.31455048, 0.94494845]))}\n",
      "error:  0.7063544823800043\n",
      "Saving 3vid_pilot_02_d3_calibration_charuco_calibration_anipose.toml\n",
      "Calibration complete for folder: Z:\\Davide_MultimodalLab\\3_DATA_ANALYSIS\\1_MOTION_TRACKING\\2_Video_Calibration\\calibration_charuco_split\\pilot_02_d3_calibration_charuco\n",
      "\n",
      "Processing videos from folder: Z:\\Davide_MultimodalLab\\3_DATA_ANALYSIS\\1_MOTION_TRACKING\\2_Video_Calibration\\calibration_charuco_split\\pilot_04_d2_calibration_charuco\n",
      "I have identified the following video files that will be the input for ANIPOSE: [['Z:\\\\Davide_MultimodalLab\\\\3_DATA_ANALYSIS\\\\1_MOTION_TRACKING\\\\2_Video_Calibration\\\\calibration_charuco_split\\\\pilot_04_d2_calibration_charuco\\\\pilot_04_d2_calibration_charuco_cam1.mp4'], ['Z:\\\\Davide_MultimodalLab\\\\3_DATA_ANALYSIS\\\\1_MOTION_TRACKING\\\\2_Video_Calibration\\\\calibration_charuco_split\\\\pilot_04_d2_calibration_charuco\\\\pilot_04_d2_calibration_charuco_cam2.mp4'], ['Z:\\\\Davide_MultimodalLab\\\\3_DATA_ANALYSIS\\\\1_MOTION_TRACKING\\\\2_Video_Calibration\\\\calibration_charuco_split\\\\pilot_04_d2_calibration_charuco\\\\pilot_04_d2_calibration_charuco_cam3.mp4']]\n",
      "Next step: Calibration\n",
      "Z:\\Davide_MultimodalLab\\3_DATA_ANALYSIS\\1_MOTION_TRACKING\\2_Video_Calibration\\calibration_charuco_split\\pilot_04_d2_calibration_charuco\\pilot_04_d2_calibration_charuco_cam1.mp4\n"
     ]
    },
    {
     "name": "stderr",
     "output_type": "stream",
     "text": [
      "100%|█████████████████████████████| 1079/1079 [00:21<00:00, 51.36it/s]\n"
     ]
    },
    {
     "name": "stdout",
     "output_type": "stream",
     "text": [
      "724 boards detected\n",
      "Z:\\Davide_MultimodalLab\\3_DATA_ANALYSIS\\1_MOTION_TRACKING\\2_Video_Calibration\\calibration_charuco_split\\pilot_04_d2_calibration_charuco\\pilot_04_d2_calibration_charuco_cam2.mp4\n"
     ]
    },
    {
     "name": "stderr",
     "output_type": "stream",
     "text": [
      "100%|█████████████████████████████| 1079/1079 [00:18<00:00, 59.33it/s]\n"
     ]
    },
    {
     "name": "stdout",
     "output_type": "stream",
     "text": [
      "967 boards detected\n",
      "Z:\\Davide_MultimodalLab\\3_DATA_ANALYSIS\\1_MOTION_TRACKING\\2_Video_Calibration\\calibration_charuco_split\\pilot_04_d2_calibration_charuco\\pilot_04_d2_calibration_charuco_cam3.mp4\n"
     ]
    },
    {
     "name": "stderr",
     "output_type": "stream",
     "text": [
      "100%|█████████████████████████████| 1079/1079 [00:28<00:00, 38.04it/s]\n"
     ]
    },
    {
     "name": "stdout",
     "output_type": "stream",
     "text": [
      "1046 boards detected\n",
      "[{'name': 'cam1', 'size': [540, 960], 'matrix': [[665.0490225377309, 0.0, 269.5], [0.0, 665.0490225377309, 479.5], [0.0, 0.0, 1.0]], 'distortions': [0.0, 0.0, 0.0, 0.0, 0.0], 'rotation': [0.0, 0.0, 0.0], 'translation': [0.0, 0.0, 0.0]}, {'name': 'cam2', 'size': [540, 960], 'matrix': [[657.6620840821577, 0.0, 269.5], [0.0, 657.6620840821577, 479.5], [0.0, 0.0, 1.0]], 'distortions': [0.0, 0.0, 0.0, 0.0, 0.0], 'rotation': [0.0, 0.0, 0.0], 'translation': [0.0, 0.0, 0.0]}, {'name': 'cam3', 'size': [540, 960], 'matrix': [[695.1946360539482, 0.0, 269.5], [0.0, 695.1946360539482, 479.5], [0.0, 0.0, 1.0]], 'distortions': [0.0, 0.0, 0.0, 0.0, 0.0], 'rotation': [0.0, 0.0, 0.0], 'translation': [0.0, 0.0, 0.0]}]\n",
      "defaultdict(<class 'int'>,\n",
      "            {('cam1', 'cam2'): 711,\n",
      "             ('cam1', 'cam3'): 672,\n",
      "             ('cam2', 'cam1'): 711,\n",
      "             ('cam2', 'cam3'): 917,\n",
      "             ('cam3', 'cam1'): 672,\n",
      "             ('cam3', 'cam2'): 917})\n",
      "error:  0.670087386977454\n",
      "n_samples: 200\n",
      "{(0, 1): (2798, array([0.31986029, 0.92739278])),\n",
      " (0, 2): (2798, array([0.32231898, 1.15746902])),\n",
      " (1, 2): (2798, array([0.29713364, 1.10402528]))}\n",
      "error: 0.65, mu: 1.2, ratio: 0.793\n",
      "   Iteration     Total nfev        Cost      Cost reduction    Step norm     Optimality   \n",
      "       0              1         2.5559e+03                                    1.99e+05    \n",
      "       1              2         1.1881e+02      2.44e+03       2.79e+03       4.90e+04    \n",
      "       2              3         7.5339e+01      4.35e+01       8.30e+01       7.76e+02    \n",
      "       3              4         7.5329e+01      9.66e-03       4.21e+00       1.93e+01    \n",
      "       4              5         7.5329e+01      4.99e-05       1.59e+00       5.56e+00    \n",
      "`ftol` termination condition is satisfied.\n",
      "Function evaluations 5, initial cost 2.5559e+03, final cost 7.5329e+01, first-order optimality 5.56e+00.\n",
      "{(0, 1): (2802, array([0.11663641, 0.33062333])),\n",
      " (0, 2): (2802, array([0.09728335, 0.32705918])),\n",
      " (1, 2): (2802, array([0.11146274, 0.33828277]))}\n",
      "   Iteration     Total nfev        Cost      Cost reduction    Step norm     Optimality   \n",
      "       0              1         4.1472e+04                                    7.57e+04    \n",
      "       1              2         5.1088e+02      4.10e+04       7.28e+03       4.67e+03    \n",
      "       2              3         4.5012e+02      6.08e+01       3.76e+02       7.81e+00    \n",
      "       3              4         4.4873e+02      1.39e+00       6.63e+01       3.09e+00    \n",
      "       4              5         4.4873e+02      2.91e-03       3.55e+00       4.59e+00    \n",
      "`ftol` termination condition is satisfied.\n",
      "Function evaluations 5, initial cost 4.1472e+04, final cost 4.4873e+02, first-order optimality 4.59e+00.\n",
      "{(0, 1): (2802, array([0.1227145 , 0.31934081])),\n",
      " (0, 2): (2802, array([0.10305257, 0.29742928])),\n",
      " (1, 2): (2802, array([0.12216341, 0.30959687]))}\n",
      "error:  0.21207272468364266\n",
      "Saving 3vid_pilot_04_d2_calibration_charuco_calibration_anipose.toml\n",
      "Calibration complete for folder: Z:\\Davide_MultimodalLab\\3_DATA_ANALYSIS\\1_MOTION_TRACKING\\2_Video_Calibration\\calibration_charuco_split\\pilot_04_d2_calibration_charuco\n",
      "\n",
      "Processing videos from folder: Z:\\Davide_MultimodalLab\\3_DATA_ANALYSIS\\1_MOTION_TRACKING\\2_Video_Calibration\\calibration_charuco_split\\pilot_05_d2_calibration_charuco\n",
      "I have identified the following video files that will be the input for ANIPOSE: [['Z:\\\\Davide_MultimodalLab\\\\3_DATA_ANALYSIS\\\\1_MOTION_TRACKING\\\\2_Video_Calibration\\\\calibration_charuco_split\\\\pilot_05_d2_calibration_charuco\\\\pilot_05_d2_calibration_charuco_cam1.mp4'], ['Z:\\\\Davide_MultimodalLab\\\\3_DATA_ANALYSIS\\\\1_MOTION_TRACKING\\\\2_Video_Calibration\\\\calibration_charuco_split\\\\pilot_05_d2_calibration_charuco\\\\pilot_05_d2_calibration_charuco_cam2.mp4'], ['Z:\\\\Davide_MultimodalLab\\\\3_DATA_ANALYSIS\\\\1_MOTION_TRACKING\\\\2_Video_Calibration\\\\calibration_charuco_split\\\\pilot_05_d2_calibration_charuco\\\\pilot_05_d2_calibration_charuco_cam3.mp4']]\n",
      "Next step: Calibration\n",
      "Z:\\Davide_MultimodalLab\\3_DATA_ANALYSIS\\1_MOTION_TRACKING\\2_Video_Calibration\\calibration_charuco_split\\pilot_05_d2_calibration_charuco\\pilot_05_d2_calibration_charuco_cam1.mp4\n"
     ]
    },
    {
     "name": "stderr",
     "output_type": "stream",
     "text": [
      "100%|█████████████████████████████| 2201/2201 [00:58<00:00, 37.64it/s]\n"
     ]
    },
    {
     "name": "stdout",
     "output_type": "stream",
     "text": [
      "2201 boards detected\n",
      "Z:\\Davide_MultimodalLab\\3_DATA_ANALYSIS\\1_MOTION_TRACKING\\2_Video_Calibration\\calibration_charuco_split\\pilot_05_d2_calibration_charuco\\pilot_05_d2_calibration_charuco_cam2.mp4\n"
     ]
    },
    {
     "name": "stderr",
     "output_type": "stream",
     "text": [
      "100%|█████████████████████████████| 2201/2201 [00:38<00:00, 56.70it/s]\n"
     ]
    },
    {
     "name": "stdout",
     "output_type": "stream",
     "text": [
      "2201 boards detected\n",
      "Z:\\Davide_MultimodalLab\\3_DATA_ANALYSIS\\1_MOTION_TRACKING\\2_Video_Calibration\\calibration_charuco_split\\pilot_05_d2_calibration_charuco\\pilot_05_d2_calibration_charuco_cam3.mp4\n"
     ]
    },
    {
     "name": "stderr",
     "output_type": "stream",
     "text": [
      "100%|█████████████████████████████| 2201/2201 [00:53<00:00, 41.06it/s]\n"
     ]
    },
    {
     "name": "stdout",
     "output_type": "stream",
     "text": [
      "2111 boards detected\n",
      "[{'name': 'cam1', 'size': [540, 960], 'matrix': [[610.136974162515, 0.0, 269.5], [0.0, 610.136974162515, 479.5], [0.0, 0.0, 1.0]], 'distortions': [0.0, 0.0, 0.0, 0.0, 0.0], 'rotation': [0.0, 0.0, 0.0], 'translation': [0.0, 0.0, 0.0]}, {'name': 'cam2', 'size': [540, 960], 'matrix': [[619.3456301075256, 0.0, 269.5], [0.0, 619.3456301075256, 479.5], [0.0, 0.0, 1.0]], 'distortions': [0.0, 0.0, 0.0, 0.0, 0.0], 'rotation': [0.0, 0.0, 0.0], 'translation': [0.0, 0.0, 0.0]}, {'name': 'cam3', 'size': [540, 960], 'matrix': [[633.6060965308945, 0.0, 269.5], [0.0, 633.6060965308945, 479.5], [0.0, 0.0, 1.0]], 'distortions': [0.0, 0.0, 0.0, 0.0, 0.0], 'rotation': [0.0, 0.0, 0.0], 'translation': [0.0, 0.0, 0.0]}]\n",
      "defaultdict(<class 'int'>,\n",
      "            {('cam1', 'cam2'): 2201,\n",
      "             ('cam1', 'cam3'): 2085,\n",
      "             ('cam2', 'cam1'): 2201,\n",
      "             ('cam2', 'cam3'): 2085,\n",
      "             ('cam3', 'cam1'): 2085,\n",
      "             ('cam3', 'cam2'): 2085})\n",
      "error:  0.5134525250761351\n",
      "n_samples: 200\n",
      "{(0, 1): (2925, array([0.31412434, 0.67796966])),\n",
      " (0, 2): (2925, array([0.26278104, 0.56058283])),\n",
      " (1, 2): (2925, array([0.33143426, 0.73767198]))}\n",
      "error: 0.51, mu: 0.7, ratio: 0.858\n",
      "   Iteration     Total nfev        Cost      Cost reduction    Step norm     Optimality   \n",
      "       0              1         2.4756e+03                                    1.02e+05    \n",
      "       1              2         8.8307e+01      2.39e+03       3.12e+03       2.55e+03    \n",
      "       2              3         8.5333e+01      2.97e+00       1.11e+02       2.91e+01    \n",
      "       3              4         8.5332e+01      1.69e-03       1.67e+01       6.10e+01    \n",
      "`ftol` termination condition is satisfied.\n",
      "Function evaluations 4, initial cost 2.4756e+03, final cost 8.5332e+01, first-order optimality 6.10e+01.\n",
      "{(0, 1): (2939, array([0.16072581, 0.4295935 ])),\n",
      " (0, 2): (2939, array([0.13057054, 0.3199358 ])),\n",
      " (1, 2): (2939, array([0.15667377, 0.38405063]))}\n",
      "   Iteration     Total nfev        Cost      Cost reduction    Step norm     Optimality   \n",
      "       0              1         1.3502e+04                                    5.86e+04    \n",
      "       1              2         5.1368e+02      1.30e+04       5.99e+03       1.03e+02    \n",
      "       2              3         5.0581e+02      7.86e+00       1.88e+02       2.34e+00    \n",
      "       3              4         5.0581e+02      2.25e-03       6.06e+00       6.94e+00    \n",
      "`ftol` termination condition is satisfied.\n",
      "Function evaluations 4, initial cost 1.3502e+04, final cost 5.0581e+02, first-order optimality 6.94e+00.\n",
      "{(0, 1): (2939, array([0.16035629, 0.42802239])),\n",
      " (0, 2): (2939, array([0.12780663, 0.31621473])),\n",
      " (1, 2): (2939, array([0.15679096, 0.3778495 ]))}\n",
      "error:  0.2744618038587354\n",
      "Saving 3vid_pilot_05_d2_calibration_charuco_calibration_anipose.toml\n",
      "Calibration complete for folder: Z:\\Davide_MultimodalLab\\3_DATA_ANALYSIS\\1_MOTION_TRACKING\\2_Video_Calibration\\calibration_charuco_split\\pilot_05_d2_calibration_charuco\n",
      "\n",
      "Processing videos from folder: Z:\\Davide_MultimodalLab\\3_DATA_ANALYSIS\\1_MOTION_TRACKING\\2_Video_Calibration\\calibration_charuco_split\\pilot_06_d2_calibration_charuco\n",
      "I have identified the following video files that will be the input for ANIPOSE: [['Z:\\\\Davide_MultimodalLab\\\\3_DATA_ANALYSIS\\\\1_MOTION_TRACKING\\\\2_Video_Calibration\\\\calibration_charuco_split\\\\pilot_06_d2_calibration_charuco\\\\pilot_06_d2_calibration_charuco_cam1.mp4'], ['Z:\\\\Davide_MultimodalLab\\\\3_DATA_ANALYSIS\\\\1_MOTION_TRACKING\\\\2_Video_Calibration\\\\calibration_charuco_split\\\\pilot_06_d2_calibration_charuco\\\\pilot_06_d2_calibration_charuco_cam2.mp4'], ['Z:\\\\Davide_MultimodalLab\\\\3_DATA_ANALYSIS\\\\1_MOTION_TRACKING\\\\2_Video_Calibration\\\\calibration_charuco_split\\\\pilot_06_d2_calibration_charuco\\\\pilot_06_d2_calibration_charuco_cam3.mp4']]\n",
      "Next step: Calibration\n",
      "Z:\\Davide_MultimodalLab\\3_DATA_ANALYSIS\\1_MOTION_TRACKING\\2_Video_Calibration\\calibration_charuco_split\\pilot_06_d2_calibration_charuco\\pilot_06_d2_calibration_charuco_cam1.mp4\n"
     ]
    },
    {
     "name": "stderr",
     "output_type": "stream",
     "text": [
      "100%|█████████████████████████████| 2163/2163 [00:53<00:00, 40.23it/s]\n"
     ]
    },
    {
     "name": "stdout",
     "output_type": "stream",
     "text": [
      "2163 boards detected\n",
      "Z:\\Davide_MultimodalLab\\3_DATA_ANALYSIS\\1_MOTION_TRACKING\\2_Video_Calibration\\calibration_charuco_split\\pilot_06_d2_calibration_charuco\\pilot_06_d2_calibration_charuco_cam2.mp4\n"
     ]
    },
    {
     "name": "stderr",
     "output_type": "stream",
     "text": [
      "100%|█████████████████████████████| 2163/2163 [00:37<00:00, 57.70it/s]\n"
     ]
    },
    {
     "name": "stdout",
     "output_type": "stream",
     "text": [
      "2163 boards detected\n",
      "Z:\\Davide_MultimodalLab\\3_DATA_ANALYSIS\\1_MOTION_TRACKING\\2_Video_Calibration\\calibration_charuco_split\\pilot_06_d2_calibration_charuco\\pilot_06_d2_calibration_charuco_cam3.mp4\n"
     ]
    },
    {
     "name": "stderr",
     "output_type": "stream",
     "text": [
      "100%|█████████████████████████████| 2163/2163 [00:53<00:00, 40.33it/s]\n"
     ]
    },
    {
     "name": "stdout",
     "output_type": "stream",
     "text": [
      "2157 boards detected\n",
      "[{'name': 'cam1', 'size': [540, 960], 'matrix': [[636.0284640796275, 0.0, 269.5], [0.0, 636.0284640796275, 479.5], [0.0, 0.0, 1.0]], 'distortions': [0.0, 0.0, 0.0, 0.0, 0.0], 'rotation': [0.0, 0.0, 0.0], 'translation': [0.0, 0.0, 0.0]}, {'name': 'cam2', 'size': [540, 960], 'matrix': [[646.8280504102718, 0.0, 269.5], [0.0, 646.8280504102718, 479.5], [0.0, 0.0, 1.0]], 'distortions': [0.0, 0.0, 0.0, 0.0, 0.0], 'rotation': [0.0, 0.0, 0.0], 'translation': [0.0, 0.0, 0.0]}, {'name': 'cam3', 'size': [540, 960], 'matrix': [[649.9184338240066, 0.0, 269.5], [0.0, 649.9184338240066, 479.5], [0.0, 0.0, 1.0]], 'distortions': [0.0, 0.0, 0.0, 0.0, 0.0], 'rotation': [0.0, 0.0, 0.0], 'translation': [0.0, 0.0, 0.0]}]\n",
      "defaultdict(<class 'int'>,\n",
      "            {('cam1', 'cam2'): 2156,\n",
      "             ('cam1', 'cam3'): 2147,\n",
      "             ('cam2', 'cam1'): 2156,\n",
      "             ('cam2', 'cam3'): 2154,\n",
      "             ('cam3', 'cam1'): 2147,\n",
      "             ('cam3', 'cam2'): 2154})\n",
      "error:  0.36747963623914365\n",
      "n_samples: 200\n",
      "{(0, 1): (2939, array([0.20583835, 0.51884126])),\n",
      " (0, 2): (2939, array([0.17605159, 0.5371664 ])),\n",
      " (1, 2): (2939, array([0.19524698, 0.53120716]))}\n",
      "error: 0.37, mu: 0.5, ratio: 0.753\n",
      "   Iteration     Total nfev        Cost      Cost reduction    Step norm     Optimality   \n",
      "       0              1         2.3749e+03                                    3.42e+04    \n",
      "       1              2         5.6723e+01      2.32e+03       3.10e+03       1.05e+04    \n",
      "       2              3         5.2893e+01      3.83e+00       1.06e+02       1.84e+01    \n",
      "       3              4         5.2892e+01      9.14e-04       1.50e+01       4.61e+01    \n",
      "`ftol` termination condition is satisfied.\n",
      "Function evaluations 4, initial cost 2.3749e+03, final cost 5.2892e+01, first-order optimality 4.61e+01.\n",
      "{(0, 1): (2937, array([0.12979404, 0.33387772])),\n",
      " (0, 2): (2937, array([0.11117666, 0.28934188])),\n",
      " (1, 2): (2937, array([0.1299755 , 0.32553319]))}\n",
      "   Iteration     Total nfev        Cost      Cost reduction    Step norm     Optimality   \n",
      "       0              1         1.3312e+04                                    7.42e+04    \n",
      "       1              2         3.6166e+02      1.29e+04       6.08e+03       6.54e+03    \n",
      "       2              3         3.4761e+02      1.40e+01       2.40e+02       1.21e+01    \n",
      "       3              4         3.4752e+02      9.45e-02       2.12e+01       1.51e+00    \n",
      "       4              5         3.4752e+02      6.02e-04       8.78e+00       4.57e+00    \n",
      "`ftol` termination condition is satisfied.\n",
      "Function evaluations 5, initial cost 1.3312e+04, final cost 3.4752e+02, first-order optimality 4.57e+00.\n",
      "{(0, 1): (2937, array([0.13493534, 0.32051851])),\n",
      " (0, 2): (2937, array([0.11052626, 0.28004849])),\n",
      " (1, 2): (2937, array([0.12944391, 0.32083558]))}\n",
      "error:  0.2260239063143503\n",
      "Saving 3vid_pilot_06_d2_calibration_charuco_calibration_anipose.toml\n",
      "Calibration complete for folder: Z:\\Davide_MultimodalLab\\3_DATA_ANALYSIS\\1_MOTION_TRACKING\\2_Video_Calibration\\calibration_charuco_split\\pilot_06_d2_calibration_charuco\n",
      "\n",
      "Calibration process completed. You can now check the results at in the output folder. Z:\\Davide_MultimodalLab\\3_DATA_ANALYSIS\\1_MOTION_TRACKING\\2_Video_Calibration\\calibration_results\n"
     ]
    }
   ],
   "source": [
    "# Iterate through each subfolder inside the input folder\n",
    "for subfolder_name in os.listdir(input_folder):\n",
    "    subfolder_path = os.path.join(input_folder, subfolder_name)\n",
    "    \n",
    "    # Check if the path is indeed a directory\n",
    "    if os.path.isdir(subfolder_path):\n",
    "        # Collect all video files in the subfolder\n",
    "        video_files = [[os.path.join(subfolder_path, video).replace(\"/\", \"\\\\\")] for video in os.listdir(subfolder_path) if video.endswith('.mp4')]\n",
    "        \n",
    "        # Debug output to ensure paths are correct\n",
    "        print(f'Processing videos from folder: {subfolder_path}')\n",
    "\n",
    "        print(f'I have identified the following video files that will be the input for ANIPOSE: {video_files}')    ### MAKE SURE THE VIDEOS ARE STORE IN A LIST OF LIST FOR ANIPOSE TO WORK (Not a Flat List)\n",
    "        \n",
    "        # Check if the number of collected videos is correct\n",
    "        if len(video_files) == num_videos:\n",
    "            print(\"Next step: Calibration\")\n",
    "            \n",
    "            # Proceed with the calibration process using the collected video files\n",
    "            try:\n",
    "                cgroup = CameraGroup.from_names(camera_names)  # Object for camera group\n",
    "                cgroup.calibrate_videos(video_files, board)    # Calibration of videos\n",
    "            except FileNotFoundError as e:\n",
    "                print(f\"File not found error: {e}\")\n",
    "                print(\"Please check if the paths are correct and the files exist.\")\n",
    "                continue\n",
    "            \n",
    "            # Saving the calibration output\n",
    "                # Make sure calibration folder exist, if not create it\n",
    "            if not os.path.exists(output_folder):\n",
    "                os.makedirs(output_folder)\n",
    "                \n",
    "\n",
    "            output_name = f'{num_videos}vid_{os.path.basename(subfolder_name)}_calibration_anipose.toml'\n",
    "            print(f\"Saving {output_name}\")\n",
    "            cgroup.dump(os.path.join(output_folder, output_name))  # Saving calibration results\n",
    "            \n",
    "            print(f\"Calibration complete for folder: {subfolder_path}\\n\")\n",
    "\n",
    "        else:\n",
    "            print(f\"ERROR: {subfolder_path} does not contain exactly {num_videos} videos.\\n\")\n",
    "            \n",
    "print(\"Calibration process completed. You can now check the results at in the output folder.\", output_folder) \n"
   ]
  }
 ],
 "metadata": {
  "kernelspec": {
   "display_name": "Python 3 (ipykernel)",
   "language": "python",
   "name": "python3"
  },
  "language_info": {
   "codemirror_mode": {
    "name": "ipython",
    "version": 3
   },
   "file_extension": ".py",
   "mimetype": "text/x-python",
   "name": "python",
   "nbconvert_exporter": "python",
   "pygments_lexer": "ipython3",
   "version": "3.11.9"
  }
 },
 "nbformat": 4,
 "nbformat_minor": 5
}
